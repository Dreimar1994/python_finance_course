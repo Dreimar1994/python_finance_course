{
 "cells": [
  {
   "cell_type": "code",
   "execution_count": 54,
   "metadata": {},
   "outputs": [],
   "source": [
    "def getPath(S0, mu, sigma, dt, T, epsilon):\n",
    "    S = [None] * (T+1)\n",
    "    S[0] = S0\n",
    "    for t in range(0,T):\n",
    "        S[t+1] = S[t] * math.exp((mu-(sigma**2)/2)*dt+sigma*epsilon[t]*math.sqrt(dt))\n",
    "    return S"
   ]
  },
  {
   "cell_type": "code",
   "execution_count": 1,
   "metadata": {
    "collapsed": true
   },
   "outputs": [],
   "source": [
    "payoff = lambda S, K: max(S[-1]-K, 0)\n",
    "df = lambda r, T: math.exp(-r*T)"
   ]
  },
  {
   "cell_type": "code",
   "execution_count": 72,
   "metadata": {},
   "outputs": [],
   "source": [
    "def mc(N, K):\n",
    "    p = 0\n",
    "    for k in range(N):\n",
    "        path = getPath(100, 0.15, 0.30, 1.0/52, 5*52, np.random.normal(size=5*52)) #(S0, mu, sigma, dt, T, epsilon)\n",
    "        p += payoff(path, K)\n",
    "    return p/N"
   ]
  },
  {
   "cell_type": "code",
   "execution_count": 62,
   "metadata": {},
   "outputs": [
    {
     "data": {
      "text/plain": [
       "[<matplotlib.lines.Line2D at 0x76df1d0>]"
      ]
     },
     "execution_count": 62,
     "metadata": {},
     "output_type": "execute_result"
    },
    {
     "data": {
      "image/png": "[encoded data removed]",
      "text/plain": [
       "<matplotlib.figure.Figure at 0x3feeeb8>"
      ]
     },
     "metadata": {},
     "output_type": "display_data"
    }
   ],
   "source": [
    "%matplotlib inline\n",
    "import numpy as np\n",
    "import matplotlib.pyplot as plt\n",
    "\n",
    "N = 1000\n",
    "\n",
    "path = getPath(100, 0.15, 0.30, 1.0/52, 5*52, np.random.normal(size=5*52))\n",
    "plt.plot(path)"
   ]
  },
  {
   "cell_type": "code",
   "execution_count": 77,
   "metadata": {},
   "outputs": [
    {
     "data": {
      "text/plain": [
       "107.34530986344745"
      ]
     },
     "execution_count": 77,
     "metadata": {},
     "output_type": "execute_result"
    }
   ],
   "source": [
    "mc(1000, 110)"
   ]
  },
  {
   "cell_type": "code",
   "execution_count": null,
   "metadata": {
    "collapsed": true
   },
   "outputs": [],
   "source": []
  }
 ],
 "metadata": {
  "kernelspec": {
   "display_name": "Python 3",
   "language": "python",
   "name": "python3"
  },
  "language_info": {
   "codemirror_mode": {
    "name": "ipython",
    "version": 3
   },
   "file_extension": ".py",
   "mimetype": "text/x-python",
   "name": "python",
   "nbconvert_exporter": "python",
   "pygments_lexer": "ipython3",
   "version": "3.6.2"
  }
 },
 "nbformat": 4,
 "nbformat_minor": 1
}
