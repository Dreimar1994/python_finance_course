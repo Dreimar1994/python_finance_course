{
 "cells": [
  {
   "cell_type": "markdown",
   "metadata": {},
   "source": [
    "**Lecturer:** Sipos, Róbert<br>\n",
    "**E-mail:** istvan.robert.sipos@citi.com<br>\n",
    "**Web:** http://www.hit.bme.hu/~siposr/\n",
    "\n",
    "![Robi S](img\\SIPOS_Istvan_Robert.jpg)"
   ]
  },
  {
   "cell_type": "markdown",
   "metadata": {},
   "source": [
    "# Monte Carlo simulations\n",
    "\n",
    "Python for Finance, CEU, 17th May, 2018\n",
    "\n",
    "## Overview\n",
    "\n",
    "- [Introduction to the concept of Monte Carlo simulations](#Introduction)\n",
    "- [Option pricing with MC, measure its accuracy](#OptionPricing)\n",
    "- [Numerical techniques to reduce the number of steps](#Numerical)\n",
    "- [Pricing exotics](#Exotics)"
   ]
  },
  {
   "cell_type": "markdown",
   "metadata": {},
   "source": [
    "## <a name=\"Introduction\">Introduction</a>\n",
    "\n",
    "The concept of Monte Carlo methods allows us to estimate quantities we otherwise cannot observe directly. This is done by obtaining random samples from a given distribution, use it to evaluate a certain function and take their average. For instance, we can simulate many possible paths for a random process by sampling a random variable.\n",
    "\n",
    "### Example: estimating $\\pi$ by throwing darts\n",
    "\n",
    "Throw darts randomly a unit square. Imagine a circle with a unit diameter centered in the square, such as:\n",
    "\n",
    "![Darts](img\\darts.png)\n",
    "\n",
    "How many of the darts would end up in the circle?\n",
    "\n",
    "The area of the circle is $\\pi \\over 4$, while the square has area of 1. By simulating a number of trials ($N$), we can estimate $P(dart~in~the~circle)$ as the number of the samples in the circle over $N$. From this we get\n",
    "$$\\hat \\pi = 4 P(dart~in~the~circle) .$$\n",
    "\n",
    "Let random variables $X \\sim U(-0.5,0.5)$ and $Y \\sim U(-0.5,0.5)$ to be the coordinates of the simulated throw.\n",
    "\n",
    "**Task: please implement a Monte Carlo estimation for $\\pi$. Hints:**\n",
    "- `np.random.uniform()`\n",
    "- A dart is inside the circle if $x^2+y^2 < 0.5^2$.\n",
    "\n",
    "**Task 2: try to use NumPy functions only without a for loop. Hints:**\n",
    "- `np.linalg.norm()`\n",
    "- `np.sum()`"
   ]
  },
  {
   "cell_type": "code",
   "execution_count": 1,
   "metadata": {},
   "outputs": [
    {
     "data": {
      "text/plain": [
       "3.1376"
      ]
     },
     "execution_count": 1,
     "metadata": {},
     "output_type": "execute_result"
    }
   ],
   "source": [
    "import numpy as np\n",
    "from math import exp, sqrt, ceil\n",
    "\n",
    "N = 10000\n",
    "\n",
    "# TODO <<<\n",
    "count = 0\n",
    "for i in range(N):\n",
    "    (x, y) = (np.random.uniform()-0.5, np.random.uniform()-0.5)\n",
    "    if (x**2+y**2<0.5**2):\n",
    "        count = count + 1\n",
    "1.0*count/N*4\n",
    "# TODO >>>"
   ]
  },
  {
   "cell_type": "code",
   "execution_count": 2,
   "metadata": {},
   "outputs": [
    {
     "data": {
      "text/plain": [
       "3.1307999999999998"
      ]
     },
     "execution_count": 2,
     "metadata": {},
     "output_type": "execute_result"
    }
   ],
   "source": [
    "# TODO <<<\n",
    "coordinates = np.random.uniform(size=(N, 2))\n",
    "norms = np.linalg.norm(coordinates - 0.5, axis=1)\n",
    "pi = np.sum(norms < 0.5)/N*4\n",
    "pi\n",
    "# TODO >>>"
   ]
  },
  {
   "cell_type": "markdown",
   "metadata": {},
   "source": [
    "## <a name=\"OptionPricing\">Pricing a derivative</a>\n",
    "\n",
    "Consider a derivative on a single underlying $S$ with payoff at time $T$. Applying Monte Carlo for pricing:\n",
    "\n",
    "1. Repeat $N$ times:\n",
    " - Simulate a random path for $S$;\n",
    " - Calculate its payoff.\n",
    "\n",
    "2. Get the mean of the sampled payoffs.\n",
    "\n",
    "3. Discount with the risk-free rate $r$ (assumed as constant).\n",
    "\n",
    "Similarly as previously, let's price a European call option, where:\n",
    "* Current price of the underlying stock: &nbsp; $S_{\\ 0}$\n",
    "* Volatility of the underlying stock: &nbsp; $\\sigma$\n",
    "* Strike price of the option: &nbsp; $K$\n",
    "* Payoff = $(S(T)-K)^+$\n",
    "* $DF = e^{-rT}$"
   ]
  },
  {
   "cell_type": "code",
   "execution_count": 3,
   "metadata": {
    "collapsed": true
   },
   "outputs": [],
   "source": [
    "from collections import namedtuple\n",
    "\n",
    "r = 0.15\n",
    "\n",
    "underlying = namedtuple(\"underlying\", \"S0 sigma\")\n",
    "option = namedtuple(\"option\", \"K T\")\n",
    "payoff = lambda S, K: max(S[-1]-K, 0)\n",
    "df = lambda r, T: exp(-r*T)\n",
    "\n",
    "stock = underlying(S0=100, sigma=0.30)\n",
    "opt = option(K=110, T=1)"
   ]
  },
  {
   "cell_type": "markdown",
   "metadata": {},
   "source": [
    "What is missing? We need to simulate random trajectories for the underlying's price. Remember that we modelled the stock price $S(t)$ as a generalized Wiener process. We also derived the following It&ocirc; process:\n",
    "\n",
    "$$dS=\\mu\\ S\\ dt+\\sigma\\ S\\ dz\\ ,$$\n",
    "\n",
    "where $\\ dz\\ $ is the change of a Wiener process during the very short time $\\ dt\\ $, $\\mu$ is the expected return - for a non-dividend-paying stock equals to the risk-free rate $r$ -, and $\\sigma$ is the volatility.\n",
    "\n",
    "For the purpose of Monte Carlo sampling we would need to generate random paths for $S$. One can construct a discrete time estimation for this process by dividing $T$ into $M$ intervals of length $\\Delta t$ as:\n",
    "\n",
    "<span style=\"color:#d00\">$$S(t+\\Delta t) - S(t) = \\mu S(t) \\Delta t + \\sigma S(t) \\epsilon \\sqrt{\\Delta t} , $$</span>\n",
    "\n",
    "where $\\epsilon$ is a random sample from a standard normal distribution. Iteratively using this equation $M$ times produces a path of $S$.\n",
    "\n",
    "However,\n",
    "\n",
    "$$ d ~ ln ~ S = \\left( \\mu + {\\sigma^2 \\over 2} \\right ) dt + \\sigma dz, $$\n",
    "so\n",
    "$$ ln ~ S(t) - ln ~ S(0) = \\left( \\mu + {\\sigma^2 \\over 2} \\right ) t + \\sigma \\epsilon \\sqrt{t}, $$\n",
    "or\n",
    "$$ S(t) = S(0) e^{\\left( \\mu + {\\sigma^2 \\over 2} \\right ) t + \\sigma \\epsilon \\sqrt{t}}. $$\n",
    "\n",
    "As opposed to the previous case, which only holds when $\\Delta t \\to 0$, this is true for all $t$. If the trajectory is not important in the pricing, with this method, we can obtain the value at $T$ in only one step in contrast to $M$ steps.\n",
    "\n",
    "**Task: please finish the following function to simulate $S$ until its maturity. Use the discrete time estimation above.**\n",
    "\n",
    "**Task 2: again, try to use NumPy functions only without a for loop. Hints:**\n",
    "- `np.cumprog()`"
   ]
  },
  {
   "cell_type": "code",
   "execution_count": 4,
   "metadata": {},
   "outputs": [
    {
     "name": "stdout",
     "output_type": "stream",
     "text": [
      "Discounted payoff = 26.38$\n",
      "\n"
     ]
    },
    {
     "data": {
      "image/png": "[encoded data removed]",
      "text/plain": [
       "<matplotlib.figure.Figure at 0x5f17400>"
      ]
     },
     "metadata": {},
     "output_type": "display_data"
    }
   ],
   "source": [
    "%matplotlib inline\n",
    "import numpy as np\n",
    "import matplotlib.pyplot as plt\n",
    "\n",
    "# S0: current price ($)\n",
    "# T: maturity (in years)\n",
    "# M: number of time intervals\n",
    "# mu: expected return of the stock\n",
    "# sigma: volatility of the stock\n",
    "# epsilon: list of random samples (length of M)\n",
    "# Returns a simulated path of S (length of M+1)\n",
    "def get_path(S0, T, M, mu, sigma, epsilon):\n",
    "    # TODO <<<\n",
    "    #S = [None] * (M+1)\n",
    "    #S[0] = S0\n",
    "    \n",
    "    #dt = 1.0*T/M\n",
    "    #for t in range(M):\n",
    "    #    #S[t] = S0 * exp((mu+(sigma**2)/2)*(t*dt)+sigma*epsilon[t]*sqrt(t*dt))\n",
    "    #    S[t+1] = S[t]+mu*S[t]*dt+sigma*S[t]*epsilon[t]*sqrt(dt)\n",
    "\n",
    "    #return S\n",
    "    # TODO >>>\n",
    "\n",
    "    # TODO <<<\n",
    "    dt = 1.0*T/M\n",
    "    return S0 * np.cumprod(epsilon*sigma*sqrt(dt) + mu*dt + 1)\n",
    "    # TODO >>>\n",
    "\n",
    "# Plot a random path and calculate its discounted payoff\n",
    "M = 52\n",
    "epsilon = np.random.normal(size=M)\n",
    "S = get_path(stock.S0, opt.T, M, r, stock.sigma, epsilon)\n",
    "\n",
    "plt.plot(S)\n",
    "plt.ylabel('Stock price [$]')\n",
    "plt.xlabel('Time [weeks]')\n",
    "\n",
    "p = payoff(S, opt.K)*df(r, opt.T)\n",
    "print('Discounted payoff = %.2f$\\n' % (p))"
   ]
  },
  {
   "cell_type": "markdown",
   "metadata": {},
   "source": [
    "Having these pieces at hand, now we are ready to put together a Monte Carlo pricer for the option. In the example above, we simulated one random path and calculated the discounted payoff belonging to it. For pricing the option, we need to repeat this $N$ times and take their average as the price of the option.\n",
    "\n",
    "**Task: fill in the Monte Carlo algorithm.**"
   ]
  },
  {
   "cell_type": "code",
   "execution_count": 5,
   "metadata": {},
   "outputs": [
    {
     "name": "stdout",
     "output_type": "stream",
     "text": [
      "Option value = 15.33$\n"
     ]
    }
   ],
   "source": [
    "# stock: a named tuple describing the underlying stock (S0, sigma)\n",
    "# opt: a named tuple describing the option (K, T)\n",
    "# r: risk-free interest rate\n",
    "# N: number of Monte Carlo steps\n",
    "# M: number of time intervals during the simulation\n",
    "# Returns the price of the option.\n",
    "def mc(stock, opt, r=r, N=1000, M=100, payoff=payoff):\n",
    "    # TODO <<<\n",
    "    p = 0\n",
    "    for k in range(N):\n",
    "        epsilon = np.random.normal(size=M)\n",
    "        S = get_path(stock.S0, opt.T, M, r, stock.sigma, epsilon)\n",
    "        p += payoff(S, opt.K)*df(r, opt.T)\n",
    "    return p/N\n",
    "    # TODO >>>\n",
    "\n",
    "print('Option value = %.2f$' % (mc(stock, opt)))"
   ]
  },
  {
   "cell_type": "markdown",
   "metadata": {},
   "source": [
    "### Choosing the number of trials\n",
    "\n",
    "Note that running the pricer multiple times gives somewhat different prices each time. Naturally, the accuracy of the estimation increases with the number of trials. First, we should calculate the standard deviation $\\omega$ of the simulated payoffs. Their mean $\\hat{C}$, as before, is our final estimation for the derivative's price $C$. We can use this to establish e.g. a 95% confidence interval for the price:\n",
    "$$ \\hat{C} - {1.96\\omega \\over \\sqrt{N}} < C < \\hat{C} + {1.96\\omega \\over \\sqrt{N}} . $$\n",
    "This range is proportional with ${1 \\over \\sqrt{N}}$, in other words, increasing the accuracy by a factor of 10, we need 100 times more samples."
   ]
  },
  {
   "cell_type": "code",
   "execution_count": 6,
   "metadata": {
    "collapsed": true
   },
   "outputs": [],
   "source": [
    "def calc_stats(values):\n",
    "    N = len(values)\n",
    "    numbers = np.arange(1, N+1)\n",
    "    sqrt_numbers = np.sqrt(numbers)\n",
    "\n",
    "    mean = np.cumsum(values) / numbers\n",
    "    std = np.zeros(N)\n",
    "    for n in range(N):\n",
    "        std[n] = np.std(values[:n+1])\n",
    "    #std = np.sqrt(np.cumsum((values - mean) ** 2) / numbers)\n",
    "    lower = mean - 1.96 * std / sqrt_numbers\n",
    "    upper = mean + 1.96 * std / sqrt_numbers\n",
    "\n",
    "    return mean, std, lower, upper"
   ]
  },
  {
   "cell_type": "code",
   "execution_count": 7,
   "metadata": {},
   "outputs": [
    {
     "name": "stdout",
     "output_type": "stream",
     "text": [
      "For 100 steps: 6.44$ < C < 12.68$ with 95% confidence.\n",
      "For 1000 steps: 12.85$ < C < 15.62$ with 95% confidence.\n",
      "For 10000 steps: 14.09$ < C < 14.98$ with 95% confidence.\n"
     ]
    }
   ],
   "source": [
    "N = 10000\n",
    "p_vec = np.array([None] * N)\n",
    "for k in range(N):\n",
    "    p_vec[k] = mc(stock, opt, N=1)\n",
    "mean, std, lower, upper = calc_stats(p_vec)\n",
    "\n",
    "for n in [100, 1000, 10000]:\n",
    "    print('For %d steps: %.2f$ < C < %.2f$ with 95%% confidence.' % (n, lower[n-1], upper[n-1]))"
   ]
  },
  {
   "cell_type": "code",
   "execution_count": 8,
   "metadata": {},
   "outputs": [
    {
     "data": {
      "text/plain": [
       "<matplotlib.legend.Legend at 0x8289c88>"
      ]
     },
     "execution_count": 8,
     "metadata": {},
     "output_type": "execute_result"
    },
    {
     "data": {
      "image/png": "[encoded data removed]",
      "text/plain": [
       "<matplotlib.figure.Figure at 0x4ca06d8>"
      ]
     },
     "metadata": {},
     "output_type": "display_data"
    }
   ],
   "source": [
    "plt.plot(upper[1:])\n",
    "plt.plot(mean[1:])\n",
    "plt.plot(lower[1:])\n",
    "\n",
    "plt.ylabel('Option price [$]')\n",
    "plt.xlabel('Number of MC samples (logarithmic scale)')\n",
    "plt.xscale('log')\n",
    "plt.legend(['Upper confidence', 'Estimation', 'Lower confidence'])"
   ]
  },
  {
   "cell_type": "code",
   "execution_count": 9,
   "metadata": {},
   "outputs": [
    {
     "data": {
      "image/png": "[encoded data removed]",
      "text/plain": [
       "<matplotlib.figure.Figure at 0x82f7940>"
      ]
     },
     "metadata": {},
     "output_type": "display_data"
    }
   ],
   "source": [
    "plt.plot(upper[1:]-lower[1:])\n",
    "plt.ylabel('Confidence interval')\n",
    "plt.xlabel('Number of MC samples (logarithmic scale)')\n",
    "plt.xscale('log')\n",
    "plt.show()"
   ]
  },
  {
   "cell_type": "markdown",
   "metadata": {},
   "source": [
    "It is then depends on the application after how many steps we consider the MC converged."
   ]
  },
  {
   "cell_type": "markdown",
   "metadata": {},
   "source": [
    "## <a name=\"Numerical\">Variance reduction techniques</a>\n",
    "\n",
    "One can notice that the confidence interval depends on $\\omega$, thus if there is a way to reduce the standard deviation (or variance) of the Monte Carlo samples then less samples would be sufficient for the same accuracy saving computational time.\n",
    "\n",
    "#### Antithetic variable technique\n",
    "\n",
    "The main idea is the following: for each random $\\epsilon$ used to calculate the payoff repeat the calculation with $-\\epsilon$ as well. The sample will be their average. Intuitively, one is above the true value, while the other is usually below. This method promises a much lower standard deviation than simply taking $2N$ samples."
   ]
  },
  {
   "cell_type": "code",
   "execution_count": 10,
   "metadata": {},
   "outputs": [
    {
     "data": {
      "image/png": "[encoded data removed]",
      "text/plain": [
       "<matplotlib.figure.Figure at 0x94d8588>"
      ]
     },
     "metadata": {},
     "output_type": "display_data"
    }
   ],
   "source": [
    "p_vec_old = [None] * N\n",
    "p_vec_new = [None] * N\n",
    "\n",
    "M = 100\n",
    "discount_factor = df(r, opt.T)\n",
    "for k in range(0, N, 2):\n",
    "    epsilon = np.random.normal(size=M)\n",
    "    S = get_path(stock.S0, opt.T, M, r, stock.sigma, epsilon)\n",
    "    p_vec_old[k] = payoff(S, opt.K) * discount_factor\n",
    "    p_vec_new[k] = payoff(S, opt.K) * discount_factor\n",
    "    \n",
    "    epsilon = -epsilon\n",
    "    S = get_path(stock.S0, opt.T, M, r, stock.sigma, epsilon)\n",
    "    p_vec_new[k+1] = payoff(S, opt.K) * discount_factor\n",
    "    \n",
    "    epsilon = np.random.normal(size=M)\n",
    "    S = get_path(stock.S0, opt.T, M, r, stock.sigma, epsilon)\n",
    "    p_vec_old[k+1] = payoff(S, opt.K) * discount_factor\n",
    "\n",
    "mean_old, std_old, lower_old, upper_old = calc_stats(p_vec_old)\n",
    "mean_new, std_new, lower_new, upper_new = calc_stats(p_vec_new)\n",
    "\n",
    "plt.plot(mean_old[1:], label=\"Original\")\n",
    "plt.plot(mean_new[1:], label=\"With antithetic variable\")\n",
    "plt.ylabel('Option price [$]')\n",
    "plt.xlabel('Number of MC samples (logarithmic scale)')\n",
    "plt.xscale('log')\n",
    "plt.xlim([20, 10000])\n",
    "plt.legend()\n",
    "plt.show()"
   ]
  },
  {
   "cell_type": "code",
   "execution_count": 11,
   "metadata": {},
   "outputs": [
    {
     "data": {
      "image/png": "[encoded data removed]",
      "text/plain": [
       "<matplotlib.figure.Figure at 0x9699550>"
      ]
     },
     "metadata": {},
     "output_type": "display_data"
    }
   ],
   "source": [
    "plt.plot(upper_old - lower_old, label='Original')\n",
    "plt.plot(upper_new - lower_new, label='With antithetic variable')\n",
    "plt.ylabel('Confidence interval')\n",
    "plt.xlabel('Number of MC samples (logarithmic scale)')\n",
    "plt.xscale('log')\n",
    "plt.xlim([20, 10000])\n",
    "plt.legend()\n",
    "plt.show()"
   ]
  },
  {
   "cell_type": "markdown",
   "metadata": {
    "collapsed": true
   },
   "source": [
    "#### Importance sampling\n",
    "\n",
    "In this technique, the original distribution is sampled based on the variance of the payoff. If let's say we have a knock-out barrier option, where the payoff is constant 0 if the price is below a certain threshold, we sample only the cases when its above and weigh it with its probability.\n",
    "\n",
    "#### Stratified sampling\n",
    "\n",
    "This method also considers how $\\epsilon$ is chosen. Selecting representative values instead of random samples usually increases accuracy, or equivalently increases speed. First, divide the distribution into $L$ equally probable region. Such representative values are the means of these intervals. In the case of $\\epsilon \\sim N(0,1)$:\n",
    "\n",
    "$$ \\epsilon_i = \\Phi^{-1} \\left ( {i-0.5 \\over L} \\right ) , $$\n",
    "\n",
    "where $\\Phi^{-1}$ denotes the inverse cumulative normal distribution."
   ]
  },
  {
   "cell_type": "markdown",
   "metadata": {},
   "source": [
    "## <a name=\"Exotics\">Pricing exotics</a>\n",
    "\n",
    "### Asian options\n",
    "\n",
    "In the case of Asian options, the payoff depends on the average of the underlying stock prices until maturity $T$. I.e.\n",
    "$$Payoff = \\left( {1 \\over M} \\sum_{i=0}^{M} {S(t_i)}-K \\right)^+ .$$\n",
    "\n",
    "Not surprisingly, the price of an Asian option is generaly cheaper than its European counterpart.\n",
    "\n",
    "**Task: please implement an Asian type payoff function and compare the European and Asian option prices.**"
   ]
  },
  {
   "cell_type": "code",
   "execution_count": 12,
   "metadata": {},
   "outputs": [
    {
     "name": "stdout",
     "output_type": "stream",
     "text": [
      "European option value = 14.36$\n",
      "Asian option value = 5.74$\n"
     ]
    }
   ],
   "source": [
    "print('European option value = %.2f$' % mc(stock, opt))\n",
    "\n",
    "# TODO <<<\n",
    "asian_payoff = lambda S, K: max(np.mean(S)-K, 0)\n",
    "# TODO >>>\n",
    "\n",
    "print('Asian option value = %.2f$' % mc(stock, opt, payoff=asian_payoff))"
   ]
  },
  {
   "cell_type": "markdown",
   "metadata": {},
   "source": [
    "### Multiple underlyings\n",
    "\n",
    "Basket options are exotics options with a payoff function depending on a weighted sum of multiple underlying prices.\n",
    "\n",
    "Similarly to the simple case, when there is only one underlying instrument, their process is described by:\n",
    "\n",
    "$$S_i(t+\\Delta t) - S_i(t) = \\mu_i S_i(t) \\Delta t + \\sigma_i S_i(t) \\epsilon_i \\sqrt{\\Delta t}  , $$\n",
    "\n",
    "however, they are correlated through $\\epsilon_i$ with the coefficients $\\rho_{ij} = corr(\\epsilon_i, \\epsilon_j)$. Simulating such process requires sampling from a multivariate normal distribution.\n",
    "\n",
    "For example, when dealing with two underlyings and $u_i$ denotes a sample from a univariate distribution, then (for more details, see also Cholesky decomposition):\n",
    "$$ \\epsilon_1 = u_1 $$\n",
    "$$ \\epsilon_2 = \\rho u_1 + u_2 \\sqrt {1-\\rho^2} $$\n",
    "\n",
    "**Task: implement a Monte Carlo pricer for a basket option with the following payoff function.**\n",
    "\n",
    "$$Payoff = \\left( S_1(T)+S_2(T)-K \\right)^+ .$$"
   ]
  },
  {
   "cell_type": "code",
   "execution_count": 13,
   "metadata": {},
   "outputs": [
    {
     "name": "stdout",
     "output_type": "stream",
     "text": [
      "Basket option value = 17.37$\n"
     ]
    }
   ],
   "source": [
    "def mc2(stock1, stock2, opt, r=r, N=1000, M=100, rho=0.0):\n",
    "    # TODO <<<\n",
    "    p = 0\n",
    "    for k in range(N):\n",
    "        epsilon1 = np.random.normal(size=M)\n",
    "        epsilon2 = np.random.normal(size=M)\n",
    "        epsilon2 = rho*epsilon1 + sqrt(1-rho**2)*epsilon2\n",
    "\n",
    "        S1 = get_path(stock1.S0, opt.T, M, r, stock1.sigma, epsilon1)\n",
    "        S2 = get_path(stock2.S0, opt.T, M, r, stock2.sigma, epsilon2)\n",
    "        basket = S1+S2\n",
    "\n",
    "        p += payoff(basket, opt.K)*df(r, opt.T)\n",
    "    return p/N\n",
    "    # TODO >>>\n",
    "\n",
    "basket_opt = option(K=200, T=1)\n",
    "stock1 = underlying(S0=100, sigma=0.30)\n",
    "stock2 = underlying(S0=80, sigma=0.10)\n",
    "print('Basket option value = %.2f$' % (mc2(stock1, stock2, basket_opt, rho=0.5)))"
   ]
  },
  {
   "cell_type": "markdown",
   "metadata": {},
   "source": [
    "## References\n",
    "\n",
    "[1] [John C. Hull: Options, Futures, and Other Derivatives](https://www.amazon.co.uk/Options-Futures-Other-Derivatives-Global/dp/1292212896/)"
   ]
  }
 ],
 "metadata": {
  "kernelspec": {
   "display_name": "Python 3",
   "language": "python",
   "name": "python3"
  },
  "language_info": {
   "codemirror_mode": {
    "name": "ipython",
    "version": 3
   },
   "file_extension": ".py",
   "mimetype": "text/x-python",
   "name": "python",
   "nbconvert_exporter": "python",
   "pygments_lexer": "ipython3",
   "version": "3.6.2"
  },
  "varInspector": {
   "cols": {
    "lenName": 16,
    "lenType": 16,
    "lenVar": 40
   },
   "kernels_config": {
    "python": {
     "delete_cmd_postfix": "",
     "delete_cmd_prefix": "del ",
     "library": "var_list.py",
     "varRefreshCmd": "print(var_dic_list())"
    },
    "r": {
     "delete_cmd_postfix": ") ",
     "delete_cmd_prefix": "rm(",
     "library": "var_list.r",
     "varRefreshCmd": "cat(var_dic_list()) "
    }
   },
   "types_to_exclude": [
    "module",
    "function",
    "builtin_function_or_method",
    "instance",
    "_Feature"
   ],
   "window_display": false
  }
 },
 "nbformat": 4,
 "nbformat_minor": 1
}
