{
 "cells": [
  {
   "cell_type": "markdown",
   "metadata": {},
   "source": [
    "<span style='font-size:24pt'><b> Python for Finance EXAM 2018</b></span>\n",
    "\n",
    "Time: 100 min\n",
    "\n",
    "Allowed resources: You can use notebooks, internet\n",
    "\n",
    "Not allowed resources: each other's brainpower\n",
    "\n",
    "When finished send to: __mqahu.ceucourse@citi.com__ WITH YOUR NAME AS SUBJECT"
   ]
  },
  {
   "cell_type": "markdown",
   "metadata": {},
   "source": [
    "# PCA\n",
    "\n",
    "\n",
    "1. Compress the below generated 4D data to 2D keeping top 2 principal components\n",
    "\n",
    "2. Print transformed 2D data\n",
    "\n",
    "All functions required are defined in the below cell, please execute the cell."
   ]
  },
  {
   "cell_type": "code",
   "execution_count": 7,
   "metadata": {
    "code_folding": [
     0
    ],
    "collapsed": true
   },
   "outputs": [],
   "source": [
    "## Function definitions, execute this cell. NO CHANGES NEEDED!\n",
    "##\n",
    "\n",
    "%matplotlib inline\n",
    "import matplotlib.pyplot as plt\n",
    "import numpy as np\n",
    "\n",
    "#2. centralize\n",
    "def f_centralize_data(datamatrix, means=None, obsaxis=0):\n",
    "    #assumes obvervations are in rows\n",
    "    if means is None:\n",
    "        means = np.mean(datamatrix, obsaxis, keepdims=True)[0]\n",
    "    cdata = datamatrix - means\n",
    "    return (cdata, means)\n",
    "\n",
    "#3. covariance matrix\n",
    "def f_covariance_matrix(datamatrix, centralized=0):\n",
    "    #assumes matrix is this shape [v1;v2;v3;v4;...;vn]\n",
    "    if centralized:\n",
    "        c_matrix = datamatrix\n",
    "    else:\n",
    "        (c_matrix, _) = f_centralize_data(datamatrix)\n",
    "    #using simple matrix multiplication for this\n",
    "    sm = np.dot(c_matrix.T, c_matrix)\n",
    "    sm = sm / float(datamatrix.shape[0]-1)\n",
    "    return sm\n",
    "\n",
    "#4-5. eigenvectors\n",
    "def f_eigvecval(covmat, sort=True):\n",
    "    (eigvals, eigvecs) = np.linalg.eig(covmat)\n",
    "    if sort:\n",
    "        desc_order = np.argsort(eigvals)[::-1]\n",
    "        eigvals = eigvals[desc_order]\n",
    "        eigvecs = eigvecs[:,desc_order]\n",
    "    return (eigvals, eigvecs)\n",
    "\n",
    "#PCA fit: Steps 2-5\n",
    "def f_pca_fit(datamatrix):    \n",
    "    (c_matrix, means) = f_centralize_data(datamatrix)    \n",
    "    my_covariance_matrix = f_covariance_matrix(c_matrix, centralized=1)\n",
    "    my_eigvals, my_eigvecs = f_eigvecval(my_covariance_matrix) \n",
    "    return (means, my_eigvals, my_eigvecs)\n",
    "\n",
    "#6-7. Transform data\n",
    "def f_pca_transform(datamatrix, means, eigvals, eigvecs, k=0):\n",
    "    #Need to add mean subtraction.\n",
    "    (datamatrix, _) = f_centralize_data(datamatrix, means=means)    \n",
    "    if (k<=0):\n",
    "        k=len(eigvals)\n",
    "    Q = eigvecs[:,:k] \n",
    "    print(Q)\n",
    "    new_data = np.dot(Q.T, datamatrix.T).T #TransformedVectors = TransformMatrix * ColumnVectors form.     \n",
    "    #How could we rewrite this? Replace the previous transformation with it's simpler form below, filling in the dots:\n",
    "    #new_data = np.dot(...)\n",
    "    \n",
    "    return new_data\n",
    "\n",
    "#8. Inverse transform\n",
    "def f_pca_inversetransform(datamatrix, eigvecs, means):    \n",
    "    if datamatrix.shape[1] < len(means):\n",
    "        n = datamatrix.shape[0]\n",
    "        z = np.zeros((n,len(means)-datamatrix.shape[1]))\n",
    "        datamatrix = np.concatenate((datamatrix, z), axis=1)    \n",
    "    inv_data = np.dot(eigvecs, datamatrix.T).T        \n",
    "    (inv_data, _) = f_centralize_data(inv_data, means=-means)\n",
    "    return inv_data\n",
    "\n",
    "def f_plot(data, titles):\n",
    "    fig, axes = plt.subplots(len(data), 1)\n",
    "    axes = [axes] if len(data) == 1 else axes\n",
    "    fig.set_size_inches(6, 6*len(data))\n",
    "    for ax, d, t in zip(axes, data, titles):\n",
    "        ax.set_xlim((-6, 6))\n",
    "        ax.set_ylim((-6, 6))\n",
    "        ax.set_title(t)\n",
    "        ax.scatter(d[:, 0], d[:, 1], )        \n",
    "    return fig, axes"
   ]
  },
  {
   "cell_type": "code",
   "execution_count": 8,
   "metadata": {
    "code_folding": [
     0
    ]
   },
   "outputs": [
    {
     "name": "stdout",
     "output_type": "stream",
     "text": [
      "(100, 4)\n"
     ]
    }
   ],
   "source": [
    "## Generating 4D data, execute this cell. NO CHANGES NEEDED!\n",
    "##\n",
    "\n",
    "import numpy as np\n",
    "\n",
    "np.random.seed(3) # random seed for consistency\n",
    "\n",
    "means = np.array([1,2,0,0])\n",
    "covmat = np.array([[1,0.8,0.6, 0.2],[0.8,1,0.7, 0.3],[0.6,0.7,1, 0.2],[0.2,0.3,0.2,1]])\n",
    "sdata_4d = np.random.multivariate_normal(means, covmat, 100)\n",
    "print(sdata_4d.shape)"
   ]
  },
  {
   "cell_type": "markdown",
   "metadata": {},
   "source": [
    "** Your solution below: **"
   ]
  },
  {
   "cell_type": "code",
   "execution_count": 9,
   "metadata": {},
   "outputs": [],
   "source": [
    "# Insert your Code here"
   ]
  },
  {
   "cell_type": "markdown",
   "metadata": {},
   "source": [
    "# Data cleaning with Pandas\n",
    "\n",
    "1. Please use the clean data loaded below and select the subset of loans which have:\n",
    "RENT for home ownership and annual income less than 25000 USD.\n",
    "\n",
    "2. What percentage of all the loans fall into this subset?"
   ]
  },
  {
   "cell_type": "code",
   "execution_count": 10,
   "metadata": {
    "collapsed": true
   },
   "outputs": [],
   "source": [
    "## Load data. NO CHANGES NEEDED!\n",
    "##\n",
    "import pandas as pd\n",
    "data = pd.read_pickle('Lendmark_clean.pkl')"
   ]
  },
  {
   "cell_type": "markdown",
   "metadata": {},
   "source": [
    "** Your solution below: **"
   ]
  },
  {
   "cell_type": "code",
   "execution_count": 11,
   "metadata": {
    "collapsed": true
   },
   "outputs": [],
   "source": [
    "# Insert your code here"
   ]
  },
  {
   "cell_type": "markdown",
   "metadata": {},
   "source": [
    "# Loan default prediction (Text)\n",
    "\n",
    "There is a dataset with the following target distribution:\n",
    "* Target value 0: 5% of the cases\n",
    "* Target value 1: 95% of the cases\n",
    "\n",
    "\n",
    "1. Create a confusion matrix by hand for a model that predicts value 0 for every observation.\n",
    "2. What would be the accuracy of the above model?\n",
    "3. Explain the difference between the following performance metrics: Accuracy, Area under ROC curve (AUC)\n",
    "\n",
    "** Your answers below (Text): **"
   ]
  },
  {
   "cell_type": "raw",
   "metadata": {
    "collapsed": true
   },
   "source": [
    "# Insert your TEXT here"
   ]
  },
  {
   "cell_type": "markdown",
   "metadata": {},
   "source": [
    "# Binomial tree\n",
    "\n",
    "Construct a 2-step binomial tree model in which the underlying is an interest rate, $\\ r\\ (t)\\ $. The three layers of the binomial tree are numbered $\\ i=0\\ $ (the initial node), $\\ i=1\\ $ (the two nodes after the first step) and $\\ i=2\\ $ (the three nodes after the second step). At $\\ t=0\\ $ the interest rate is $\\ r_{0} = 3\\%\\ $. When we step forward in time with the tree, the interest rate can change to either $\\ u=1.25\\ $ times its previous value or $\\ d=0.8\\ $ times its previous value. For both steps the 1-year risk-free rate is $\\ R=3\\%\\ $. What is the fair value of a zero coupon bond (ZCB) that has a notional of $\\ N=\\$100\\ $ and a maturity of $\\ T=2\\ $ ? In other words, what is the present value of $\\ \\$100\\ $  that we receive after the second step ?\n",
    "\n",
    "## Suggested steps\n",
    "1. Based on $\\ r_{0}\\ $, $\\ u\\ $ and $\\ d\\ $: calculate the interest rate values at all three end points of the tree.\n",
    "2. Based on $\\ r_{0}\\ $, $\\ u\\ $, $\\ d\\ $ and $\\ R\\ $: calculate $\\ p\\ $, the probability of stepping up.\n",
    "3. Place $\\ \\$100\\ $ at each end point.\n",
    "4. The probability of arriving at the three end points (from top to bottom) is $\\ p^{\\ 2}\\ $, $\\ 2\\ p\\ (1-p)\\ $ and $\\ (1-p)^{\\ 2}\\ $.\n",
    "5. Discount values back to the original node."
   ]
  },
  {
   "cell_type": "code",
   "execution_count": 8,
   "metadata": {
    "collapsed": true
   },
   "outputs": [],
   "source": [
    "### --- Insert your code at \"WRITE YOUR CODE HERE\" AT THE \"...\" SIGNS ---\n",
    "\n",
    "# importing libraries\n",
    "import numpy as np\n",
    "\n",
    "def ZCB_BDT_2(r0,R,u,d,N):\n",
    "    # pricing a zero coupon bond (ZCB) with a two-step binomial tree (Black-Derman-Toy model)\n",
    "    \n",
    "    # --- WRITE YOUR CODE HERE: convert all four intput parameters from string to float ---\n",
    "    r0 = float(r0) # initial rate\n",
    "    R = ... # risk-free rate, for example, 1% is R=0.01\n",
    "    u = ... # ratio for stepping up\n",
    "    d = ... # ratio for stepping down\n",
    "    N = ... # notional\n",
    "    \n",
    "    # --- interest rate values at the two nodes after the first step ---\n",
    "    r_1_top = r0 * u # top node\n",
    "    r_1_bot = r0 * d # bottom node\n",
    "    \n",
    "    # --- WRITE YOUR CODE HERE: interest rate values at the three nodes after the second step ---\n",
    "    r_2_top = r0 * u * u # top node\n",
    "    r_2_mid = ... # middle node\n",
    "    r_2_bot = ... # bottom node\n",
    "    \n",
    "    # --- calculate p ---\n",
    "    p = (np.exp(R)-d)/(u-d)\n",
    "    \n",
    "    # --- probability of arriving at the two nodes after the first step ---\n",
    "    p_1_top = p   # top node\n",
    "    p_1_bot = 1-p # bottom node\n",
    "\n",
    "    # --- WRITE YOUR CODE HERE: probability of arriving at each of the final nodes ---\n",
    "    p_2_top = p * p     # top node\n",
    "    p_2_mid = ... # middle node\n",
    "    p_2_bot = ... # bottom node\n",
    "    \n",
    "    # --- fair value at each of the three final nodes ---\n",
    "    f_2_top = N # top node\n",
    "    f_2_mid = N # middle node\n",
    "    f_2_bot = N # bottom node\n",
    "    \n",
    "    # --- From the 3rd layer discount to the 2nd layer ---\n",
    "    f_1_top = ( p * f_2_top + (1-p) * f_2_mid ) / ( 1 + r_1_top )\n",
    "    f_1_bot = ( p * f_2_mid + (1-p) * f_2_bot ) / ( 1 + r_1_bot )\n",
    "\n",
    "    # --- From the 2nd layer discount to the 1st layer ---\n",
    "    f = ...\n",
    "    \n",
    "    # final value: fair value of the $100 received at time t=2\n",
    "    return f\n",
    "\n",
    "# Test your solution\n",
    "np.testing.assert_almost_equal(ZCB_BDT_2(0.03,0.03,1.25,0.8,100), 94.1800908, 6)"
   ]
  },
  {
   "cell_type": "markdown",
   "metadata": {},
   "source": [
    "# American call option pricing\n",
    "\n",
    "Construct a 2-step binomial tree model for an American call option on a single share of Microsoft stock. Assume that the spot price is $\\ S_{\\ 0}=\\$100\\ $. Both steps correspond to a time length of 1 year. The call option matures at the 2nd step and the strike price is $\\ K=\\$99\\ $. When we step forward in time along the tree, the price of the underlying can change to either $\\ u=1.05\\ $ times its previous value or $\\ d=1/u\\ $ times its previous value. Assume that the risk-free rate is constant $\\ R=2\\%\\ $.\n",
    "\n",
    "What is the fair value of this option ?\n",
    "\n",
    "## Suggested steps\n",
    "Calculate \n",
    "1. the value of the underlying at each node of the 1st (i=1) layer and 2nd (i=2) layer,\n",
    "2. the parameter $\\ p\\ $ (probability of moving up) of the binomial tree model,\n",
    "3. the value of the call option at each node of the 2nd layer,\n",
    "4. the value of the call option at each node of the 1st layer,\n",
    "5. the value of the call option at the starting node (the node of the 0th layer).\n",
    "\n",
    "Note that the definition of the American call option implies that in this model the option can be excerised not only at the nodes of the 2nd layer (at maturity), but at each node of the tree. Rational investors decide at each node whether to keep the option or excerise it only by calculating which decision gives a higher value to them."
   ]
  },
  {
   "cell_type": "code",
   "execution_count": 9,
   "metadata": {
    "collapsed": true
   },
   "outputs": [],
   "source": [
    "### --- Insert your code at \"WRITE YOUR CODE HERE\" AT THE \"...\" SIGNS ---\n",
    "\n",
    "# importing libraries\n",
    "import numpy as np\n",
    "\n",
    "def AmCall(S0,R,u,K):\n",
    "    # pricing an ATM American call option on an underlying stock\n",
    "    \n",
    "    # --- WRITE YOUR CODE HERE: convert all four intput parameters from string to float ---\n",
    "    S0 = float(S0) # initial spot rate\n",
    "    R = ... # risk-free rate, for example, 1% is R=0.01\n",
    "    u = ... # ratio for stepping up\n",
    "    d = ... # ratio for stepping down\n",
    "    N = ... # notional\n",
    "    T = ... # time length of single step along the tree\n",
    "    K = ... # strike price\n",
    "    \n",
    "    # --- value of the underlying at the two nodes after the first step ---\n",
    "    S_1_top = S0 * u # top node\n",
    "    S_1_bot = S0 * d # bottom node\n",
    "    \n",
    "    # --- WRITE YOUR CODE HERE: value of the underlying at the three nodes after the second step ---\n",
    "    S_2_top = S0 * u * u # top node\n",
    "    S_2_mid = ... # middle node\n",
    "    S_2_bot = ... # bottom node\n",
    "    \n",
    "    # --- WRITE YOUR CODE HERE: p (probability of stepping up) ---\n",
    "    p = ...\n",
    "    \n",
    "    # --- probability of arriving at the two nodes after the first step ---\n",
    "    p_1_top = p   # top node\n",
    "    p_1_bot = 1-p # bottom node\n",
    "\n",
    "    # --- WRITE YOUR CODE HERE: probability of arriving at each of the final nodes ---\n",
    "    p_2_top = p * p     # top node\n",
    "    p_2_mid = ... # middle node\n",
    "    p_2_bot = ... # bottom node\n",
    "    \n",
    "    # --- value of the American call option at the three final nodes in layer i=2 ---\n",
    "    f_2_top = np.maximum( 0.0, S_2_top - K ) # top node\n",
    "    f_2_mid = np.maximum( 0.0, S_2_mid - K ) # middle node\n",
    "    f_2_bot = np.maximum( 0.0, S_2_bot - K ) # bottom node\n",
    "    \n",
    "    # --- value of the call option: from the i=2 layer calculate the i=1 layer ---\n",
    "    # --- maximum of the following two values: (1) excercising (2) discounted from the i=2 layer ---\n",
    "    f_1_top = np.maximum( S_1_top - K, ( p * f_2_top + (1-p) * f_2_mid ) / ( 1 + R ) )\n",
    "    f_1_bot = np.maximum( S_1_bot - K, ( p * f_2_mid + (1-p) * f_2_bot ) / ( 1 + R ) )\n",
    "\n",
    "    # --- WRITE YOUR CODE HERE: American ATM call option: from the i=1 layer discount to the i=0 layer ---\n",
    "    # --- maximum of these two: (1) immediately excercising the option (2) discounting from the i=1 layer ---\n",
    "    f = ...\n",
    "    \n",
    "    # final value: fair value of the $100 received at time t=2\n",
    "    return f\n",
    "\n",
    "# Test your solution\n",
    "np.testing.assert_almost_equal(AmCall(100,0.02,1.05,99), 5.62687393439, 6)"
   ]
  },
  {
   "cell_type": "markdown",
   "metadata": {},
   "source": [
    "# Monte Carlo"
   ]
  },
  {
   "cell_type": "markdown",
   "metadata": {},
   "source": [
    "Consider the following stochastic process:\n",
    "$$S(t+\\Delta t) - S(t) = \\mu S(t) \\Delta t + \\sigma S(t) \\epsilon \\sqrt{\\Delta t} ,$$\n",
    "where $\\epsilon$ is a random sample from a standard normal distribution. Assume that:\n",
    "- $S(0) = 100$;\n",
    "- $\\mu = 0.1$;\n",
    "- $\\sigma = 0.5$.\n",
    "\n",
    "a) Use Monte Carlo simulation to estimate the probability of $S(t) < 90$ for $0 < t \\leq T$ if $T=1$. How is the probability if we consider 2 years?\n",
    "\n",
    "b) What is the 95% confidence interval of these estimations?\n",
    "\n",
    "c) (optional) Run the simulation until we have 3 significant digits with 95% confidence."
   ]
  },
  {
   "cell_type": "code",
   "execution_count": null,
   "metadata": {
    "collapsed": true
   },
   "outputs": [],
   "source": [
    "# Insert your code here"
   ]
  },
  {
   "cell_type": "markdown",
   "metadata": {},
   "source": [
    "## Text question\n",
    "When pricing an option, how can we decide whether to use the Black-Scholes formula, or a Monte-Carlo simulation?"
   ]
  },
  {
   "cell_type": "code",
   "execution_count": null,
   "metadata": {
    "collapsed": true
   },
   "outputs": [],
   "source": [
    "# Insert your TEXT here"
   ]
  },
  {
   "cell_type": "markdown",
   "metadata": {
    "collapsed": true
   },
   "source": [
    "# Text question\n",
    "When doing trade compression with linear programming, we're minimizing the notional, instead of the number of trades. What is the reason for this?"
   ]
  },
  {
   "cell_type": "code",
   "execution_count": 16,
   "metadata": {
    "collapsed": true
   },
   "outputs": [],
   "source": [
    "# Insert your TEXT here"
   ]
  },
  {
   "cell_type": "markdown",
   "metadata": {},
   "source": [
    "# Trade compression (optional)\n",
    "\n",
    "Implement an approximate algorithm for trade compression using scipy.linprog, where the weights must be integers."
   ]
  },
  {
   "cell_type": "code",
   "execution_count": 17,
   "metadata": {
    "collapsed": true
   },
   "outputs": [],
   "source": [
    "# Insert your code here"
   ]
  }
 ],
 "metadata": {
  "kernelspec": {
   "display_name": "Python 3",
   "language": "python",
   "name": "python3"
  },
  "language_info": {
   "codemirror_mode": {
    "name": "ipython",
    "version": 3
   },
   "file_extension": ".py",
   "mimetype": "text/x-python",
   "name": "python",
   "nbconvert_exporter": "python",
   "pygments_lexer": "ipython3",
   "version": "3.6.2"
  },
  "toc": {
   "nav_menu": {},
   "number_sections": true,
   "sideBar": true,
   "skip_h1_title": false,
   "title_cell": "Table of Contents",
   "title_sidebar": "Contents",
   "toc_cell": false,
   "toc_position": {},
   "toc_section_display": true,
   "toc_window_display": true
  }
 },
 "nbformat": 4,
 "nbformat_minor": 2
}
