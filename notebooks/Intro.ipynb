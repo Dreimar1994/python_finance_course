{
 "cells": [
  {
   "cell_type": "markdown",
   "metadata": {},
   "source": [
    "![Image of Citi](img\\Citi-logo-small.png)"
   ]
  },
  {
   "cell_type": "markdown",
   "metadata": {},
   "source": [
    "# About Citi\n",
    "\n",
    "Citi is one of the world's biggest financial service providers. The firm spans across multiple segments of the finacial industry from institutional banking to retail wealth management and many more. The organisation is huge we have more than 200.000 employees in 160 countries.\n",
    "\n",
    "## About our Team: Markets Quantitative Analysis\n",
    "\n",
    "Markets Quantitative Analysis (MQA) is part of the Insitutional Clients Group (ICG) within Citi. Our main focus is to provide quantitative support for ICG Markets. MQA is present in New York, London, Budapest, Houston, Tokyo, Singapore and Hong Kong. In Budapest the team was formed at the end of 2014. Currently, we have 30+ collegues sitting at Bank Center (two blocks from here).\n",
    "\n",
    "As MQA's remit spans multiple disciplines, we have team members with various backgrounds: Quants with Physics and Math degrees, Quantitative Developers and Quant Support with IT background."
   ]
  },
  {
   "cell_type": "markdown",
   "metadata": {},
   "source": [
    "# What do we do?\n",
    "\n",
    "MQA provides solutions to deal with the complex tasks around analysing OTC traded or market traded financial products. The main asset classes we work with are Rates, FX, Commodities, Equities, Mortgages and Multi asset products. We work in multiple programming languages and apply several tools. We are heavy users of C++, Python and Excel. Other coding languages we use frequently include Matlab, R and Perl."
   ]
  },
  {
   "cell_type": "markdown",
   "metadata": {},
   "source": [
    "# Who are you?\n",
    "\n",
    "We will start the first class by asking you in 5 minutes about your past courses, your experience, and your current interests."
   ]
  },
  {
   "cell_type": "markdown",
   "metadata": {},
   "source": [
    "# The Course Tutors\n",
    "\n",
    "__SEBOK, Marton (Marci); HARI, Tibor; FARKAS, Illes; SIPOS, Robert (RobiS); KABAI, Robert (RobiK)__\n",
    "\n",
    "You can reach us at &nbsp; __mqahu.ceucourse@citi.com__"
   ]
  },
  {
   "cell_type": "markdown",
   "metadata": {},
   "source": [
    "# Course syllabus\n",
    "\n",
    "| Date | Title | Lecturer (Assistant) | Description | \n",
    "|:------------|:-------------|:------------|:-------------|\n",
    "| Apr 16 Mon | Introduction | Marton (all) | Investment banks. Citi. MQA. Students. Python tools. Jupyter notebooks |\n",
    "| Apr 23 Mon | [PCA from scratch<br/>with numpy](PCA.ipynb) | RobiK (Tibor) | PCA Intro. Basic PCA implementation. Visualization with matplotlib.<br/>Matching result with sklearn.decomposition.PCA. |\n",
    "| May 2 Wed | [Data cleaning<br/>and visualization](Data cleaning and visualization.ipynb) | RobiK (Illes) | Working with loans and learning about Asset Backed Securities.<br/>Exploratory data analysis and data cleaning. |\n",
    "| May 3 Thu | [Loan default prediction](Loan default prediction.ipynb) | RobiK (RobiS) | Prediction of Loan Default based on<br/>historical performance data using Scikit-learn. |\n",
    "| May 7 Mon | [European call option<br/>Binomial tree pricer](Call_Binom.ipynb) | Illes (Marci) | European call option. Risk-neutral pricing with 1-, 2- and 5-step binomial trees.<br/>Normalized $n$-step binomial tree. Call option price with different rates and volatilities. |\n",
    "| May 10 Thu | [Wiener &amp; It&ocirc; processes<br/>Black-Scholes equation](Black-Scholes.ipynb) | Illes (Marci) | Wiener process, generalized Wiener. It&ocirc; process. Black-Scholes equation.<br/>Risk-neutral pricing of a European call option with the Black-Scholes-Merton formula. |\n",
    "| May 17 Thu | [Monte-Carlo simulations](Monte-Carlo simulations.ipynb) | RobiS (Tibor) | Basic python implementation. Comparing to analytic solution.<br/>Speeding up simulations and convergence. |\n",
    "| May 24 Thu | [Trade compression](Trade Compression.ipynb) | RobiS (Tibor) | Context with examples. Simplex algorithm. Parameter tuning. | \n",
    "| May 31 Thu | Final Exam | |  |  "
   ]
  },
  {
   "cell_type": "markdown",
   "metadata": {},
   "source": [
    "# Learning Python\n",
    "\n",
    "* If Python will be your first coding language:\n",
    "  * Learn Python the Hard Way (online book), https://learnpythonthehardway.org <span style=\"color:#d00\">**$\\rightarrow$ Click \"LOGIN\" in the top right corner of the page**</span>\n",
    "* If you have coded before:\n",
    "  * HackerRank - Python, https://www.hackerrank.com/domains/python\n",
    "  * 10 minutes to Pandas, https://pandas.pydata.org/pandas-docs/stable/10min.html"
   ]
  },
  {
   "cell_type": "markdown",
   "metadata": {},
   "source": [
    "# Jupyter Notebook Help"
   ]
  },
  {
   "cell_type": "raw",
   "metadata": {},
   "source": [
    "CTRL-M L    Show / Hide line numbers in a notebook cell\n",
    "CTRL-M J    Move to next cell\n",
    "CTRL-ENTER  Execute contents of a cell"
   ]
  }
 ],
 "metadata": {
  "kernelspec": {
   "display_name": "Python 3",
   "language": "python",
   "name": "python3"
  },
  "language_info": {
   "codemirror_mode": {
    "name": "ipython",
    "version": 3
   },
   "file_extension": ".py",
   "mimetype": "text/x-python",
   "name": "python",
   "nbconvert_exporter": "python",
   "pygments_lexer": "ipython3",
   "version": "3.6.2"
  }
 },
 "nbformat": 4,
 "nbformat_minor": 2
}
