{
 "cells": [
  {
   "cell_type": "markdown",
   "metadata": {},
   "source": [
    "Lecturer: Robi K ![Robi K](img\\KABAI_Robert_Zsolt.jpg)"
   ]
  },
  {
   "cell_type": "markdown",
   "metadata": {},
   "source": [
    "# Loan Default prediction\n",
    "Using scikit-learn and historical performance data to predict whether a loan will default."
   ]
  },
  {
   "cell_type": "markdown",
   "metadata": {
    "toc": true
   },
   "source": [
    "<h1>Table of Contents<span class=\"tocSkip\"></span></h1>\n",
    "<div class=\"toc\"><ul class=\"toc-item\"><li><span><a href=\"#Brief-intro-to-classification\" data-toc-modified-id=\"Brief-intro-to-classification-1\"><span class=\"toc-item-num\">1&nbsp;&nbsp;</span>Brief intro to classification</a></span><ul class=\"toc-item\"><li><span><a href=\"#Logistic-Regression\" data-toc-modified-id=\"Logistic-Regression-1.1\"><span class=\"toc-item-num\">1.1&nbsp;&nbsp;</span>Logistic Regression</a></span></li><li><span><a href=\"#Decision-Trees\" data-toc-modified-id=\"Decision-Trees-1.2\"><span class=\"toc-item-num\">1.2&nbsp;&nbsp;</span>Decision Trees</a></span></li><li><span><a href=\"#Performance-metrics\" data-toc-modified-id=\"Performance-metrics-1.3\"><span class=\"toc-item-num\">1.3&nbsp;&nbsp;</span>Performance metrics</a></span></li><li><span><a href=\"#General-Supervised-Learning-workflow\" data-toc-modified-id=\"General-Supervised-Learning-workflow-1.4\"><span class=\"toc-item-num\">1.4&nbsp;&nbsp;</span>General Supervised Learning workflow</a></span></li></ul></li><li><span><a href=\"#Financial-product-overview\" data-toc-modified-id=\"Financial-product-overview-2\"><span class=\"toc-item-num\">2&nbsp;&nbsp;</span>Financial product overview</a></span></li><li><span><a href=\"#Load-already-cleaned-data-from-previous-lecture\" data-toc-modified-id=\"Load-already-cleaned-data-from-previous-lecture-3\"><span class=\"toc-item-num\">3&nbsp;&nbsp;</span>Load already cleaned data from previous lecture</a></span></li><li><span><a href=\"#Convert-categorical-variables-to-individual-binaries\" data-toc-modified-id=\"Convert-categorical-variables-to-individual-binaries-4\"><span class=\"toc-item-num\">4&nbsp;&nbsp;</span>Convert categorical variables to individual binaries</a></span></li><li><span><a href=\"#Train-test-split\" data-toc-modified-id=\"Train-test-split-5\"><span class=\"toc-item-num\">5&nbsp;&nbsp;</span>Train-test split</a></span></li><li><span><a href=\"#First-try-for-prediction-with-Logistic-Regression\" data-toc-modified-id=\"First-try-for-prediction-with-Logistic-Regression-6\"><span class=\"toc-item-num\">6&nbsp;&nbsp;</span>First try for prediction with Logistic Regression</a></span><ul class=\"toc-item\"><li><span><a href=\"#Using-Logistic-Regression-from-Scikit-Learn\" data-toc-modified-id=\"Using-Logistic-Regression-from-Scikit-Learn-6.1\"><span class=\"toc-item-num\">6.1&nbsp;&nbsp;</span>Using Logistic Regression from Scikit-Learn</a></span></li><li><span><a href=\"#Why-the-bad-performance?\" data-toc-modified-id=\"Why-the-bad-performance?-6.2\"><span class=\"toc-item-num\">6.2&nbsp;&nbsp;</span>Why the bad performance?</a></span></li><li><span><a href=\"#Exercise:-What-do-you-think-is-the-problem?\" data-toc-modified-id=\"Exercise:-What-do-you-think-is-the-problem?-6.3\"><span class=\"toc-item-num\">6.3&nbsp;&nbsp;</span>Exercise: What do you think is the problem?</a></span></li></ul></li><li><span><a href=\"#Dealing-with-class-imbalance\" data-toc-modified-id=\"Dealing-with-class-imbalance-7\"><span class=\"toc-item-num\">7&nbsp;&nbsp;</span>Dealing with class imbalance</a></span><ul class=\"toc-item\"><li><span><a href=\"#Exercise:-Think-about-what-is-the-simplest-model-that-would-give-~85%-accuracy?-Would-that-be-a-useful-model?\" data-toc-modified-id=\"Exercise:-Think-about-what-is-the-simplest-model-that-would-give-~85%-accuracy?-Would-that-be-a-useful-model?-7.1\"><span class=\"toc-item-num\">7.1&nbsp;&nbsp;</span>Exercise: Think about what is the simplest model that would give ~85% accuracy? Would that be a useful model?</a></span></li><li><span><a href=\"#Downsampling-the-training-set\" data-toc-modified-id=\"Downsampling-the-training-set-7.2\"><span class=\"toc-item-num\">7.2&nbsp;&nbsp;</span>Downsampling the training set</a></span></li></ul></li><li><span><a href=\"#Prediction-after-solved-class-imbalance:-Logistic-Regression,-Decision-Tree\" data-toc-modified-id=\"Prediction-after-solved-class-imbalance:-Logistic-Regression,-Decision-Tree-8\"><span class=\"toc-item-num\">8&nbsp;&nbsp;</span>Prediction after solved class imbalance: Logistic Regression, Decision Tree</a></span><ul class=\"toc-item\"><li><span><a href=\"#Logistic-regression\" data-toc-modified-id=\"Logistic-regression-8.1\"><span class=\"toc-item-num\">8.1&nbsp;&nbsp;</span>Logistic regression</a></span></li><li><span><a href=\"#Decision-Tree\" data-toc-modified-id=\"Decision-Tree-8.2\"><span class=\"toc-item-num\">8.2&nbsp;&nbsp;</span>Decision Tree</a></span></li><li><span><a href=\"#Visualizing-and-interpreting-a-Decision-Tree\" data-toc-modified-id=\"Visualizing-and-interpreting-a-Decision-Tree-8.3\"><span class=\"toc-item-num\">8.3&nbsp;&nbsp;</span>Visualizing and interpreting a Decision Tree</a></span></li><li><span><a href=\"#Exercise:-Use-predicted-probabilities-with-a-different-threshold\" data-toc-modified-id=\"Exercise:-Use-predicted-probabilities-with-a-different-threshold-8.4\"><span class=\"toc-item-num\">8.4&nbsp;&nbsp;</span>Exercise: Use predicted probabilities with a different threshold</a></span></li><li><span><a href=\"#Exercise:-Vary-the-max-depth-of-the-tree-from-1-to-10\" data-toc-modified-id=\"Exercise:-Vary-the-max-depth-of-the-tree-from-1-to-10-8.5\"><span class=\"toc-item-num\">8.5&nbsp;&nbsp;</span>Exercise: Vary the max depth of the tree from 1 to 10</a></span></li></ul></li><li><span><a href=\"#Calculate-capital\" data-toc-modified-id=\"Calculate-capital-9\"><span class=\"toc-item-num\">9&nbsp;&nbsp;</span>Calculate capital</a></span></li></ul></div>"
   ]
  },
  {
   "cell_type": "markdown",
   "metadata": {},
   "source": [
    "## Brief intro to classification\n",
    "\n",
    "As mentioned in the previous lecture our final goal is to assess the riskiness of our investments. In this example we will use loan level historical performance data to create a predictive model to make a default prediction for each loan individually. The model will decide whether or not a loan is a good or a bad loan.\n",
    "![Good_or_bad_credit](img\\good_or_bad_credit.png)\n",
    "\n",
    "In the general case we can formulate this question as a classification problem. In classification we observations with multiple features / descriptors (the two axis on the picture below) and two or more categories (the color of the dots in the picture below). We would like to learn what structure/region of the feature space will most likely result in observing which classs.\n",
    "\n",
    "![Classification](img\\classification.png)\n",
    "\n",
    "Let's observe that creating a good separation (decision boundary) is not trivial as there might be an overlap between the regions. In this case using a straight line for a decision boundary would be called a `weak learner`, the black curve would be a `good fit` and the green wiggly line would be a model which overfits the data thus adds too much inportance to individual examples and learning even the noise."
   ]
  },
  {
   "cell_type": "markdown",
   "metadata": {},
   "source": [
    "### Logistic Regression"
   ]
  },
  {
   "cell_type": "markdown",
   "metadata": {},
   "source": [
    "The first model we will try for predicting defaults is Logistic Regression. The model takes a linear combination of the input features and then applying a nonlinearity for generating the decision boundry. More formally:\n",
    "$$ z = w_0 x_0 + w_1 x_1 +  ...  + w_n x_n = \\sum_{i=0}^n w_i x_i = w^T x $$\n",
    "where $x_0$ is always 1 by definition for convenience and the original features are contained by $x_1..x_n$.\n",
    "\n",
    "The higher the value of `z`, the more sure we are that we should predict `1`, the lower the value of `z` the more sure we are that we should predict `0`. Using the sigmoid function on `z` constrains the value of `z` between `(0,1)`:\n",
    "$$ sigmoid(z) = \\frac{1}{1 + e^{-z}}$$\n",
    "\n",
    "![Sigmoid](img\\sigmoid.svg)"
   ]
  },
  {
   "cell_type": "markdown",
   "metadata": {},
   "source": [
    "### Decision Trees"
   ]
  },
  {
   "cell_type": "markdown",
   "metadata": {},
   "source": [
    "Another popular supervised learning algorithm is the Decision Tree. The idea is to partition the data space by binary splits searching for the best split that distinguishes regions for the class in question. \n",
    "\n",
    "In the search for splits the algorithm optimizes an impurity measure at each step creating another branch on the tree.\n",
    "\n",
    "![DecisionTree](img\\dtree2.png)\n",
    "<center>Image source: https://dzone.com/refcardz/machine-learning-predictive?chapter=10 </center>\n",
    "\n",
    "The most used impurity measures are as follows:\n",
    "* Misclassification error: $1-p_k$\n",
    "* Gini index: $G(S) = \\sum_{k=1}^K p_k (1-p_k)$\n",
    "* Entropy: H(S) = $- \\sum_{k=1}^K p_k log(p_k)$\n",
    "\n",
    "What are decision trees good at?\n",
    "* Large datasets\n",
    "* Numeric and categorical variables (depends on implementation)\n",
    "* Human interpretable"
   ]
  },
  {
   "cell_type": "markdown",
   "metadata": {},
   "source": [
    "### Performance metrics"
   ]
  },
  {
   "cell_type": "markdown",
   "metadata": {
    "collapsed": true
   },
   "source": [
    "**Confusion matrix**\n",
    "\n",
    "We can construct a confusion matrix based on the correct and incorrect predictions of our model. Two very important measures are the True Positive Rate and False Positive Rate.\n",
    "\n",
    "![ConfusionMatrix](img\\confusion_matrix.png)\n",
    "\n",
    "**Accuracy**\n",
    "\n",
    "The accuracy of the model is probably the simplest metric we can come up with: it measures the ratio of correctly classified observation to all observations.\n",
    "\n",
    "$$Accuracy = \\frac{TP+TN}{TP+FP+TN+FN} = \\frac{TP+TN}{no. observations} $$\n",
    "\n",
    "**ROC curve**\n",
    "\n",
    "We can construct the ROC curve by varying the decision threshold for predicting class `0` or `1` and drawing the resulting TPR / FPR values. A model with a higher area under the curve (AUC) is considered better.\n",
    "\n",
    "![ROC](img\\roc.png)\n",
    "<center>Image source: https://docs.eyesopen.com/toolkits/cookbook/python/plotting/roc.html</center>"
   ]
  },
  {
   "cell_type": "markdown",
   "metadata": {},
   "source": [
    "### General Supervised Learning workflow"
   ]
  },
  {
   "cell_type": "markdown",
   "metadata": {},
   "source": [
    "The general workflow for supervised learning is as follows:\n",
    "* We gather historical data to build the model on\n",
    "* Split the data into two parts. Use random sampling!\n",
    "    * A later part to train the model on \n",
    "    * A smaller part to evaluate the model's performance on\n",
    "    * Question: what do you think is a good train/test split ratio?\n",
    "* Build the model on the training data without ever touching the test data.\n",
    "* Use the model and evaluate it's performance on the test data. We are basically simulating how the model performs on previously unseen data with unknown label. There are a lot of performance metrics used in the industry depending on the task at hand.\n",
    "* Deploy the model and use it in production for unlabeled data\n",
    "\n",
    "![SuperveisedLearningWorkflow](img\\sup_learning_workflow.png)"
   ]
  },
  {
   "cell_type": "markdown",
   "metadata": {},
   "source": [
    "## Financial product overview\n",
    "\n",
    "** Asset Backed Securities**\n",
    "\n",
    "First let's will learn about a very popular way to fund loans when the total size of the portfolio might be in the neighborhood of $1B. One of the widely used structure is called Asset Backed Securities. Let's take a look at a general structure for it:\n",
    "![Securitization](img\\securitization.png)\n",
    "\n",
    "As we mentioned in the previous lecture there are multiple approaches to assess usually depend on the granularity of data available.\n",
    "* Aggregated historical performance data can be used to create a high level assessment on different parts of the portfolio e.g. loans with more than 30 months maturity and more then 95% debt to income ratio are risky and we estimate 4% of them to default.\n",
    "* Loan level historical performance data can be used to create a predictive model to make a prediction on each loan individually.\n",
    "\n",
    "Cash flow from the assets are allocated using a waterfall structure to protect more senior notes from risk:\n",
    "\n",
    "![Waterfall](img\\waterfall.png)\n",
    "\n",
    "For certain type of ABS we can have a contract which allows us to replace undesirable loans with better ones.\n",
    "As you see the way this structure gives protection from losses works well in case the of systemic errors that our loan level predictive model might not even capture. \n",
    "\n",
    "*Just to note, data for Asset Backed Securities are usually private and confidential. They contain information that can not be shared outside the group doing the analysis. For this reason the dataset we are using is not actually data from an ABS but rather the LendingClub public personal loan dataset. For this short lecture it does not matter if the portfolio is securitized or not as we are working with the raw data.*"
   ]
  },
  {
   "cell_type": "markdown",
   "metadata": {},
   "source": [
    "## Load already cleaned data from previous lecture"
   ]
  },
  {
   "cell_type": "code",
   "execution_count": 1,
   "metadata": {
    "collapsed": true
   },
   "outputs": [],
   "source": [
    "import pandas as pd\n",
    "data = pd.read_pickle('Lendmark_clean.pkl')"
   ]
  },
  {
   "cell_type": "code",
   "execution_count": 2,
   "metadata": {
    "collapsed": true
   },
   "outputs": [],
   "source": [
    "data = data.drop('last_pymnt_amnt', axis=1)"
   ]
  },
  {
   "cell_type": "code",
   "execution_count": 3,
   "metadata": {},
   "outputs": [
    {
     "data": {
      "text/html": [
       "<div>\n",
       "<style>\n",
       "    .dataframe thead tr:only-child th {\n",
       "        text-align: right;\n",
       "    }\n",
       "\n",
       "    .dataframe thead th {\n",
       "        text-align: left;\n",
       "    }\n",
       "\n",
       "    .dataframe tbody tr th {\n",
       "        vertical-align: top;\n",
       "    }\n",
       "</style>\n",
       "<table border=\"1\" class=\"dataframe\">\n",
       "  <thead>\n",
       "    <tr style=\"text-align: right;\">\n",
       "      <th></th>\n",
       "      <th>loan_amnt</th>\n",
       "      <th>term</th>\n",
       "      <th>int_rate</th>\n",
       "      <th>funded_amnt</th>\n",
       "      <th>grade</th>\n",
       "      <th>annual_inc</th>\n",
       "      <th>dti</th>\n",
       "      <th>delinq_2yrs</th>\n",
       "      <th>emp_length</th>\n",
       "      <th>home_ownership</th>\n",
       "      <th>tax_liens</th>\n",
       "      <th>defaulted</th>\n",
       "    </tr>\n",
       "  </thead>\n",
       "  <tbody>\n",
       "    <tr>\n",
       "      <th>0</th>\n",
       "      <td>5000.0</td>\n",
       "      <td>36</td>\n",
       "      <td>10.65</td>\n",
       "      <td>5000.0</td>\n",
       "      <td>2</td>\n",
       "      <td>24000.0</td>\n",
       "      <td>27.65</td>\n",
       "      <td>0.0</td>\n",
       "      <td>10</td>\n",
       "      <td>RENT</td>\n",
       "      <td>0.0</td>\n",
       "      <td>0</td>\n",
       "    </tr>\n",
       "    <tr>\n",
       "      <th>1</th>\n",
       "      <td>2500.0</td>\n",
       "      <td>60</td>\n",
       "      <td>15.27</td>\n",
       "      <td>2500.0</td>\n",
       "      <td>3</td>\n",
       "      <td>30000.0</td>\n",
       "      <td>1.00</td>\n",
       "      <td>0.0</td>\n",
       "      <td>0</td>\n",
       "      <td>RENT</td>\n",
       "      <td>0.0</td>\n",
       "      <td>1</td>\n",
       "    </tr>\n",
       "    <tr>\n",
       "      <th>2</th>\n",
       "      <td>2400.0</td>\n",
       "      <td>36</td>\n",
       "      <td>15.96</td>\n",
       "      <td>2400.0</td>\n",
       "      <td>3</td>\n",
       "      <td>12252.0</td>\n",
       "      <td>8.72</td>\n",
       "      <td>0.0</td>\n",
       "      <td>10</td>\n",
       "      <td>RENT</td>\n",
       "      <td>0.0</td>\n",
       "      <td>0</td>\n",
       "    </tr>\n",
       "    <tr>\n",
       "      <th>3</th>\n",
       "      <td>10000.0</td>\n",
       "      <td>36</td>\n",
       "      <td>13.49</td>\n",
       "      <td>10000.0</td>\n",
       "      <td>3</td>\n",
       "      <td>49200.0</td>\n",
       "      <td>20.00</td>\n",
       "      <td>0.0</td>\n",
       "      <td>10</td>\n",
       "      <td>RENT</td>\n",
       "      <td>0.0</td>\n",
       "      <td>0</td>\n",
       "    </tr>\n",
       "    <tr>\n",
       "      <th>4</th>\n",
       "      <td>3000.0</td>\n",
       "      <td>60</td>\n",
       "      <td>12.69</td>\n",
       "      <td>3000.0</td>\n",
       "      <td>2</td>\n",
       "      <td>80000.0</td>\n",
       "      <td>17.94</td>\n",
       "      <td>0.0</td>\n",
       "      <td>1</td>\n",
       "      <td>RENT</td>\n",
       "      <td>0.0</td>\n",
       "      <td>0</td>\n",
       "    </tr>\n",
       "  </tbody>\n",
       "</table>\n",
       "</div>"
      ],
      "text/plain": [
       "   loan_amnt  term  int_rate  funded_amnt  grade  annual_inc    dti  \\\n",
       "0     5000.0    36     10.65       5000.0      2     24000.0  27.65   \n",
       "1     2500.0    60     15.27       2500.0      3     30000.0   1.00   \n",
       "2     2400.0    36     15.96       2400.0      3     12252.0   8.72   \n",
       "3    10000.0    36     13.49      10000.0      3     49200.0  20.00   \n",
       "4     3000.0    60     12.69       3000.0      2     80000.0  17.94   \n",
       "\n",
       "   delinq_2yrs  emp_length home_ownership  tax_liens  defaulted  \n",
       "0          0.0          10           RENT        0.0          0  \n",
       "1          0.0           0           RENT        0.0          1  \n",
       "2          0.0          10           RENT        0.0          0  \n",
       "3          0.0          10           RENT        0.0          0  \n",
       "4          0.0           1           RENT        0.0          0  "
      ]
     },
     "execution_count": 3,
     "metadata": {},
     "output_type": "execute_result"
    }
   ],
   "source": [
    "data.head()"
   ]
  },
  {
   "cell_type": "markdown",
   "metadata": {},
   "source": [
    "## Convert categorical variables to individual binaries\n",
    "Many models can't deal with categorical type data and can only accept numerical variables thus we need to encode contained information numerically somehow."
   ]
  },
  {
   "cell_type": "code",
   "execution_count": 4,
   "metadata": {},
   "outputs": [
    {
     "data": {
      "text/plain": [
       "array(['RENT', 'OWN', 'MORTGAGE', 'OTHER', 'NONE'], dtype=object)"
      ]
     },
     "execution_count": 4,
     "metadata": {},
     "output_type": "execute_result"
    }
   ],
   "source": [
    "data.home_ownership.unique()"
   ]
  },
  {
   "cell_type": "markdown",
   "metadata": {},
   "source": [
    "**Something to think about:** Why would it be a bad idea to encode this variable with integer values 1-5?"
   ]
  },
  {
   "cell_type": "markdown",
   "metadata": {},
   "source": [
    "The usual best practice is to encode a categorical variable of 5 unique values to 5 distinct binary columns (having values of 1 or 0). The resulting variable are sometimes called \"dummy variables\".\n",
    "\n",
    "There is a built in Pandas function that can help us achieve this. Let's see how it works:"
   ]
  },
  {
   "cell_type": "code",
   "execution_count": 5,
   "metadata": {},
   "outputs": [
    {
     "data": {
      "text/html": [
       "<div>\n",
       "<style>\n",
       "    .dataframe thead tr:only-child th {\n",
       "        text-align: right;\n",
       "    }\n",
       "\n",
       "    .dataframe thead th {\n",
       "        text-align: left;\n",
       "    }\n",
       "\n",
       "    .dataframe tbody tr th {\n",
       "        vertical-align: top;\n",
       "    }\n",
       "</style>\n",
       "<table border=\"1\" class=\"dataframe\">\n",
       "  <thead>\n",
       "    <tr style=\"text-align: right;\">\n",
       "      <th></th>\n",
       "      <th>home_ownership_MORTGAGE</th>\n",
       "      <th>home_ownership_NONE</th>\n",
       "      <th>home_ownership_OTHER</th>\n",
       "      <th>home_ownership_OWN</th>\n",
       "      <th>home_ownership_RENT</th>\n",
       "    </tr>\n",
       "  </thead>\n",
       "  <tbody>\n",
       "    <tr>\n",
       "      <th>0</th>\n",
       "      <td>0</td>\n",
       "      <td>0</td>\n",
       "      <td>0</td>\n",
       "      <td>0</td>\n",
       "      <td>1</td>\n",
       "    </tr>\n",
       "    <tr>\n",
       "      <th>1</th>\n",
       "      <td>0</td>\n",
       "      <td>0</td>\n",
       "      <td>0</td>\n",
       "      <td>0</td>\n",
       "      <td>1</td>\n",
       "    </tr>\n",
       "    <tr>\n",
       "      <th>2</th>\n",
       "      <td>0</td>\n",
       "      <td>0</td>\n",
       "      <td>0</td>\n",
       "      <td>0</td>\n",
       "      <td>1</td>\n",
       "    </tr>\n",
       "    <tr>\n",
       "      <th>3</th>\n",
       "      <td>0</td>\n",
       "      <td>0</td>\n",
       "      <td>0</td>\n",
       "      <td>0</td>\n",
       "      <td>1</td>\n",
       "    </tr>\n",
       "    <tr>\n",
       "      <th>4</th>\n",
       "      <td>0</td>\n",
       "      <td>0</td>\n",
       "      <td>0</td>\n",
       "      <td>0</td>\n",
       "      <td>1</td>\n",
       "    </tr>\n",
       "  </tbody>\n",
       "</table>\n",
       "</div>"
      ],
      "text/plain": [
       "   home_ownership_MORTGAGE  home_ownership_NONE  home_ownership_OTHER  \\\n",
       "0                        0                    0                     0   \n",
       "1                        0                    0                     0   \n",
       "2                        0                    0                     0   \n",
       "3                        0                    0                     0   \n",
       "4                        0                    0                     0   \n",
       "\n",
       "   home_ownership_OWN  home_ownership_RENT  \n",
       "0                   0                    1  \n",
       "1                   0                    1  \n",
       "2                   0                    1  \n",
       "3                   0                    1  \n",
       "4                   0                    1  "
      ]
     },
     "execution_count": 5,
     "metadata": {},
     "output_type": "execute_result"
    }
   ],
   "source": [
    "pd.get_dummies(data.home_ownership, prefix='home_ownership', prefix_sep='_').head()"
   ]
  },
  {
   "cell_type": "markdown",
   "metadata": {},
   "source": [
    "Let's create a version of the data wich contains the dummy variables but not the original one."
   ]
  },
  {
   "cell_type": "code",
   "execution_count": 6,
   "metadata": {
    "scrolled": false
   },
   "outputs": [
    {
     "data": {
      "text/html": [
       "<div>\n",
       "<style>\n",
       "    .dataframe thead tr:only-child th {\n",
       "        text-align: right;\n",
       "    }\n",
       "\n",
       "    .dataframe thead th {\n",
       "        text-align: left;\n",
       "    }\n",
       "\n",
       "    .dataframe tbody tr th {\n",
       "        vertical-align: top;\n",
       "    }\n",
       "</style>\n",
       "<table border=\"1\" class=\"dataframe\">\n",
       "  <thead>\n",
       "    <tr style=\"text-align: right;\">\n",
       "      <th></th>\n",
       "      <th>loan_amnt</th>\n",
       "      <th>term</th>\n",
       "      <th>int_rate</th>\n",
       "      <th>funded_amnt</th>\n",
       "      <th>grade</th>\n",
       "      <th>annual_inc</th>\n",
       "      <th>dti</th>\n",
       "      <th>delinq_2yrs</th>\n",
       "      <th>emp_length</th>\n",
       "      <th>tax_liens</th>\n",
       "      <th>defaulted</th>\n",
       "      <th>home_ownership_MORTGAGE</th>\n",
       "      <th>home_ownership_NONE</th>\n",
       "      <th>home_ownership_OTHER</th>\n",
       "      <th>home_ownership_OWN</th>\n",
       "      <th>home_ownership_RENT</th>\n",
       "    </tr>\n",
       "  </thead>\n",
       "  <tbody>\n",
       "    <tr>\n",
       "      <th>0</th>\n",
       "      <td>5000.0</td>\n",
       "      <td>36</td>\n",
       "      <td>10.65</td>\n",
       "      <td>5000.0</td>\n",
       "      <td>2</td>\n",
       "      <td>24000.0</td>\n",
       "      <td>27.65</td>\n",
       "      <td>0.0</td>\n",
       "      <td>10</td>\n",
       "      <td>0.0</td>\n",
       "      <td>0</td>\n",
       "      <td>0</td>\n",
       "      <td>0</td>\n",
       "      <td>0</td>\n",
       "      <td>0</td>\n",
       "      <td>1</td>\n",
       "    </tr>\n",
       "    <tr>\n",
       "      <th>1</th>\n",
       "      <td>2500.0</td>\n",
       "      <td>60</td>\n",
       "      <td>15.27</td>\n",
       "      <td>2500.0</td>\n",
       "      <td>3</td>\n",
       "      <td>30000.0</td>\n",
       "      <td>1.00</td>\n",
       "      <td>0.0</td>\n",
       "      <td>0</td>\n",
       "      <td>0.0</td>\n",
       "      <td>1</td>\n",
       "      <td>0</td>\n",
       "      <td>0</td>\n",
       "      <td>0</td>\n",
       "      <td>0</td>\n",
       "      <td>1</td>\n",
       "    </tr>\n",
       "    <tr>\n",
       "      <th>2</th>\n",
       "      <td>2400.0</td>\n",
       "      <td>36</td>\n",
       "      <td>15.96</td>\n",
       "      <td>2400.0</td>\n",
       "      <td>3</td>\n",
       "      <td>12252.0</td>\n",
       "      <td>8.72</td>\n",
       "      <td>0.0</td>\n",
       "      <td>10</td>\n",
       "      <td>0.0</td>\n",
       "      <td>0</td>\n",
       "      <td>0</td>\n",
       "      <td>0</td>\n",
       "      <td>0</td>\n",
       "      <td>0</td>\n",
       "      <td>1</td>\n",
       "    </tr>\n",
       "    <tr>\n",
       "      <th>3</th>\n",
       "      <td>10000.0</td>\n",
       "      <td>36</td>\n",
       "      <td>13.49</td>\n",
       "      <td>10000.0</td>\n",
       "      <td>3</td>\n",
       "      <td>49200.0</td>\n",
       "      <td>20.00</td>\n",
       "      <td>0.0</td>\n",
       "      <td>10</td>\n",
       "      <td>0.0</td>\n",
       "      <td>0</td>\n",
       "      <td>0</td>\n",
       "      <td>0</td>\n",
       "      <td>0</td>\n",
       "      <td>0</td>\n",
       "      <td>1</td>\n",
       "    </tr>\n",
       "    <tr>\n",
       "      <th>4</th>\n",
       "      <td>3000.0</td>\n",
       "      <td>60</td>\n",
       "      <td>12.69</td>\n",
       "      <td>3000.0</td>\n",
       "      <td>2</td>\n",
       "      <td>80000.0</td>\n",
       "      <td>17.94</td>\n",
       "      <td>0.0</td>\n",
       "      <td>1</td>\n",
       "      <td>0.0</td>\n",
       "      <td>0</td>\n",
       "      <td>0</td>\n",
       "      <td>0</td>\n",
       "      <td>0</td>\n",
       "      <td>0</td>\n",
       "      <td>1</td>\n",
       "    </tr>\n",
       "  </tbody>\n",
       "</table>\n",
       "</div>"
      ],
      "text/plain": [
       "   loan_amnt  term  int_rate  funded_amnt  grade  annual_inc    dti  \\\n",
       "0     5000.0    36     10.65       5000.0      2     24000.0  27.65   \n",
       "1     2500.0    60     15.27       2500.0      3     30000.0   1.00   \n",
       "2     2400.0    36     15.96       2400.0      3     12252.0   8.72   \n",
       "3    10000.0    36     13.49      10000.0      3     49200.0  20.00   \n",
       "4     3000.0    60     12.69       3000.0      2     80000.0  17.94   \n",
       "\n",
       "   delinq_2yrs  emp_length  tax_liens  defaulted  home_ownership_MORTGAGE  \\\n",
       "0          0.0          10        0.0          0                        0   \n",
       "1          0.0           0        0.0          1                        0   \n",
       "2          0.0          10        0.0          0                        0   \n",
       "3          0.0          10        0.0          0                        0   \n",
       "4          0.0           1        0.0          0                        0   \n",
       "\n",
       "   home_ownership_NONE  home_ownership_OTHER  home_ownership_OWN  \\\n",
       "0                    0                     0                   0   \n",
       "1                    0                     0                   0   \n",
       "2                    0                     0                   0   \n",
       "3                    0                     0                   0   \n",
       "4                    0                     0                   0   \n",
       "\n",
       "   home_ownership_RENT  \n",
       "0                    1  \n",
       "1                    1  \n",
       "2                    1  \n",
       "3                    1  \n",
       "4                    1  "
      ]
     },
     "execution_count": 6,
     "metadata": {},
     "output_type": "execute_result"
    }
   ],
   "source": [
    "cols = data.columns.tolist()\n",
    "cols.remove('home_ownership')\n",
    "\n",
    "data_dummy = pd.get_dummies(data.home_ownership, prefix='home_ownership', prefix_sep='_')\n",
    "data_dummy = data[cols].join(data_dummy)\n",
    "data_dummy.head()"
   ]
  },
  {
   "cell_type": "code",
   "execution_count": 7,
   "metadata": {
    "scrolled": false
   },
   "outputs": [
    {
     "name": "stdout",
     "output_type": "stream",
     "text": [
      "<class 'pandas.core.frame.DataFrame'>\n",
      "Int64Index: 39747 entries, 0 to 39753\n",
      "Data columns (total 16 columns):\n",
      "loan_amnt                  39747 non-null float64\n",
      "term                       39747 non-null int64\n",
      "int_rate                   39747 non-null float64\n",
      "funded_amnt                39747 non-null float64\n",
      "grade                      39747 non-null int64\n",
      "annual_inc                 39747 non-null float64\n",
      "dti                        39747 non-null float64\n",
      "delinq_2yrs                39747 non-null float64\n",
      "emp_length                 39747 non-null int64\n",
      "tax_liens                  39747 non-null float64\n",
      "defaulted                  39747 non-null int64\n",
      "home_ownership_MORTGAGE    39747 non-null uint8\n",
      "home_ownership_NONE        39747 non-null uint8\n",
      "home_ownership_OTHER       39747 non-null uint8\n",
      "home_ownership_OWN         39747 non-null uint8\n",
      "home_ownership_RENT        39747 non-null uint8\n",
      "dtypes: float64(7), int64(4), uint8(5)\n",
      "memory usage: 5.1 MB\n"
     ]
    }
   ],
   "source": [
    "data_dummy.info()"
   ]
  },
  {
   "cell_type": "markdown",
   "metadata": {},
   "source": [
    "Now all variables are numerical. Some implementations of algorithms like decision trees can natively handle categorical variables but most algorithms and most implementaqtions can not. In case there is no self evident ordering of the categories that would make it straight forward to convert it to integer values, it is best to create dummy binaries. "
   ]
  },
  {
   "cell_type": "markdown",
   "metadata": {},
   "source": [
    "## Train-test split"
   ]
  },
  {
   "cell_type": "code",
   "execution_count": 8,
   "metadata": {
    "collapsed": true
   },
   "outputs": [],
   "source": [
    "from sklearn.model_selection import train_test_split"
   ]
  },
  {
   "cell_type": "markdown",
   "metadata": {},
   "source": [
    "Let's separate the columns for the features and the response variable.\n",
    "We'll store the features in a matrix and the response variable in a vector."
   ]
  },
  {
   "cell_type": "code",
   "execution_count": 9,
   "metadata": {
    "collapsed": true
   },
   "outputs": [],
   "source": [
    "x_cols = data_dummy.columns.tolist()\n",
    "x_cols.remove('defaulted')\n",
    "y_col = 'defaulted'\n",
    "\n",
    "X = data_dummy[x_cols].values\n",
    "y = data_dummy[y_col].values"
   ]
  },
  {
   "cell_type": "code",
   "execution_count": 10,
   "metadata": {},
   "outputs": [
    {
     "name": "stdout",
     "output_type": "stream",
     "text": [
      "Shape of X: (39747, 15)\n",
      "Shape of y: (39747,)\n"
     ]
    }
   ],
   "source": [
    "print('Shape of X: {}'.format(X.shape))\n",
    "print('Shape of y: {}'.format(y.shape))"
   ]
  },
  {
   "cell_type": "code",
   "execution_count": 11,
   "metadata": {},
   "outputs": [
    {
     "name": "stdout",
     "output_type": "stream",
     "text": [
      "Features of row 1: [  5.00000000e+03   3.60000000e+01   1.06500000e+01   5.00000000e+03\n",
      "   2.00000000e+00   2.40000000e+04   2.76500000e+01   0.00000000e+00\n",
      "   1.00000000e+01   0.00000000e+00   0.00000000e+00   0.00000000e+00\n",
      "   0.00000000e+00   0.00000000e+00   1.00000000e+00]\n",
      "Response variable of row 1: 0\n"
     ]
    }
   ],
   "source": [
    "print('Features of row 1: {}'.format(X[0,:]))\n",
    "print('Response variable of row 1: {}'.format(y[0]))"
   ]
  },
  {
   "cell_type": "markdown",
   "metadata": {},
   "source": [
    "Now let's do the train/test split."
   ]
  },
  {
   "cell_type": "code",
   "execution_count": 12,
   "metadata": {
    "collapsed": true
   },
   "outputs": [],
   "source": [
    "X_train, X_test, y_train, y_test = train_test_split(X,y, test_size=0.2)"
   ]
  },
  {
   "cell_type": "code",
   "execution_count": 13,
   "metadata": {},
   "outputs": [
    {
     "name": "stdout",
     "output_type": "stream",
     "text": [
      "Shape of X_train: (31797, 15)\n",
      "Shape of X_test: (7950, 15)\n",
      "Shape of y_train: (31797,)\n",
      "Shape of y_test: (7950,)\n"
     ]
    }
   ],
   "source": [
    "print('Shape of X_train: {}'.format(X_train.shape))\n",
    "print('Shape of X_test: {}'.format(X_test.shape))\n",
    "print('Shape of y_train: {}'.format(y_train.shape))\n",
    "print('Shape of y_test: {}'.format(y_test.shape))"
   ]
  },
  {
   "cell_type": "code",
   "execution_count": 14,
   "metadata": {},
   "outputs": [
    {
     "name": "stdout",
     "output_type": "stream",
     "text": [
      "Features of row 1: [  1.25000000e+04   3.60000000e+01   1.12600000e+01   1.25000000e+04\n",
      "   2.00000000e+00   5.20000000e+04   1.22100000e+01   0.00000000e+00\n",
      "   8.00000000e+00   0.00000000e+00   0.00000000e+00   0.00000000e+00\n",
      "   0.00000000e+00   0.00000000e+00   1.00000000e+00]\n",
      "Response variable of row 1: 0\n"
     ]
    }
   ],
   "source": [
    "print('Features of row 1: {}'.format(X_train[0,:]))\n",
    "print('Response variable of row 1: {}'.format(y_train[0]))"
   ]
  },
  {
   "cell_type": "code",
   "execution_count": 15,
   "metadata": {},
   "outputs": [
    {
     "name": "stdout",
     "output_type": "stream",
     "text": [
      "Features of row 1: [  1.17500000e+04   3.60000000e+01   1.71400000e+01   1.17500000e+04\n",
      "   5.00000000e+00   7.20000000e+04   1.14300000e+01   1.00000000e+00\n",
      "   1.00000000e+01   0.00000000e+00   0.00000000e+00   0.00000000e+00\n",
      "   0.00000000e+00   0.00000000e+00   1.00000000e+00]\n",
      "Response variable of row 1: 0\n"
     ]
    }
   ],
   "source": [
    "print('Features of row 1: {}'.format(X_test[0,:]))\n",
    "print('Response variable of row 1: {}'.format(y_test[0]))"
   ]
  },
  {
   "cell_type": "markdown",
   "metadata": {},
   "source": [
    "## First try for prediction with Logistic Regression"
   ]
  },
  {
   "cell_type": "markdown",
   "metadata": {},
   "source": [
    "** Code for plotting ROC curve and Confusion matrix **"
   ]
  },
  {
   "cell_type": "code",
   "execution_count": 16,
   "metadata": {
    "code_folding": [
     3
    ],
    "collapsed": true
   },
   "outputs": [],
   "source": [
    "import matplotlib.pyplot as plt\n",
    "from sklearn.metrics import roc_curve\n",
    "\n",
    "def draw_roc_curve(actual_values, **predicted_probabilities):\n",
    "    plt.figure(figsize=(6, 6))\n",
    "    plt.plot([0, 1], [0, 1], 'r--', label='Random guessing')\n",
    "    for name, pred in predicted_probabilities.items():\n",
    "        fpr, tpr, thresholds = roc_curve(actual_values, pred)\n",
    "        plt.plot(fpr, tpr, lw=2, label='ROC curve for %s' % name)\n",
    "    plt.xlim([0, 1])\n",
    "    plt.ylim([0, 1])\n",
    "    plt.xlabel('False Positive Rate')\n",
    "    plt.ylabel('True Positive Rate')\n",
    "    plt.title('Receiver operating characteristic example')\n",
    "    plt.legend(loc=\"lower right\")\n",
    "    plt.show()"
   ]
  },
  {
   "cell_type": "code",
   "execution_count": 17,
   "metadata": {
    "code_folding": [
     2
    ],
    "collapsed": true
   },
   "outputs": [],
   "source": [
    "import itertools\n",
    "import numpy as np\n",
    "from sklearn.metrics import confusion_matrix\n",
    "def plot_confusion_matrix(cm, classes,\n",
    "                          normalize=False,\n",
    "                          title='Confusion matrix',\n",
    "                          cmap=plt.cm.Blues):\n",
    "    \"\"\"\n",
    "    This function prints and plots the confusion matrix.\n",
    "    Normalization can be applied by setting `normalize=True`.\n",
    "    \"\"\"\n",
    "    if normalize:\n",
    "        cm = cm.astype('float') / cm.sum(axis=1)[:, np.newaxis]\n",
    "        print(\"Normalized confusion matrix\")\n",
    "    else:\n",
    "        print('Confusion matrix, without normalization')\n",
    "\n",
    "    print(cm)\n",
    "\n",
    "    plt.imshow(cm, interpolation='nearest', cmap=cmap)\n",
    "    plt.title(title)\n",
    "    plt.colorbar()\n",
    "    tick_marks = np.arange(len(classes))\n",
    "    plt.xticks(tick_marks, classes, rotation=45)\n",
    "    plt.yticks(tick_marks, classes)\n",
    "\n",
    "    fmt = '.2f' if normalize else 'd'\n",
    "    thresh = cm.max() / 2.\n",
    "    for i, j in itertools.product(range(cm.shape[0]), range(cm.shape[1])):\n",
    "        plt.text(j, i, format(cm[i, j], fmt),\n",
    "                 horizontalalignment=\"center\",\n",
    "                 color=\"white\" if cm[i, j] > thresh else \"black\")\n",
    "\n",
    "    plt.tight_layout()\n",
    "    plt.ylabel('True label')\n",
    "    plt.xlabel('Predicted label')\n",
    "    plt.show()"
   ]
  },
  {
   "cell_type": "markdown",
   "metadata": {},
   "source": [
    "### Using Logistic Regression from Scikit-Learn\n",
    "Let's try logistic regression and see how it performs."
   ]
  },
  {
   "cell_type": "code",
   "execution_count": 18,
   "metadata": {
    "collapsed": true
   },
   "outputs": [],
   "source": [
    "from sklearn import linear_model,svm\n",
    "from sklearn.metrics import accuracy_score, confusion_matrix, roc_auc_score\n",
    "\n",
    "lrmodel0 = linear_model.LogisticRegression(C=1000)\n",
    "lrmodel0 = lrmodel0.fit(X_train, y_train)\n",
    "pred_lr0_train = lrmodel0.predict(X_train)\n",
    "prob_lr0_train = lrmodel0.predict_proba(X_train)[:,1]\n",
    "pred_lr0_test = lrmodel0.predict(X_test)\n",
    "prob_lr0_test = lrmodel0.predict_proba(X_test)[:,1]"
   ]
  },
  {
   "cell_type": "code",
   "execution_count": 19,
   "metadata": {},
   "outputs": [
    {
     "name": "stdout",
     "output_type": "stream",
     "text": [
      "Performance of the first Logistic Regression model:\n",
      "Accuracy (train):  0.856653143378\n",
      "Area Under ROC curve (train): 0.533614762446\n",
      "Accuracy (test):  0.860251572327\n",
      "Area Under ROC curve (test): 0.549489091328\n"
     ]
    }
   ],
   "source": [
    "print(\"Performance of the first Logistic Regression model:\")\n",
    "print(\"Accuracy (train): \", accuracy_score(y_train, pred_lr0_train) )\n",
    "print(\"Area Under ROC curve (train):\", roc_auc_score(y_train, prob_lr0_train) )\n",
    "print(\"Accuracy (test): \", accuracy_score(y_test, pred_lr0_test) )\n",
    "print(\"Area Under ROC curve (test):\", roc_auc_score(y_test, prob_lr0_test) )"
   ]
  },
  {
   "cell_type": "code",
   "execution_count": 20,
   "metadata": {},
   "outputs": [
    {
     "data": {
      "image/png": "[encoded data removed]",
      "text/plain": [
       "<matplotlib.figure.Figure at 0xa5902b0>"
      ]
     },
     "metadata": {},
     "output_type": "display_data"
    }
   ],
   "source": [
    "draw_roc_curve(y_test, regression=prob_lr0_test)"
   ]
  },
  {
   "cell_type": "markdown",
   "metadata": {},
   "source": [
    "### Why the bad performance?\n",
    "\n",
    "**A good 86% accuracy, nice! Or is it ?!**\n",
    "* We are at 86% accuracy, which seems good just by itself.\n",
    "* A random guess based on class frequency (no information gain) would be an AUC of 0.5, which we just bearly beat, meaning not much information gain.\n",
    "\n",
    "It seems we still have a lot to improve..."
   ]
  },
  {
   "cell_type": "markdown",
   "metadata": {},
   "source": [
    "**What is happening?**\n",
    "Let's see a historgram of the predicted class probabilities:"
   ]
  },
  {
   "cell_type": "code",
   "execution_count": 21,
   "metadata": {},
   "outputs": [
    {
     "data": {
      "image/png": "[encoded data removed]",
      "text/plain": [
       "<matplotlib.figure.Figure at 0xc5c7748>"
      ]
     },
     "metadata": {},
     "output_type": "display_data"
    }
   ],
   "source": [
    "import matplotlib.pyplot as plt\n",
    "plt.hist(lrmodel0.predict_proba(X_test)[:,1], bins=50)\n",
    "plt.show()"
   ]
  },
  {
   "cell_type": "code",
   "execution_count": 22,
   "metadata": {},
   "outputs": [
    {
     "name": "stdout",
     "output_type": "stream",
     "text": [
      "The maximum default probability predicted for any loan:  0.424988137415\n"
     ]
    }
   ],
   "source": [
    "print('The maximum default probability predicted for any loan: ', max(prob_lr0_test))"
   ]
  },
  {
   "cell_type": "code",
   "execution_count": 23,
   "metadata": {},
   "outputs": [
    {
     "name": "stdout",
     "output_type": "stream",
     "text": [
      "Confusion matrix, without normalization\n",
      "[[6839    0]\n",
      " [1111    0]]\n"
     ]
    },
    {
     "data": {
      "image/png": "[encoded data removed]",
      "text/plain": [
       "<matplotlib.figure.Figure at 0xcfaf668>"
      ]
     },
     "metadata": {},
     "output_type": "display_data"
    }
   ],
   "source": [
    "cm = confusion_matrix(y_test, pred_lr0_test)\n",
    "classes = ['Not defaulted', 'Defaulted']\n",
    "plot_confusion_matrix(cm, classes,\n",
    "                          normalize=False,\n",
    "                          title='Confusion matrix',\n",
    "                          cmap=plt.cm.Blues)"
   ]
  },
  {
   "cell_type": "markdown",
   "metadata": {},
   "source": [
    "### Exercise: What do you think is the problem?"
   ]
  },
  {
   "cell_type": "code",
   "execution_count": null,
   "metadata": {
    "collapsed": true
   },
   "outputs": [],
   "source": []
  },
  {
   "cell_type": "markdown",
   "metadata": {},
   "source": [
    "## Dealing with class imbalance"
   ]
  },
  {
   "cell_type": "markdown",
   "metadata": {},
   "source": [
    "Let us examine how many positive/negative examples we have in the original dataset."
   ]
  },
  {
   "cell_type": "code",
   "execution_count": 24,
   "metadata": {},
   "outputs": [
    {
     "data": {
      "text/plain": [
       "0    34078\n",
       "1     5669\n",
       "Name: defaulted, dtype: int64"
      ]
     },
     "execution_count": 24,
     "metadata": {},
     "output_type": "execute_result"
    }
   ],
   "source": [
    "data_dummy.defaulted.value_counts()"
   ]
  },
  {
   "cell_type": "code",
   "execution_count": 25,
   "metadata": {},
   "outputs": [
    {
     "name": "stdout",
     "output_type": "stream",
     "text": [
      "Ratio of negative examples:  0.857372883488\n"
     ]
    }
   ],
   "source": [
    "print(\"Ratio of negative examples: \", 1-sum(data_dummy.defaulted)/len(data_dummy.defaulted))"
   ]
  },
  {
   "cell_type": "markdown",
   "metadata": {},
   "source": [
    "### Exercise: Think about what is the simplest model that would give ~85% accuracy? Would that be a useful model?"
   ]
  },
  {
   "cell_type": "code",
   "execution_count": null,
   "metadata": {
    "collapsed": true
   },
   "outputs": [],
   "source": []
  },
  {
   "cell_type": "markdown",
   "metadata": {},
   "source": [
    "As we see defaulted loans represent less than 15% of the examples. The class imbalance problem occurs quite often and it provides the challenge that while we are usually interested in predicting the minotiry class (e.g. defaults) thus we have less information for the class in question."
   ]
  },
  {
   "cell_type": "markdown",
   "metadata": {},
   "source": [
    "### Downsampling the training set"
   ]
  },
  {
   "cell_type": "markdown",
   "metadata": {},
   "source": [
    "There are multiple solutions for the class imbalance problem:\n",
    "    * Downsampling: keep a smaller random sample of the majority class.\n",
    "    * Upsampling: Duplicate records of the minority class.\n",
    "    * Advanced methods: modifying the cost function, adding example weights, etc...\n",
    "    \n",
    "For more detail on techniques, I encourage you to check out this blog post: https://www.kdnuggets.com/2017/06/7-techniques-handle-imbalanced-data.html\n",
    "\n",
    "For this lecture we will implement downsampling. "
   ]
  },
  {
   "cell_type": "markdown",
   "metadata": {},
   "source": [
    "Let's theck the shape of our training dataset after the split."
   ]
  },
  {
   "cell_type": "code",
   "execution_count": 26,
   "metadata": {},
   "outputs": [
    {
     "name": "stdout",
     "output_type": "stream",
     "text": [
      "(31797, 15)\n"
     ]
    }
   ],
   "source": [
    "print(X_train.shape)"
   ]
  },
  {
   "cell_type": "markdown",
   "metadata": {},
   "source": [
    "Now let's split the data by the class values."
   ]
  },
  {
   "cell_type": "code",
   "execution_count": 27,
   "metadata": {
    "collapsed": true
   },
   "outputs": [],
   "source": [
    "df_def0 = X_train[y_train==0, :]\n",
    "df_def1 = X_train[y_train==1, :]"
   ]
  },
  {
   "cell_type": "code",
   "execution_count": 28,
   "metadata": {},
   "outputs": [
    {
     "name": "stdout",
     "output_type": "stream",
     "text": [
      "(27239, 15)\n",
      "(4558, 15)\n"
     ]
    }
   ],
   "source": [
    "print(df_def0.shape)\n",
    "print(df_def1.shape)"
   ]
  },
  {
   "cell_type": "markdown",
   "metadata": {},
   "source": [
    "We can use scikit-learn's `resample` function to generate a new sample from an array or a dataframe. As we are downsampling and not upsampling, we will sample without replacement."
   ]
  },
  {
   "cell_type": "code",
   "execution_count": 29,
   "metadata": {
    "collapsed": true
   },
   "outputs": [],
   "source": [
    "from sklearn.utils import resample\n",
    "df_def0_downsample = resample(df_def0, \n",
    "                                 replace=False,\n",
    "                                 n_samples=len(df_def1), # matching the minority class (number of defaulted loans)\n",
    "                                 random_state=1)"
   ]
  },
  {
   "cell_type": "code",
   "execution_count": 30,
   "metadata": {},
   "outputs": [
    {
     "name": "stdout",
     "output_type": "stream",
     "text": [
      "(4558, 15)\n",
      "(4558, 15)\n"
     ]
    }
   ],
   "source": [
    "print(df_def0_downsample.shape)\n",
    "print(df_def1.shape)"
   ]
  },
  {
   "cell_type": "markdown",
   "metadata": {},
   "source": [
    "Now that we have the same number of examples for both the 0 and 1 classes we can combine the records again to one object."
   ]
  },
  {
   "cell_type": "code",
   "execution_count": 31,
   "metadata": {
    "collapsed": true
   },
   "outputs": [],
   "source": [
    "import numpy as np\n",
    "# Combine minority class with downsampled majority class\n",
    "X_train = np.concatenate((df_def0_downsample, df_def1))\n",
    "y_train = np.concatenate((np.zeros(len(df_def0_downsample)), np.ones(len(df_def1))))"
   ]
  },
  {
   "cell_type": "code",
   "execution_count": 32,
   "metadata": {},
   "outputs": [
    {
     "name": "stdout",
     "output_type": "stream",
     "text": [
      "(9116, 15)\n"
     ]
    }
   ],
   "source": [
    "print(X_train.shape)"
   ]
  },
  {
   "cell_type": "code",
   "execution_count": 33,
   "metadata": {},
   "outputs": [
    {
     "name": "stdout",
     "output_type": "stream",
     "text": [
      "(9116,)\n"
     ]
    }
   ],
   "source": [
    "print(y_train.shape)"
   ]
  },
  {
   "cell_type": "markdown",
   "metadata": {},
   "source": [
    "**Something to think about:** \n",
    "\n",
    "Why did we only downsample the training dataset but not the test dataset?\n",
    "We need class balance when training a model but we need the real class ratios for assessing the model's performance."
   ]
  },
  {
   "cell_type": "markdown",
   "metadata": {},
   "source": [
    "## Prediction after solved class imbalance: Logistic Regression, Decision Tree"
   ]
  },
  {
   "cell_type": "code",
   "execution_count": 34,
   "metadata": {
    "collapsed": true
   },
   "outputs": [],
   "source": [
    "from sklearn import linear_model\n",
    "from sklearn.metrics import accuracy_score, confusion_matrix, roc_auc_score"
   ]
  },
  {
   "cell_type": "markdown",
   "metadata": {},
   "source": [
    "### Logistic regression"
   ]
  },
  {
   "cell_type": "code",
   "execution_count": 35,
   "metadata": {
    "collapsed": true
   },
   "outputs": [],
   "source": [
    "lrmodel1 = linear_model.LogisticRegression(C=1000)\n",
    "lrmodel1 = lrmodel1.fit(X_train, y_train)"
   ]
  },
  {
   "cell_type": "code",
   "execution_count": 36,
   "metadata": {
    "collapsed": true
   },
   "outputs": [],
   "source": [
    "pred_lr1_train = lrmodel1.predict(X_train)\n",
    "prob_lr1_train = lrmodel1.predict_proba(X_train)[:,1]\n",
    "pred_lr1_test = lrmodel1.predict(X_test)\n",
    "prob_lr1_test = lrmodel1.predict_proba(X_test)[:,1]"
   ]
  },
  {
   "cell_type": "code",
   "execution_count": 37,
   "metadata": {
    "scrolled": false
   },
   "outputs": [
    {
     "name": "stdout",
     "output_type": "stream",
     "text": [
      "Confusion matrix, without normalization\n",
      "[[3565 3274]\n",
      " [ 327  784]]\n"
     ]
    },
    {
     "data": {
      "image/png": "[encoded data removed]",
      "text/plain": [
       "<matplotlib.figure.Figure at 0xd9daeb8>"
      ]
     },
     "metadata": {},
     "output_type": "display_data"
    }
   ],
   "source": [
    "cm = confusion_matrix(y_test, pred_lr1_test)\n",
    "classes = ['Not defaulted', 'Defaulted']\n",
    "plot_confusion_matrix(cm, classes,\n",
    "                          normalize=False,\n",
    "                          title='Confusion matrix',\n",
    "                          cmap=plt.cm.Blues)"
   ]
  },
  {
   "cell_type": "code",
   "execution_count": 38,
   "metadata": {},
   "outputs": [
    {
     "name": "stdout",
     "output_type": "stream",
     "text": [
      "Performance of the Logistic Regression model:\n",
      "Accuracy (train):  0.605967529618\n",
      "Area Under ROC curve (train): 0.650057202367\n",
      "Accuracy (test):  0.547044025157\n",
      "Area Under ROC curve (test): 0.654781460015\n"
     ]
    }
   ],
   "source": [
    "print(\"Performance of the Logistic Regression model:\")\n",
    "print(\"Accuracy (train): \", accuracy_score(y_train, pred_lr1_train) )\n",
    "print(\"Area Under ROC curve (train):\", roc_auc_score(y_train, prob_lr1_train) )\n",
    "print(\"Accuracy (test): \", accuracy_score(y_test, pred_lr1_test) )\n",
    "print(\"Area Under ROC curve (test):\", roc_auc_score(y_test, prob_lr1_test) )"
   ]
  },
  {
   "cell_type": "markdown",
   "metadata": {},
   "source": [
    "** ROC curve comparing the model created before and after class imbalance correction**"
   ]
  },
  {
   "cell_type": "code",
   "execution_count": 39,
   "metadata": {},
   "outputs": [
    {
     "data": {
      "image/png": "[encoded data removed]",
      "text/plain": [
       "<matplotlib.figure.Figure at 0xd9e07f0>"
      ]
     },
     "metadata": {},
     "output_type": "display_data"
    }
   ],
   "source": [
    "draw_roc_curve(y_test, regression_0=prob_lr0_test, regression_1=prob_lr1_test)"
   ]
  },
  {
   "cell_type": "markdown",
   "metadata": {},
   "source": [
    "### Decision Tree\n",
    "\n",
    "Use max depth of 4 with min sample leafs 5"
   ]
  },
  {
   "cell_type": "code",
   "execution_count": 40,
   "metadata": {
    "collapsed": true
   },
   "outputs": [],
   "source": [
    "from sklearn import tree"
   ]
  },
  {
   "cell_type": "code",
   "execution_count": 41,
   "metadata": {},
   "outputs": [
    {
     "data": {
      "text/plain": [
       "DecisionTreeClassifier(class_weight=None, criterion='gini', max_depth=4,\n",
       "            max_features=None, max_leaf_nodes=None,\n",
       "            min_impurity_decrease=0.0, min_impurity_split=None,\n",
       "            min_samples_leaf=5, min_samples_split=2,\n",
       "            min_weight_fraction_leaf=0.0, presort=False, random_state=None,\n",
       "            splitter='best')"
      ]
     },
     "execution_count": 41,
     "metadata": {},
     "output_type": "execute_result"
    }
   ],
   "source": [
    "treemodel = tree.DecisionTreeClassifier(max_depth=4, min_samples_leaf =5)\n",
    "treemodel = treemodel.fit(X_train, y_train)\n",
    "treemodel"
   ]
  },
  {
   "cell_type": "code",
   "execution_count": 42,
   "metadata": {
    "collapsed": true
   },
   "outputs": [],
   "source": [
    "pred_tree_train = treemodel.predict(X_train)\n",
    "prob_tree_train = treemodel.predict_proba(X_train)[:,1]\n",
    "pred_tree_test = treemodel.predict(X_test)\n",
    "prob_tree_test = treemodel.predict_proba(X_test)[:,1]"
   ]
  },
  {
   "cell_type": "code",
   "execution_count": 43,
   "metadata": {},
   "outputs": [
    {
     "name": "stdout",
     "output_type": "stream",
     "text": [
      "Performance of the Decision Tree model:\n",
      "Accuracy (train):  0.629881526986\n",
      "Area Under ROC curve (train): 0.681528853117\n",
      "Accuracy (test):  0.589811320755\n",
      "Area Under ROC curve (test): 0.669517916845\n"
     ]
    }
   ],
   "source": [
    "print(\"Performance of the Decision Tree model:\")\n",
    "print(\"Accuracy (train): \", accuracy_score(y_train, pred_tree_train) )\n",
    "print(\"Area Under ROC curve (train):\", roc_auc_score(y_train, prob_tree_train) )\n",
    "print(\"Accuracy (test): \", accuracy_score(y_test, pred_tree_test) )\n",
    "print(\"Area Under ROC curve (test):\", roc_auc_score(y_test, prob_tree_test) )"
   ]
  },
  {
   "cell_type": "code",
   "execution_count": 44,
   "metadata": {},
   "outputs": [
    {
     "name": "stdout",
     "output_type": "stream",
     "text": [
      "Confusion matrix, without normalization\n",
      "[[3931 2908]\n",
      " [ 353  758]]\n"
     ]
    },
    {
     "data": {
      "image/png": "[encoded data removed]",
      "text/plain": [
       "<matplotlib.figure.Figure at 0xd9e5da0>"
      ]
     },
     "metadata": {},
     "output_type": "display_data"
    }
   ],
   "source": [
    "cm = confusion_matrix(y_test, pred_tree_test)\n",
    "classes = ['Not defaulted', 'Defaulted']\n",
    "plot_confusion_matrix(cm, classes,\n",
    "                          normalize=False,\n",
    "                          title='Confusion matrix',\n",
    "                          cmap=plt.cm.Blues)"
   ]
  },
  {
   "cell_type": "code",
   "execution_count": 45,
   "metadata": {},
   "outputs": [
    {
     "data": {
      "image/png": "[encoded data removed]",
      "text/plain": [
       "<matplotlib.figure.Figure at 0xd9e59e8>"
      ]
     },
     "metadata": {},
     "output_type": "display_data"
    }
   ],
   "source": [
    "draw_roc_curve(y_test, regression_0=prob_lr0_test, regression_1=prob_lr1_test, tree=prob_tree_test)"
   ]
  },
  {
   "cell_type": "markdown",
   "metadata": {},
   "source": [
    "### Visualizing and interpreting a Decision Tree\n",
    "The learned internal tree structure of a decision tree can be visualized with a python component called graphviz. Let's examine the structure and see how we can interpret the resulting decision rules. Color coding can help us see the decision and it's confidence."
   ]
  },
  {
   "cell_type": "code",
   "execution_count": 46,
   "metadata": {},
   "outputs": [
    {
     "data": {
      "image/svg+xml": [
       "<?xml version=\"1.0\" encoding=\"UTF-8\" standalone=\"no\"?>\r\n",
       "<!DOCTYPE svg PUBLIC \"-//W3C//DTD SVG 1.1//EN\"\r\n",
       " \"http://www.w3.org/Graphics/SVG/1.1/DTD/svg11.dtd\">\r\n",
       "<!-- Generated by graphviz version 2.38.0 (20140413.2041)\r\n",
       " -->\r\n",
       "<!-- Title: Tree Pages: 1 -->\r\n",
       "<svg width=\"2125pt\" height=\"477pt\"\r\n",
       " viewBox=\"0.00 0.00 2125.00 477.00\" xmlns=\"http://www.w3.org/2000/svg\" xmlns:xlink=\"http://www.w3.org/1999/xlink\">\r\n",
       "<g id=\"graph0\" class=\"graph\" transform=\"scale(1 1) rotate(0) translate(4 473)\">\r\n",
       "<title>Tree</title>\r\n",
       "<polygon fill=\"white\" stroke=\"none\" points=\"-4,4 -4,-473 2121,-473 2121,4 -4,4\"/>\r\n",
       "<!-- 0 -->\r\n",
       "<g id=\"node1\" class=\"node\"><title>0</title>\r\n",
       "<polygon fill=\"none\" stroke=\"black\" points=\"1119.5,-469 988.5,-469 988.5,-401 1119.5,-401 1119.5,-469\"/>\r\n",
       "<text text-anchor=\"middle\" x=\"1054\" y=\"-453.8\" font-family=\"Times New Roman,serif\" font-size=\"14.00\">int_rate &lt;= 11.485</text>\r\n",
       "<text text-anchor=\"middle\" x=\"1054\" y=\"-438.8\" font-family=\"Times New Roman,serif\" font-size=\"14.00\">gini = 0.5</text>\r\n",
       "<text text-anchor=\"middle\" x=\"1054\" y=\"-423.8\" font-family=\"Times New Roman,serif\" font-size=\"14.00\">samples = 9116</text>\r\n",
       "<text text-anchor=\"middle\" x=\"1054\" y=\"-408.8\" font-family=\"Times New Roman,serif\" font-size=\"14.00\">value = [4558, 4558]</text>\r\n",
       "</g>\r\n",
       "<!-- 1 -->\r\n",
       "<g id=\"node2\" class=\"node\"><title>1</title>\r\n",
       "<polygon fill=\"#e58139\" fill-opacity=\"0.458824\" stroke=\"black\" points=\"848.5,-365 717.5,-365 717.5,-297 848.5,-297 848.5,-365\"/>\r\n",
       "<text text-anchor=\"middle\" x=\"783\" y=\"-349.8\" font-family=\"Times New Roman,serif\" font-size=\"14.00\">int_rate &lt;= 7.89</text>\r\n",
       "<text text-anchor=\"middle\" x=\"783\" y=\"-334.8\" font-family=\"Times New Roman,serif\" font-size=\"14.00\">gini = 0.456</text>\r\n",
       "<text text-anchor=\"middle\" x=\"783\" y=\"-319.8\" font-family=\"Times New Roman,serif\" font-size=\"14.00\">samples = 3390</text>\r\n",
       "<text text-anchor=\"middle\" x=\"783\" y=\"-304.8\" font-family=\"Times New Roman,serif\" font-size=\"14.00\">value = [2200, 1190]</text>\r\n",
       "</g>\r\n",
       "<!-- 0&#45;&gt;1 -->\r\n",
       "<g id=\"edge1\" class=\"edge\"><title>0&#45;&gt;1</title>\r\n",
       "<path fill=\"none\" stroke=\"black\" d=\"M988.398,-409.309C949.16,-394.54 899.153,-375.718 858.306,-360.344\"/>\r\n",
       "<polygon fill=\"black\" stroke=\"black\" points=\"859.529,-357.064 848.937,-356.818 857.063,-363.616 859.529,-357.064\"/>\r\n",
       "<text text-anchor=\"middle\" x=\"859.254\" y=\"-375.889\" font-family=\"Times New Roman,serif\" font-size=\"14.00\">True</text>\r\n",
       "</g>\r\n",
       "<!-- 16 -->\r\n",
       "<g id=\"node17\" class=\"node\"><title>16</title>\r\n",
       "<polygon fill=\"#399de5\" fill-opacity=\"0.298039\" stroke=\"black\" points=\"1389.5,-365 1258.5,-365 1258.5,-297 1389.5,-297 1389.5,-365\"/>\r\n",
       "<text text-anchor=\"middle\" x=\"1324\" y=\"-349.8\" font-family=\"Times New Roman,serif\" font-size=\"14.00\">int_rate &lt;= 15.975</text>\r\n",
       "<text text-anchor=\"middle\" x=\"1324\" y=\"-334.8\" font-family=\"Times New Roman,serif\" font-size=\"14.00\">gini = 0.484</text>\r\n",
       "<text text-anchor=\"middle\" x=\"1324\" y=\"-319.8\" font-family=\"Times New Roman,serif\" font-size=\"14.00\">samples = 5726</text>\r\n",
       "<text text-anchor=\"middle\" x=\"1324\" y=\"-304.8\" font-family=\"Times New Roman,serif\" font-size=\"14.00\">value = [2358, 3368]</text>\r\n",
       "</g>\r\n",
       "<!-- 0&#45;&gt;16 -->\r\n",
       "<g id=\"edge16\" class=\"edge\"><title>0&#45;&gt;16</title>\r\n",
       "<path fill=\"none\" stroke=\"black\" d=\"M1119.7,-409.178C1158.72,-394.438 1208.33,-375.696 1248.9,-360.372\"/>\r\n",
       "<polygon fill=\"black\" stroke=\"black\" points=\"1250.35,-363.564 1258.47,-356.756 1247.88,-357.016 1250.35,-363.564\"/>\r\n",
       "<text text-anchor=\"middle\" x=\"1248.18\" y=\"-375.84\" font-family=\"Times New Roman,serif\" font-size=\"14.00\">False</text>\r\n",
       "</g>\r\n",
       "<!-- 2 -->\r\n",
       "<g id=\"node3\" class=\"node\"><title>2</title>\r\n",
       "<polygon fill=\"#e58139\" fill-opacity=\"0.678431\" stroke=\"black\" points=\"475,-261 331,-261 331,-193 475,-193 475,-261\"/>\r\n",
       "<text text-anchor=\"middle\" x=\"403\" y=\"-245.8\" font-family=\"Times New Roman,serif\" font-size=\"14.00\">annual_inc &lt;= 57100.0</text>\r\n",
       "<text text-anchor=\"middle\" x=\"403\" y=\"-230.8\" font-family=\"Times New Roman,serif\" font-size=\"14.00\">gini = 0.367</text>\r\n",
       "<text text-anchor=\"middle\" x=\"403\" y=\"-215.8\" font-family=\"Times New Roman,serif\" font-size=\"14.00\">samples = 1299</text>\r\n",
       "<text text-anchor=\"middle\" x=\"403\" y=\"-200.8\" font-family=\"Times New Roman,serif\" font-size=\"14.00\">value = [984, 315]</text>\r\n",
       "</g>\r\n",
       "<!-- 1&#45;&gt;2 -->\r\n",
       "<g id=\"edge2\" class=\"edge\"><title>1&#45;&gt;2</title>\r\n",
       "<path fill=\"none\" stroke=\"black\" d=\"M717.243,-312.349C652.859,-295.067 554.579,-268.687 485.098,-250.037\"/>\r\n",
       "<polygon fill=\"black\" stroke=\"black\" points=\"485.629,-246.556 475.063,-247.343 483.814,-253.316 485.629,-246.556\"/>\r\n",
       "</g>\r\n",
       "<!-- 9 -->\r\n",
       "<g id=\"node10\" class=\"node\"><title>9</title>\r\n",
       "<polygon fill=\"#e58139\" fill-opacity=\"0.282353\" stroke=\"black\" points=\"855,-261 711,-261 711,-193 855,-193 855,-261\"/>\r\n",
       "<text text-anchor=\"middle\" x=\"783\" y=\"-245.8\" font-family=\"Times New Roman,serif\" font-size=\"14.00\">annual_inc &lt;= 50450.0</text>\r\n",
       "<text text-anchor=\"middle\" x=\"783\" y=\"-230.8\" font-family=\"Times New Roman,serif\" font-size=\"14.00\">gini = 0.487</text>\r\n",
       "<text text-anchor=\"middle\" x=\"783\" y=\"-215.8\" font-family=\"Times New Roman,serif\" font-size=\"14.00\">samples = 2091</text>\r\n",
       "<text text-anchor=\"middle\" x=\"783\" y=\"-200.8\" font-family=\"Times New Roman,serif\" font-size=\"14.00\">value = [1216, 875]</text>\r\n",
       "</g>\r\n",
       "<!-- 1&#45;&gt;9 -->\r\n",
       "<g id=\"edge9\" class=\"edge\"><title>1&#45;&gt;9</title>\r\n",
       "<path fill=\"none\" stroke=\"black\" d=\"M783,-296.884C783,-288.778 783,-279.982 783,-271.472\"/>\r\n",
       "<polygon fill=\"black\" stroke=\"black\" points=\"786.5,-271.299 783,-261.299 779.5,-271.299 786.5,-271.299\"/>\r\n",
       "</g>\r\n",
       "<!-- 3 -->\r\n",
       "<g id=\"node4\" class=\"node\"><title>3</title>\r\n",
       "<polygon fill=\"#e58139\" fill-opacity=\"0.529412\" stroke=\"black\" points=\"274,-157 116,-157 116,-89 274,-89 274,-157\"/>\r\n",
       "<text text-anchor=\"middle\" x=\"195\" y=\"-141.8\" font-family=\"Times New Roman,serif\" font-size=\"14.00\">annual_inc &lt;= 36633.199</text>\r\n",
       "<text text-anchor=\"middle\" x=\"195\" y=\"-126.8\" font-family=\"Times New Roman,serif\" font-size=\"14.00\">gini = 0.435</text>\r\n",
       "<text text-anchor=\"middle\" x=\"195\" y=\"-111.8\" font-family=\"Times New Roman,serif\" font-size=\"14.00\">samples = 687</text>\r\n",
       "<text text-anchor=\"middle\" x=\"195\" y=\"-96.8\" font-family=\"Times New Roman,serif\" font-size=\"14.00\">value = [467, 220]</text>\r\n",
       "</g>\r\n",
       "<!-- 2&#45;&gt;3 -->\r\n",
       "<g id=\"edge3\" class=\"edge\"><title>2&#45;&gt;3</title>\r\n",
       "<path fill=\"none\" stroke=\"black\" d=\"M335.468,-192.884C315.112,-182.901 292.622,-171.872 271.714,-161.619\"/>\r\n",
       "<polygon fill=\"black\" stroke=\"black\" points=\"273.068,-158.385 262.548,-157.125 269.986,-164.67 273.068,-158.385\"/>\r\n",
       "</g>\r\n",
       "<!-- 6 -->\r\n",
       "<g id=\"node7\" class=\"node\"><title>6</title>\r\n",
       "<polygon fill=\"#e58139\" fill-opacity=\"0.815686\" stroke=\"black\" points=\"458.5,-157 347.5,-157 347.5,-89 458.5,-89 458.5,-157\"/>\r\n",
       "<text text-anchor=\"middle\" x=\"403\" y=\"-141.8\" font-family=\"Times New Roman,serif\" font-size=\"14.00\">dti &lt;= 7.795</text>\r\n",
       "<text text-anchor=\"middle\" x=\"403\" y=\"-126.8\" font-family=\"Times New Roman,serif\" font-size=\"14.00\">gini = 0.262</text>\r\n",
       "<text text-anchor=\"middle\" x=\"403\" y=\"-111.8\" font-family=\"Times New Roman,serif\" font-size=\"14.00\">samples = 612</text>\r\n",
       "<text text-anchor=\"middle\" x=\"403\" y=\"-96.8\" font-family=\"Times New Roman,serif\" font-size=\"14.00\">value = [517, 95]</text>\r\n",
       "</g>\r\n",
       "<!-- 2&#45;&gt;6 -->\r\n",
       "<g id=\"edge6\" class=\"edge\"><title>2&#45;&gt;6</title>\r\n",
       "<path fill=\"none\" stroke=\"black\" d=\"M403,-192.884C403,-184.778 403,-175.982 403,-167.472\"/>\r\n",
       "<polygon fill=\"black\" stroke=\"black\" points=\"406.5,-167.299 403,-157.299 399.5,-167.299 406.5,-167.299\"/>\r\n",
       "</g>\r\n",
       "<!-- 4 -->\r\n",
       "<g id=\"node5\" class=\"node\"><title>4</title>\r\n",
       "<polygon fill=\"#e58139\" fill-opacity=\"0.337255\" stroke=\"black\" points=\"118,-53 0,-53 0,-0 118,-0 118,-53\"/>\r\n",
       "<text text-anchor=\"middle\" x=\"59\" y=\"-37.8\" font-family=\"Times New Roman,serif\" font-size=\"14.00\">gini = 0.479</text>\r\n",
       "<text text-anchor=\"middle\" x=\"59\" y=\"-22.8\" font-family=\"Times New Roman,serif\" font-size=\"14.00\">samples = 256</text>\r\n",
       "<text text-anchor=\"middle\" x=\"59\" y=\"-7.8\" font-family=\"Times New Roman,serif\" font-size=\"14.00\">value = [154, 102]</text>\r\n",
       "</g>\r\n",
       "<!-- 3&#45;&gt;4 -->\r\n",
       "<g id=\"edge4\" class=\"edge\"><title>3&#45;&gt;4</title>\r\n",
       "<path fill=\"none\" stroke=\"black\" d=\"M147.434,-88.9485C133.478,-79.2516 118.257,-68.6752 104.438,-59.073\"/>\r\n",
       "<polygon fill=\"black\" stroke=\"black\" points=\"106.248,-56.0687 96.0391,-53.2367 102.254,-61.8172 106.248,-56.0687\"/>\r\n",
       "</g>\r\n",
       "<!-- 5 -->\r\n",
       "<g id=\"node6\" class=\"node\"><title>5</title>\r\n",
       "<polygon fill=\"#e58139\" fill-opacity=\"0.623529\" stroke=\"black\" points=\"254,-53 136,-53 136,-0 254,-0 254,-53\"/>\r\n",
       "<text text-anchor=\"middle\" x=\"195\" y=\"-37.8\" font-family=\"Times New Roman,serif\" font-size=\"14.00\">gini = 0.398</text>\r\n",
       "<text text-anchor=\"middle\" x=\"195\" y=\"-22.8\" font-family=\"Times New Roman,serif\" font-size=\"14.00\">samples = 431</text>\r\n",
       "<text text-anchor=\"middle\" x=\"195\" y=\"-7.8\" font-family=\"Times New Roman,serif\" font-size=\"14.00\">value = [313, 118]</text>\r\n",
       "</g>\r\n",
       "<!-- 3&#45;&gt;5 -->\r\n",
       "<g id=\"edge5\" class=\"edge\"><title>3&#45;&gt;5</title>\r\n",
       "<path fill=\"none\" stroke=\"black\" d=\"M195,-88.9485C195,-80.7153 195,-71.848 195,-63.4814\"/>\r\n",
       "<polygon fill=\"black\" stroke=\"black\" points=\"198.5,-63.2367 195,-53.2367 191.5,-63.2367 198.5,-63.2367\"/>\r\n",
       "</g>\r\n",
       "<!-- 7 -->\r\n",
       "<g id=\"node8\" class=\"node\"><title>7</title>\r\n",
       "<polygon fill=\"#e58139\" fill-opacity=\"0.921569\" stroke=\"black\" points=\"383.5,-53 272.5,-53 272.5,-0 383.5,-0 383.5,-53\"/>\r\n",
       "<text text-anchor=\"middle\" x=\"328\" y=\"-37.8\" font-family=\"Times New Roman,serif\" font-size=\"14.00\">gini = 0.136</text>\r\n",
       "<text text-anchor=\"middle\" x=\"328\" y=\"-22.8\" font-family=\"Times New Roman,serif\" font-size=\"14.00\">samples = 204</text>\r\n",
       "<text text-anchor=\"middle\" x=\"328\" y=\"-7.8\" font-family=\"Times New Roman,serif\" font-size=\"14.00\">value = [189, 15]</text>\r\n",
       "</g>\r\n",
       "<!-- 6&#45;&gt;7 -->\r\n",
       "<g id=\"edge7\" class=\"edge\"><title>6&#45;&gt;7</title>\r\n",
       "<path fill=\"none\" stroke=\"black\" d=\"M376.769,-88.9485C369.654,-79.9834 361.942,-70.2666 354.796,-61.2629\"/>\r\n",
       "<polygon fill=\"black\" stroke=\"black\" points=\"357.384,-58.8938 348.426,-53.2367 351.901,-63.2454 357.384,-58.8938\"/>\r\n",
       "</g>\r\n",
       "<!-- 8 -->\r\n",
       "<g id=\"node9\" class=\"node\"><title>8</title>\r\n",
       "<polygon fill=\"#e58139\" fill-opacity=\"0.756863\" stroke=\"black\" points=\"512.5,-53 401.5,-53 401.5,-0 512.5,-0 512.5,-53\"/>\r\n",
       "<text text-anchor=\"middle\" x=\"457\" y=\"-37.8\" font-family=\"Times New Roman,serif\" font-size=\"14.00\">gini = 0.315</text>\r\n",
       "<text text-anchor=\"middle\" x=\"457\" y=\"-22.8\" font-family=\"Times New Roman,serif\" font-size=\"14.00\">samples = 408</text>\r\n",
       "<text text-anchor=\"middle\" x=\"457\" y=\"-7.8\" font-family=\"Times New Roman,serif\" font-size=\"14.00\">value = [328, 80]</text>\r\n",
       "</g>\r\n",
       "<!-- 6&#45;&gt;8 -->\r\n",
       "<g id=\"edge8\" class=\"edge\"><title>6&#45;&gt;8</title>\r\n",
       "<path fill=\"none\" stroke=\"black\" d=\"M421.887,-88.9485C426.853,-80.2579 432.222,-70.8608 437.233,-62.0917\"/>\r\n",
       "<polygon fill=\"black\" stroke=\"black\" points=\"440.371,-63.6557 442.293,-53.2367 434.293,-60.1826 440.371,-63.6557\"/>\r\n",
       "</g>\r\n",
       "<!-- 10 -->\r\n",
       "<g id=\"node11\" class=\"node\"><title>10</title>\r\n",
       "<polygon fill=\"#e58139\" fill-opacity=\"0.058824\" stroke=\"black\" points=\"774,-157 656,-157 656,-89 774,-89 774,-157\"/>\r\n",
       "<text text-anchor=\"middle\" x=\"715\" y=\"-141.8\" font-family=\"Times New Roman,serif\" font-size=\"14.00\">dti &lt;= 23.56</text>\r\n",
       "<text text-anchor=\"middle\" x=\"715\" y=\"-126.8\" font-family=\"Times New Roman,serif\" font-size=\"14.00\">gini = 0.5</text>\r\n",
       "<text text-anchor=\"middle\" x=\"715\" y=\"-111.8\" font-family=\"Times New Roman,serif\" font-size=\"14.00\">samples = 942</text>\r\n",
       "<text text-anchor=\"middle\" x=\"715\" y=\"-96.8\" font-family=\"Times New Roman,serif\" font-size=\"14.00\">value = [485, 457]</text>\r\n",
       "</g>\r\n",
       "<!-- 9&#45;&gt;10 -->\r\n",
       "<g id=\"edge10\" class=\"edge\"><title>9&#45;&gt;10</title>\r\n",
       "<path fill=\"none\" stroke=\"black\" d=\"M760.922,-192.884C755.162,-184.243 748.879,-174.819 742.862,-165.793\"/>\r\n",
       "<polygon fill=\"black\" stroke=\"black\" points=\"745.659,-163.678 737.2,-157.299 739.834,-167.561 745.659,-163.678\"/>\r\n",
       "</g>\r\n",
       "<!-- 13 -->\r\n",
       "<g id=\"node14\" class=\"node\"><title>13</title>\r\n",
       "<polygon fill=\"#e58139\" fill-opacity=\"0.427451\" stroke=\"black\" points=\"910,-157 792,-157 792,-89 910,-89 910,-157\"/>\r\n",
       "<text text-anchor=\"middle\" x=\"851\" y=\"-141.8\" font-family=\"Times New Roman,serif\" font-size=\"14.00\">dti &lt;= 12.285</text>\r\n",
       "<text text-anchor=\"middle\" x=\"851\" y=\"-126.8\" font-family=\"Times New Roman,serif\" font-size=\"14.00\">gini = 0.463</text>\r\n",
       "<text text-anchor=\"middle\" x=\"851\" y=\"-111.8\" font-family=\"Times New Roman,serif\" font-size=\"14.00\">samples = 1149</text>\r\n",
       "<text text-anchor=\"middle\" x=\"851\" y=\"-96.8\" font-family=\"Times New Roman,serif\" font-size=\"14.00\">value = [731, 418]</text>\r\n",
       "</g>\r\n",
       "<!-- 9&#45;&gt;13 -->\r\n",
       "<g id=\"edge13\" class=\"edge\"><title>9&#45;&gt;13</title>\r\n",
       "<path fill=\"none\" stroke=\"black\" d=\"M805.078,-192.884C810.838,-184.243 817.121,-174.819 823.138,-165.793\"/>\r\n",
       "<polygon fill=\"black\" stroke=\"black\" points=\"826.166,-167.561 828.8,-157.299 820.341,-163.678 826.166,-167.561\"/>\r\n",
       "</g>\r\n",
       "<!-- 11 -->\r\n",
       "<g id=\"node12\" class=\"node\"><title>11</title>\r\n",
       "<polygon fill=\"#e58139\" fill-opacity=\"0.011765\" stroke=\"black\" points=\"649,-53 531,-53 531,-0 649,-0 649,-53\"/>\r\n",
       "<text text-anchor=\"middle\" x=\"590\" y=\"-37.8\" font-family=\"Times New Roman,serif\" font-size=\"14.00\">gini = 0.5</text>\r\n",
       "<text text-anchor=\"middle\" x=\"590\" y=\"-22.8\" font-family=\"Times New Roman,serif\" font-size=\"14.00\">samples = 878</text>\r\n",
       "<text text-anchor=\"middle\" x=\"590\" y=\"-7.8\" font-family=\"Times New Roman,serif\" font-size=\"14.00\">value = [442, 436]</text>\r\n",
       "</g>\r\n",
       "<!-- 10&#45;&gt;11 -->\r\n",
       "<g id=\"edge11\" class=\"edge\"><title>10&#45;&gt;11</title>\r\n",
       "<path fill=\"none\" stroke=\"black\" d=\"M671.281,-88.9485C658.576,-79.3431 644.728,-68.8747 632.123,-59.345\"/>\r\n",
       "<polygon fill=\"black\" stroke=\"black\" points=\"634.131,-56.4754 624.043,-53.2367 629.91,-62.0593 634.131,-56.4754\"/>\r\n",
       "</g>\r\n",
       "<!-- 12 -->\r\n",
       "<g id=\"node13\" class=\"node\"><title>12</title>\r\n",
       "<polygon fill=\"#e58139\" fill-opacity=\"0.509804\" stroke=\"black\" points=\"771,-53 667,-53 667,-0 771,-0 771,-53\"/>\r\n",
       "<text text-anchor=\"middle\" x=\"719\" y=\"-37.8\" font-family=\"Times New Roman,serif\" font-size=\"14.00\">gini = 0.441</text>\r\n",
       "<text text-anchor=\"middle\" x=\"719\" y=\"-22.8\" font-family=\"Times New Roman,serif\" font-size=\"14.00\">samples = 64</text>\r\n",
       "<text text-anchor=\"middle\" x=\"719\" y=\"-7.8\" font-family=\"Times New Roman,serif\" font-size=\"14.00\">value = [43, 21]</text>\r\n",
       "</g>\r\n",
       "<!-- 10&#45;&gt;12 -->\r\n",
       "<g id=\"edge12\" class=\"edge\"><title>10&#45;&gt;12</title>\r\n",
       "<path fill=\"none\" stroke=\"black\" d=\"M716.399,-88.9485C716.748,-80.7153 717.123,-71.848 717.477,-63.4814\"/>\r\n",
       "<polygon fill=\"black\" stroke=\"black\" points=\"720.984,-63.3758 717.911,-53.2367 713.991,-63.0797 720.984,-63.3758\"/>\r\n",
       "</g>\r\n",
       "<!-- 14 -->\r\n",
       "<g id=\"node15\" class=\"node\"><title>14</title>\r\n",
       "<polygon fill=\"#e58139\" fill-opacity=\"0.537255\" stroke=\"black\" points=\"907,-53 789,-53 789,-0 907,-0 907,-53\"/>\r\n",
       "<text text-anchor=\"middle\" x=\"848\" y=\"-37.8\" font-family=\"Times New Roman,serif\" font-size=\"14.00\">gini = 0.432</text>\r\n",
       "<text text-anchor=\"middle\" x=\"848\" y=\"-22.8\" font-family=\"Times New Roman,serif\" font-size=\"14.00\">samples = 583</text>\r\n",
       "<text text-anchor=\"middle\" x=\"848\" y=\"-7.8\" font-family=\"Times New Roman,serif\" font-size=\"14.00\">value = [399, 184]</text>\r\n",
       "</g>\r\n",
       "<!-- 13&#45;&gt;14 -->\r\n",
       "<g id=\"edge14\" class=\"edge\"><title>13&#45;&gt;14</title>\r\n",
       "<path fill=\"none\" stroke=\"black\" d=\"M849.951,-88.9485C849.689,-80.7153 849.408,-71.848 849.142,-63.4814\"/>\r\n",
       "<polygon fill=\"black\" stroke=\"black\" points=\"852.633,-63.1206 848.817,-53.2367 845.636,-63.3428 852.633,-63.1206\"/>\r\n",
       "</g>\r\n",
       "<!-- 15 -->\r\n",
       "<g id=\"node16\" class=\"node\"><title>15</title>\r\n",
       "<polygon fill=\"#e58139\" fill-opacity=\"0.294118\" stroke=\"black\" points=\"1043,-53 925,-53 925,-0 1043,-0 1043,-53\"/>\r\n",
       "<text text-anchor=\"middle\" x=\"984\" y=\"-37.8\" font-family=\"Times New Roman,serif\" font-size=\"14.00\">gini = 0.485</text>\r\n",
       "<text text-anchor=\"middle\" x=\"984\" y=\"-22.8\" font-family=\"Times New Roman,serif\" font-size=\"14.00\">samples = 566</text>\r\n",
       "<text text-anchor=\"middle\" x=\"984\" y=\"-7.8\" font-family=\"Times New Roman,serif\" font-size=\"14.00\">value = [332, 234]</text>\r\n",
       "</g>\r\n",
       "<!-- 13&#45;&gt;15 -->\r\n",
       "<g id=\"edge15\" class=\"edge\"><title>13&#45;&gt;15</title>\r\n",
       "<path fill=\"none\" stroke=\"black\" d=\"M897.517,-88.9485C911.164,-79.2516 926.05,-68.6752 939.564,-59.073\"/>\r\n",
       "<polygon fill=\"black\" stroke=\"black\" points=\"941.653,-61.882 947.778,-53.2367 937.599,-56.1757 941.653,-61.882\"/>\r\n",
       "</g>\r\n",
       "<!-- 17 -->\r\n",
       "<g id=\"node18\" class=\"node\"><title>17</title>\r\n",
       "<polygon fill=\"#399de5\" fill-opacity=\"0.141176\" stroke=\"black\" points=\"1396,-261 1252,-261 1252,-193 1396,-193 1396,-261\"/>\r\n",
       "<text text-anchor=\"middle\" x=\"1324\" y=\"-245.8\" font-family=\"Times New Roman,serif\" font-size=\"14.00\">annual_inc &lt;= 66502.0</text>\r\n",
       "<text text-anchor=\"middle\" x=\"1324\" y=\"-230.8\" font-family=\"Times New Roman,serif\" font-size=\"14.00\">gini = 0.497</text>\r\n",
       "<text text-anchor=\"middle\" x=\"1324\" y=\"-215.8\" font-family=\"Times New Roman,serif\" font-size=\"14.00\">samples = 3752</text>\r\n",
       "<text text-anchor=\"middle\" x=\"1324\" y=\"-200.8\" font-family=\"Times New Roman,serif\" font-size=\"14.00\">value = [1735, 2017]</text>\r\n",
       "</g>\r\n",
       "<!-- 16&#45;&gt;17 -->\r\n",
       "<g id=\"edge17\" class=\"edge\"><title>16&#45;&gt;17</title>\r\n",
       "<path fill=\"none\" stroke=\"black\" d=\"M1324,-296.884C1324,-288.778 1324,-279.982 1324,-271.472\"/>\r\n",
       "<polygon fill=\"black\" stroke=\"black\" points=\"1327.5,-271.299 1324,-261.299 1320.5,-271.299 1327.5,-271.299\"/>\r\n",
       "</g>\r\n",
       "<!-- 24 -->\r\n",
       "<g id=\"node25\" class=\"node\"><title>24</title>\r\n",
       "<polygon fill=\"#399de5\" fill-opacity=\"0.537255\" stroke=\"black\" points=\"1780.5,-261 1655.5,-261 1655.5,-193 1780.5,-193 1780.5,-261\"/>\r\n",
       "<text text-anchor=\"middle\" x=\"1718\" y=\"-245.8\" font-family=\"Times New Roman,serif\" font-size=\"14.00\">term &lt;= 48.0</text>\r\n",
       "<text text-anchor=\"middle\" x=\"1718\" y=\"-230.8\" font-family=\"Times New Roman,serif\" font-size=\"14.00\">gini = 0.432</text>\r\n",
       "<text text-anchor=\"middle\" x=\"1718\" y=\"-215.8\" font-family=\"Times New Roman,serif\" font-size=\"14.00\">samples = 1974</text>\r\n",
       "<text text-anchor=\"middle\" x=\"1718\" y=\"-200.8\" font-family=\"Times New Roman,serif\" font-size=\"14.00\">value = [623, 1351]</text>\r\n",
       "</g>\r\n",
       "<!-- 16&#45;&gt;24 -->\r\n",
       "<g id=\"edge24\" class=\"edge\"><title>16&#45;&gt;24</title>\r\n",
       "<path fill=\"none\" stroke=\"black\" d=\"M1389.5,-313.042C1460.04,-294.782 1571.96,-265.807 1645.2,-246.846\"/>\r\n",
       "<polygon fill=\"black\" stroke=\"black\" points=\"1646.47,-250.134 1655.27,-244.239 1644.71,-243.357 1646.47,-250.134\"/>\r\n",
       "</g>\r\n",
       "<!-- 18 -->\r\n",
       "<g id=\"node19\" class=\"node\"><title>18</title>\r\n",
       "<polygon fill=\"#399de5\" fill-opacity=\"0.305882\" stroke=\"black\" points=\"1316.5,-157 1191.5,-157 1191.5,-89 1316.5,-89 1316.5,-157\"/>\r\n",
       "<text text-anchor=\"middle\" x=\"1254\" y=\"-141.8\" font-family=\"Times New Roman,serif\" font-size=\"14.00\">term &lt;= 48.0</text>\r\n",
       "<text text-anchor=\"middle\" x=\"1254\" y=\"-126.8\" font-family=\"Times New Roman,serif\" font-size=\"14.00\">gini = 0.484</text>\r\n",
       "<text text-anchor=\"middle\" x=\"1254\" y=\"-111.8\" font-family=\"Times New Roman,serif\" font-size=\"14.00\">samples = 2419</text>\r\n",
       "<text text-anchor=\"middle\" x=\"1254\" y=\"-96.8\" font-family=\"Times New Roman,serif\" font-size=\"14.00\">value = [991, 1428]</text>\r\n",
       "</g>\r\n",
       "<!-- 17&#45;&gt;18 -->\r\n",
       "<g id=\"edge18\" class=\"edge\"><title>17&#45;&gt;18</title>\r\n",
       "<path fill=\"none\" stroke=\"black\" d=\"M1301.27,-192.884C1295.34,-184.243 1288.88,-174.819 1282.68,-165.793\"/>\r\n",
       "<polygon fill=\"black\" stroke=\"black\" points=\"1285.4,-163.564 1276.85,-157.299 1279.63,-167.525 1285.4,-163.564\"/>\r\n",
       "</g>\r\n",
       "<!-- 21 -->\r\n",
       "<g id=\"node22\" class=\"node\"><title>21</title>\r\n",
       "<polygon fill=\"#e58139\" fill-opacity=\"0.207843\" stroke=\"black\" points=\"1453.5,-157 1334.5,-157 1334.5,-89 1453.5,-89 1453.5,-157\"/>\r\n",
       "<text text-anchor=\"middle\" x=\"1394\" y=\"-141.8\" font-family=\"Times New Roman,serif\" font-size=\"14.00\">int_rate &lt;= 13.735</text>\r\n",
       "<text text-anchor=\"middle\" x=\"1394\" y=\"-126.8\" font-family=\"Times New Roman,serif\" font-size=\"14.00\">gini = 0.493</text>\r\n",
       "<text text-anchor=\"middle\" x=\"1394\" y=\"-111.8\" font-family=\"Times New Roman,serif\" font-size=\"14.00\">samples = 1333</text>\r\n",
       "<text text-anchor=\"middle\" x=\"1394\" y=\"-96.8\" font-family=\"Times New Roman,serif\" font-size=\"14.00\">value = [744, 589]</text>\r\n",
       "</g>\r\n",
       "<!-- 17&#45;&gt;21 -->\r\n",
       "<g id=\"edge21\" class=\"edge\"><title>17&#45;&gt;21</title>\r\n",
       "<path fill=\"none\" stroke=\"black\" d=\"M1346.73,-192.884C1352.66,-184.243 1359.12,-174.819 1365.32,-165.793\"/>\r\n",
       "<polygon fill=\"black\" stroke=\"black\" points=\"1368.37,-167.525 1371.15,-157.299 1362.6,-163.564 1368.37,-167.525\"/>\r\n",
       "</g>\r\n",
       "<!-- 19 -->\r\n",
       "<g id=\"node20\" class=\"node\"><title>19</title>\r\n",
       "<polygon fill=\"#399de5\" fill-opacity=\"0.200000\" stroke=\"black\" points=\"1179,-53 1061,-53 1061,-0 1179,-0 1179,-53\"/>\r\n",
       "<text text-anchor=\"middle\" x=\"1120\" y=\"-37.8\" font-family=\"Times New Roman,serif\" font-size=\"14.00\">gini = 0.494</text>\r\n",
       "<text text-anchor=\"middle\" x=\"1120\" y=\"-22.8\" font-family=\"Times New Roman,serif\" font-size=\"14.00\">samples = 1686</text>\r\n",
       "<text text-anchor=\"middle\" x=\"1120\" y=\"-7.8\" font-family=\"Times New Roman,serif\" font-size=\"14.00\">value = [750, 936]</text>\r\n",
       "</g>\r\n",
       "<!-- 18&#45;&gt;19 -->\r\n",
       "<g id=\"edge19\" class=\"edge\"><title>18&#45;&gt;19</title>\r\n",
       "<path fill=\"none\" stroke=\"black\" d=\"M1207.13,-88.9485C1193.38,-79.2516 1178.39,-68.6752 1164.77,-59.073\"/>\r\n",
       "<polygon fill=\"black\" stroke=\"black\" points=\"1166.68,-56.1397 1156.49,-53.2367 1162.65,-61.8603 1166.68,-56.1397\"/>\r\n",
       "</g>\r\n",
       "<!-- 20 -->\r\n",
       "<g id=\"node21\" class=\"node\"><title>20</title>\r\n",
       "<polygon fill=\"#399de5\" fill-opacity=\"0.509804\" stroke=\"black\" points=\"1315,-53 1197,-53 1197,-0 1315,-0 1315,-53\"/>\r\n",
       "<text text-anchor=\"middle\" x=\"1256\" y=\"-37.8\" font-family=\"Times New Roman,serif\" font-size=\"14.00\">gini = 0.441</text>\r\n",
       "<text text-anchor=\"middle\" x=\"1256\" y=\"-22.8\" font-family=\"Times New Roman,serif\" font-size=\"14.00\">samples = 733</text>\r\n",
       "<text text-anchor=\"middle\" x=\"1256\" y=\"-7.8\" font-family=\"Times New Roman,serif\" font-size=\"14.00\">value = [241, 492]</text>\r\n",
       "</g>\r\n",
       "<!-- 18&#45;&gt;20 -->\r\n",
       "<g id=\"edge20\" class=\"edge\"><title>18&#45;&gt;20</title>\r\n",
       "<path fill=\"none\" stroke=\"black\" d=\"M1254.7,-88.9485C1254.87,-80.7153 1255.06,-71.848 1255.24,-63.4814\"/>\r\n",
       "<polygon fill=\"black\" stroke=\"black\" points=\"1258.74,-63.3086 1255.46,-53.2367 1251.74,-63.1604 1258.74,-63.3086\"/>\r\n",
       "</g>\r\n",
       "<!-- 22 -->\r\n",
       "<g id=\"node23\" class=\"node\"><title>22</title>\r\n",
       "<polygon fill=\"#e58139\" fill-opacity=\"0.356863\" stroke=\"black\" points=\"1451,-53 1333,-53 1333,-0 1451,-0 1451,-53\"/>\r\n",
       "<text text-anchor=\"middle\" x=\"1392\" y=\"-37.8\" font-family=\"Times New Roman,serif\" font-size=\"14.00\">gini = 0.476</text>\r\n",
       "<text text-anchor=\"middle\" x=\"1392\" y=\"-22.8\" font-family=\"Times New Roman,serif\" font-size=\"14.00\">samples = 800</text>\r\n",
       "<text text-anchor=\"middle\" x=\"1392\" y=\"-7.8\" font-family=\"Times New Roman,serif\" font-size=\"14.00\">value = [487, 313]</text>\r\n",
       "</g>\r\n",
       "<!-- 21&#45;&gt;22 -->\r\n",
       "<g id=\"edge22\" class=\"edge\"><title>21&#45;&gt;22</title>\r\n",
       "<path fill=\"none\" stroke=\"black\" d=\"M1393.3,-88.9485C1393.13,-80.7153 1392.94,-71.848 1392.76,-63.4814\"/>\r\n",
       "<polygon fill=\"black\" stroke=\"black\" points=\"1396.26,-63.1604 1392.54,-53.2367 1389.26,-63.3086 1396.26,-63.1604\"/>\r\n",
       "</g>\r\n",
       "<!-- 23 -->\r\n",
       "<g id=\"node24\" class=\"node\"><title>23</title>\r\n",
       "<polygon fill=\"#399de5\" fill-opacity=\"0.070588\" stroke=\"black\" points=\"1587,-53 1469,-53 1469,-0 1587,-0 1587,-53\"/>\r\n",
       "<text text-anchor=\"middle\" x=\"1528\" y=\"-37.8\" font-family=\"Times New Roman,serif\" font-size=\"14.00\">gini = 0.499</text>\r\n",
       "<text text-anchor=\"middle\" x=\"1528\" y=\"-22.8\" font-family=\"Times New Roman,serif\" font-size=\"14.00\">samples = 533</text>\r\n",
       "<text text-anchor=\"middle\" x=\"1528\" y=\"-7.8\" font-family=\"Times New Roman,serif\" font-size=\"14.00\">value = [257, 276]</text>\r\n",
       "</g>\r\n",
       "<!-- 21&#45;&gt;23 -->\r\n",
       "<g id=\"edge23\" class=\"edge\"><title>21&#45;&gt;23</title>\r\n",
       "<path fill=\"none\" stroke=\"black\" d=\"M1440.87,-88.9485C1454.62,-79.2516 1469.61,-68.6752 1483.23,-59.073\"/>\r\n",
       "<polygon fill=\"black\" stroke=\"black\" points=\"1485.35,-61.8603 1491.51,-53.2367 1481.32,-56.1397 1485.35,-61.8603\"/>\r\n",
       "</g>\r\n",
       "<!-- 25 -->\r\n",
       "<g id=\"node26\" class=\"node\"><title>25</title>\r\n",
       "<polygon fill=\"#399de5\" fill-opacity=\"0.345098\" stroke=\"black\" points=\"1777,-157 1659,-157 1659,-89 1777,-89 1777,-157\"/>\r\n",
       "<text text-anchor=\"middle\" x=\"1718\" y=\"-141.8\" font-family=\"Times New Roman,serif\" font-size=\"14.00\">grade &lt;= 5.5</text>\r\n",
       "<text text-anchor=\"middle\" x=\"1718\" y=\"-126.8\" font-family=\"Times New Roman,serif\" font-size=\"14.00\">gini = 0.478</text>\r\n",
       "<text text-anchor=\"middle\" x=\"1718\" y=\"-111.8\" font-family=\"Times New Roman,serif\" font-size=\"14.00\">samples = 529</text>\r\n",
       "<text text-anchor=\"middle\" x=\"1718\" y=\"-96.8\" font-family=\"Times New Roman,serif\" font-size=\"14.00\">value = [209, 320]</text>\r\n",
       "</g>\r\n",
       "<!-- 24&#45;&gt;25 -->\r\n",
       "<g id=\"edge25\" class=\"edge\"><title>24&#45;&gt;25</title>\r\n",
       "<path fill=\"none\" stroke=\"black\" d=\"M1718,-192.884C1718,-184.778 1718,-175.982 1718,-167.472\"/>\r\n",
       "<polygon fill=\"black\" stroke=\"black\" points=\"1721.5,-167.299 1718,-157.299 1714.5,-167.299 1721.5,-167.299\"/>\r\n",
       "</g>\r\n",
       "<!-- 28 -->\r\n",
       "<g id=\"node29\" class=\"node\"><title>28</title>\r\n",
       "<polygon fill=\"#399de5\" fill-opacity=\"0.600000\" stroke=\"black\" points=\"1994,-157 1850,-157 1850,-89 1994,-89 1994,-157\"/>\r\n",
       "<text text-anchor=\"middle\" x=\"1922\" y=\"-141.8\" font-family=\"Times New Roman,serif\" font-size=\"14.00\">annual_inc &lt;= 67828.0</text>\r\n",
       "<text text-anchor=\"middle\" x=\"1922\" y=\"-126.8\" font-family=\"Times New Roman,serif\" font-size=\"14.00\">gini = 0.409</text>\r\n",
       "<text text-anchor=\"middle\" x=\"1922\" y=\"-111.8\" font-family=\"Times New Roman,serif\" font-size=\"14.00\">samples = 1445</text>\r\n",
       "<text text-anchor=\"middle\" x=\"1922\" y=\"-96.8\" font-family=\"Times New Roman,serif\" font-size=\"14.00\">value = [414, 1031]</text>\r\n",
       "</g>\r\n",
       "<!-- 24&#45;&gt;28 -->\r\n",
       "<g id=\"edge28\" class=\"edge\"><title>24&#45;&gt;28</title>\r\n",
       "<path fill=\"none\" stroke=\"black\" d=\"M1780.59,-194.703C1801.5,-184.25 1825.02,-172.492 1846.78,-161.609\"/>\r\n",
       "<polygon fill=\"black\" stroke=\"black\" points=\"1848.61,-164.608 1855.99,-157.005 1845.48,-158.347 1848.61,-164.608\"/>\r\n",
       "</g>\r\n",
       "<!-- 26 -->\r\n",
       "<g id=\"node27\" class=\"node\"><title>26</title>\r\n",
       "<polygon fill=\"#399de5\" fill-opacity=\"0.270588\" stroke=\"black\" points=\"1723,-53 1605,-53 1605,-0 1723,-0 1723,-53\"/>\r\n",
       "<text text-anchor=\"middle\" x=\"1664\" y=\"-37.8\" font-family=\"Times New Roman,serif\" font-size=\"14.00\">gini = 0.488</text>\r\n",
       "<text text-anchor=\"middle\" x=\"1664\" y=\"-22.8\" font-family=\"Times New Roman,serif\" font-size=\"14.00\">samples = 448</text>\r\n",
       "<text text-anchor=\"middle\" x=\"1664\" y=\"-7.8\" font-family=\"Times New Roman,serif\" font-size=\"14.00\">value = [189, 259]</text>\r\n",
       "</g>\r\n",
       "<!-- 25&#45;&gt;26 -->\r\n",
       "<g id=\"edge26\" class=\"edge\"><title>25&#45;&gt;26</title>\r\n",
       "<path fill=\"none\" stroke=\"black\" d=\"M1699.11,-88.9485C1694.15,-80.2579 1688.78,-70.8608 1683.77,-62.0917\"/>\r\n",
       "<polygon fill=\"black\" stroke=\"black\" points=\"1686.71,-60.1826 1678.71,-53.2367 1680.63,-63.6557 1686.71,-60.1826\"/>\r\n",
       "</g>\r\n",
       "<!-- 27 -->\r\n",
       "<g id=\"node28\" class=\"node\"><title>27</title>\r\n",
       "<polygon fill=\"#399de5\" fill-opacity=\"0.670588\" stroke=\"black\" points=\"1845,-53 1741,-53 1741,-0 1845,-0 1845,-53\"/>\r\n",
       "<text text-anchor=\"middle\" x=\"1793\" y=\"-37.8\" font-family=\"Times New Roman,serif\" font-size=\"14.00\">gini = 0.372</text>\r\n",
       "<text text-anchor=\"middle\" x=\"1793\" y=\"-22.8\" font-family=\"Times New Roman,serif\" font-size=\"14.00\">samples = 81</text>\r\n",
       "<text text-anchor=\"middle\" x=\"1793\" y=\"-7.8\" font-family=\"Times New Roman,serif\" font-size=\"14.00\">value = [20, 61]</text>\r\n",
       "</g>\r\n",
       "<!-- 25&#45;&gt;27 -->\r\n",
       "<g id=\"edge27\" class=\"edge\"><title>25&#45;&gt;27</title>\r\n",
       "<path fill=\"none\" stroke=\"black\" d=\"M1744.23,-88.9485C1751.35,-79.9834 1759.06,-70.2666 1766.2,-61.2629\"/>\r\n",
       "<polygon fill=\"black\" stroke=\"black\" points=\"1769.1,-63.2454 1772.57,-53.2367 1763.62,-58.8938 1769.1,-63.2454\"/>\r\n",
       "</g>\r\n",
       "<!-- 29 -->\r\n",
       "<g id=\"node30\" class=\"node\"><title>29</title>\r\n",
       "<polygon fill=\"#399de5\" fill-opacity=\"0.682353\" stroke=\"black\" points=\"1981,-53 1863,-53 1863,-0 1981,-0 1981,-53\"/>\r\n",
       "<text text-anchor=\"middle\" x=\"1922\" y=\"-37.8\" font-family=\"Times New Roman,serif\" font-size=\"14.00\">gini = 0.367</text>\r\n",
       "<text text-anchor=\"middle\" x=\"1922\" y=\"-22.8\" font-family=\"Times New Roman,serif\" font-size=\"14.00\">samples = 811</text>\r\n",
       "<text text-anchor=\"middle\" x=\"1922\" y=\"-7.8\" font-family=\"Times New Roman,serif\" font-size=\"14.00\">value = [196, 615]</text>\r\n",
       "</g>\r\n",
       "<!-- 28&#45;&gt;29 -->\r\n",
       "<g id=\"edge29\" class=\"edge\"><title>28&#45;&gt;29</title>\r\n",
       "<path fill=\"none\" stroke=\"black\" d=\"M1922,-88.9485C1922,-80.7153 1922,-71.848 1922,-63.4814\"/>\r\n",
       "<polygon fill=\"black\" stroke=\"black\" points=\"1925.5,-63.2367 1922,-53.2367 1918.5,-63.2367 1925.5,-63.2367\"/>\r\n",
       "</g>\r\n",
       "<!-- 30 -->\r\n",
       "<g id=\"node31\" class=\"node\"><title>30</title>\r\n",
       "<polygon fill=\"#399de5\" fill-opacity=\"0.474510\" stroke=\"black\" points=\"2117,-53 1999,-53 1999,-0 2117,-0 2117,-53\"/>\r\n",
       "<text text-anchor=\"middle\" x=\"2058\" y=\"-37.8\" font-family=\"Times New Roman,serif\" font-size=\"14.00\">gini = 0.451</text>\r\n",
       "<text text-anchor=\"middle\" x=\"2058\" y=\"-22.8\" font-family=\"Times New Roman,serif\" font-size=\"14.00\">samples = 634</text>\r\n",
       "<text text-anchor=\"middle\" x=\"2058\" y=\"-7.8\" font-family=\"Times New Roman,serif\" font-size=\"14.00\">value = [218, 416]</text>\r\n",
       "</g>\r\n",
       "<!-- 28&#45;&gt;30 -->\r\n",
       "<g id=\"edge30\" class=\"edge\"><title>28&#45;&gt;30</title>\r\n",
       "<path fill=\"none\" stroke=\"black\" d=\"M1969.57,-88.9485C1983.52,-79.2516 1998.74,-68.6752 2012.56,-59.073\"/>\r\n",
       "<polygon fill=\"black\" stroke=\"black\" points=\"2014.75,-61.8172 2020.96,-53.2367 2010.75,-56.0687 2014.75,-61.8172\"/>\r\n",
       "</g>\r\n",
       "</g>\r\n",
       "</svg>\r\n"
      ],
      "text/plain": [
       "<graphviz.files.Source at 0xb2d7b38>"
      ]
     },
     "execution_count": 46,
     "metadata": {},
     "output_type": "execute_result"
    }
   ],
   "source": [
    "import graphviz \n",
    "dot_data = tree.export_graphviz(treemodel,\n",
    "                                feature_names=x_cols,\n",
    "                                out_file=None,\n",
    "                                filled=True)\n",
    "graph = graphviz.Source(dot_data) \n",
    "graph"
   ]
  },
  {
   "cell_type": "markdown",
   "metadata": {},
   "source": [
    "### Exercise: Use predicted probabilities with a different threshold\n",
    "\n",
    "* Use the vectors of predicted default probabilities with a different decision cutoff threshold than 0.5 to make prediction. Change the threshold so that we identify more defaulted loans.\n",
    "* What effect would this have of False Positives?\n",
    "* Create a confusion matrix for all three new predictions and see how they changed compared to the first runs.\n",
    "\n",
    "`Hint: use the probabilities in prob_lr0_test, prob_lr1_test, prob_tree_test, create new vectors of the same size with 0/1 values based on the decision threshold you choose.`"
   ]
  },
  {
   "cell_type": "code",
   "execution_count": null,
   "metadata": {
    "collapsed": true
   },
   "outputs": [],
   "source": []
  },
  {
   "cell_type": "markdown",
   "metadata": {},
   "source": [
    "### Exercise: Vary the max depth of the tree from 1 to 10\n",
    "* Create a series of decision trees with max depths from 1 to 10.\n",
    "* For each tree calculate the AUC value for both the train and test set. Store the train AUC values in a vector called `train_auc` and the test AUC values in a vector called `test_auc`.\n",
    "* Plot the two curves and check the results.\n",
    "\n",
    "\n",
    "`Hint: use a for loop where in each iteration you very the max depth`"
   ]
  },
  {
   "cell_type": "code",
   "execution_count": null,
   "metadata": {
    "collapsed": true
   },
   "outputs": [],
   "source": []
  },
  {
   "cell_type": "markdown",
   "metadata": {},
   "source": [
    "## Calculate capital"
   ]
  },
  {
   "cell_type": "code",
   "execution_count": 103,
   "metadata": {
    "collapsed": true
   },
   "outputs": [],
   "source": [
    "def capital(a,d,pd):    \n",
    "    if pd <= a:\n",
    "        return 20\n",
    "    elif pd >= d:\n",
    "        return 1250\n",
    "    else:\n",
    "        return 20 + (1250 - 20) * ((p-a) / (d-a))"
   ]
  },
  {
   "cell_type": "code",
   "execution_count": 111,
   "metadata": {},
   "outputs": [
    {
     "data": {
      "text/plain": [
       "20.00205"
      ]
     },
     "execution_count": 111,
     "metadata": {},
     "output_type": "execute_result"
    }
   ],
   "source": [
    "a = 0.2\n",
    "d = 0.8\n",
    "p = 0.200001\n",
    "capital(a,d,p)"
   ]
  },
  {
   "cell_type": "code",
   "execution_count": 73,
   "metadata": {},
   "outputs": [
    {
     "data": {
      "text/plain": [
       "0.6000000000000001"
      ]
     },
     "execution_count": 73,
     "metadata": {},
     "output_type": "execute_result"
    }
   ],
   "source": [
    "d-a"
   ]
  },
  {
   "cell_type": "code",
   "execution_count": null,
   "metadata": {
    "collapsed": true
   },
   "outputs": [],
   "source": []
  }
 ],
 "metadata": {
  "kernelspec": {
   "display_name": "Python 3",
   "language": "python",
   "name": "python3"
  },
  "language_info": {
   "codemirror_mode": {
    "name": "ipython",
    "version": 3
   },
   "file_extension": ".py",
   "mimetype": "text/x-python",
   "name": "python",
   "nbconvert_exporter": "python",
   "pygments_lexer": "ipython3",
   "version": "3.6.2"
  },
  "toc": {
   "nav_menu": {},
   "number_sections": true,
   "sideBar": true,
   "skip_h1_title": true,
   "title_cell": "Table of Contents",
   "title_sidebar": "Contents",
   "toc_cell": true,
   "toc_position": {
    "height": "1634px",
    "left": "484px",
    "top": "377.5px",
    "width": "322px"
   },
   "toc_section_display": true,
   "toc_window_display": true
  },
  "varInspector": {
   "cols": {
    "lenName": 16,
    "lenType": 16,
    "lenVar": 40
   },
   "kernels_config": {
    "python": {
     "delete_cmd_postfix": "",
     "delete_cmd_prefix": "del ",
     "library": "var_list.py",
     "varRefreshCmd": "print(var_dic_list())"
    },
    "r": {
     "delete_cmd_postfix": ") ",
     "delete_cmd_prefix": "rm(",
     "library": "var_list.r",
     "varRefreshCmd": "cat(var_dic_list()) "
    }
   },
   "types_to_exclude": [
    "module",
    "function",
    "builtin_function_or_method",
    "instance",
    "_Feature"
   ],
   "window_display": false
  }
 },
 "nbformat": 4,
 "nbformat_minor": 2
}
