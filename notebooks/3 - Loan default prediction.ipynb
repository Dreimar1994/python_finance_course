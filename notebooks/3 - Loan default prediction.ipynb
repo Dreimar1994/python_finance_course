{
 "cells": [
  {
   "cell_type": "markdown",
   "metadata": {},
   "source": [
    "Lecturer: Robi K ![Robi K](img\\KABAI_Robert_Zsolt.jpg)"
   ]
  },
  {
   "cell_type": "markdown",
   "metadata": {},
   "source": [
    "# Loan Default prediction\n",
    "Using scikit-learn and historical performance data to predict whether a loan will default."
   ]
  },
  {
   "cell_type": "markdown",
   "metadata": {
    "toc": true
   },
   "source": [
    "<h1>Table of Contents<span class=\"tocSkip\"></span></h1>\n",
    "<div class=\"toc\"><ul class=\"toc-item\"><li><span><a href=\"#Brief-intro-to-classification\" data-toc-modified-id=\"Brief-intro-to-classification-1\"><span class=\"toc-item-num\">1&nbsp;&nbsp;</span>Brief intro to classification</a></span><ul class=\"toc-item\"><li><span><a href=\"#Logistic-Regression\" data-toc-modified-id=\"Logistic-Regression-1.1\"><span class=\"toc-item-num\">1.1&nbsp;&nbsp;</span>Logistic Regression</a></span></li><li><span><a href=\"#Decision-Trees\" data-toc-modified-id=\"Decision-Trees-1.2\"><span class=\"toc-item-num\">1.2&nbsp;&nbsp;</span>Decision Trees</a></span></li><li><span><a href=\"#Performance-metrics\" data-toc-modified-id=\"Performance-metrics-1.3\"><span class=\"toc-item-num\">1.3&nbsp;&nbsp;</span>Performance metrics</a></span></li><li><span><a href=\"#General-Supervised-Learning-workflow\" data-toc-modified-id=\"General-Supervised-Learning-workflow-1.4\"><span class=\"toc-item-num\">1.4&nbsp;&nbsp;</span>General Supervised Learning workflow</a></span></li></ul></li><li><span><a href=\"#Financial-product-overview\" data-toc-modified-id=\"Financial-product-overview-2\"><span class=\"toc-item-num\">2&nbsp;&nbsp;</span>Financial product overview</a></span></li><li><span><a href=\"#Load-already-cleaned-data-from-previous-lecture\" data-toc-modified-id=\"Load-already-cleaned-data-from-previous-lecture-3\"><span class=\"toc-item-num\">3&nbsp;&nbsp;</span>Load already cleaned data from previous lecture</a></span></li><li><span><a href=\"#Convert-categorical-variables-to-individual-binaries\" data-toc-modified-id=\"Convert-categorical-variables-to-individual-binaries-4\"><span class=\"toc-item-num\">4&nbsp;&nbsp;</span>Convert categorical variables to individual binaries</a></span></li><li><span><a href=\"#Train-test-split\" data-toc-modified-id=\"Train-test-split-5\"><span class=\"toc-item-num\">5&nbsp;&nbsp;</span>Train-test split</a></span></li><li><span><a href=\"#First-try-for-prediction-with-Logistic-Regression\" data-toc-modified-id=\"First-try-for-prediction-with-Logistic-Regression-6\"><span class=\"toc-item-num\">6&nbsp;&nbsp;</span>First try for prediction with Logistic Regression</a></span><ul class=\"toc-item\"><li><span><a href=\"#Using-Logistic-Regression-from-Scikit-Learn\" data-toc-modified-id=\"Using-Logistic-Regression-from-Scikit-Learn-6.1\"><span class=\"toc-item-num\">6.1&nbsp;&nbsp;</span>Using Logistic Regression from Scikit-Learn</a></span></li><li><span><a href=\"#Why-the-bad-performance?\" data-toc-modified-id=\"Why-the-bad-performance?-6.2\"><span class=\"toc-item-num\">6.2&nbsp;&nbsp;</span>Why the bad performance?</a></span></li><li><span><a href=\"#Exercise:-What-do-you-think-is-the-problem?\" data-toc-modified-id=\"Exercise:-What-do-you-think-is-the-problem?-6.3\"><span class=\"toc-item-num\">6.3&nbsp;&nbsp;</span>Exercise: What do you think is the problem?</a></span></li></ul></li><li><span><a href=\"#Dealing-with-class-imbalance\" data-toc-modified-id=\"Dealing-with-class-imbalance-7\"><span class=\"toc-item-num\">7&nbsp;&nbsp;</span>Dealing with class imbalance</a></span><ul class=\"toc-item\"><li><span><a href=\"#Exercise:-Think-about-what-is-the-simplest-model-that-would-give-~85%-accuracy?-Would-that-be-a-useful-model?\" data-toc-modified-id=\"Exercise:-Think-about-what-is-the-simplest-model-that-would-give-~85%-accuracy?-Would-that-be-a-useful-model?-7.1\"><span class=\"toc-item-num\">7.1&nbsp;&nbsp;</span>Exercise: Think about what is the simplest model that would give ~85% accuracy? Would that be a useful model?</a></span></li><li><span><a href=\"#Downsampling-the-training-set\" data-toc-modified-id=\"Downsampling-the-training-set-7.2\"><span class=\"toc-item-num\">7.2&nbsp;&nbsp;</span>Downsampling the training set</a></span></li></ul></li><li><span><a href=\"#Prediction-after-solved-class-imbalance:-Logistic-Regression,-Decision-Tree\" data-toc-modified-id=\"Prediction-after-solved-class-imbalance:-Logistic-Regression,-Decision-Tree-8\"><span class=\"toc-item-num\">8&nbsp;&nbsp;</span>Prediction after solved class imbalance: Logistic Regression, Decision Tree</a></span><ul class=\"toc-item\"><li><span><a href=\"#Logistic-regression\" data-toc-modified-id=\"Logistic-regression-8.1\"><span class=\"toc-item-num\">8.1&nbsp;&nbsp;</span>Logistic regression</a></span></li><li><span><a href=\"#Decision-Tree\" data-toc-modified-id=\"Decision-Tree-8.2\"><span class=\"toc-item-num\">8.2&nbsp;&nbsp;</span>Decision Tree</a></span></li><li><span><a href=\"#Visualizing-and-interpreting-a-Decision-Tree\" data-toc-modified-id=\"Visualizing-and-interpreting-a-Decision-Tree-8.3\"><span class=\"toc-item-num\">8.3&nbsp;&nbsp;</span>Visualizing and interpreting a Decision Tree</a></span></li><li><span><a href=\"#Exercise:-Use-predicted-probabilities-with-a-different-threshold\" data-toc-modified-id=\"Exercise:-Use-predicted-probabilities-with-a-different-threshold-8.4\"><span class=\"toc-item-num\">8.4&nbsp;&nbsp;</span>Exercise: Use predicted probabilities with a different threshold</a></span></li><li><span><a href=\"#Exercise:-Vary-the-max-depth-of-the-tree-from-1-to-10\" data-toc-modified-id=\"Exercise:-Vary-the-max-depth-of-the-tree-from-1-to-10-8.5\"><span class=\"toc-item-num\">8.5&nbsp;&nbsp;</span>Exercise: Vary the max depth of the tree from 1 to 10</a></span></li></ul></li><li><span><a href=\"#Calculate-capital\" data-toc-modified-id=\"Calculate-capital-9\"><span class=\"toc-item-num\">9&nbsp;&nbsp;</span>Calculate capital</a></span></li></ul></div>"
   ]
  },
  {
   "cell_type": "markdown",
   "metadata": {},
   "source": [
    "## Brief intro to classification\n",
    "\n",
    "As mentioned in the previous lecture our final goal is to assess the riskiness of our investments. In this example we will use loan level historical performance data to create a predictive model to make a default prediction for each loan individually. The model will decide whether or not a loan is a good or a bad loan.\n",
    "![Good_or_bad_credit](img\\good_or_bad_credit.png)\n",
    "\n",
    "In the general case we can formulate this question as a classification problem. In classification we observations with multiple features / descriptors (the two axis on the picture below) and two or more categories (the color of the dots in the picture below). We would like to learn what structure/region of the feature space will most likely result in observing which classs.\n",
    "\n",
    "![Classification](img\\classification.png)\n",
    "\n",
    "Let's observe that creating a good separation (decision boundary) is not trivial as there might be an overlap between the regions. In this case using a straight line for a decision boundary would be called a `weak learner`, the black curve would be a `good fit` and the green wiggly line would be a model which overfits the data thus adds too much inportance to individual examples and learning even the noise."
   ]
  },
  {
   "cell_type": "markdown",
   "metadata": {},
   "source": [
    "### Logistic Regression"
   ]
  },
  {
   "cell_type": "markdown",
   "metadata": {},
   "source": [
    "The first model we will try for predicting defaults is Logistic Regression. The model takes a linear combination of the input features and then applying a nonlinearity for generating the decision boundry. More formally:\n",
    "$$ z = w_0 x_0 + w_1 x_1 +  ...  + w_n x_n = \\sum_{i=0}^n w_i x_i = w^T x $$\n",
    "where $x_0$ is always 1 by definition for convenience and the original features are contained by $x_1..x_n$.\n",
    "\n",
    "The higher the value of `z`, the more sure we are that we should predict `1`, the lower the value of `z` the more sure we are that we should predict `0`. Using the sigmoid function on `z` constrains the value of `z` between `(0,1)`:\n",
    "$$ sigmoid(z) = \\frac{1}{1 + e^{-z}}$$\n",
    "\n",
    "![Sigmoid](img\\sigmoid.svg)"
   ]
  },
  {
   "cell_type": "markdown",
   "metadata": {},
   "source": [
    "### Decision Trees"
   ]
  },
  {
   "cell_type": "markdown",
   "metadata": {},
   "source": [
    "Another popular supervised learning algorithm is the Decision Tree. The idea is to partition the data space by binary splits searching for the best split that distinguishes regions for the class in question. \n",
    "\n",
    "In the search for splits the algorithm optimizes an impurity measure at each step creating another branch on the tree.\n",
    "\n",
    "![DecisionTree](img\\dtree2.png)\n",
    "<center>Image source: https://dzone.com/refcardz/machine-learning-predictive?chapter=10 </center>\n",
    "\n",
    "The most used impurity measures are as follows:\n",
    "* Misclassification error: $1-p_k$\n",
    "* Gini index: $G(S) = \\sum_{k=1}^K p_k (1-p_k)$\n",
    "* Entropy: H(S) = $- \\sum_{k=1}^K p_k log(p_k)$\n",
    "\n",
    "What are decision trees good at?\n",
    "* Large datasets\n",
    "* Numeric and categorical variables (depends on implementation)\n",
    "* Human interpretable"
   ]
  },
  {
   "cell_type": "markdown",
   "metadata": {},
   "source": [
    "### Performance metrics"
   ]
  },
  {
   "cell_type": "markdown",
   "metadata": {
    "collapsed": true
   },
   "source": [
    "**Confusion matrix**\n",
    "\n",
    "We can construct a confusion matrix based on the correct and incorrect predictions of our model. Two very important measures are the True Positive Rate and False Positive Rate.\n",
    "\n",
    "![ConfusionMatrix](img\\confusion_matrix.png)\n",
    "\n",
    "**Accuracy**\n",
    "\n",
    "The accuracy of the model is probably the simplest metric we can come up with: it measures the ratio of correctly classified observation to all observations.\n",
    "\n",
    "$$Accuracy = \\frac{TP+TN}{TP+FP+TN+FN} = \\frac{TP+TN}{no. observations} $$\n",
    "\n",
    "**ROC curve**\n",
    "\n",
    "We can construct the ROC curve by varying the decision threshold for predicting class `0` or `1` and drawing the resulting TPR / FPR values. A model with a higher area under the curve (AUC) is considered better.\n",
    "\n",
    "![ROC](img\\roc.png)\n",
    "<center>Image source: https://docs.eyesopen.com/toolkits/cookbook/python/plotting/roc.html</center>"
   ]
  },
  {
   "cell_type": "markdown",
   "metadata": {},
   "source": [
    "### General Supervised Learning workflow"
   ]
  },
  {
   "cell_type": "markdown",
   "metadata": {},
   "source": [
    "The general workflow for supervised learning is as follows:\n",
    "* We gather historical data to build the model on\n",
    "* Split the data into two parts. Use random sampling!\n",
    "    * A later part to train the model on \n",
    "    * A smaller part to evaluate the model's performance on\n",
    "    * Question: what do you think is a good train/test split ratio?\n",
    "* Build the model on the training data without ever touching the test data.\n",
    "* Use the model and evaluate it's performance on the test data. We are basically simulating how the model performs on previously unseen data with unknown label. There are a lot of performance metrics used in the industry depending on the task at hand.\n",
    "* Deploy the model and use it in production for unlabeled data\n",
    "\n",
    "![SuperveisedLearningWorkflow](img\\sup_learning_workflow.png)"
   ]
  },
  {
   "cell_type": "markdown",
   "metadata": {},
   "source": [
    "## Financial product overview\n",
    "\n",
    "** Asset Backed Securities**\n",
    "\n",
    "First let's will learn about a very popular way to fund loans when the total size of the portfolio might be in the neighborhood of $1B. One of the widely used structure is called Asset Backed Securities. Let's take a look at a general structure for it:\n",
    "![Securitization](img\\securitization.png)\n",
    "\n",
    "As we mentioned in the previous lecture there are multiple approaches to assess usually depend on the granularity of data available.\n",
    "* Aggregated historical performance data can be used to create a high level assessment on different parts of the portfolio e.g. loans with more than 30 months maturity and more then 95% debt to income ratio are risky and we estimate 4% of them to default.\n",
    "* Loan level historical performance data can be used to create a predictive model to make a prediction on each loan individually.\n",
    "\n",
    "Cash flow from the assets are allocated using a waterfall structure to protect more senior notes from risk:\n",
    "\n",
    "![Waterfall](img\\waterfall.png)\n",
    "\n",
    "For certain type of ABS we can have a contract which allows us to replace undesirable loans with better ones.\n",
    "As you see the way this structure gives protection from losses works well in case the of systemic errors that our loan level predictive model might not even capture. \n",
    "\n",
    "*Just to note, data for Asset Backed Securities are usually private and confidential. They contain information that can not be shared outside the group doing the analysis. For this reason the dataset we are using is not actually data from an ABS but rather the LendingClub public personal loan dataset. For this short lecture it does not matter if the portfolio is securitized or not as we are working with the raw data.*"
   ]
  },
  {
   "cell_type": "markdown",
   "metadata": {},
   "source": [
    "## Load already cleaned data from previous lecture"
   ]
  },
  {
   "cell_type": "code",
   "execution_count": 36,
   "metadata": {
    "collapsed": true
   },
   "outputs": [],
   "source": [
    "import pandas as pd\n",
    "data = pd.read_pickle('Lendmark_clean.pkl')"
   ]
  },
  {
   "cell_type": "code",
   "execution_count": 37,
   "metadata": {
    "collapsed": true
   },
   "outputs": [],
   "source": [
    "data = data.drop('last_pymnt_amnt', axis=1)"
   ]
  },
  {
   "cell_type": "code",
   "execution_count": 38,
   "metadata": {},
   "outputs": [
    {
     "data": {
      "text/html": [
       "<div>\n",
       "<style>\n",
       "    .dataframe thead tr:only-child th {\n",
       "        text-align: right;\n",
       "    }\n",
       "\n",
       "    .dataframe thead th {\n",
       "        text-align: left;\n",
       "    }\n",
       "\n",
       "    .dataframe tbody tr th {\n",
       "        vertical-align: top;\n",
       "    }\n",
       "</style>\n",
       "<table border=\"1\" class=\"dataframe\">\n",
       "  <thead>\n",
       "    <tr style=\"text-align: right;\">\n",
       "      <th></th>\n",
       "      <th>loan_amnt</th>\n",
       "      <th>term</th>\n",
       "      <th>int_rate</th>\n",
       "      <th>funded_amnt</th>\n",
       "      <th>grade</th>\n",
       "      <th>annual_inc</th>\n",
       "      <th>dti</th>\n",
       "      <th>delinq_2yrs</th>\n",
       "      <th>emp_length</th>\n",
       "      <th>home_ownership</th>\n",
       "      <th>tax_liens</th>\n",
       "      <th>defaulted</th>\n",
       "    </tr>\n",
       "  </thead>\n",
       "  <tbody>\n",
       "    <tr>\n",
       "      <th>0</th>\n",
       "      <td>5000.0</td>\n",
       "      <td>36</td>\n",
       "      <td>10.65</td>\n",
       "      <td>5000.0</td>\n",
       "      <td>2</td>\n",
       "      <td>24000.0</td>\n",
       "      <td>27.65</td>\n",
       "      <td>0.0</td>\n",
       "      <td>10</td>\n",
       "      <td>RENT</td>\n",
       "      <td>0.0</td>\n",
       "      <td>0</td>\n",
       "    </tr>\n",
       "    <tr>\n",
       "      <th>1</th>\n",
       "      <td>2500.0</td>\n",
       "      <td>60</td>\n",
       "      <td>15.27</td>\n",
       "      <td>2500.0</td>\n",
       "      <td>3</td>\n",
       "      <td>30000.0</td>\n",
       "      <td>1.00</td>\n",
       "      <td>0.0</td>\n",
       "      <td>0</td>\n",
       "      <td>RENT</td>\n",
       "      <td>0.0</td>\n",
       "      <td>1</td>\n",
       "    </tr>\n",
       "    <tr>\n",
       "      <th>2</th>\n",
       "      <td>2400.0</td>\n",
       "      <td>36</td>\n",
       "      <td>15.96</td>\n",
       "      <td>2400.0</td>\n",
       "      <td>3</td>\n",
       "      <td>12252.0</td>\n",
       "      <td>8.72</td>\n",
       "      <td>0.0</td>\n",
       "      <td>10</td>\n",
       "      <td>RENT</td>\n",
       "      <td>0.0</td>\n",
       "      <td>0</td>\n",
       "    </tr>\n",
       "    <tr>\n",
       "      <th>3</th>\n",
       "      <td>10000.0</td>\n",
       "      <td>36</td>\n",
       "      <td>13.49</td>\n",
       "      <td>10000.0</td>\n",
       "      <td>3</td>\n",
       "      <td>49200.0</td>\n",
       "      <td>20.00</td>\n",
       "      <td>0.0</td>\n",
       "      <td>10</td>\n",
       "      <td>RENT</td>\n",
       "      <td>0.0</td>\n",
       "      <td>0</td>\n",
       "    </tr>\n",
       "    <tr>\n",
       "      <th>4</th>\n",
       "      <td>3000.0</td>\n",
       "      <td>60</td>\n",
       "      <td>12.69</td>\n",
       "      <td>3000.0</td>\n",
       "      <td>2</td>\n",
       "      <td>80000.0</td>\n",
       "      <td>17.94</td>\n",
       "      <td>0.0</td>\n",
       "      <td>1</td>\n",
       "      <td>RENT</td>\n",
       "      <td>0.0</td>\n",
       "      <td>0</td>\n",
       "    </tr>\n",
       "  </tbody>\n",
       "</table>\n",
       "</div>"
      ],
      "text/plain": [
       "   loan_amnt  term  int_rate  funded_amnt  grade  annual_inc    dti  \\\n",
       "0     5000.0    36     10.65       5000.0      2     24000.0  27.65   \n",
       "1     2500.0    60     15.27       2500.0      3     30000.0   1.00   \n",
       "2     2400.0    36     15.96       2400.0      3     12252.0   8.72   \n",
       "3    10000.0    36     13.49      10000.0      3     49200.0  20.00   \n",
       "4     3000.0    60     12.69       3000.0      2     80000.0  17.94   \n",
       "\n",
       "   delinq_2yrs  emp_length home_ownership  tax_liens  defaulted  \n",
       "0          0.0          10           RENT        0.0          0  \n",
       "1          0.0           0           RENT        0.0          1  \n",
       "2          0.0          10           RENT        0.0          0  \n",
       "3          0.0          10           RENT        0.0          0  \n",
       "4          0.0           1           RENT        0.0          0  "
      ]
     },
     "execution_count": 38,
     "metadata": {},
     "output_type": "execute_result"
    }
   ],
   "source": [
    "data.head()"
   ]
  },
  {
   "cell_type": "markdown",
   "metadata": {},
   "source": [
    "## Convert categorical variables to individual binaries\n",
    "Many models can't deal with categorical type data and can only accept numerical variables thus we need to encode contained information numerically somehow."
   ]
  },
  {
   "cell_type": "code",
   "execution_count": 39,
   "metadata": {},
   "outputs": [
    {
     "data": {
      "text/plain": [
       "array(['RENT', 'OWN', 'MORTGAGE', 'OTHER', 'NONE'], dtype=object)"
      ]
     },
     "execution_count": 39,
     "metadata": {},
     "output_type": "execute_result"
    }
   ],
   "source": [
    "data.home_ownership.unique()"
   ]
  },
  {
   "cell_type": "markdown",
   "metadata": {},
   "source": [
    "**Something to think about:** Why would it be a bad idea to encode this variable with integer values 1-5?"
   ]
  },
  {
   "cell_type": "markdown",
   "metadata": {},
   "source": [
    "The usual best practice is to encode a categorical variable of 5 unique values to 5 distinct binary columns (having values of 1 or 0). The resulting variable are sometimes called \"dummy variables\".\n",
    "\n",
    "There is a built in Pandas function that can help us achieve this. Let's see how it works:"
   ]
  },
  {
   "cell_type": "code",
   "execution_count": 40,
   "metadata": {},
   "outputs": [
    {
     "data": {
      "text/html": [
       "<div>\n",
       "<style>\n",
       "    .dataframe thead tr:only-child th {\n",
       "        text-align: right;\n",
       "    }\n",
       "\n",
       "    .dataframe thead th {\n",
       "        text-align: left;\n",
       "    }\n",
       "\n",
       "    .dataframe tbody tr th {\n",
       "        vertical-align: top;\n",
       "    }\n",
       "</style>\n",
       "<table border=\"1\" class=\"dataframe\">\n",
       "  <thead>\n",
       "    <tr style=\"text-align: right;\">\n",
       "      <th></th>\n",
       "      <th>home_ownership_MORTGAGE</th>\n",
       "      <th>home_ownership_NONE</th>\n",
       "      <th>home_ownership_OTHER</th>\n",
       "      <th>home_ownership_OWN</th>\n",
       "      <th>home_ownership_RENT</th>\n",
       "    </tr>\n",
       "  </thead>\n",
       "  <tbody>\n",
       "    <tr>\n",
       "      <th>0</th>\n",
       "      <td>0</td>\n",
       "      <td>0</td>\n",
       "      <td>0</td>\n",
       "      <td>0</td>\n",
       "      <td>1</td>\n",
       "    </tr>\n",
       "    <tr>\n",
       "      <th>1</th>\n",
       "      <td>0</td>\n",
       "      <td>0</td>\n",
       "      <td>0</td>\n",
       "      <td>0</td>\n",
       "      <td>1</td>\n",
       "    </tr>\n",
       "    <tr>\n",
       "      <th>2</th>\n",
       "      <td>0</td>\n",
       "      <td>0</td>\n",
       "      <td>0</td>\n",
       "      <td>0</td>\n",
       "      <td>1</td>\n",
       "    </tr>\n",
       "    <tr>\n",
       "      <th>3</th>\n",
       "      <td>0</td>\n",
       "      <td>0</td>\n",
       "      <td>0</td>\n",
       "      <td>0</td>\n",
       "      <td>1</td>\n",
       "    </tr>\n",
       "    <tr>\n",
       "      <th>4</th>\n",
       "      <td>0</td>\n",
       "      <td>0</td>\n",
       "      <td>0</td>\n",
       "      <td>0</td>\n",
       "      <td>1</td>\n",
       "    </tr>\n",
       "  </tbody>\n",
       "</table>\n",
       "</div>"
      ],
      "text/plain": [
       "   home_ownership_MORTGAGE  home_ownership_NONE  home_ownership_OTHER  \\\n",
       "0                        0                    0                     0   \n",
       "1                        0                    0                     0   \n",
       "2                        0                    0                     0   \n",
       "3                        0                    0                     0   \n",
       "4                        0                    0                     0   \n",
       "\n",
       "   home_ownership_OWN  home_ownership_RENT  \n",
       "0                   0                    1  \n",
       "1                   0                    1  \n",
       "2                   0                    1  \n",
       "3                   0                    1  \n",
       "4                   0                    1  "
      ]
     },
     "execution_count": 40,
     "metadata": {},
     "output_type": "execute_result"
    }
   ],
   "source": [
    "pd.get_dummies(data.home_ownership, prefix='home_ownership', prefix_sep='_').head()"
   ]
  },
  {
   "cell_type": "markdown",
   "metadata": {},
   "source": [
    "Let's create a version of the data wich contains the dummy variables but not the original one."
   ]
  },
  {
   "cell_type": "code",
   "execution_count": 41,
   "metadata": {
    "scrolled": false
   },
   "outputs": [
    {
     "data": {
      "text/html": [
       "<div>\n",
       "<style>\n",
       "    .dataframe thead tr:only-child th {\n",
       "        text-align: right;\n",
       "    }\n",
       "\n",
       "    .dataframe thead th {\n",
       "        text-align: left;\n",
       "    }\n",
       "\n",
       "    .dataframe tbody tr th {\n",
       "        vertical-align: top;\n",
       "    }\n",
       "</style>\n",
       "<table border=\"1\" class=\"dataframe\">\n",
       "  <thead>\n",
       "    <tr style=\"text-align: right;\">\n",
       "      <th></th>\n",
       "      <th>loan_amnt</th>\n",
       "      <th>term</th>\n",
       "      <th>int_rate</th>\n",
       "      <th>funded_amnt</th>\n",
       "      <th>grade</th>\n",
       "      <th>annual_inc</th>\n",
       "      <th>dti</th>\n",
       "      <th>delinq_2yrs</th>\n",
       "      <th>emp_length</th>\n",
       "      <th>tax_liens</th>\n",
       "      <th>defaulted</th>\n",
       "      <th>home_ownership_MORTGAGE</th>\n",
       "      <th>home_ownership_NONE</th>\n",
       "      <th>home_ownership_OTHER</th>\n",
       "      <th>home_ownership_OWN</th>\n",
       "      <th>home_ownership_RENT</th>\n",
       "    </tr>\n",
       "  </thead>\n",
       "  <tbody>\n",
       "    <tr>\n",
       "      <th>0</th>\n",
       "      <td>5000.0</td>\n",
       "      <td>36</td>\n",
       "      <td>10.65</td>\n",
       "      <td>5000.0</td>\n",
       "      <td>2</td>\n",
       "      <td>24000.0</td>\n",
       "      <td>27.65</td>\n",
       "      <td>0.0</td>\n",
       "      <td>10</td>\n",
       "      <td>0.0</td>\n",
       "      <td>0</td>\n",
       "      <td>0</td>\n",
       "      <td>0</td>\n",
       "      <td>0</td>\n",
       "      <td>0</td>\n",
       "      <td>1</td>\n",
       "    </tr>\n",
       "    <tr>\n",
       "      <th>1</th>\n",
       "      <td>2500.0</td>\n",
       "      <td>60</td>\n",
       "      <td>15.27</td>\n",
       "      <td>2500.0</td>\n",
       "      <td>3</td>\n",
       "      <td>30000.0</td>\n",
       "      <td>1.00</td>\n",
       "      <td>0.0</td>\n",
       "      <td>0</td>\n",
       "      <td>0.0</td>\n",
       "      <td>1</td>\n",
       "      <td>0</td>\n",
       "      <td>0</td>\n",
       "      <td>0</td>\n",
       "      <td>0</td>\n",
       "      <td>1</td>\n",
       "    </tr>\n",
       "    <tr>\n",
       "      <th>2</th>\n",
       "      <td>2400.0</td>\n",
       "      <td>36</td>\n",
       "      <td>15.96</td>\n",
       "      <td>2400.0</td>\n",
       "      <td>3</td>\n",
       "      <td>12252.0</td>\n",
       "      <td>8.72</td>\n",
       "      <td>0.0</td>\n",
       "      <td>10</td>\n",
       "      <td>0.0</td>\n",
       "      <td>0</td>\n",
       "      <td>0</td>\n",
       "      <td>0</td>\n",
       "      <td>0</td>\n",
       "      <td>0</td>\n",
       "      <td>1</td>\n",
       "    </tr>\n",
       "    <tr>\n",
       "      <th>3</th>\n",
       "      <td>10000.0</td>\n",
       "      <td>36</td>\n",
       "      <td>13.49</td>\n",
       "      <td>10000.0</td>\n",
       "      <td>3</td>\n",
       "      <td>49200.0</td>\n",
       "      <td>20.00</td>\n",
       "      <td>0.0</td>\n",
       "      <td>10</td>\n",
       "      <td>0.0</td>\n",
       "      <td>0</td>\n",
       "      <td>0</td>\n",
       "      <td>0</td>\n",
       "      <td>0</td>\n",
       "      <td>0</td>\n",
       "      <td>1</td>\n",
       "    </tr>\n",
       "    <tr>\n",
       "      <th>4</th>\n",
       "      <td>3000.0</td>\n",
       "      <td>60</td>\n",
       "      <td>12.69</td>\n",
       "      <td>3000.0</td>\n",
       "      <td>2</td>\n",
       "      <td>80000.0</td>\n",
       "      <td>17.94</td>\n",
       "      <td>0.0</td>\n",
       "      <td>1</td>\n",
       "      <td>0.0</td>\n",
       "      <td>0</td>\n",
       "      <td>0</td>\n",
       "      <td>0</td>\n",
       "      <td>0</td>\n",
       "      <td>0</td>\n",
       "      <td>1</td>\n",
       "    </tr>\n",
       "  </tbody>\n",
       "</table>\n",
       "</div>"
      ],
      "text/plain": [
       "   loan_amnt  term  int_rate  funded_amnt  grade  annual_inc    dti  \\\n",
       "0     5000.0    36     10.65       5000.0      2     24000.0  27.65   \n",
       "1     2500.0    60     15.27       2500.0      3     30000.0   1.00   \n",
       "2     2400.0    36     15.96       2400.0      3     12252.0   8.72   \n",
       "3    10000.0    36     13.49      10000.0      3     49200.0  20.00   \n",
       "4     3000.0    60     12.69       3000.0      2     80000.0  17.94   \n",
       "\n",
       "   delinq_2yrs  emp_length  tax_liens  defaulted  home_ownership_MORTGAGE  \\\n",
       "0          0.0          10        0.0          0                        0   \n",
       "1          0.0           0        0.0          1                        0   \n",
       "2          0.0          10        0.0          0                        0   \n",
       "3          0.0          10        0.0          0                        0   \n",
       "4          0.0           1        0.0          0                        0   \n",
       "\n",
       "   home_ownership_NONE  home_ownership_OTHER  home_ownership_OWN  \\\n",
       "0                    0                     0                   0   \n",
       "1                    0                     0                   0   \n",
       "2                    0                     0                   0   \n",
       "3                    0                     0                   0   \n",
       "4                    0                     0                   0   \n",
       "\n",
       "   home_ownership_RENT  \n",
       "0                    1  \n",
       "1                    1  \n",
       "2                    1  \n",
       "3                    1  \n",
       "4                    1  "
      ]
     },
     "execution_count": 41,
     "metadata": {},
     "output_type": "execute_result"
    }
   ],
   "source": [
    "cols = data.columns.tolist()\n",
    "cols.remove('home_ownership')\n",
    "\n",
    "data_dummy = pd.get_dummies(data.home_ownership, prefix='home_ownership', prefix_sep='_')\n",
    "data_dummy = data[cols].join(data_dummy)\n",
    "data_dummy.head()"
   ]
  },
  {
   "cell_type": "code",
   "execution_count": 42,
   "metadata": {
    "scrolled": false
   },
   "outputs": [
    {
     "name": "stdout",
     "output_type": "stream",
     "text": [
      "<class 'pandas.core.frame.DataFrame'>\n",
      "Int64Index: 39747 entries, 0 to 39753\n",
      "Data columns (total 16 columns):\n",
      "loan_amnt                  39747 non-null float64\n",
      "term                       39747 non-null int64\n",
      "int_rate                   39747 non-null float64\n",
      "funded_amnt                39747 non-null float64\n",
      "grade                      39747 non-null int64\n",
      "annual_inc                 39747 non-null float64\n",
      "dti                        39747 non-null float64\n",
      "delinq_2yrs                39747 non-null float64\n",
      "emp_length                 39747 non-null int64\n",
      "tax_liens                  39747 non-null float64\n",
      "defaulted                  39747 non-null int64\n",
      "home_ownership_MORTGAGE    39747 non-null uint8\n",
      "home_ownership_NONE        39747 non-null uint8\n",
      "home_ownership_OTHER       39747 non-null uint8\n",
      "home_ownership_OWN         39747 non-null uint8\n",
      "home_ownership_RENT        39747 non-null uint8\n",
      "dtypes: float64(7), int64(4), uint8(5)\n",
      "memory usage: 5.1 MB\n"
     ]
    }
   ],
   "source": [
    "data_dummy.info()"
   ]
  },
  {
   "cell_type": "markdown",
   "metadata": {},
   "source": [
    "Now all variables are numerical. Some implementations of algorithms like decision trees can natively handle categorical variables but most algorithms and most implementaqtions can not. In case there is no self evident ordering of the categories that would make it straight forward to convert it to integer values, it is best to create dummy binaries. "
   ]
  },
  {
   "cell_type": "markdown",
   "metadata": {},
   "source": [
    "## Train-test split"
   ]
  },
  {
   "cell_type": "code",
   "execution_count": 43,
   "metadata": {
    "collapsed": true
   },
   "outputs": [],
   "source": [
    "from sklearn.model_selection import train_test_split"
   ]
  },
  {
   "cell_type": "markdown",
   "metadata": {},
   "source": [
    "Let's separate the columns for the features and the response variable.\n",
    "We'll store the features in a matrix and the response variable in a vector."
   ]
  },
  {
   "cell_type": "code",
   "execution_count": 44,
   "metadata": {
    "collapsed": true
   },
   "outputs": [],
   "source": [
    "x_cols = data_dummy.columns.tolist()\n",
    "x_cols.remove('defaulted')\n",
    "y_col = 'defaulted'\n",
    "\n",
    "X = data_dummy[x_cols].values\n",
    "y = data_dummy[y_col].values"
   ]
  },
  {
   "cell_type": "code",
   "execution_count": 45,
   "metadata": {},
   "outputs": [
    {
     "name": "stdout",
     "output_type": "stream",
     "text": [
      "Shape of X: (39747, 15)\n",
      "Shape of y: (39747,)\n"
     ]
    }
   ],
   "source": [
    "print('Shape of X: {}'.format(X.shape))\n",
    "print('Shape of y: {}'.format(y.shape))"
   ]
  },
  {
   "cell_type": "code",
   "execution_count": 46,
   "metadata": {},
   "outputs": [
    {
     "name": "stdout",
     "output_type": "stream",
     "text": [
      "Features of row 1: [  5.00000000e+03   3.60000000e+01   1.06500000e+01   5.00000000e+03\n",
      "   2.00000000e+00   2.40000000e+04   2.76500000e+01   0.00000000e+00\n",
      "   1.00000000e+01   0.00000000e+00   0.00000000e+00   0.00000000e+00\n",
      "   0.00000000e+00   0.00000000e+00   1.00000000e+00]\n",
      "Response variable of row 1: 0\n"
     ]
    }
   ],
   "source": [
    "print('Features of row 1: {}'.format(X[0,:]))\n",
    "print('Response variable of row 1: {}'.format(y[0]))"
   ]
  },
  {
   "cell_type": "markdown",
   "metadata": {},
   "source": [
    "Now let's do the train/test split."
   ]
  },
  {
   "cell_type": "code",
   "execution_count": 47,
   "metadata": {
    "collapsed": true
   },
   "outputs": [],
   "source": [
    "X_train, X_test, y_train, y_test = train_test_split(X,y, test_size=0.2)"
   ]
  },
  {
   "cell_type": "code",
   "execution_count": 48,
   "metadata": {},
   "outputs": [
    {
     "name": "stdout",
     "output_type": "stream",
     "text": [
      "Shape of X_train: (31797, 15)\n",
      "Shape of X_test: (7950, 15)\n",
      "Shape of y_train: (31797,)\n",
      "Shape of y_test: (7950,)\n"
     ]
    }
   ],
   "source": [
    "print('Shape of X_train: {}'.format(X_train.shape))\n",
    "print('Shape of X_test: {}'.format(X_test.shape))\n",
    "print('Shape of y_train: {}'.format(y_train.shape))\n",
    "print('Shape of y_test: {}'.format(y_test.shape))"
   ]
  },
  {
   "cell_type": "code",
   "execution_count": 49,
   "metadata": {},
   "outputs": [
    {
     "name": "stdout",
     "output_type": "stream",
     "text": [
      "Features of row 1: [  3.20000000e+03   3.60000000e+01   1.22100000e+01   3.20000000e+03\n",
      "   2.00000000e+00   2.00000000e+04   5.04000000e+00   0.00000000e+00\n",
      "   7.00000000e+00   0.00000000e+00   0.00000000e+00   0.00000000e+00\n",
      "   0.00000000e+00   1.00000000e+00   0.00000000e+00]\n",
      "Response variable of row 1: 0\n"
     ]
    }
   ],
   "source": [
    "print('Features of row 1: {}'.format(X_train[0,:]))\n",
    "print('Response variable of row 1: {}'.format(y_train[0]))"
   ]
  },
  {
   "cell_type": "code",
   "execution_count": 50,
   "metadata": {},
   "outputs": [
    {
     "name": "stdout",
     "output_type": "stream",
     "text": [
      "Features of row 1: [  1.50000000e+04   6.00000000e+01   1.18600000e+01   1.50000000e+04\n",
      "   2.00000000e+00   1.64000000e+05   5.75000000e+00   0.00000000e+00\n",
      "   1.00000000e+01   0.00000000e+00   0.00000000e+00   0.00000000e+00\n",
      "   0.00000000e+00   0.00000000e+00   1.00000000e+00]\n",
      "Response variable of row 1: 0\n"
     ]
    }
   ],
   "source": [
    "print('Features of row 1: {}'.format(X_test[0,:]))\n",
    "print('Response variable of row 1: {}'.format(y_test[0]))"
   ]
  },
  {
   "cell_type": "markdown",
   "metadata": {},
   "source": [
    "## First try for prediction with Logistic Regression"
   ]
  },
  {
   "cell_type": "markdown",
   "metadata": {},
   "source": [
    "** Code for plotting ROC curve and Confusion matrix **"
   ]
  },
  {
   "cell_type": "code",
   "execution_count": 51,
   "metadata": {
    "code_folding": [
     3
    ],
    "collapsed": true
   },
   "outputs": [],
   "source": [
    "import matplotlib.pyplot as plt\n",
    "from sklearn.metrics import roc_curve\n",
    "\n",
    "def draw_roc_curve(actual_values, **predicted_probabilities):\n",
    "    plt.figure(figsize=(6, 6))\n",
    "    plt.plot([0, 1], [0, 1], 'r--', label='Random guessing')\n",
    "    for name, pred in predicted_probabilities.items():\n",
    "        fpr, tpr, thresholds = roc_curve(actual_values, pred)\n",
    "        plt.plot(fpr, tpr, lw=2, label='ROC curve for %s' % name)\n",
    "    plt.xlim([0, 1])\n",
    "    plt.ylim([0, 1])\n",
    "    plt.xlabel('False Positive Rate')\n",
    "    plt.ylabel('True Positive Rate')\n",
    "    plt.title('Receiver operating characteristic example')\n",
    "    plt.legend(loc=\"lower right\")\n",
    "    plt.show()"
   ]
  },
  {
   "cell_type": "code",
   "execution_count": 52,
   "metadata": {
    "code_folding": [
     2
    ],
    "collapsed": true
   },
   "outputs": [],
   "source": [
    "import itertools\n",
    "import numpy as np\n",
    "from sklearn.metrics import confusion_matrix\n",
    "def plot_confusion_matrix(cm, classes,\n",
    "                          normalize=False,\n",
    "                          title='Confusion matrix',\n",
    "                          cmap=plt.cm.Blues):\n",
    "    \"\"\"\n",
    "    This function prints and plots the confusion matrix.\n",
    "    Normalization can be applied by setting `normalize=True`.\n",
    "    \"\"\"\n",
    "    if normalize:\n",
    "        cm = cm.astype('float') / cm.sum(axis=1)[:, np.newaxis]\n",
    "        print(\"Normalized confusion matrix\")\n",
    "    else:\n",
    "        print('Confusion matrix, without normalization')\n",
    "\n",
    "    print(cm)\n",
    "\n",
    "    plt.imshow(cm, interpolation='nearest', cmap=cmap)\n",
    "    plt.title(title)\n",
    "    plt.colorbar()\n",
    "    tick_marks = np.arange(len(classes))\n",
    "    plt.xticks(tick_marks, classes, rotation=45)\n",
    "    plt.yticks(tick_marks, classes)\n",
    "\n",
    "    fmt = '.2f' if normalize else 'd'\n",
    "    thresh = cm.max() / 2.\n",
    "    for i, j in itertools.product(range(cm.shape[0]), range(cm.shape[1])):\n",
    "        plt.text(j, i, format(cm[i, j], fmt),\n",
    "                 horizontalalignment=\"center\",\n",
    "                 color=\"white\" if cm[i, j] > thresh else \"black\")\n",
    "\n",
    "    plt.tight_layout()\n",
    "    plt.ylabel('True label')\n",
    "    plt.xlabel('Predicted label')\n",
    "    plt.show()"
   ]
  },
  {
   "cell_type": "markdown",
   "metadata": {},
   "source": [
    "### Using Logistic Regression from Scikit-Learn\n",
    "Let's try logistic regression and see how it performs."
   ]
  },
  {
   "cell_type": "code",
   "execution_count": 53,
   "metadata": {
    "collapsed": true
   },
   "outputs": [],
   "source": [
    "from sklearn import linear_model,svm\n",
    "from sklearn.metrics import accuracy_score, confusion_matrix, roc_auc_score\n",
    "\n",
    "lrmodel0 = linear_model.LogisticRegression(C=1000)\n",
    "lrmodel0 = lrmodel0.fit(X_train, y_train)\n",
    "pred_lr0_train = lrmodel0.predict(X_train)\n",
    "prob_lr0_train = lrmodel0.predict_proba(X_train)[:,1]\n",
    "pred_lr0_test = lrmodel0.predict(X_test)\n",
    "prob_lr0_test = lrmodel0.predict_proba(X_test)[:,1]"
   ]
  },
  {
   "cell_type": "code",
   "execution_count": 54,
   "metadata": {},
   "outputs": [
    {
     "name": "stdout",
     "output_type": "stream",
     "text": [
      "Performance of the first Logistic Regression model:\n",
      "Accuracy (train):  0.858760260402\n",
      "Area Under ROC curve (train): 0.505583169236\n",
      "Accuracy (test):  0.851823899371\n",
      "Area Under ROC curve (test): 0.514843402926\n"
     ]
    }
   ],
   "source": [
    "print(\"Performance of the first Logistic Regression model:\")\n",
    "print(\"Accuracy (train): \", accuracy_score(y_train, pred_lr0_train) )\n",
    "print(\"Area Under ROC curve (train):\", roc_auc_score(y_train, prob_lr0_train) )\n",
    "print(\"Accuracy (test): \", accuracy_score(y_test, pred_lr0_test) )\n",
    "print(\"Area Under ROC curve (test):\", roc_auc_score(y_test, prob_lr0_test) )"
   ]
  },
  {
   "cell_type": "code",
   "execution_count": 55,
   "metadata": {},
   "outputs": [
    {
     "data": {
      "image/png": "[encoded data removed]",
      "text/plain": [
       "<matplotlib.figure.Figure at 0x9950ba8>"
      ]
     },
     "metadata": {},
     "output_type": "display_data"
    }
   ],
   "source": [
    "draw_roc_curve(y_test, regression=prob_lr0_test)"
   ]
  },
  {
   "cell_type": "markdown",
   "metadata": {},
   "source": [
    "### Why the bad performance?\n",
    "\n",
    "**A good 86% accuracy, nice! Or is it ?!**\n",
    "* We are at 86% accuracy, which seems good just by itself.\n",
    "* A random guess based on class frequency (no information gain) would be an AUC of 0.5, which we just bearly beat, meaning not much information gain.\n",
    "\n",
    "It seems we still have a lot to improve..."
   ]
  },
  {
   "cell_type": "markdown",
   "metadata": {},
   "source": [
    "**What is happening?**\n",
    "Let's see a historgram of the predicted class probabilities:"
   ]
  },
  {
   "cell_type": "code",
   "execution_count": 56,
   "metadata": {},
   "outputs": [
    {
     "data": {
      "image/png": "[encoded data removed]",
      "text/plain": [
       "<matplotlib.figure.Figure at 0xc009860>"
      ]
     },
     "metadata": {},
     "output_type": "display_data"
    }
   ],
   "source": [
    "import matplotlib.pyplot as plt\n",
    "plt.hist(lrmodel0.predict_proba(X_test)[:,1], bins=50)\n",
    "plt.show()"
   ]
  },
  {
   "cell_type": "code",
   "execution_count": 57,
   "metadata": {},
   "outputs": [
    {
     "name": "stdout",
     "output_type": "stream",
     "text": [
      "The maximum default probability predicted for any loan:  0.430608355463\n"
     ]
    }
   ],
   "source": [
    "print('The maximum default probability predicted for any loan: ', max(prob_lr0_test))"
   ]
  },
  {
   "cell_type": "code",
   "execution_count": 58,
   "metadata": {},
   "outputs": [
    {
     "name": "stdout",
     "output_type": "stream",
     "text": [
      "Confusion matrix, without normalization\n",
      "[[6772    0]\n",
      " [1178    0]]\n"
     ]
    },
    {
     "data": {
      "image/png": "[encoded data removed]",
      "text/plain": [
       "<matplotlib.figure.Figure at 0x9a5a630>"
      ]
     },
     "metadata": {},
     "output_type": "display_data"
    }
   ],
   "source": [
    "cm = confusion_matrix(y_test, pred_lr0_test)\n",
    "classes = ['Not defaulted', 'Defaulted']\n",
    "plot_confusion_matrix(cm, classes,\n",
    "                          normalize=False,\n",
    "                          title='Confusion matrix',\n",
    "                          cmap=plt.cm.Blues)"
   ]
  },
  {
   "cell_type": "markdown",
   "metadata": {},
   "source": [
    "### Exercise: What do you think is the problem?"
   ]
  },
  {
   "cell_type": "code",
   "execution_count": null,
   "metadata": {
    "collapsed": true
   },
   "outputs": [],
   "source": []
  },
  {
   "cell_type": "markdown",
   "metadata": {},
   "source": [
    "## Dealing with class imbalance"
   ]
  },
  {
   "cell_type": "markdown",
   "metadata": {},
   "source": [
    "Let us examine how many positive/negative examples we have in the original dataset."
   ]
  },
  {
   "cell_type": "code",
   "execution_count": 59,
   "metadata": {},
   "outputs": [
    {
     "data": {
      "text/plain": [
       "0    34078\n",
       "1     5669\n",
       "Name: defaulted, dtype: int64"
      ]
     },
     "execution_count": 59,
     "metadata": {},
     "output_type": "execute_result"
    }
   ],
   "source": [
    "data_dummy.defaulted.value_counts()"
   ]
  },
  {
   "cell_type": "code",
   "execution_count": 60,
   "metadata": {},
   "outputs": [
    {
     "name": "stdout",
     "output_type": "stream",
     "text": [
      "Ratio of negative examples:  0.857372883488\n"
     ]
    }
   ],
   "source": [
    "print(\"Ratio of negative examples: \", 1-sum(data_dummy.defaulted)/len(data_dummy.defaulted))"
   ]
  },
  {
   "cell_type": "markdown",
   "metadata": {},
   "source": [
    "### Exercise: Think about what is the simplest model that would give ~85% accuracy? Would that be a useful model?"
   ]
  },
  {
   "cell_type": "code",
   "execution_count": null,
   "metadata": {
    "collapsed": true
   },
   "outputs": [],
   "source": []
  },
  {
   "cell_type": "markdown",
   "metadata": {},
   "source": [
    "As we see defaulted loans represent less than 15% of the examples. The class imbalance problem occurs quite often and it provides the challenge that while we are usually interested in predicting the minotiry class (e.g. defaults) thus we have less information for the class in question."
   ]
  },
  {
   "cell_type": "markdown",
   "metadata": {},
   "source": [
    "### Downsampling the training set"
   ]
  },
  {
   "cell_type": "markdown",
   "metadata": {},
   "source": [
    "There are multiple solutions for the class imbalance problem:\n",
    "    * Downsampling: keep a smaller random sample of the majority class.\n",
    "    * Upsampling: Duplicate records of the minority class.\n",
    "    * Advanced methods: modifying the cost function, adding example weights, etc...\n",
    "    \n",
    "For more detail on techniques, I encourage you to check out this blog post: https://www.kdnuggets.com/2017/06/7-techniques-handle-imbalanced-data.html\n",
    "\n",
    "For this lecture we will implement downsampling. "
   ]
  },
  {
   "cell_type": "markdown",
   "metadata": {},
   "source": [
    "Let's theck the shape of our training dataset after the split."
   ]
  },
  {
   "cell_type": "code",
   "execution_count": 61,
   "metadata": {},
   "outputs": [
    {
     "name": "stdout",
     "output_type": "stream",
     "text": [
      "(31797, 15)\n"
     ]
    }
   ],
   "source": [
    "print(X_train.shape)"
   ]
  },
  {
   "cell_type": "markdown",
   "metadata": {},
   "source": [
    "Now let's split the data by the class values."
   ]
  },
  {
   "cell_type": "code",
   "execution_count": 62,
   "metadata": {
    "collapsed": true
   },
   "outputs": [],
   "source": [
    "df_def0 = X_train[y_train==0, :]\n",
    "df_def1 = X_train[y_train==1, :]"
   ]
  },
  {
   "cell_type": "code",
   "execution_count": 63,
   "metadata": {},
   "outputs": [
    {
     "name": "stdout",
     "output_type": "stream",
     "text": [
      "(27306, 15)\n",
      "(4491, 15)\n"
     ]
    }
   ],
   "source": [
    "print(df_def0.shape)\n",
    "print(df_def1.shape)"
   ]
  },
  {
   "cell_type": "markdown",
   "metadata": {},
   "source": [
    "We can use scikit-learn's `resample` function to generate a new sample from an array or a dataframe. As we are downsampling and not upsampling, we will sample without replacement."
   ]
  },
  {
   "cell_type": "code",
   "execution_count": 64,
   "metadata": {
    "collapsed": true
   },
   "outputs": [],
   "source": [
    "from sklearn.utils import resample\n",
    "df_def0_downsample = resample(df_def0, \n",
    "                                 replace=False,\n",
    "                                 n_samples=len(df_def1), # matching the minority class (number of defaulted loans)\n",
    "                                 random_state=1)"
   ]
  },
  {
   "cell_type": "code",
   "execution_count": 65,
   "metadata": {},
   "outputs": [
    {
     "name": "stdout",
     "output_type": "stream",
     "text": [
      "(4491, 15)\n",
      "(4491, 15)\n"
     ]
    }
   ],
   "source": [
    "print(df_def0_downsample.shape)\n",
    "print(df_def1.shape)"
   ]
  },
  {
   "cell_type": "markdown",
   "metadata": {},
   "source": [
    "Now that we have the same number of examples for both the 0 and 1 classes we can combine the records again to one object."
   ]
  },
  {
   "cell_type": "code",
   "execution_count": 66,
   "metadata": {
    "collapsed": true
   },
   "outputs": [],
   "source": [
    "import numpy as np\n",
    "# Combine minority class with downsampled majority class\n",
    "X_train = np.concatenate((df_def0_downsample, df_def1))\n",
    "y_train = np.concatenate((np.zeros(len(df_def0_downsample)), np.ones(len(df_def1))))"
   ]
  },
  {
   "cell_type": "code",
   "execution_count": 67,
   "metadata": {},
   "outputs": [
    {
     "name": "stdout",
     "output_type": "stream",
     "text": [
      "(8982, 15)\n"
     ]
    }
   ],
   "source": [
    "print(X_train.shape)"
   ]
  },
  {
   "cell_type": "code",
   "execution_count": 68,
   "metadata": {},
   "outputs": [
    {
     "name": "stdout",
     "output_type": "stream",
     "text": [
      "(8982,)\n"
     ]
    }
   ],
   "source": [
    "print(y_train.shape)"
   ]
  },
  {
   "cell_type": "markdown",
   "metadata": {},
   "source": [
    "**Something to think about:** \n",
    "\n",
    "Why did we only downsample the training dataset but not the test dataset?\n",
    "We need class balance when training a model but we need the real class ratios for assessing the model's performance."
   ]
  },
  {
   "cell_type": "markdown",
   "metadata": {},
   "source": [
    "## Prediction after solved class imbalance: Logistic Regression, Decision Tree"
   ]
  },
  {
   "cell_type": "code",
   "execution_count": 69,
   "metadata": {
    "collapsed": true
   },
   "outputs": [],
   "source": [
    "from sklearn import linear_model\n",
    "from sklearn.metrics import accuracy_score, confusion_matrix, roc_auc_score"
   ]
  },
  {
   "cell_type": "markdown",
   "metadata": {},
   "source": [
    "### Logistic regression"
   ]
  },
  {
   "cell_type": "code",
   "execution_count": 70,
   "metadata": {
    "collapsed": true
   },
   "outputs": [],
   "source": [
    "lrmodel1 = linear_model.LogisticRegression(C=1000)\n",
    "lrmodel1 = lrmodel1.fit(X_train, y_train)"
   ]
  },
  {
   "cell_type": "code",
   "execution_count": 71,
   "metadata": {
    "collapsed": true
   },
   "outputs": [],
   "source": [
    "pred_lr1_train = lrmodel1.predict(X_train)\n",
    "prob_lr1_train = lrmodel1.predict_proba(X_train)[:,1]\n",
    "pred_lr1_test = lrmodel1.predict(X_test)\n",
    "prob_lr1_test = lrmodel1.predict_proba(X_test)[:,1]"
   ]
  },
  {
   "cell_type": "code",
   "execution_count": 72,
   "metadata": {
    "scrolled": false
   },
   "outputs": [
    {
     "name": "stdout",
     "output_type": "stream",
     "text": [
      "Confusion matrix, without normalization\n",
      "[[3461 3311]\n",
      " [ 347  831]]\n"
     ]
    },
    {
     "data": {
      "image/png": "[encoded data removed]",
      "text/plain": [
       "<matplotlib.figure.Figure at 0x9a8c780>"
      ]
     },
     "metadata": {},
     "output_type": "display_data"
    }
   ],
   "source": [
    "cm = confusion_matrix(y_test, pred_lr1_test)\n",
    "classes = ['Not defaulted', 'Defaulted']\n",
    "plot_confusion_matrix(cm, classes,\n",
    "                          normalize=False,\n",
    "                          title='Confusion matrix',\n",
    "                          cmap=plt.cm.Blues)"
   ]
  },
  {
   "cell_type": "code",
   "execution_count": 73,
   "metadata": {},
   "outputs": [
    {
     "name": "stdout",
     "output_type": "stream",
     "text": [
      "Performance of the Logistic Regression model:\n",
      "Accuracy (train):  0.60866176798\n",
      "Area Under ROC curve (train): 0.646045399887\n",
      "Accuracy (test):  0.539874213836\n",
      "Area Under ROC curve (test): 0.660480787262\n"
     ]
    }
   ],
   "source": [
    "print(\"Performance of the Logistic Regression model:\")\n",
    "print(\"Accuracy (train): \", accuracy_score(y_train, pred_lr1_train) )\n",
    "print(\"Area Under ROC curve (train):\", roc_auc_score(y_train, prob_lr1_train) )\n",
    "print(\"Accuracy (test): \", accuracy_score(y_test, pred_lr1_test) )\n",
    "print(\"Area Under ROC curve (test):\", roc_auc_score(y_test, prob_lr1_test) )"
   ]
  },
  {
   "cell_type": "markdown",
   "metadata": {},
   "source": [
    "** ROC curve comparing the model created before and after class imbalance correction**"
   ]
  },
  {
   "cell_type": "code",
   "execution_count": 74,
   "metadata": {},
   "outputs": [
    {
     "data": {
      "image/png": "[encoded data removed]",
      "text/plain": [
       "<matplotlib.figure.Figure at 0x9a5a358>"
      ]
     },
     "metadata": {},
     "output_type": "display_data"
    }
   ],
   "source": [
    "draw_roc_curve(y_test, regression_0=prob_lr0_test, regression_1=prob_lr1_test)"
   ]
  },
  {
   "cell_type": "markdown",
   "metadata": {},
   "source": [
    "### Decision Tree\n",
    "\n",
    "Use max depth of 4 with min sample leafs 5"
   ]
  },
  {
   "cell_type": "code",
   "execution_count": 75,
   "metadata": {
    "collapsed": true
   },
   "outputs": [],
   "source": [
    "from sklearn import tree"
   ]
  },
  {
   "cell_type": "code",
   "execution_count": 76,
   "metadata": {},
   "outputs": [
    {
     "data": {
      "text/plain": [
       "DecisionTreeClassifier(class_weight=None, criterion='gini', max_depth=4,\n",
       "            max_features=None, max_leaf_nodes=None,\n",
       "            min_impurity_decrease=0.0, min_impurity_split=None,\n",
       "            min_samples_leaf=5, min_samples_split=2,\n",
       "            min_weight_fraction_leaf=0.0, presort=False, random_state=None,\n",
       "            splitter='best')"
      ]
     },
     "execution_count": 76,
     "metadata": {},
     "output_type": "execute_result"
    }
   ],
   "source": [
    "treemodel = tree.DecisionTreeClassifier(max_depth=4, min_samples_leaf =5)\n",
    "treemodel = treemodel.fit(X_train, y_train)\n",
    "treemodel"
   ]
  },
  {
   "cell_type": "code",
   "execution_count": 77,
   "metadata": {
    "collapsed": true
   },
   "outputs": [],
   "source": [
    "pred_tree_train = treemodel.predict(X_train)\n",
    "prob_tree_train = treemodel.predict_proba(X_train)[:,1]\n",
    "pred_tree_test = treemodel.predict(X_test)\n",
    "prob_tree_test = treemodel.predict_proba(X_test)[:,1]"
   ]
  },
  {
   "cell_type": "code",
   "execution_count": 78,
   "metadata": {},
   "outputs": [
    {
     "name": "stdout",
     "output_type": "stream",
     "text": [
      "Performance of the Decision Tree model:\n",
      "Accuracy (train):  0.632153195279\n",
      "Area Under ROC curve (train): 0.68017484287\n",
      "Accuracy (test):  0.633459119497\n",
      "Area Under ROC curve (test): 0.675839707996\n"
     ]
    }
   ],
   "source": [
    "print(\"Performance of the Decision Tree model:\")\n",
    "print(\"Accuracy (train): \", accuracy_score(y_train, pred_tree_train) )\n",
    "print(\"Area Under ROC curve (train):\", roc_auc_score(y_train, prob_tree_train) )\n",
    "print(\"Accuracy (test): \", accuracy_score(y_test, pred_tree_test) )\n",
    "print(\"Area Under ROC curve (test):\", roc_auc_score(y_test, prob_tree_test) )"
   ]
  },
  {
   "cell_type": "code",
   "execution_count": 79,
   "metadata": {},
   "outputs": [
    {
     "name": "stdout",
     "output_type": "stream",
     "text": [
      "Confusion matrix, without normalization\n",
      "[[4299 2473]\n",
      " [ 441  737]]\n"
     ]
    },
    {
     "data": {
      "image/png": "[encoded data removed]",
      "text/plain": [
       "<matplotlib.figure.Figure at 0xc585e48>"
      ]
     },
     "metadata": {},
     "output_type": "display_data"
    }
   ],
   "source": [
    "cm = confusion_matrix(y_test, pred_tree_test)\n",
    "classes = ['Not defaulted', 'Defaulted']\n",
    "plot_confusion_matrix(cm, classes,\n",
    "                          normalize=False,\n",
    "                          title='Confusion matrix',\n",
    "                          cmap=plt.cm.Blues)"
   ]
  },
  {
   "cell_type": "code",
   "execution_count": 80,
   "metadata": {},
   "outputs": [
    {
     "data": {
      "image/png": "[encoded data removed]",
      "text/plain": [
       "<matplotlib.figure.Figure at 0xca56f98>"
      ]
     },
     "metadata": {},
     "output_type": "display_data"
    }
   ],
   "source": [
    "draw_roc_curve(y_test, regression_0=prob_lr0_test, regression_1=prob_lr1_test, tree=prob_tree_test)"
   ]
  },
  {
   "cell_type": "markdown",
   "metadata": {},
   "source": [
    "### Visualizing and interpreting a Decision Tree\n",
    "The learned internal tree structure of a decision tree can be visualized with a python component called graphviz. Let's examine the structure and see how we can interpret the resulting decision rules. Color coding can help us see the decision and it's confidence."
   ]
  },
  {
   "cell_type": "code",
   "execution_count": 81,
   "metadata": {},
   "outputs": [
    {
     "data": {
      "image/svg+xml": [
       "<?xml version=\"1.0\" encoding=\"UTF-8\" standalone=\"no\"?>\r\n",
       "<!DOCTYPE svg PUBLIC \"-//W3C//DTD SVG 1.1//EN\"\r\n",
       " \"http://www.w3.org/Graphics/SVG/1.1/DTD/svg11.dtd\">\r\n",
       "<!-- Generated by graphviz version 2.38.0 (20140413.2041)\r\n",
       " -->\r\n",
       "<!-- Title: Tree Pages: 1 -->\r\n",
       "<svg width=\"2128pt\" height=\"477pt\"\r\n",
       " viewBox=\"0.00 0.00 2127.50 477.00\" xmlns=\"http://www.w3.org/2000/svg\" xmlns:xlink=\"http://www.w3.org/1999/xlink\">\r\n",
       "<g id=\"graph0\" class=\"graph\" transform=\"scale(1 1) rotate(0) translate(4 473)\">\r\n",
       "<title>Tree</title>\r\n",
       "<polygon fill=\"white\" stroke=\"none\" points=\"-4,4 -4,-473 2123.5,-473 2123.5,4 -4,4\"/>\r\n",
       "<!-- 0 -->\r\n",
       "<g id=\"node1\" class=\"node\"><title>0</title>\r\n",
       "<polygon fill=\"none\" stroke=\"black\" points=\"1125.5,-469 994.5,-469 994.5,-401 1125.5,-401 1125.5,-469\"/>\r\n",
       "<text text-anchor=\"middle\" x=\"1060\" y=\"-453.8\" font-family=\"Times New Roman,serif\" font-size=\"14.00\">grade &lt;= 2.5</text>\r\n",
       "<text text-anchor=\"middle\" x=\"1060\" y=\"-438.8\" font-family=\"Times New Roman,serif\" font-size=\"14.00\">gini = 0.5</text>\r\n",
       "<text text-anchor=\"middle\" x=\"1060\" y=\"-423.8\" font-family=\"Times New Roman,serif\" font-size=\"14.00\">samples = 8982</text>\r\n",
       "<text text-anchor=\"middle\" x=\"1060\" y=\"-408.8\" font-family=\"Times New Roman,serif\" font-size=\"14.00\">value = [4491, 4491]</text>\r\n",
       "</g>\r\n",
       "<!-- 1 -->\r\n",
       "<g id=\"node2\" class=\"node\"><title>1</title>\r\n",
       "<polygon fill=\"#e58139\" fill-opacity=\"0.400000\" stroke=\"black\" points=\"859.5,-365 728.5,-365 728.5,-297 859.5,-297 859.5,-365\"/>\r\n",
       "<text text-anchor=\"middle\" x=\"794\" y=\"-349.8\" font-family=\"Times New Roman,serif\" font-size=\"14.00\">int_rate &lt;= 8.195</text>\r\n",
       "<text text-anchor=\"middle\" x=\"794\" y=\"-334.8\" font-family=\"Times New Roman,serif\" font-size=\"14.00\">gini = 0.469</text>\r\n",
       "<text text-anchor=\"middle\" x=\"794\" y=\"-319.8\" font-family=\"Times New Roman,serif\" font-size=\"14.00\">samples = 4266</text>\r\n",
       "<text text-anchor=\"middle\" x=\"794\" y=\"-304.8\" font-family=\"Times New Roman,serif\" font-size=\"14.00\">value = [2663, 1603]</text>\r\n",
       "</g>\r\n",
       "<!-- 0&#45;&gt;1 -->\r\n",
       "<g id=\"edge1\" class=\"edge\"><title>0&#45;&gt;1</title>\r\n",
       "<path fill=\"none\" stroke=\"black\" d=\"M994.247,-408.787C956.521,-394.32 908.998,-376.097 869.717,-361.034\"/>\r\n",
       "<polygon fill=\"black\" stroke=\"black\" points=\"870.509,-357.589 859.918,-357.277 868.002,-364.125 870.509,-357.589\"/>\r\n",
       "<text text-anchor=\"middle\" x=\"870.095\" y=\"-376.412\" font-family=\"Times New Roman,serif\" font-size=\"14.00\">True</text>\r\n",
       "</g>\r\n",
       "<!-- 16 -->\r\n",
       "<g id=\"node17\" class=\"node\"><title>16</title>\r\n",
       "<polygon fill=\"#399de5\" fill-opacity=\"0.368627\" stroke=\"black\" points=\"1397.5,-365 1266.5,-365 1266.5,-297 1397.5,-297 1397.5,-365\"/>\r\n",
       "<text text-anchor=\"middle\" x=\"1332\" y=\"-349.8\" font-family=\"Times New Roman,serif\" font-size=\"14.00\">int_rate &lt;= 16.015</text>\r\n",
       "<text text-anchor=\"middle\" x=\"1332\" y=\"-334.8\" font-family=\"Times New Roman,serif\" font-size=\"14.00\">gini = 0.475</text>\r\n",
       "<text text-anchor=\"middle\" x=\"1332\" y=\"-319.8\" font-family=\"Times New Roman,serif\" font-size=\"14.00\">samples = 4716</text>\r\n",
       "<text text-anchor=\"middle\" x=\"1332\" y=\"-304.8\" font-family=\"Times New Roman,serif\" font-size=\"14.00\">value = [1828, 2888]</text>\r\n",
       "</g>\r\n",
       "<!-- 0&#45;&gt;16 -->\r\n",
       "<g id=\"edge16\" class=\"edge\"><title>0&#45;&gt;16</title>\r\n",
       "<path fill=\"none\" stroke=\"black\" d=\"M1125.84,-409.309C1165.37,-394.485 1215.79,-375.579 1256.87,-360.173\"/>\r\n",
       "<polygon fill=\"black\" stroke=\"black\" points=\"1258.16,-363.429 1266.29,-356.641 1255.7,-356.875 1258.16,-363.429\"/>\r\n",
       "<text text-anchor=\"middle\" x=\"1255.95\" y=\"-375.7\" font-family=\"Times New Roman,serif\" font-size=\"14.00\">False</text>\r\n",
       "</g>\r\n",
       "<!-- 2 -->\r\n",
       "<g id=\"node3\" class=\"node\"><title>2</title>\r\n",
       "<polygon fill=\"#e58139\" fill-opacity=\"0.647059\" stroke=\"black\" points=\"471,-261 327,-261 327,-193 471,-193 471,-261\"/>\r\n",
       "<text text-anchor=\"middle\" x=\"399\" y=\"-245.8\" font-family=\"Times New Roman,serif\" font-size=\"14.00\">annual_inc &lt;= 60050.0</text>\r\n",
       "<text text-anchor=\"middle\" x=\"399\" y=\"-230.8\" font-family=\"Times New Roman,serif\" font-size=\"14.00\">gini = 0.385</text>\r\n",
       "<text text-anchor=\"middle\" x=\"399\" y=\"-215.8\" font-family=\"Times New Roman,serif\" font-size=\"14.00\">samples = 1366</text>\r\n",
       "<text text-anchor=\"middle\" x=\"399\" y=\"-200.8\" font-family=\"Times New Roman,serif\" font-size=\"14.00\">value = [1011, 355]</text>\r\n",
       "</g>\r\n",
       "<!-- 1&#45;&gt;2 -->\r\n",
       "<g id=\"edge2\" class=\"edge\"><title>1&#45;&gt;2</title>\r\n",
       "<path fill=\"none\" stroke=\"black\" d=\"M728.33,-313.042C660.551,-295.54 554.647,-268.192 481.314,-249.256\"/>\r\n",
       "<polygon fill=\"black\" stroke=\"black\" points=\"481.748,-245.753 471.19,-246.642 479.997,-252.531 481.748,-245.753\"/>\r\n",
       "</g>\r\n",
       "<!-- 9 -->\r\n",
       "<g id=\"node10\" class=\"node\"><title>9</title>\r\n",
       "<polygon fill=\"#e58139\" fill-opacity=\"0.243137\" stroke=\"black\" points=\"866,-261 722,-261 722,-193 866,-193 866,-261\"/>\r\n",
       "<text text-anchor=\"middle\" x=\"794\" y=\"-245.8\" font-family=\"Times New Roman,serif\" font-size=\"14.00\">annual_inc &lt;= 64185.0</text>\r\n",
       "<text text-anchor=\"middle\" x=\"794\" y=\"-230.8\" font-family=\"Times New Roman,serif\" font-size=\"14.00\">gini = 0.49</text>\r\n",
       "<text text-anchor=\"middle\" x=\"794\" y=\"-215.8\" font-family=\"Times New Roman,serif\" font-size=\"14.00\">samples = 2900</text>\r\n",
       "<text text-anchor=\"middle\" x=\"794\" y=\"-200.8\" font-family=\"Times New Roman,serif\" font-size=\"14.00\">value = [1652, 1248]</text>\r\n",
       "</g>\r\n",
       "<!-- 1&#45;&gt;9 -->\r\n",
       "<g id=\"edge9\" class=\"edge\"><title>1&#45;&gt;9</title>\r\n",
       "<path fill=\"none\" stroke=\"black\" d=\"M794,-296.884C794,-288.778 794,-279.982 794,-271.472\"/>\r\n",
       "<polygon fill=\"black\" stroke=\"black\" points=\"797.5,-271.299 794,-261.299 790.5,-271.299 797.5,-271.299\"/>\r\n",
       "</g>\r\n",
       "<!-- 3 -->\r\n",
       "<g id=\"node4\" class=\"node\"><title>3</title>\r\n",
       "<polygon fill=\"#e58139\" fill-opacity=\"0.490196\" stroke=\"black\" points=\"267,-157 123,-157 123,-89 267,-89 267,-157\"/>\r\n",
       "<text text-anchor=\"middle\" x=\"195\" y=\"-141.8\" font-family=\"Times New Roman,serif\" font-size=\"14.00\">annual_inc &lt;= 43979.0</text>\r\n",
       "<text text-anchor=\"middle\" x=\"195\" y=\"-126.8\" font-family=\"Times New Roman,serif\" font-size=\"14.00\">gini = 0.447</text>\r\n",
       "<text text-anchor=\"middle\" x=\"195\" y=\"-111.8\" font-family=\"Times New Roman,serif\" font-size=\"14.00\">samples = 790</text>\r\n",
       "<text text-anchor=\"middle\" x=\"195\" y=\"-96.8\" font-family=\"Times New Roman,serif\" font-size=\"14.00\">value = [523, 267]</text>\r\n",
       "</g>\r\n",
       "<!-- 2&#45;&gt;3 -->\r\n",
       "<g id=\"edge3\" class=\"edge\"><title>2&#45;&gt;3</title>\r\n",
       "<path fill=\"none\" stroke=\"black\" d=\"M332.767,-192.884C312.802,-182.901 290.744,-171.872 270.239,-161.619\"/>\r\n",
       "<polygon fill=\"black\" stroke=\"black\" points=\"271.759,-158.466 261.249,-157.125 268.628,-164.727 271.759,-158.466\"/>\r\n",
       "</g>\r\n",
       "<!-- 6 -->\r\n",
       "<g id=\"node7\" class=\"node\"><title>6</title>\r\n",
       "<polygon fill=\"#e58139\" fill-opacity=\"0.819608\" stroke=\"black\" points=\"454.5,-157 343.5,-157 343.5,-89 454.5,-89 454.5,-157\"/>\r\n",
       "<text text-anchor=\"middle\" x=\"399\" y=\"-141.8\" font-family=\"Times New Roman,serif\" font-size=\"14.00\">int_rate &lt;= 7.33</text>\r\n",
       "<text text-anchor=\"middle\" x=\"399\" y=\"-126.8\" font-family=\"Times New Roman,serif\" font-size=\"14.00\">gini = 0.259</text>\r\n",
       "<text text-anchor=\"middle\" x=\"399\" y=\"-111.8\" font-family=\"Times New Roman,serif\" font-size=\"14.00\">samples = 576</text>\r\n",
       "<text text-anchor=\"middle\" x=\"399\" y=\"-96.8\" font-family=\"Times New Roman,serif\" font-size=\"14.00\">value = [488, 88]</text>\r\n",
       "</g>\r\n",
       "<!-- 2&#45;&gt;6 -->\r\n",
       "<g id=\"edge6\" class=\"edge\"><title>2&#45;&gt;6</title>\r\n",
       "<path fill=\"none\" stroke=\"black\" d=\"M399,-192.884C399,-184.778 399,-175.982 399,-167.472\"/>\r\n",
       "<polygon fill=\"black\" stroke=\"black\" points=\"402.5,-167.299 399,-157.299 395.5,-167.299 402.5,-167.299\"/>\r\n",
       "</g>\r\n",
       "<!-- 4 -->\r\n",
       "<g id=\"node5\" class=\"node\"><title>4</title>\r\n",
       "<polygon fill=\"#e58139\" fill-opacity=\"0.356863\" stroke=\"black\" points=\"118,-53 0,-53 0,-0 118,-0 118,-53\"/>\r\n",
       "<text text-anchor=\"middle\" x=\"59\" y=\"-37.8\" font-family=\"Times New Roman,serif\" font-size=\"14.00\">gini = 0.477</text>\r\n",
       "<text text-anchor=\"middle\" x=\"59\" y=\"-22.8\" font-family=\"Times New Roman,serif\" font-size=\"14.00\">samples = 411</text>\r\n",
       "<text text-anchor=\"middle\" x=\"59\" y=\"-7.8\" font-family=\"Times New Roman,serif\" font-size=\"14.00\">value = [250, 161]</text>\r\n",
       "</g>\r\n",
       "<!-- 3&#45;&gt;4 -->\r\n",
       "<g id=\"edge4\" class=\"edge\"><title>3&#45;&gt;4</title>\r\n",
       "<path fill=\"none\" stroke=\"black\" d=\"M147.434,-88.9485C133.478,-79.2516 118.257,-68.6752 104.438,-59.073\"/>\r\n",
       "<polygon fill=\"black\" stroke=\"black\" points=\"106.248,-56.0687 96.0391,-53.2367 102.254,-61.8172 106.248,-56.0687\"/>\r\n",
       "</g>\r\n",
       "<!-- 5 -->\r\n",
       "<g id=\"node6\" class=\"node\"><title>5</title>\r\n",
       "<polygon fill=\"#e58139\" fill-opacity=\"0.611765\" stroke=\"black\" points=\"254,-53 136,-53 136,-0 254,-0 254,-53\"/>\r\n",
       "<text text-anchor=\"middle\" x=\"195\" y=\"-37.8\" font-family=\"Times New Roman,serif\" font-size=\"14.00\">gini = 0.403</text>\r\n",
       "<text text-anchor=\"middle\" x=\"195\" y=\"-22.8\" font-family=\"Times New Roman,serif\" font-size=\"14.00\">samples = 379</text>\r\n",
       "<text text-anchor=\"middle\" x=\"195\" y=\"-7.8\" font-family=\"Times New Roman,serif\" font-size=\"14.00\">value = [273, 106]</text>\r\n",
       "</g>\r\n",
       "<!-- 3&#45;&gt;5 -->\r\n",
       "<g id=\"edge5\" class=\"edge\"><title>3&#45;&gt;5</title>\r\n",
       "<path fill=\"none\" stroke=\"black\" d=\"M195,-88.9485C195,-80.7153 195,-71.848 195,-63.4814\"/>\r\n",
       "<polygon fill=\"black\" stroke=\"black\" points=\"198.5,-63.2367 195,-53.2367 191.5,-63.2367 198.5,-63.2367\"/>\r\n",
       "</g>\r\n",
       "<!-- 7 -->\r\n",
       "<g id=\"node8\" class=\"node\"><title>7</title>\r\n",
       "<polygon fill=\"#e58139\" fill-opacity=\"0.886275\" stroke=\"black\" points=\"383.5,-53 272.5,-53 272.5,-0 383.5,-0 383.5,-53\"/>\r\n",
       "<text text-anchor=\"middle\" x=\"328\" y=\"-37.8\" font-family=\"Times New Roman,serif\" font-size=\"14.00\">gini = 0.184</text>\r\n",
       "<text text-anchor=\"middle\" x=\"328\" y=\"-22.8\" font-family=\"Times New Roman,serif\" font-size=\"14.00\">samples = 331</text>\r\n",
       "<text text-anchor=\"middle\" x=\"328\" y=\"-7.8\" font-family=\"Times New Roman,serif\" font-size=\"14.00\">value = [297, 34]</text>\r\n",
       "</g>\r\n",
       "<!-- 6&#45;&gt;7 -->\r\n",
       "<g id=\"edge7\" class=\"edge\"><title>6&#45;&gt;7</title>\r\n",
       "<path fill=\"none\" stroke=\"black\" d=\"M374.168,-88.9485C367.432,-79.9834 360.132,-70.2666 353.367,-61.2629\"/>\r\n",
       "<polygon fill=\"black\" stroke=\"black\" points=\"356.142,-59.1293 347.337,-53.2367 350.545,-63.334 356.142,-59.1293\"/>\r\n",
       "</g>\r\n",
       "<!-- 8 -->\r\n",
       "<g id=\"node9\" class=\"node\"><title>8</title>\r\n",
       "<polygon fill=\"#e58139\" fill-opacity=\"0.717647\" stroke=\"black\" points=\"512.5,-53 401.5,-53 401.5,-0 512.5,-0 512.5,-53\"/>\r\n",
       "<text text-anchor=\"middle\" x=\"457\" y=\"-37.8\" font-family=\"Times New Roman,serif\" font-size=\"14.00\">gini = 0.344</text>\r\n",
       "<text text-anchor=\"middle\" x=\"457\" y=\"-22.8\" font-family=\"Times New Roman,serif\" font-size=\"14.00\">samples = 245</text>\r\n",
       "<text text-anchor=\"middle\" x=\"457\" y=\"-7.8\" font-family=\"Times New Roman,serif\" font-size=\"14.00\">value = [191, 54]</text>\r\n",
       "</g>\r\n",
       "<!-- 6&#45;&gt;8 -->\r\n",
       "<g id=\"edge8\" class=\"edge\"><title>6&#45;&gt;8</title>\r\n",
       "<path fill=\"none\" stroke=\"black\" d=\"M419.286,-88.9485C424.676,-80.1664 430.508,-70.6629 435.939,-61.815\"/>\r\n",
       "<polygon fill=\"black\" stroke=\"black\" points=\"438.956,-63.5903 441.204,-53.2367 432.99,-59.9287 438.956,-63.5903\"/>\r\n",
       "</g>\r\n",
       "<!-- 10 -->\r\n",
       "<g id=\"node11\" class=\"node\"><title>10</title>\r\n",
       "<polygon fill=\"#e58139\" fill-opacity=\"0.082353\" stroke=\"black\" points=\"776,-157 658,-157 658,-89 776,-89 776,-157\"/>\r\n",
       "<text text-anchor=\"middle\" x=\"717\" y=\"-141.8\" font-family=\"Times New Roman,serif\" font-size=\"14.00\">term &lt;= 48.0</text>\r\n",
       "<text text-anchor=\"middle\" x=\"717\" y=\"-126.8\" font-family=\"Times New Roman,serif\" font-size=\"14.00\">gini = 0.499</text>\r\n",
       "<text text-anchor=\"middle\" x=\"717\" y=\"-111.8\" font-family=\"Times New Roman,serif\" font-size=\"14.00\">samples = 1797</text>\r\n",
       "<text text-anchor=\"middle\" x=\"717\" y=\"-96.8\" font-family=\"Times New Roman,serif\" font-size=\"14.00\">value = [937, 860]</text>\r\n",
       "</g>\r\n",
       "<!-- 9&#45;&gt;10 -->\r\n",
       "<g id=\"edge10\" class=\"edge\"><title>9&#45;&gt;10</title>\r\n",
       "<path fill=\"none\" stroke=\"black\" d=\"M769,-192.884C762.411,-184.154 755.217,-174.625 748.339,-165.514\"/>\r\n",
       "<polygon fill=\"black\" stroke=\"black\" points=\"750.956,-163.172 742.138,-157.299 745.369,-167.389 750.956,-163.172\"/>\r\n",
       "</g>\r\n",
       "<!-- 13 -->\r\n",
       "<g id=\"node14\" class=\"node\"><title>13</title>\r\n",
       "<polygon fill=\"#e58139\" fill-opacity=\"0.458824\" stroke=\"black\" points=\"945.5,-157 794.5,-157 794.5,-89 945.5,-89 945.5,-157\"/>\r\n",
       "<text text-anchor=\"middle\" x=\"870\" y=\"-141.8\" font-family=\"Times New Roman,serif\" font-size=\"14.00\">annual_inc &lt;= 103281.5</text>\r\n",
       "<text text-anchor=\"middle\" x=\"870\" y=\"-126.8\" font-family=\"Times New Roman,serif\" font-size=\"14.00\">gini = 0.456</text>\r\n",
       "<text text-anchor=\"middle\" x=\"870\" y=\"-111.8\" font-family=\"Times New Roman,serif\" font-size=\"14.00\">samples = 1103</text>\r\n",
       "<text text-anchor=\"middle\" x=\"870\" y=\"-96.8\" font-family=\"Times New Roman,serif\" font-size=\"14.00\">value = [715, 388]</text>\r\n",
       "</g>\r\n",
       "<!-- 9&#45;&gt;13 -->\r\n",
       "<g id=\"edge13\" class=\"edge\"><title>9&#45;&gt;13</title>\r\n",
       "<path fill=\"none\" stroke=\"black\" d=\"M818.675,-192.884C825.179,-184.154 832.28,-174.625 839.068,-165.514\"/>\r\n",
       "<polygon fill=\"black\" stroke=\"black\" points=\"842.02,-167.409 845.189,-157.299 836.407,-163.227 842.02,-167.409\"/>\r\n",
       "</g>\r\n",
       "<!-- 11 -->\r\n",
       "<g id=\"node12\" class=\"node\"><title>11</title>\r\n",
       "<polygon fill=\"#e58139\" fill-opacity=\"0.207843\" stroke=\"black\" points=\"649,-53 531,-53 531,-0 649,-0 649,-53\"/>\r\n",
       "<text text-anchor=\"middle\" x=\"590\" y=\"-37.8\" font-family=\"Times New Roman,serif\" font-size=\"14.00\">gini = 0.493</text>\r\n",
       "<text text-anchor=\"middle\" x=\"590\" y=\"-22.8\" font-family=\"Times New Roman,serif\" font-size=\"14.00\">samples = 1405</text>\r\n",
       "<text text-anchor=\"middle\" x=\"590\" y=\"-7.8\" font-family=\"Times New Roman,serif\" font-size=\"14.00\">value = [784, 621]</text>\r\n",
       "</g>\r\n",
       "<!-- 10&#45;&gt;11 -->\r\n",
       "<g id=\"edge11\" class=\"edge\"><title>10&#45;&gt;11</title>\r\n",
       "<path fill=\"none\" stroke=\"black\" d=\"M672.582,-88.9485C659.673,-79.3431 645.604,-68.8747 632.797,-59.345\"/>\r\n",
       "<polygon fill=\"black\" stroke=\"black\" points=\"634.7,-56.3984 624.588,-53.2367 630.521,-62.0143 634.7,-56.3984\"/>\r\n",
       "</g>\r\n",
       "<!-- 12 -->\r\n",
       "<g id=\"node13\" class=\"node\"><title>12</title>\r\n",
       "<polygon fill=\"#399de5\" fill-opacity=\"0.360784\" stroke=\"black\" points=\"785,-53 667,-53 667,-0 785,-0 785,-53\"/>\r\n",
       "<text text-anchor=\"middle\" x=\"726\" y=\"-37.8\" font-family=\"Times New Roman,serif\" font-size=\"14.00\">gini = 0.476</text>\r\n",
       "<text text-anchor=\"middle\" x=\"726\" y=\"-22.8\" font-family=\"Times New Roman,serif\" font-size=\"14.00\">samples = 392</text>\r\n",
       "<text text-anchor=\"middle\" x=\"726\" y=\"-7.8\" font-family=\"Times New Roman,serif\" font-size=\"14.00\">value = [153, 239]</text>\r\n",
       "</g>\r\n",
       "<!-- 10&#45;&gt;12 -->\r\n",
       "<g id=\"edge12\" class=\"edge\"><title>10&#45;&gt;12</title>\r\n",
       "<path fill=\"none\" stroke=\"black\" d=\"M720.148,-88.9485C720.941,-80.6238 721.795,-71.6509 722.6,-63.2027\"/>\r\n",
       "<polygon fill=\"black\" stroke=\"black\" points=\"726.085,-63.5235 723.549,-53.2367 719.116,-62.8598 726.085,-63.5235\"/>\r\n",
       "</g>\r\n",
       "<!-- 14 -->\r\n",
       "<g id=\"node15\" class=\"node\"><title>14</title>\r\n",
       "<polygon fill=\"#e58139\" fill-opacity=\"0.376471\" stroke=\"black\" points=\"921,-53 803,-53 803,-0 921,-0 921,-53\"/>\r\n",
       "<text text-anchor=\"middle\" x=\"862\" y=\"-37.8\" font-family=\"Times New Roman,serif\" font-size=\"14.00\">gini = 0.473</text>\r\n",
       "<text text-anchor=\"middle\" x=\"862\" y=\"-22.8\" font-family=\"Times New Roman,serif\" font-size=\"14.00\">samples = 759</text>\r\n",
       "<text text-anchor=\"middle\" x=\"862\" y=\"-7.8\" font-family=\"Times New Roman,serif\" font-size=\"14.00\">value = [467, 292]</text>\r\n",
       "</g>\r\n",
       "<!-- 13&#45;&gt;14 -->\r\n",
       "<g id=\"edge14\" class=\"edge\"><title>13&#45;&gt;14</title>\r\n",
       "<path fill=\"none\" stroke=\"black\" d=\"M867.202,-88.9485C866.497,-80.6238 865.738,-71.6509 865.022,-63.2027\"/>\r\n",
       "<polygon fill=\"black\" stroke=\"black\" points=\"868.51,-62.9058 864.179,-53.2367 861.535,-63.4963 868.51,-62.9058\"/>\r\n",
       "</g>\r\n",
       "<!-- 15 -->\r\n",
       "<g id=\"node16\" class=\"node\"><title>15</title>\r\n",
       "<polygon fill=\"#e58139\" fill-opacity=\"0.611765\" stroke=\"black\" points=\"1050.5,-53 939.5,-53 939.5,-0 1050.5,-0 1050.5,-53\"/>\r\n",
       "<text text-anchor=\"middle\" x=\"995\" y=\"-37.8\" font-family=\"Times New Roman,serif\" font-size=\"14.00\">gini = 0.402</text>\r\n",
       "<text text-anchor=\"middle\" x=\"995\" y=\"-22.8\" font-family=\"Times New Roman,serif\" font-size=\"14.00\">samples = 344</text>\r\n",
       "<text text-anchor=\"middle\" x=\"995\" y=\"-7.8\" font-family=\"Times New Roman,serif\" font-size=\"14.00\">value = [248, 96]</text>\r\n",
       "</g>\r\n",
       "<!-- 13&#45;&gt;15 -->\r\n",
       "<g id=\"edge15\" class=\"edge\"><title>13&#45;&gt;15</title>\r\n",
       "<path fill=\"none\" stroke=\"black\" d=\"M913.719,-88.9485C926.424,-79.3431 940.272,-68.8747 952.877,-59.345\"/>\r\n",
       "<polygon fill=\"black\" stroke=\"black\" points=\"955.09,-62.0593 960.957,-53.2367 950.869,-56.4754 955.09,-62.0593\"/>\r\n",
       "</g>\r\n",
       "<!-- 17 -->\r\n",
       "<g id=\"node18\" class=\"node\"><title>17</title>\r\n",
       "<polygon fill=\"#399de5\" fill-opacity=\"0.211765\" stroke=\"black\" points=\"1397.5,-261 1266.5,-261 1266.5,-193 1397.5,-193 1397.5,-261\"/>\r\n",
       "<text text-anchor=\"middle\" x=\"1332\" y=\"-245.8\" font-family=\"Times New Roman,serif\" font-size=\"14.00\">term &lt;= 48.0</text>\r\n",
       "<text text-anchor=\"middle\" x=\"1332\" y=\"-230.8\" font-family=\"Times New Roman,serif\" font-size=\"14.00\">gini = 0.493</text>\r\n",
       "<text text-anchor=\"middle\" x=\"1332\" y=\"-215.8\" font-family=\"Times New Roman,serif\" font-size=\"14.00\">samples = 2938</text>\r\n",
       "<text text-anchor=\"middle\" x=\"1332\" y=\"-200.8\" font-family=\"Times New Roman,serif\" font-size=\"14.00\">value = [1295, 1643]</text>\r\n",
       "</g>\r\n",
       "<!-- 16&#45;&gt;17 -->\r\n",
       "<g id=\"edge17\" class=\"edge\"><title>16&#45;&gt;17</title>\r\n",
       "<path fill=\"none\" stroke=\"black\" d=\"M1332,-296.884C1332,-288.778 1332,-279.982 1332,-271.472\"/>\r\n",
       "<polygon fill=\"black\" stroke=\"black\" points=\"1335.5,-271.299 1332,-261.299 1328.5,-271.299 1335.5,-271.299\"/>\r\n",
       "</g>\r\n",
       "<!-- 24 -->\r\n",
       "<g id=\"node25\" class=\"node\"><title>24</title>\r\n",
       "<polygon fill=\"#399de5\" fill-opacity=\"0.572549\" stroke=\"black\" points=\"1781.5,-261 1656.5,-261 1656.5,-193 1781.5,-193 1781.5,-261\"/>\r\n",
       "<text text-anchor=\"middle\" x=\"1719\" y=\"-245.8\" font-family=\"Times New Roman,serif\" font-size=\"14.00\">int_rate &lt;= 19.715</text>\r\n",
       "<text text-anchor=\"middle\" x=\"1719\" y=\"-230.8\" font-family=\"Times New Roman,serif\" font-size=\"14.00\">gini = 0.42</text>\r\n",
       "<text text-anchor=\"middle\" x=\"1719\" y=\"-215.8\" font-family=\"Times New Roman,serif\" font-size=\"14.00\">samples = 1778</text>\r\n",
       "<text text-anchor=\"middle\" x=\"1719\" y=\"-200.8\" font-family=\"Times New Roman,serif\" font-size=\"14.00\">value = [533, 1245]</text>\r\n",
       "</g>\r\n",
       "<!-- 16&#45;&gt;24 -->\r\n",
       "<g id=\"edge24\" class=\"edge\"><title>16&#45;&gt;24</title>\r\n",
       "<path fill=\"none\" stroke=\"black\" d=\"M1397.65,-312.697C1466.65,-294.512 1574.9,-265.98 1646.4,-247.134\"/>\r\n",
       "<polygon fill=\"black\" stroke=\"black\" points=\"1647.46,-250.474 1656.24,-244.541 1645.68,-243.706 1647.46,-250.474\"/>\r\n",
       "</g>\r\n",
       "<!-- 18 -->\r\n",
       "<g id=\"node19\" class=\"node\"><title>18</title>\r\n",
       "<polygon fill=\"#399de5\" fill-opacity=\"0.105882\" stroke=\"black\" points=\"1323,-157 1179,-157 1179,-89 1323,-89 1323,-157\"/>\r\n",
       "<text text-anchor=\"middle\" x=\"1251\" y=\"-141.8\" font-family=\"Times New Roman,serif\" font-size=\"14.00\">annual_inc &lt;= 66060.0</text>\r\n",
       "<text text-anchor=\"middle\" x=\"1251\" y=\"-126.8\" font-family=\"Times New Roman,serif\" font-size=\"14.00\">gini = 0.498</text>\r\n",
       "<text text-anchor=\"middle\" x=\"1251\" y=\"-111.8\" font-family=\"Times New Roman,serif\" font-size=\"14.00\">samples = 1966</text>\r\n",
       "<text text-anchor=\"middle\" x=\"1251\" y=\"-96.8\" font-family=\"Times New Roman,serif\" font-size=\"14.00\">value = [928, 1038]</text>\r\n",
       "</g>\r\n",
       "<!-- 17&#45;&gt;18 -->\r\n",
       "<g id=\"edge18\" class=\"edge\"><title>17&#45;&gt;18</title>\r\n",
       "<path fill=\"none\" stroke=\"black\" d=\"M1305.7,-192.884C1298.7,-184.065 1291.05,-174.43 1283.75,-165.235\"/>\r\n",
       "<polygon fill=\"black\" stroke=\"black\" points=\"1286.4,-162.954 1277.44,-157.299 1280.92,-167.307 1286.4,-162.954\"/>\r\n",
       "</g>\r\n",
       "<!-- 21 -->\r\n",
       "<g id=\"node22\" class=\"node\"><title>21</title>\r\n",
       "<polygon fill=\"#399de5\" fill-opacity=\"0.392157\" stroke=\"black\" points=\"1485,-157 1341,-157 1341,-89 1485,-89 1485,-157\"/>\r\n",
       "<text text-anchor=\"middle\" x=\"1413\" y=\"-141.8\" font-family=\"Times New Roman,serif\" font-size=\"14.00\">annual_inc &lt;= 88718.0</text>\r\n",
       "<text text-anchor=\"middle\" x=\"1413\" y=\"-126.8\" font-family=\"Times New Roman,serif\" font-size=\"14.00\">gini = 0.47</text>\r\n",
       "<text text-anchor=\"middle\" x=\"1413\" y=\"-111.8\" font-family=\"Times New Roman,serif\" font-size=\"14.00\">samples = 972</text>\r\n",
       "<text text-anchor=\"middle\" x=\"1413\" y=\"-96.8\" font-family=\"Times New Roman,serif\" font-size=\"14.00\">value = [367, 605]</text>\r\n",
       "</g>\r\n",
       "<!-- 17&#45;&gt;21 -->\r\n",
       "<g id=\"edge21\" class=\"edge\"><title>17&#45;&gt;21</title>\r\n",
       "<path fill=\"none\" stroke=\"black\" d=\"M1358.3,-192.884C1365.3,-184.065 1372.95,-174.43 1380.25,-165.235\"/>\r\n",
       "<polygon fill=\"black\" stroke=\"black\" points=\"1383.08,-167.307 1386.56,-157.299 1377.6,-162.954 1383.08,-167.307\"/>\r\n",
       "</g>\r\n",
       "<!-- 19 -->\r\n",
       "<g id=\"node20\" class=\"node\"><title>19</title>\r\n",
       "<polygon fill=\"#399de5\" fill-opacity=\"0.203922\" stroke=\"black\" points=\"1187,-53 1069,-53 1069,-0 1187,-0 1187,-53\"/>\r\n",
       "<text text-anchor=\"middle\" x=\"1128\" y=\"-37.8\" font-family=\"Times New Roman,serif\" font-size=\"14.00\">gini = 0.494</text>\r\n",
       "<text text-anchor=\"middle\" x=\"1128\" y=\"-22.8\" font-family=\"Times New Roman,serif\" font-size=\"14.00\">samples = 1343</text>\r\n",
       "<text text-anchor=\"middle\" x=\"1128\" y=\"-7.8\" font-family=\"Times New Roman,serif\" font-size=\"14.00\">value = [596, 747]</text>\r\n",
       "</g>\r\n",
       "<!-- 18&#45;&gt;19 -->\r\n",
       "<g id=\"edge19\" class=\"edge\"><title>18&#45;&gt;19</title>\r\n",
       "<path fill=\"none\" stroke=\"black\" d=\"M1207.98,-88.9485C1195.48,-79.3431 1181.85,-68.8747 1169.45,-59.345\"/>\r\n",
       "<polygon fill=\"black\" stroke=\"black\" points=\"1171.56,-56.5537 1161.5,-53.2367 1167.3,-62.1046 1171.56,-56.5537\"/>\r\n",
       "</g>\r\n",
       "<!-- 20 -->\r\n",
       "<g id=\"node21\" class=\"node\"><title>20</title>\r\n",
       "<polygon fill=\"#e58139\" fill-opacity=\"0.121569\" stroke=\"black\" points=\"1323,-53 1205,-53 1205,-0 1323,-0 1323,-53\"/>\r\n",
       "<text text-anchor=\"middle\" x=\"1264\" y=\"-37.8\" font-family=\"Times New Roman,serif\" font-size=\"14.00\">gini = 0.498</text>\r\n",
       "<text text-anchor=\"middle\" x=\"1264\" y=\"-22.8\" font-family=\"Times New Roman,serif\" font-size=\"14.00\">samples = 623</text>\r\n",
       "<text text-anchor=\"middle\" x=\"1264\" y=\"-7.8\" font-family=\"Times New Roman,serif\" font-size=\"14.00\">value = [332, 291]</text>\r\n",
       "</g>\r\n",
       "<!-- 18&#45;&gt;20 -->\r\n",
       "<g id=\"edge20\" class=\"edge\"><title>18&#45;&gt;20</title>\r\n",
       "<path fill=\"none\" stroke=\"black\" d=\"M1255.55,-88.9485C1256.69,-80.6238 1257.93,-71.6509 1259.09,-63.2027\"/>\r\n",
       "<polygon fill=\"black\" stroke=\"black\" points=\"1262.56,-63.6204 1260.46,-53.2367 1255.63,-62.6664 1262.56,-63.6204\"/>\r\n",
       "</g>\r\n",
       "<!-- 22 -->\r\n",
       "<g id=\"node23\" class=\"node\"><title>22</title>\r\n",
       "<polygon fill=\"#399de5\" fill-opacity=\"0.466667\" stroke=\"black\" points=\"1459,-53 1341,-53 1341,-0 1459,-0 1459,-53\"/>\r\n",
       "<text text-anchor=\"middle\" x=\"1400\" y=\"-37.8\" font-family=\"Times New Roman,serif\" font-size=\"14.00\">gini = 0.453</text>\r\n",
       "<text text-anchor=\"middle\" x=\"1400\" y=\"-22.8\" font-family=\"Times New Roman,serif\" font-size=\"14.00\">samples = 772</text>\r\n",
       "<text text-anchor=\"middle\" x=\"1400\" y=\"-7.8\" font-family=\"Times New Roman,serif\" font-size=\"14.00\">value = [268, 504]</text>\r\n",
       "</g>\r\n",
       "<!-- 21&#45;&gt;22 -->\r\n",
       "<g id=\"edge22\" class=\"edge\"><title>21&#45;&gt;22</title>\r\n",
       "<path fill=\"none\" stroke=\"black\" d=\"M1408.45,-88.9485C1407.31,-80.6238 1406.07,-71.6509 1404.91,-63.2027\"/>\r\n",
       "<polygon fill=\"black\" stroke=\"black\" points=\"1408.37,-62.6664 1403.54,-53.2367 1401.44,-63.6204 1408.37,-62.6664\"/>\r\n",
       "</g>\r\n",
       "<!-- 23 -->\r\n",
       "<g id=\"node24\" class=\"node\"><title>23</title>\r\n",
       "<polygon fill=\"#399de5\" fill-opacity=\"0.019608\" stroke=\"black\" points=\"1588.5,-53 1477.5,-53 1477.5,-0 1588.5,-0 1588.5,-53\"/>\r\n",
       "<text text-anchor=\"middle\" x=\"1533\" y=\"-37.8\" font-family=\"Times New Roman,serif\" font-size=\"14.00\">gini = 0.5</text>\r\n",
       "<text text-anchor=\"middle\" x=\"1533\" y=\"-22.8\" font-family=\"Times New Roman,serif\" font-size=\"14.00\">samples = 200</text>\r\n",
       "<text text-anchor=\"middle\" x=\"1533\" y=\"-7.8\" font-family=\"Times New Roman,serif\" font-size=\"14.00\">value = [99, 101]</text>\r\n",
       "</g>\r\n",
       "<!-- 21&#45;&gt;23 -->\r\n",
       "<g id=\"edge23\" class=\"edge\"><title>21&#45;&gt;23</title>\r\n",
       "<path fill=\"none\" stroke=\"black\" d=\"M1454.97,-88.9485C1467.05,-79.4346 1480.21,-69.074 1492.22,-59.6175\"/>\r\n",
       "<polygon fill=\"black\" stroke=\"black\" points=\"1494.63,-62.1734 1500.32,-53.2367 1490.3,-56.6739 1494.63,-62.1734\"/>\r\n",
       "</g>\r\n",
       "<!-- 25 -->\r\n",
       "<g id=\"node26\" class=\"node\"><title>25</title>\r\n",
       "<polygon fill=\"#399de5\" fill-opacity=\"0.529412\" stroke=\"black\" points=\"1791,-157 1647,-157 1647,-89 1791,-89 1791,-157\"/>\r\n",
       "<text text-anchor=\"middle\" x=\"1719\" y=\"-141.8\" font-family=\"Times New Roman,serif\" font-size=\"14.00\">annual_inc &lt;= 80450.0</text>\r\n",
       "<text text-anchor=\"middle\" x=\"1719\" y=\"-126.8\" font-family=\"Times New Roman,serif\" font-size=\"14.00\">gini = 0.435</text>\r\n",
       "<text text-anchor=\"middle\" x=\"1719\" y=\"-111.8\" font-family=\"Times New Roman,serif\" font-size=\"14.00\">samples = 1445</text>\r\n",
       "<text text-anchor=\"middle\" x=\"1719\" y=\"-96.8\" font-family=\"Times New Roman,serif\" font-size=\"14.00\">value = [462, 983]</text>\r\n",
       "</g>\r\n",
       "<!-- 24&#45;&gt;25 -->\r\n",
       "<g id=\"edge25\" class=\"edge\"><title>24&#45;&gt;25</title>\r\n",
       "<path fill=\"none\" stroke=\"black\" d=\"M1719,-192.884C1719,-184.778 1719,-175.982 1719,-167.472\"/>\r\n",
       "<polygon fill=\"black\" stroke=\"black\" points=\"1722.5,-167.299 1719,-157.299 1715.5,-167.299 1722.5,-167.299\"/>\r\n",
       "</g>\r\n",
       "<!-- 28 -->\r\n",
       "<g id=\"node29\" class=\"node\"><title>28</title>\r\n",
       "<polygon fill=\"#399de5\" fill-opacity=\"0.729412\" stroke=\"black\" points=\"2007,-157 1863,-157 1863,-89 2007,-89 2007,-157\"/>\r\n",
       "<text text-anchor=\"middle\" x=\"1935\" y=\"-141.8\" font-family=\"Times New Roman,serif\" font-size=\"14.00\">annual_inc &lt;= 61629.5</text>\r\n",
       "<text text-anchor=\"middle\" x=\"1935\" y=\"-126.8\" font-family=\"Times New Roman,serif\" font-size=\"14.00\">gini = 0.336</text>\r\n",
       "<text text-anchor=\"middle\" x=\"1935\" y=\"-111.8\" font-family=\"Times New Roman,serif\" font-size=\"14.00\">samples = 333</text>\r\n",
       "<text text-anchor=\"middle\" x=\"1935\" y=\"-96.8\" font-family=\"Times New Roman,serif\" font-size=\"14.00\">value = [71, 262]</text>\r\n",
       "</g>\r\n",
       "<!-- 24&#45;&gt;28 -->\r\n",
       "<g id=\"edge28\" class=\"edge\"><title>24&#45;&gt;28</title>\r\n",
       "<path fill=\"none\" stroke=\"black\" d=\"M1781.77,-196.36C1804.85,-185.46 1831.3,-172.97 1855.65,-161.469\"/>\r\n",
       "<polygon fill=\"black\" stroke=\"black\" points=\"1857.32,-164.551 1864.87,-157.116 1854.34,-158.221 1857.32,-164.551\"/>\r\n",
       "</g>\r\n",
       "<!-- 26 -->\r\n",
       "<g id=\"node27\" class=\"node\"><title>26</title>\r\n",
       "<polygon fill=\"#399de5\" fill-opacity=\"0.588235\" stroke=\"black\" points=\"1725,-53 1607,-53 1607,-0 1725,-0 1725,-53\"/>\r\n",
       "<text text-anchor=\"middle\" x=\"1666\" y=\"-37.8\" font-family=\"Times New Roman,serif\" font-size=\"14.00\">gini = 0.413</text>\r\n",
       "<text text-anchor=\"middle\" x=\"1666\" y=\"-22.8\" font-family=\"Times New Roman,serif\" font-size=\"14.00\">samples = 1044</text>\r\n",
       "<text text-anchor=\"middle\" x=\"1666\" y=\"-7.8\" font-family=\"Times New Roman,serif\" font-size=\"14.00\">value = [304, 740]</text>\r\n",
       "</g>\r\n",
       "<!-- 25&#45;&gt;26 -->\r\n",
       "<g id=\"edge26\" class=\"edge\"><title>25&#45;&gt;26</title>\r\n",
       "<path fill=\"none\" stroke=\"black\" d=\"M1700.46,-88.9485C1695.59,-80.2579 1690.32,-70.8608 1685.4,-62.0917\"/>\r\n",
       "<polygon fill=\"black\" stroke=\"black\" points=\"1688.38,-60.2465 1680.43,-53.2367 1682.27,-63.6707 1688.38,-60.2465\"/>\r\n",
       "</g>\r\n",
       "<!-- 27 -->\r\n",
       "<g id=\"node28\" class=\"node\"><title>27</title>\r\n",
       "<polygon fill=\"#399de5\" fill-opacity=\"0.349020\" stroke=\"black\" points=\"1861,-53 1743,-53 1743,-0 1861,-0 1861,-53\"/>\r\n",
       "<text text-anchor=\"middle\" x=\"1802\" y=\"-37.8\" font-family=\"Times New Roman,serif\" font-size=\"14.00\">gini = 0.478</text>\r\n",
       "<text text-anchor=\"middle\" x=\"1802\" y=\"-22.8\" font-family=\"Times New Roman,serif\" font-size=\"14.00\">samples = 401</text>\r\n",
       "<text text-anchor=\"middle\" x=\"1802\" y=\"-7.8\" font-family=\"Times New Roman,serif\" font-size=\"14.00\">value = [158, 243]</text>\r\n",
       "</g>\r\n",
       "<!-- 25&#45;&gt;27 -->\r\n",
       "<g id=\"edge27\" class=\"edge\"><title>25&#45;&gt;27</title>\r\n",
       "<path fill=\"none\" stroke=\"black\" d=\"M1748.03,-88.9485C1755.98,-79.892 1764.61,-70.0682 1772.59,-60.9875\"/>\r\n",
       "<polygon fill=\"black\" stroke=\"black\" points=\"1775.43,-63.0599 1779.4,-53.2367 1770.17,-58.4405 1775.43,-63.0599\"/>\r\n",
       "</g>\r\n",
       "<!-- 29 -->\r\n",
       "<g id=\"node30\" class=\"node\"><title>29</title>\r\n",
       "<polygon fill=\"#399de5\" fill-opacity=\"0.894118\" stroke=\"black\" points=\"1990.5,-53 1879.5,-53 1879.5,-0 1990.5,-0 1990.5,-53\"/>\r\n",
       "<text text-anchor=\"middle\" x=\"1935\" y=\"-37.8\" font-family=\"Times New Roman,serif\" font-size=\"14.00\">gini = 0.174</text>\r\n",
       "<text text-anchor=\"middle\" x=\"1935\" y=\"-22.8\" font-family=\"Times New Roman,serif\" font-size=\"14.00\">samples = 114</text>\r\n",
       "<text text-anchor=\"middle\" x=\"1935\" y=\"-7.8\" font-family=\"Times New Roman,serif\" font-size=\"14.00\">value = [11, 103]</text>\r\n",
       "</g>\r\n",
       "<!-- 28&#45;&gt;29 -->\r\n",
       "<g id=\"edge29\" class=\"edge\"><title>28&#45;&gt;29</title>\r\n",
       "<path fill=\"none\" stroke=\"black\" d=\"M1935,-88.9485C1935,-80.7153 1935,-71.848 1935,-63.4814\"/>\r\n",
       "<polygon fill=\"black\" stroke=\"black\" points=\"1938.5,-63.2367 1935,-53.2367 1931.5,-63.2367 1938.5,-63.2367\"/>\r\n",
       "</g>\r\n",
       "<!-- 30 -->\r\n",
       "<g id=\"node31\" class=\"node\"><title>30</title>\r\n",
       "<polygon fill=\"#399de5\" fill-opacity=\"0.623529\" stroke=\"black\" points=\"2119.5,-53 2008.5,-53 2008.5,-0 2119.5,-0 2119.5,-53\"/>\r\n",
       "<text text-anchor=\"middle\" x=\"2064\" y=\"-37.8\" font-family=\"Times New Roman,serif\" font-size=\"14.00\">gini = 0.398</text>\r\n",
       "<text text-anchor=\"middle\" x=\"2064\" y=\"-22.8\" font-family=\"Times New Roman,serif\" font-size=\"14.00\">samples = 219</text>\r\n",
       "<text text-anchor=\"middle\" x=\"2064\" y=\"-7.8\" font-family=\"Times New Roman,serif\" font-size=\"14.00\">value = [60, 159]</text>\r\n",
       "</g>\r\n",
       "<!-- 28&#45;&gt;30 -->\r\n",
       "<g id=\"edge30\" class=\"edge\"><title>28&#45;&gt;30</title>\r\n",
       "<path fill=\"none\" stroke=\"black\" d=\"M1980.12,-88.9485C1993.23,-79.3431 2007.52,-68.8747 2020.53,-59.345\"/>\r\n",
       "<polygon fill=\"black\" stroke=\"black\" points=\"2022.87,-61.9698 2028.87,-53.2367 2018.73,-56.3228 2022.87,-61.9698\"/>\r\n",
       "</g>\r\n",
       "</g>\r\n",
       "</svg>\r\n"
      ],
      "text/plain": [
       "<graphviz.files.Source at 0xcba8198>"
      ]
     },
     "execution_count": 81,
     "metadata": {},
     "output_type": "execute_result"
    }
   ],
   "source": [
    "import graphviz \n",
    "dot_data = tree.export_graphviz(treemodel,\n",
    "                                feature_names=x_cols,\n",
    "                                out_file=None,\n",
    "                                filled=True)\n",
    "graph = graphviz.Source(dot_data) \n",
    "graph"
   ]
  },
  {
   "cell_type": "markdown",
   "metadata": {},
   "source": [
    "### Exercise: Use predicted probabilities with a different threshold\n",
    "\n",
    "* Use the vectors of predicted default probabilities with a different decision cutoff threshold than 0.5 to make prediction. Change the threshold so that we identify more defaulted loans.\n",
    "* What effect would this have of False Positives?\n",
    "* Create a confusion matrix for all three new predictions and see how they changed compared to the first runs.\n",
    "\n",
    "`Hint: use the probabilities in prob_lr0_test, prob_lr1_test, prob_tree_test, create new vectors of the same size with 0/1 values based on the decision threshold you choose.`"
   ]
  },
  {
   "cell_type": "code",
   "execution_count": null,
   "metadata": {
    "collapsed": true
   },
   "outputs": [],
   "source": []
  },
  {
   "cell_type": "markdown",
   "metadata": {},
   "source": [
    "### Exercise: Vary the max depth of the tree from 1 to 10\n",
    "* Create a series of decision trees with max depths from 1 to 10.\n",
    "* For each tree calculate the AUC value for both the train and test set. Store the train AUC values in a vector called `train_auc` and the test AUC values in a vector called `test_auc`.\n",
    "* Plot the two curves and check the results.\n",
    "\n",
    "\n",
    "`Hint: use a for loop where in each iteration you very the max depth`"
   ]
  },
  {
   "cell_type": "code",
   "execution_count": null,
   "metadata": {
    "collapsed": true
   },
   "outputs": [],
   "source": []
  }
 ],
 "metadata": {
  "kernelspec": {
   "display_name": "Python 3",
   "language": "python",
   "name": "python3"
  },
  "language_info": {
   "codemirror_mode": {
    "name": "ipython",
    "version": 3
   },
   "file_extension": ".py",
   "mimetype": "text/x-python",
   "name": "python",
   "nbconvert_exporter": "python",
   "pygments_lexer": "ipython3",
   "version": "3.6.2"
  },
  "toc": {
   "nav_menu": {},
   "number_sections": true,
   "sideBar": true,
   "skip_h1_title": true,
   "title_cell": "Table of Contents",
   "title_sidebar": "Contents",
   "toc_cell": true,
   "toc_position": {
    "height": "1634px",
    "left": "484px",
    "top": "377.5px",
    "width": "322px"
   },
   "toc_section_display": true,
   "toc_window_display": true
  },
  "varInspector": {
   "cols": {
    "lenName": 16,
    "lenType": 16,
    "lenVar": 40
   },
   "kernels_config": {
    "python": {
     "delete_cmd_postfix": "",
     "delete_cmd_prefix": "del ",
     "library": "var_list.py",
     "varRefreshCmd": "print(var_dic_list())"
    },
    "r": {
     "delete_cmd_postfix": ") ",
     "delete_cmd_prefix": "rm(",
     "library": "var_list.r",
     "varRefreshCmd": "cat(var_dic_list()) "
    }
   },
   "types_to_exclude": [
    "module",
    "function",
    "builtin_function_or_method",
    "instance",
    "_Feature"
   ],
   "window_display": false
  }
 },
 "nbformat": 4,
 "nbformat_minor": 2
}
