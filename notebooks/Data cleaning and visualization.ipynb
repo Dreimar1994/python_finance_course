{
 "cells": [
  {
   "cell_type": "markdown",
   "metadata": {},
   "source": [
    "# Data cleaning and visualization\n",
    "Using Pandas for data cleaning, Matplotlib and Seaborn for exploratory data analysis."
   ]
  },
  {
   "cell_type": "markdown",
   "metadata": {},
   "source": [
    "**Overview of the final goal**\n",
    "\n",
    "In the following two lectures out goal is to analyze a pool of loans and assess their risk. The central question is whether the loans in question are good or bad in terms of their risk.\n",
    "![Good_or_bad_credit](img\\good_or_bad_credit.png)\n",
    "\n",
    "There are multiple approaches that usually depend on the granularity of data available.\n",
    "* Aggregated historical performance data can be used to create a high level assessment on different parts of the portfolio e.g. loans with more than 30 months maturity and more then 95% debt to income ratio are risky and we estimate 4% of them to default.\n",
    "* Loan level historical performance data can be used to create a predictive model to make a prediction on each loan individually.\n",
    "\n",
    "In today's lecture we'll use a loan level dataset to get our hands dirty with visualization and cleaning. Tomorrow we'll use clean dataset we prepare today and work on creating models."
   ]
  },
  {
   "cell_type": "markdown",
   "metadata": {
    "toc": true
   },
   "source": [
    "<h1>Table of Contents<span class=\"tocSkip\"></span></h1>\n",
    "<div class=\"toc\"><ul class=\"toc-item\"><li><span><a href=\"#Download-data-from-public-source-and-manually-adjust-it\" data-toc-modified-id=\"Download-data-from-public-source-and-manually-adjust-it-1\"><span class=\"toc-item-num\">1&nbsp;&nbsp;</span>Download data from public source and manually adjust it</a></span></li><li><span><a href=\"#Load-csv-file-as-Pandas-dataframe\" data-toc-modified-id=\"Load-csv-file-as-Pandas-dataframe-2\"><span class=\"toc-item-num\">2&nbsp;&nbsp;</span>Load csv file as Pandas dataframe</a></span></li><li><span><a href=\"#Understanding-Pandas-dataframes-through-the-LendingClub-dataset\" data-toc-modified-id=\"Understanding-Pandas-dataframes-through-the-LendingClub-dataset-3\"><span class=\"toc-item-num\">3&nbsp;&nbsp;</span>Understanding Pandas dataframes through the LendingClub dataset</a></span><ul class=\"toc-item\"><li><span><a href=\"#Select-a-few-important-columns-to-work-with\" data-toc-modified-id=\"Select-a-few-important-columns-to-work-with-3.1\"><span class=\"toc-item-num\">3.1&nbsp;&nbsp;</span>Select a few important columns to work with</a></span></li><li><span><a href=\"#Exercise:-Try-selecting-a-different-set-of-columns-from-the-dataframe.\" data-toc-modified-id=\"Exercise:-Try-selecting-a-different-set-of-columns-from-the-dataframe.-3.2\"><span class=\"toc-item-num\">3.2&nbsp;&nbsp;</span>Exercise: Try selecting a different set of columns from the dataframe.</a></span></li><li><span><a href=\"#Access-a-column-as-a-Series:\" data-toc-modified-id=\"Access-a-column-as-a-Series:-3.3\"><span class=\"toc-item-num\">3.3&nbsp;&nbsp;</span>Access a column as a Series:</a></span></li><li><span><a href=\"#Access-values-by-numerical-indexing\" data-toc-modified-id=\"Access-values-by-numerical-indexing-3.4\"><span class=\"toc-item-num\">3.4&nbsp;&nbsp;</span>Access values by numerical indexing</a></span></li><li><span><a href=\"#Exercise:-Try-selecting-values-from-a-different-numerical-column\" data-toc-modified-id=\"Exercise:-Try-selecting-values-from-a-different-numerical-column-3.5\"><span class=\"toc-item-num\">3.5&nbsp;&nbsp;</span>Exercise: Try selecting values from a different numerical column</a></span></li><li><span><a href=\"#Unique-values-and-aggregations-on-categorical-variables\" data-toc-modified-id=\"Unique-values-and-aggregations-on-categorical-variables-3.6\"><span class=\"toc-item-num\">3.6&nbsp;&nbsp;</span>Unique values and aggregations on categorical variables</a></span></li><li><span><a href=\"#Filtering-rows-with-conditions\" data-toc-modified-id=\"Filtering-rows-with-conditions-3.7\"><span class=\"toc-item-num\">3.7&nbsp;&nbsp;</span>Filtering rows with conditions</a></span></li><li><span><a href=\"#Exercise:-Try-filtering-rows-by-another-column's-values\" data-toc-modified-id=\"Exercise:-Try-filtering-rows-by-another-column's-values-3.8\"><span class=\"toc-item-num\">3.8&nbsp;&nbsp;</span>Exercise: Try filtering rows by another column's values</a></span></li><li><span><a href=\"#Which-fields-are-numerical-and-which-ones-are-categorical?\" data-toc-modified-id=\"Which-fields-are-numerical-and-which-ones-are-categorical?-3.9\"><span class=\"toc-item-num\">3.9&nbsp;&nbsp;</span>Which fields are numerical and which ones are categorical?</a></span></li></ul></li><li><span><a href=\"#Task:-Check-the-Data-Dictionary-for-descriptions-of-fields\" data-toc-modified-id=\"Task:-Check-the-Data-Dictionary-for-descriptions-of-fields-4\"><span class=\"toc-item-num\">4&nbsp;&nbsp;</span>Task: Check the Data Dictionary for descriptions of fields</a></span></li><li><span><a href=\"#Are-there-multiple-reports-for-individual-loans-or-just-one-record-per-loan?\" data-toc-modified-id=\"Are-there-multiple-reports-for-individual-loans-or-just-one-record-per-loan?-5\"><span class=\"toc-item-num\">5&nbsp;&nbsp;</span>Are there multiple reports for individual loans or just one record per loan?</a></span></li><li><span><a href=\"#Missing-Values\" data-toc-modified-id=\"Missing-Values-6\"><span class=\"toc-item-num\">6&nbsp;&nbsp;</span>Missing Values</a></span><ul class=\"toc-item\"><li><span><a href=\"#Task:-Think-about-when-and-why-we-would-use-these-approaches\" data-toc-modified-id=\"Task:-Think-about-when-and-why-we-would-use-these-approaches-6.1\"><span class=\"toc-item-num\">6.1&nbsp;&nbsp;</span>Task: Think about when and why we would use these approaches</a></span></li><li><span><a href=\"#Check-missing-values-for-this-dataset-for-each-field\" data-toc-modified-id=\"Check-missing-values-for-this-dataset-for-each-field-6.2\"><span class=\"toc-item-num\">6.2&nbsp;&nbsp;</span>Check missing values for this dataset for each field</a></span></li><li><span><a href=\"#Exercise:-Please-remove-hardship_loan_status-from-the-dataframe\" data-toc-modified-id=\"Exercise:-Please-remove-hardship_loan_status-from-the-dataframe-6.3\"><span class=\"toc-item-num\">6.3&nbsp;&nbsp;</span>Exercise: Please remove hardship_loan_status from the dataframe</a></span></li><li><span><a href=\"#Remove-all-rows-with-any-missing-values\" data-toc-modified-id=\"Remove-all-rows-with-any-missing-values-6.4\"><span class=\"toc-item-num\">6.4&nbsp;&nbsp;</span>Remove all rows with any missing values</a></span></li></ul></li><li><span><a href=\"#Transforming-and-cleaning-individual-columns\" data-toc-modified-id=\"Transforming-and-cleaning-individual-columns-7\"><span class=\"toc-item-num\">7&nbsp;&nbsp;</span>Transforming and cleaning individual columns</a></span><ul class=\"toc-item\"><li><span><a href=\"#Creating-a-new-binary-target-variable-for-prediction\" data-toc-modified-id=\"Creating-a-new-binary-target-variable-for-prediction-7.1\"><span class=\"toc-item-num\">7.1&nbsp;&nbsp;</span>Creating a new binary target variable for prediction</a></span></li><li><span><a href=\"#Creating-a-numerical-variable-from-grade\" data-toc-modified-id=\"Creating-a-numerical-variable-from-grade-7.2\"><span class=\"toc-item-num\">7.2&nbsp;&nbsp;</span>Creating a numerical variable from <code>grade</code></a></span></li><li><span><a href=\"#Creating-a-numerical-variable-from-emp_length\" data-toc-modified-id=\"Creating-a-numerical-variable-from-emp_length-7.3\"><span class=\"toc-item-num\">7.3&nbsp;&nbsp;</span>Creating a numerical variable from <code>emp_length</code></a></span></li><li><span><a href=\"#Creating-a-numerical-variable-from-term\" data-toc-modified-id=\"Creating-a-numerical-variable-from-term-7.4\"><span class=\"toc-item-num\">7.4&nbsp;&nbsp;</span>Creating a numerical variable from <code>term</code></a></span></li><li><span><a href=\"#Creating-a-numerical-variable-from-int_rate\" data-toc-modified-id=\"Creating-a-numerical-variable-from-int_rate-7.5\"><span class=\"toc-item-num\">7.5&nbsp;&nbsp;</span>Creating a numerical variable from <code>int_rate</code></a></span></li></ul></li><li><span><a href=\"#Visualization\" data-toc-modified-id=\"Visualization-8\"><span class=\"toc-item-num\">8&nbsp;&nbsp;</span>Visualization</a></span><ul class=\"toc-item\"><li><span><a href=\"#Create-histograms-for-distribution-of-numerical-variables\" data-toc-modified-id=\"Create-histograms-for-distribution-of-numerical-variables-8.1\"><span class=\"toc-item-num\">8.1&nbsp;&nbsp;</span>Create histograms for distribution of numerical variables</a></span></li><li><span><a href=\"#Exercise:-Plot-a-histogram-for-other-numerical-variables\" data-toc-modified-id=\"Exercise:-Plot-a-histogram-for-other-numerical-variables-8.2\"><span class=\"toc-item-num\">8.2&nbsp;&nbsp;</span>Exercise: Plot a histogram for other numerical variables</a></span></li><li><span><a href=\"#Create-Scatter-plots-to-understand-data-relationships\" data-toc-modified-id=\"Create-Scatter-plots-to-understand-data-relationships-8.3\"><span class=\"toc-item-num\">8.3&nbsp;&nbsp;</span>Create Scatter plots to understand data relationships</a></span></li><li><span><a href=\"#Exercise:-Create-some-scatter-plots-from-variable-pairs-you'd-like-to-explore\" data-toc-modified-id=\"Exercise:-Create-some-scatter-plots-from-variable-pairs-you'd-like-to-explore-8.4\"><span class=\"toc-item-num\">8.4&nbsp;&nbsp;</span>Exercise: Create some scatter plots from variable pairs you'd like to explore</a></span></li><li><span><a href=\"#Create-bar-plot-for-distribution-of-categorical-variables\" data-toc-modified-id=\"Create-bar-plot-for-distribution-of-categorical-variables-8.5\"><span class=\"toc-item-num\">8.5&nbsp;&nbsp;</span>Create bar plot for distribution of categorical variables</a></span></li><li><span><a href=\"#Create-a-scatter-matrix-with-seaborn-(pairplot)-for-numerical-variables\" data-toc-modified-id=\"Create-a-scatter-matrix-with-seaborn-(pairplot)-for-numerical-variables-8.6\"><span class=\"toc-item-num\">8.6&nbsp;&nbsp;</span>Create a scatter matrix with seaborn (pairplot) for numerical variables</a></span></li><li><span><a href=\"#Check-outliers-based-on-previous-two-steps\" data-toc-modified-id=\"Check-outliers-based-on-previous-two-steps-8.7\"><span class=\"toc-item-num\">8.7&nbsp;&nbsp;</span>Check outliers based on previous two steps</a></span></li></ul></li><li><span><a href=\"#Save-the-dataframe-to-use-in-the-next-notebook.\" data-toc-modified-id=\"Save-the-dataframe-to-use-in-the-next-notebook.-9\"><span class=\"toc-item-num\">9&nbsp;&nbsp;</span>Save the dataframe to use in the next notebook.</a></span></li><li><span><a href=\"#Recap-and--Exercise:-Examine-the-final-dataset.\" data-toc-modified-id=\"Recap-and--Exercise:-Examine-the-final-dataset.-10\"><span class=\"toc-item-num\">10&nbsp;&nbsp;</span>Recap and  Exercise: Examine the final dataset.</a></span></li></ul></div>"
   ]
  },
  {
   "cell_type": "markdown",
   "metadata": {},
   "source": [
    "## Download data from public source and manually adjust it\n",
    "\n",
    "**Preparatory steps**\n",
    "\n",
    "We have \n",
    "* downloaded the LendingClub 2007-2011 data file from https://www.lendingclub.com/info/download-data.action\n",
    "* unzipped the csv file\n",
    "* manually removed the first line of the download data file\n",
    "* renamed the file to \"LendingClub.csv\"\n",
    "\n",
    "**Data file for the current lecture**\n",
    "\n",
    "We will be working with the following file:\n",
    "[LendingClub.csv](LendingClub.csv)"
   ]
  },
  {
   "cell_type": "markdown",
   "metadata": {
    "collapsed": true
   },
   "source": [
    "## Load csv file as Pandas dataframe"
   ]
  },
  {
   "cell_type": "code",
   "execution_count": 1,
   "metadata": {
    "collapsed": true
   },
   "outputs": [],
   "source": [
    "# Imports\n",
    "import matplotlib.pyplot as plt\n",
    "%matplotlib inline\n",
    "import numpy as np\n",
    "import pandas as pd\n",
    "from datetime import datetime"
   ]
  },
  {
   "cell_type": "code",
   "execution_count": 2,
   "metadata": {
    "collapsed": true
   },
   "outputs": [],
   "source": [
    "# Read in the dataset\n",
    "filename = 'LendingClub.csv'\n",
    "raw_data_all = pd.read_csv(filename, low_memory=False)"
   ]
  },
  {
   "cell_type": "code",
   "execution_count": 3,
   "metadata": {},
   "outputs": [
    {
     "data": {
      "text/html": [
       "<div>\n",
       "<style>\n",
       "    .dataframe thead tr:only-child th {\n",
       "        text-align: right;\n",
       "    }\n",
       "\n",
       "    .dataframe thead th {\n",
       "        text-align: left;\n",
       "    }\n",
       "\n",
       "    .dataframe tbody tr th {\n",
       "        vertical-align: top;\n",
       "    }\n",
       "</style>\n",
       "<table border=\"1\" class=\"dataframe\">\n",
       "  <thead>\n",
       "    <tr style=\"text-align: right;\">\n",
       "      <th></th>\n",
       "      <th>id</th>\n",
       "      <th>member_id</th>\n",
       "      <th>loan_amnt</th>\n",
       "      <th>funded_amnt</th>\n",
       "      <th>funded_amnt_inv</th>\n",
       "      <th>term</th>\n",
       "      <th>int_rate</th>\n",
       "      <th>installment</th>\n",
       "      <th>grade</th>\n",
       "      <th>sub_grade</th>\n",
       "      <th>...</th>\n",
       "      <th>hardship_payoff_balance_amount</th>\n",
       "      <th>hardship_last_payment_amount</th>\n",
       "      <th>disbursement_method</th>\n",
       "      <th>debt_settlement_flag</th>\n",
       "      <th>debt_settlement_flag_date</th>\n",
       "      <th>settlement_status</th>\n",
       "      <th>settlement_date</th>\n",
       "      <th>settlement_amount</th>\n",
       "      <th>settlement_percentage</th>\n",
       "      <th>settlement_term</th>\n",
       "    </tr>\n",
       "  </thead>\n",
       "  <tbody>\n",
       "    <tr>\n",
       "      <th>0</th>\n",
       "      <td>NaN</td>\n",
       "      <td>NaN</td>\n",
       "      <td>5000.0</td>\n",
       "      <td>5000.0</td>\n",
       "      <td>4975.0</td>\n",
       "      <td>36 months</td>\n",
       "      <td>10.65%</td>\n",
       "      <td>162.87</td>\n",
       "      <td>B</td>\n",
       "      <td>B2</td>\n",
       "      <td>...</td>\n",
       "      <td>NaN</td>\n",
       "      <td>NaN</td>\n",
       "      <td>Cash</td>\n",
       "      <td>N</td>\n",
       "      <td>NaN</td>\n",
       "      <td>NaN</td>\n",
       "      <td>NaN</td>\n",
       "      <td>NaN</td>\n",
       "      <td>NaN</td>\n",
       "      <td>NaN</td>\n",
       "    </tr>\n",
       "    <tr>\n",
       "      <th>1</th>\n",
       "      <td>NaN</td>\n",
       "      <td>NaN</td>\n",
       "      <td>2500.0</td>\n",
       "      <td>2500.0</td>\n",
       "      <td>2500.0</td>\n",
       "      <td>60 months</td>\n",
       "      <td>15.27%</td>\n",
       "      <td>59.83</td>\n",
       "      <td>C</td>\n",
       "      <td>C4</td>\n",
       "      <td>...</td>\n",
       "      <td>NaN</td>\n",
       "      <td>NaN</td>\n",
       "      <td>Cash</td>\n",
       "      <td>N</td>\n",
       "      <td>NaN</td>\n",
       "      <td>NaN</td>\n",
       "      <td>NaN</td>\n",
       "      <td>NaN</td>\n",
       "      <td>NaN</td>\n",
       "      <td>NaN</td>\n",
       "    </tr>\n",
       "    <tr>\n",
       "      <th>2</th>\n",
       "      <td>NaN</td>\n",
       "      <td>NaN</td>\n",
       "      <td>2400.0</td>\n",
       "      <td>2400.0</td>\n",
       "      <td>2400.0</td>\n",
       "      <td>36 months</td>\n",
       "      <td>15.96%</td>\n",
       "      <td>84.33</td>\n",
       "      <td>C</td>\n",
       "      <td>C5</td>\n",
       "      <td>...</td>\n",
       "      <td>NaN</td>\n",
       "      <td>NaN</td>\n",
       "      <td>Cash</td>\n",
       "      <td>N</td>\n",
       "      <td>NaN</td>\n",
       "      <td>NaN</td>\n",
       "      <td>NaN</td>\n",
       "      <td>NaN</td>\n",
       "      <td>NaN</td>\n",
       "      <td>NaN</td>\n",
       "    </tr>\n",
       "    <tr>\n",
       "      <th>3</th>\n",
       "      <td>NaN</td>\n",
       "      <td>NaN</td>\n",
       "      <td>10000.0</td>\n",
       "      <td>10000.0</td>\n",
       "      <td>10000.0</td>\n",
       "      <td>36 months</td>\n",
       "      <td>13.49%</td>\n",
       "      <td>339.31</td>\n",
       "      <td>C</td>\n",
       "      <td>C1</td>\n",
       "      <td>...</td>\n",
       "      <td>NaN</td>\n",
       "      <td>NaN</td>\n",
       "      <td>Cash</td>\n",
       "      <td>N</td>\n",
       "      <td>NaN</td>\n",
       "      <td>NaN</td>\n",
       "      <td>NaN</td>\n",
       "      <td>NaN</td>\n",
       "      <td>NaN</td>\n",
       "      <td>NaN</td>\n",
       "    </tr>\n",
       "    <tr>\n",
       "      <th>4</th>\n",
       "      <td>NaN</td>\n",
       "      <td>NaN</td>\n",
       "      <td>3000.0</td>\n",
       "      <td>3000.0</td>\n",
       "      <td>3000.0</td>\n",
       "      <td>60 months</td>\n",
       "      <td>12.69%</td>\n",
       "      <td>67.79</td>\n",
       "      <td>B</td>\n",
       "      <td>B5</td>\n",
       "      <td>...</td>\n",
       "      <td>NaN</td>\n",
       "      <td>NaN</td>\n",
       "      <td>Cash</td>\n",
       "      <td>N</td>\n",
       "      <td>NaN</td>\n",
       "      <td>NaN</td>\n",
       "      <td>NaN</td>\n",
       "      <td>NaN</td>\n",
       "      <td>NaN</td>\n",
       "      <td>NaN</td>\n",
       "    </tr>\n",
       "  </tbody>\n",
       "</table>\n",
       "<p>5 rows × 145 columns</p>\n",
       "</div>"
      ],
      "text/plain": [
       "    id  member_id  loan_amnt  funded_amnt  funded_amnt_inv        term  \\\n",
       "0  NaN        NaN     5000.0       5000.0           4975.0   36 months   \n",
       "1  NaN        NaN     2500.0       2500.0           2500.0   60 months   \n",
       "2  NaN        NaN     2400.0       2400.0           2400.0   36 months   \n",
       "3  NaN        NaN    10000.0      10000.0          10000.0   36 months   \n",
       "4  NaN        NaN     3000.0       3000.0           3000.0   60 months   \n",
       "\n",
       "  int_rate  installment grade sub_grade       ...        \\\n",
       "0   10.65%       162.87     B        B2       ...         \n",
       "1   15.27%        59.83     C        C4       ...         \n",
       "2   15.96%        84.33     C        C5       ...         \n",
       "3   13.49%       339.31     C        C1       ...         \n",
       "4   12.69%        67.79     B        B5       ...         \n",
       "\n",
       "  hardship_payoff_balance_amount hardship_last_payment_amount  \\\n",
       "0                            NaN                          NaN   \n",
       "1                            NaN                          NaN   \n",
       "2                            NaN                          NaN   \n",
       "3                            NaN                          NaN   \n",
       "4                            NaN                          NaN   \n",
       "\n",
       "  disbursement_method  debt_settlement_flag debt_settlement_flag_date  \\\n",
       "0                Cash                     N                       NaN   \n",
       "1                Cash                     N                       NaN   \n",
       "2                Cash                     N                       NaN   \n",
       "3                Cash                     N                       NaN   \n",
       "4                Cash                     N                       NaN   \n",
       "\n",
       "  settlement_status settlement_date settlement_amount  settlement_percentage  \\\n",
       "0               NaN             NaN               NaN                    NaN   \n",
       "1               NaN             NaN               NaN                    NaN   \n",
       "2               NaN             NaN               NaN                    NaN   \n",
       "3               NaN             NaN               NaN                    NaN   \n",
       "4               NaN             NaN               NaN                    NaN   \n",
       "\n",
       "  settlement_term  \n",
       "0             NaN  \n",
       "1             NaN  \n",
       "2             NaN  \n",
       "3             NaN  \n",
       "4             NaN  \n",
       "\n",
       "[5 rows x 145 columns]"
      ]
     },
     "execution_count": 3,
     "metadata": {},
     "output_type": "execute_result"
    }
   ],
   "source": [
    "# Check the data\n",
    "raw_data_all.head()\n",
    "# Not all columns showing.. too many of them... check Dictionary for field names"
   ]
  },
  {
   "cell_type": "markdown",
   "metadata": {},
   "source": [
    "## Understanding Pandas dataframes through the LendingClub dataset\n",
    "As we'll be working with Pandas dataframes throughout the lecture, let's take some time to understand the basic concepts."
   ]
  },
  {
   "cell_type": "markdown",
   "metadata": {},
   "source": [
    "### Select a few important columns to work with\n",
    "As there are many columns we'll just select a few more important ones to keep.\n",
    "- We first create a list of column names to keep.\n",
    "- The right hand side of the following command creates a new dataframe by selecting a list of columns from an existing dataframe. To reuse the original variable name, we'll just assign the newly created dataframe to the original 'raw_data' variable."
   ]
  },
  {
   "cell_type": "code",
   "execution_count": 4,
   "metadata": {
    "code_folding": [],
    "collapsed": true
   },
   "outputs": [],
   "source": [
    "# List of columns to keep\n",
    "cols = ['loan_amnt', 'term', 'int_rate', 'funded_amnt', 'grade', 'annual_inc', 'dti', 'hardship_loan_status', 'delinq_2yrs', 'emp_length','loan_status','home_ownership','tax_liens']\n",
    "# Dataframe with selected columns\n",
    "raw_data = raw_data_all[cols]"
   ]
  },
  {
   "cell_type": "code",
   "execution_count": 5,
   "metadata": {
    "scrolled": true
   },
   "outputs": [
    {
     "data": {
      "text/html": [
       "<div>\n",
       "<style>\n",
       "    .dataframe thead tr:only-child th {\n",
       "        text-align: right;\n",
       "    }\n",
       "\n",
       "    .dataframe thead th {\n",
       "        text-align: left;\n",
       "    }\n",
       "\n",
       "    .dataframe tbody tr th {\n",
       "        vertical-align: top;\n",
       "    }\n",
       "</style>\n",
       "<table border=\"1\" class=\"dataframe\">\n",
       "  <thead>\n",
       "    <tr style=\"text-align: right;\">\n",
       "      <th></th>\n",
       "      <th>loan_amnt</th>\n",
       "      <th>term</th>\n",
       "      <th>int_rate</th>\n",
       "      <th>funded_amnt</th>\n",
       "      <th>grade</th>\n",
       "      <th>annual_inc</th>\n",
       "      <th>dti</th>\n",
       "      <th>hardship_loan_status</th>\n",
       "      <th>delinq_2yrs</th>\n",
       "      <th>emp_length</th>\n",
       "      <th>loan_status</th>\n",
       "      <th>home_ownership</th>\n",
       "      <th>tax_liens</th>\n",
       "    </tr>\n",
       "  </thead>\n",
       "  <tbody>\n",
       "    <tr>\n",
       "      <th>0</th>\n",
       "      <td>5000.0</td>\n",
       "      <td>36 months</td>\n",
       "      <td>10.65%</td>\n",
       "      <td>5000.0</td>\n",
       "      <td>B</td>\n",
       "      <td>24000.0</td>\n",
       "      <td>27.65</td>\n",
       "      <td>NaN</td>\n",
       "      <td>0.0</td>\n",
       "      <td>10+ years</td>\n",
       "      <td>Fully Paid</td>\n",
       "      <td>RENT</td>\n",
       "      <td>0.0</td>\n",
       "    </tr>\n",
       "    <tr>\n",
       "      <th>1</th>\n",
       "      <td>2500.0</td>\n",
       "      <td>60 months</td>\n",
       "      <td>15.27%</td>\n",
       "      <td>2500.0</td>\n",
       "      <td>C</td>\n",
       "      <td>30000.0</td>\n",
       "      <td>1.00</td>\n",
       "      <td>NaN</td>\n",
       "      <td>0.0</td>\n",
       "      <td>&lt; 1 year</td>\n",
       "      <td>Charged Off</td>\n",
       "      <td>RENT</td>\n",
       "      <td>0.0</td>\n",
       "    </tr>\n",
       "    <tr>\n",
       "      <th>2</th>\n",
       "      <td>2400.0</td>\n",
       "      <td>36 months</td>\n",
       "      <td>15.96%</td>\n",
       "      <td>2400.0</td>\n",
       "      <td>C</td>\n",
       "      <td>12252.0</td>\n",
       "      <td>8.72</td>\n",
       "      <td>NaN</td>\n",
       "      <td>0.0</td>\n",
       "      <td>10+ years</td>\n",
       "      <td>Fully Paid</td>\n",
       "      <td>RENT</td>\n",
       "      <td>0.0</td>\n",
       "    </tr>\n",
       "    <tr>\n",
       "      <th>3</th>\n",
       "      <td>10000.0</td>\n",
       "      <td>36 months</td>\n",
       "      <td>13.49%</td>\n",
       "      <td>10000.0</td>\n",
       "      <td>C</td>\n",
       "      <td>49200.0</td>\n",
       "      <td>20.00</td>\n",
       "      <td>NaN</td>\n",
       "      <td>0.0</td>\n",
       "      <td>10+ years</td>\n",
       "      <td>Fully Paid</td>\n",
       "      <td>RENT</td>\n",
       "      <td>0.0</td>\n",
       "    </tr>\n",
       "    <tr>\n",
       "      <th>4</th>\n",
       "      <td>3000.0</td>\n",
       "      <td>60 months</td>\n",
       "      <td>12.69%</td>\n",
       "      <td>3000.0</td>\n",
       "      <td>B</td>\n",
       "      <td>80000.0</td>\n",
       "      <td>17.94</td>\n",
       "      <td>NaN</td>\n",
       "      <td>0.0</td>\n",
       "      <td>1 year</td>\n",
       "      <td>Fully Paid</td>\n",
       "      <td>RENT</td>\n",
       "      <td>0.0</td>\n",
       "    </tr>\n",
       "  </tbody>\n",
       "</table>\n",
       "</div>"
      ],
      "text/plain": [
       "   loan_amnt        term int_rate  funded_amnt grade  annual_inc    dti  \\\n",
       "0     5000.0   36 months   10.65%       5000.0     B     24000.0  27.65   \n",
       "1     2500.0   60 months   15.27%       2500.0     C     30000.0   1.00   \n",
       "2     2400.0   36 months   15.96%       2400.0     C     12252.0   8.72   \n",
       "3    10000.0   36 months   13.49%      10000.0     C     49200.0  20.00   \n",
       "4     3000.0   60 months   12.69%       3000.0     B     80000.0  17.94   \n",
       "\n",
       "   hardship_loan_status  delinq_2yrs emp_length  loan_status home_ownership  \\\n",
       "0                   NaN          0.0  10+ years   Fully Paid           RENT   \n",
       "1                   NaN          0.0   < 1 year  Charged Off           RENT   \n",
       "2                   NaN          0.0  10+ years   Fully Paid           RENT   \n",
       "3                   NaN          0.0  10+ years   Fully Paid           RENT   \n",
       "4                   NaN          0.0     1 year   Fully Paid           RENT   \n",
       "\n",
       "   tax_liens  \n",
       "0        0.0  \n",
       "1        0.0  \n",
       "2        0.0  \n",
       "3        0.0  \n",
       "4        0.0  "
      ]
     },
     "execution_count": 5,
     "metadata": {},
     "output_type": "execute_result"
    }
   ],
   "source": [
    "#Let's check the top rows\n",
    "raw_data.head()"
   ]
  },
  {
   "cell_type": "markdown",
   "metadata": {},
   "source": [
    "**What is the type of the object created in this way?**\n",
    "\n",
    "Let's select two columns and see what we get"
   ]
  },
  {
   "cell_type": "code",
   "execution_count": 6,
   "metadata": {},
   "outputs": [
    {
     "data": {
      "text/plain": [
       "pandas.core.frame.DataFrame"
      ]
     },
     "execution_count": 6,
     "metadata": {},
     "output_type": "execute_result"
    }
   ],
   "source": [
    "type(raw_data[['loan_amnt', 'term']])"
   ]
  },
  {
   "cell_type": "code",
   "execution_count": 7,
   "metadata": {},
   "outputs": [
    {
     "data": {
      "text/html": [
       "<div>\n",
       "<style>\n",
       "    .dataframe thead tr:only-child th {\n",
       "        text-align: right;\n",
       "    }\n",
       "\n",
       "    .dataframe thead th {\n",
       "        text-align: left;\n",
       "    }\n",
       "\n",
       "    .dataframe tbody tr th {\n",
       "        vertical-align: top;\n",
       "    }\n",
       "</style>\n",
       "<table border=\"1\" class=\"dataframe\">\n",
       "  <thead>\n",
       "    <tr style=\"text-align: right;\">\n",
       "      <th></th>\n",
       "      <th>loan_amnt</th>\n",
       "      <th>term</th>\n",
       "    </tr>\n",
       "  </thead>\n",
       "  <tbody>\n",
       "    <tr>\n",
       "      <th>0</th>\n",
       "      <td>5000.0</td>\n",
       "      <td>36 months</td>\n",
       "    </tr>\n",
       "    <tr>\n",
       "      <th>1</th>\n",
       "      <td>2500.0</td>\n",
       "      <td>60 months</td>\n",
       "    </tr>\n",
       "    <tr>\n",
       "      <th>2</th>\n",
       "      <td>2400.0</td>\n",
       "      <td>36 months</td>\n",
       "    </tr>\n",
       "    <tr>\n",
       "      <th>3</th>\n",
       "      <td>10000.0</td>\n",
       "      <td>36 months</td>\n",
       "    </tr>\n",
       "    <tr>\n",
       "      <th>4</th>\n",
       "      <td>3000.0</td>\n",
       "      <td>60 months</td>\n",
       "    </tr>\n",
       "  </tbody>\n",
       "</table>\n",
       "</div>"
      ],
      "text/plain": [
       "   loan_amnt        term\n",
       "0     5000.0   36 months\n",
       "1     2500.0   60 months\n",
       "2     2400.0   36 months\n",
       "3    10000.0   36 months\n",
       "4     3000.0   60 months"
      ]
     },
     "execution_count": 7,
     "metadata": {},
     "output_type": "execute_result"
    }
   ],
   "source": [
    "raw_data[['loan_amnt', 'term']].head()"
   ]
  },
  {
   "cell_type": "markdown",
   "metadata": {},
   "source": [
    "This also works for creating a dataframe with one column. For Pandas to know we want a dataframe, we still need to use a list, in this case with just one element."
   ]
  },
  {
   "cell_type": "code",
   "execution_count": 8,
   "metadata": {},
   "outputs": [
    {
     "data": {
      "text/plain": [
       "pandas.core.frame.DataFrame"
      ]
     },
     "execution_count": 8,
     "metadata": {},
     "output_type": "execute_result"
    }
   ],
   "source": [
    "type(raw_data[['loan_amnt']])"
   ]
  },
  {
   "cell_type": "code",
   "execution_count": 9,
   "metadata": {},
   "outputs": [
    {
     "data": {
      "text/html": [
       "<div>\n",
       "<style>\n",
       "    .dataframe thead tr:only-child th {\n",
       "        text-align: right;\n",
       "    }\n",
       "\n",
       "    .dataframe thead th {\n",
       "        text-align: left;\n",
       "    }\n",
       "\n",
       "    .dataframe tbody tr th {\n",
       "        vertical-align: top;\n",
       "    }\n",
       "</style>\n",
       "<table border=\"1\" class=\"dataframe\">\n",
       "  <thead>\n",
       "    <tr style=\"text-align: right;\">\n",
       "      <th></th>\n",
       "      <th>loan_amnt</th>\n",
       "    </tr>\n",
       "  </thead>\n",
       "  <tbody>\n",
       "    <tr>\n",
       "      <th>0</th>\n",
       "      <td>5000.0</td>\n",
       "    </tr>\n",
       "    <tr>\n",
       "      <th>1</th>\n",
       "      <td>2500.0</td>\n",
       "    </tr>\n",
       "    <tr>\n",
       "      <th>2</th>\n",
       "      <td>2400.0</td>\n",
       "    </tr>\n",
       "    <tr>\n",
       "      <th>3</th>\n",
       "      <td>10000.0</td>\n",
       "    </tr>\n",
       "    <tr>\n",
       "      <th>4</th>\n",
       "      <td>3000.0</td>\n",
       "    </tr>\n",
       "  </tbody>\n",
       "</table>\n",
       "</div>"
      ],
      "text/plain": [
       "   loan_amnt\n",
       "0     5000.0\n",
       "1     2500.0\n",
       "2     2400.0\n",
       "3    10000.0\n",
       "4     3000.0"
      ]
     },
     "execution_count": 9,
     "metadata": {},
     "output_type": "execute_result"
    }
   ],
   "source": [
    "raw_data[['loan_amnt']].head()"
   ]
  },
  {
   "cell_type": "markdown",
   "metadata": {},
   "source": [
    "### Exercise: Try selecting a different set of columns from the dataframe.\n",
    "Remember NOT to overwrite the variable raw_data"
   ]
  },
  {
   "cell_type": "code",
   "execution_count": null,
   "metadata": {
    "collapsed": true
   },
   "outputs": [],
   "source": []
  },
  {
   "cell_type": "markdown",
   "metadata": {},
   "source": [
    "### Access a column as a Series: \n",
    "\n",
    "Single column object without a DataFrame wrapper.\n",
    "\n",
    "A dataframe's purpose is to store data of a table format having multiple columns and rows. While a dataframe containing a single column is possible and sometimes appropriate, in many cases we'd be better off referencing a column not as a table but the way it really is: a series of values.\n",
    "\n",
    "There are multiple ways to reference a column. Once a column is selected we can index it similar to simple Python Arrays to select elements."
   ]
  },
  {
   "cell_type": "markdown",
   "metadata": {},
   "source": [
    "**Referencing a column as a field of the DataFrame object**"
   ]
  },
  {
   "cell_type": "code",
   "execution_count": 10,
   "metadata": {
    "scrolled": true
   },
   "outputs": [
    {
     "data": {
      "text/plain": [
       "0     5000.0\n",
       "1     2500.0\n",
       "2     2400.0\n",
       "3    10000.0\n",
       "4     3000.0\n",
       "Name: funded_amnt, dtype: float64"
      ]
     },
     "execution_count": 10,
     "metadata": {},
     "output_type": "execute_result"
    }
   ],
   "source": [
    "# Select top 5 rows of column \"funded_amnt\"\n",
    "raw_data.funded_amnt[:5]"
   ]
  },
  {
   "cell_type": "markdown",
   "metadata": {},
   "source": [
    "**Referencing a column by indexing**"
   ]
  },
  {
   "cell_type": "code",
   "execution_count": 11,
   "metadata": {},
   "outputs": [
    {
     "data": {
      "text/plain": [
       "0     5000.0\n",
       "1     2500.0\n",
       "2     2400.0\n",
       "3    10000.0\n",
       "4     3000.0\n",
       "Name: funded_amnt, dtype: float64"
      ]
     },
     "execution_count": 11,
     "metadata": {},
     "output_type": "execute_result"
    }
   ],
   "source": [
    "# Select top 5 rows of column \"funded_amnt\"\n",
    "raw_data['funded_amnt'][:5]"
   ]
  },
  {
   "cell_type": "markdown",
   "metadata": {},
   "source": [
    "### Access values by numerical indexing\n",
    "There is a way to access the dataframe the way we would access elements of a matrix with numerical indices.\n",
    "\n",
    "Note: the first index is the row index and the second index is the column index:\n",
    "\n",
    "`data.iloc[row,column]`"
   ]
  },
  {
   "cell_type": "code",
   "execution_count": 12,
   "metadata": {},
   "outputs": [
    {
     "data": {
      "text/plain": [
       "['loan_amnt',\n",
       " 'term',\n",
       " 'int_rate',\n",
       " 'funded_amnt',\n",
       " 'grade',\n",
       " 'annual_inc',\n",
       " 'dti',\n",
       " 'hardship_loan_status',\n",
       " 'delinq_2yrs',\n",
       " 'emp_length',\n",
       " 'loan_status',\n",
       " 'home_ownership',\n",
       " 'tax_liens']"
      ]
     },
     "execution_count": 12,
     "metadata": {},
     "output_type": "execute_result"
    }
   ],
   "source": [
    "raw_data.columns.tolist()"
   ]
  },
  {
   "cell_type": "code",
   "execution_count": 13,
   "metadata": {},
   "outputs": [
    {
     "data": {
      "text/plain": [
       "0     5000.0\n",
       "1     2500.0\n",
       "2     2400.0\n",
       "3    10000.0\n",
       "4     3000.0\n",
       "Name: funded_amnt, dtype: float64"
      ]
     },
     "execution_count": 13,
     "metadata": {},
     "output_type": "execute_result"
    }
   ],
   "source": [
    "# Select top 5 rows of the column with the index 3. \n",
    "#Note: indexing starts with 0, so this is the \"funded_amnt\" column.\n",
    "raw_data.iloc[:5,3]"
   ]
  },
  {
   "cell_type": "markdown",
   "metadata": {},
   "source": [
    "**What is the type of this object?**\n",
    "\n",
    "Every column in a Pandas dataframe is a Series object."
   ]
  },
  {
   "cell_type": "code",
   "execution_count": 14,
   "metadata": {},
   "outputs": [
    {
     "data": {
      "text/plain": [
       "pandas.core.series.Series"
      ]
     },
     "execution_count": 14,
     "metadata": {},
     "output_type": "execute_result"
    }
   ],
   "source": [
    "type(raw_data['funded_amnt'])"
   ]
  },
  {
   "cell_type": "markdown",
   "metadata": {},
   "source": [
    "Let's do some calculations with object. Since this is a numerical Series, we can do numerical operations e.g. calculating the mean, multiplying by 2, etc."
   ]
  },
  {
   "cell_type": "code",
   "execution_count": 15,
   "metadata": {},
   "outputs": [
    {
     "data": {
      "text/plain": [
       "10821.585752909368"
      ]
     },
     "execution_count": 15,
     "metadata": {},
     "output_type": "execute_result"
    }
   ],
   "source": [
    "raw_data.funded_amnt.mean()"
   ]
  },
  {
   "cell_type": "code",
   "execution_count": 16,
   "metadata": {},
   "outputs": [
    {
     "data": {
      "text/plain": [
       "0    10000.0\n",
       "1     5000.0\n",
       "2     4800.0\n",
       "3    20000.0\n",
       "4     6000.0\n",
       "Name: funded_amnt, dtype: float64"
      ]
     },
     "execution_count": 16,
     "metadata": {},
     "output_type": "execute_result"
    }
   ],
   "source": [
    "raw_data.funded_amnt[:5] * 2"
   ]
  },
  {
   "cell_type": "markdown",
   "metadata": {},
   "source": [
    "### Exercise: Try selecting values from a different numerical column"
   ]
  },
  {
   "cell_type": "code",
   "execution_count": null,
   "metadata": {
    "collapsed": true
   },
   "outputs": [],
   "source": []
  },
  {
   "cell_type": "markdown",
   "metadata": {},
   "source": [
    "### Unique values and aggregations on categorical variables\n",
    "First let's see the unique values. Note that the result is not a series but a numpy array."
   ]
  },
  {
   "cell_type": "code",
   "execution_count": 17,
   "metadata": {},
   "outputs": [
    {
     "data": {
      "text/plain": [
       "array(['B', 'C', 'A', 'E', 'F', 'D', 'G', nan], dtype=object)"
      ]
     },
     "execution_count": 17,
     "metadata": {},
     "output_type": "execute_result"
    }
   ],
   "source": [
    "raw_data.grade.unique()"
   ]
  },
  {
   "cell_type": "markdown",
   "metadata": {},
   "source": [
    "Let's see how many times each value appears in this series using the built in method `value_counts()` of a Series."
   ]
  },
  {
   "cell_type": "code",
   "execution_count": 18,
   "metadata": {},
   "outputs": [
    {
     "data": {
      "text/plain": [
       "B    12389\n",
       "A    10183\n",
       "C     8740\n",
       "D     6016\n",
       "E     3394\n",
       "F     1301\n",
       "G      512\n",
       "Name: grade, dtype: int64"
      ]
     },
     "execution_count": 18,
     "metadata": {},
     "output_type": "execute_result"
    }
   ],
   "source": [
    "raw_data.grade.value_counts()"
   ]
  },
  {
   "cell_type": "markdown",
   "metadata": {},
   "source": [
    "**Group by**\n",
    "\n",
    "We can do the same by using the full dataframe using a group by expression. Let's see the following SQL example for using group by to do aggregations on a dataset:\n",
    "![Group by example](img\\groupby_example.png)\n",
    "Image source: https://www.w3resource.com/sql/aggregate-functions/sum-with-group-by.php"
   ]
  },
  {
   "cell_type": "code",
   "execution_count": 19,
   "metadata": {},
   "outputs": [
    {
     "data": {
      "text/html": [
       "<div>\n",
       "<style>\n",
       "    .dataframe thead tr:only-child th {\n",
       "        text-align: right;\n",
       "    }\n",
       "\n",
       "    .dataframe thead th {\n",
       "        text-align: left;\n",
       "    }\n",
       "\n",
       "    .dataframe tbody tr th {\n",
       "        vertical-align: top;\n",
       "    }\n",
       "</style>\n",
       "<table border=\"1\" class=\"dataframe\">\n",
       "  <thead>\n",
       "    <tr style=\"text-align: right;\">\n",
       "      <th></th>\n",
       "      <th>loan_amnt</th>\n",
       "      <th>term</th>\n",
       "      <th>int_rate</th>\n",
       "      <th>funded_amnt</th>\n",
       "      <th>annual_inc</th>\n",
       "      <th>dti</th>\n",
       "      <th>hardship_loan_status</th>\n",
       "      <th>delinq_2yrs</th>\n",
       "      <th>emp_length</th>\n",
       "      <th>loan_status</th>\n",
       "      <th>home_ownership</th>\n",
       "      <th>tax_liens</th>\n",
       "    </tr>\n",
       "    <tr>\n",
       "      <th>grade</th>\n",
       "      <th></th>\n",
       "      <th></th>\n",
       "      <th></th>\n",
       "      <th></th>\n",
       "      <th></th>\n",
       "      <th></th>\n",
       "      <th></th>\n",
       "      <th></th>\n",
       "      <th></th>\n",
       "      <th></th>\n",
       "      <th></th>\n",
       "      <th></th>\n",
       "    </tr>\n",
       "  </thead>\n",
       "  <tbody>\n",
       "    <tr>\n",
       "      <th>A</th>\n",
       "      <td>10183</td>\n",
       "      <td>10183</td>\n",
       "      <td>10183</td>\n",
       "      <td>10183</td>\n",
       "      <td>10179</td>\n",
       "      <td>10183</td>\n",
       "      <td>0</td>\n",
       "      <td>10172</td>\n",
       "      <td>10183</td>\n",
       "      <td>10183</td>\n",
       "      <td>10183</td>\n",
       "      <td>10153</td>\n",
       "    </tr>\n",
       "    <tr>\n",
       "      <th>B</th>\n",
       "      <td>12389</td>\n",
       "      <td>12389</td>\n",
       "      <td>12389</td>\n",
       "      <td>12389</td>\n",
       "      <td>12389</td>\n",
       "      <td>12389</td>\n",
       "      <td>0</td>\n",
       "      <td>12379</td>\n",
       "      <td>12389</td>\n",
       "      <td>12389</td>\n",
       "      <td>12389</td>\n",
       "      <td>12367</td>\n",
       "    </tr>\n",
       "    <tr>\n",
       "      <th>C</th>\n",
       "      <td>8740</td>\n",
       "      <td>8740</td>\n",
       "      <td>8740</td>\n",
       "      <td>8740</td>\n",
       "      <td>8740</td>\n",
       "      <td>8740</td>\n",
       "      <td>0</td>\n",
       "      <td>8734</td>\n",
       "      <td>8740</td>\n",
       "      <td>8740</td>\n",
       "      <td>8740</td>\n",
       "      <td>8719</td>\n",
       "    </tr>\n",
       "    <tr>\n",
       "      <th>D</th>\n",
       "      <td>6016</td>\n",
       "      <td>6016</td>\n",
       "      <td>6016</td>\n",
       "      <td>6016</td>\n",
       "      <td>6016</td>\n",
       "      <td>6016</td>\n",
       "      <td>0</td>\n",
       "      <td>6015</td>\n",
       "      <td>6016</td>\n",
       "      <td>6016</td>\n",
       "      <td>6016</td>\n",
       "      <td>6003</td>\n",
       "    </tr>\n",
       "    <tr>\n",
       "      <th>E</th>\n",
       "      <td>3394</td>\n",
       "      <td>3394</td>\n",
       "      <td>3394</td>\n",
       "      <td>3394</td>\n",
       "      <td>3394</td>\n",
       "      <td>3394</td>\n",
       "      <td>0</td>\n",
       "      <td>3393</td>\n",
       "      <td>3394</td>\n",
       "      <td>3394</td>\n",
       "      <td>3394</td>\n",
       "      <td>3383</td>\n",
       "    </tr>\n",
       "    <tr>\n",
       "      <th>F</th>\n",
       "      <td>1301</td>\n",
       "      <td>1301</td>\n",
       "      <td>1301</td>\n",
       "      <td>1301</td>\n",
       "      <td>1301</td>\n",
       "      <td>1301</td>\n",
       "      <td>0</td>\n",
       "      <td>1301</td>\n",
       "      <td>1301</td>\n",
       "      <td>1301</td>\n",
       "      <td>1301</td>\n",
       "      <td>1295</td>\n",
       "    </tr>\n",
       "    <tr>\n",
       "      <th>G</th>\n",
       "      <td>512</td>\n",
       "      <td>512</td>\n",
       "      <td>512</td>\n",
       "      <td>512</td>\n",
       "      <td>512</td>\n",
       "      <td>512</td>\n",
       "      <td>0</td>\n",
       "      <td>512</td>\n",
       "      <td>512</td>\n",
       "      <td>512</td>\n",
       "      <td>512</td>\n",
       "      <td>510</td>\n",
       "    </tr>\n",
       "  </tbody>\n",
       "</table>\n",
       "</div>"
      ],
      "text/plain": [
       "       loan_amnt   term  int_rate  funded_amnt  annual_inc    dti  \\\n",
       "grade                                                               \n",
       "A          10183  10183     10183        10183       10179  10183   \n",
       "B          12389  12389     12389        12389       12389  12389   \n",
       "C           8740   8740      8740         8740        8740   8740   \n",
       "D           6016   6016      6016         6016        6016   6016   \n",
       "E           3394   3394      3394         3394        3394   3394   \n",
       "F           1301   1301      1301         1301        1301   1301   \n",
       "G            512    512       512          512         512    512   \n",
       "\n",
       "       hardship_loan_status  delinq_2yrs  emp_length  loan_status  \\\n",
       "grade                                                               \n",
       "A                         0        10172       10183        10183   \n",
       "B                         0        12379       12389        12389   \n",
       "C                         0         8734        8740         8740   \n",
       "D                         0         6015        6016         6016   \n",
       "E                         0         3393        3394         3394   \n",
       "F                         0         1301        1301         1301   \n",
       "G                         0          512         512          512   \n",
       "\n",
       "       home_ownership  tax_liens  \n",
       "grade                             \n",
       "A               10183      10153  \n",
       "B               12389      12367  \n",
       "C                8740       8719  \n",
       "D                6016       6003  \n",
       "E                3394       3383  \n",
       "F                1301       1295  \n",
       "G                 512        510  "
      ]
     },
     "execution_count": 19,
     "metadata": {},
     "output_type": "execute_result"
    }
   ],
   "source": [
    "raw_data.groupby(by='grade').agg('count')"
   ]
  },
  {
   "cell_type": "markdown",
   "metadata": {},
   "source": [
    "Note: the function name \"agg\" means that we perform an operation on each group, in an aggregated way"
   ]
  },
  {
   "cell_type": "code",
   "execution_count": 20,
   "metadata": {},
   "outputs": [
    {
     "data": {
      "text/plain": [
       "grade\n",
       "A    10183\n",
       "B    12389\n",
       "C     8740\n",
       "D     6016\n",
       "E     3394\n",
       "F     1301\n",
       "G      512\n",
       "Name: grade, dtype: int64"
      ]
     },
     "execution_count": 20,
     "metadata": {},
     "output_type": "execute_result"
    }
   ],
   "source": [
    "raw_data.groupby(by='grade').grade.agg('count')"
   ]
  },
  {
   "cell_type": "markdown",
   "metadata": {},
   "source": [
    "### Filtering rows with conditions\n",
    "Let's see how we can filter down rows based on column values.\n",
    "We will select only those loans where the income of the borrower is greater than $1.000.000"
   ]
  },
  {
   "cell_type": "code",
   "execution_count": 21,
   "metadata": {},
   "outputs": [
    {
     "data": {
      "text/html": [
       "<div>\n",
       "<style>\n",
       "    .dataframe thead tr:only-child th {\n",
       "        text-align: right;\n",
       "    }\n",
       "\n",
       "    .dataframe thead th {\n",
       "        text-align: left;\n",
       "    }\n",
       "\n",
       "    .dataframe tbody tr th {\n",
       "        vertical-align: top;\n",
       "    }\n",
       "</style>\n",
       "<table border=\"1\" class=\"dataframe\">\n",
       "  <thead>\n",
       "    <tr style=\"text-align: right;\">\n",
       "      <th></th>\n",
       "      <th>loan_amnt</th>\n",
       "      <th>term</th>\n",
       "      <th>int_rate</th>\n",
       "      <th>funded_amnt</th>\n",
       "      <th>grade</th>\n",
       "      <th>annual_inc</th>\n",
       "      <th>dti</th>\n",
       "      <th>hardship_loan_status</th>\n",
       "      <th>delinq_2yrs</th>\n",
       "      <th>emp_length</th>\n",
       "      <th>loan_status</th>\n",
       "      <th>home_ownership</th>\n",
       "      <th>tax_liens</th>\n",
       "    </tr>\n",
       "  </thead>\n",
       "  <tbody>\n",
       "    <tr>\n",
       "      <th>7268</th>\n",
       "      <td>12025.0</td>\n",
       "      <td>36 months</td>\n",
       "      <td>14.27%</td>\n",
       "      <td>12025.0</td>\n",
       "      <td>C</td>\n",
       "      <td>1782000.0</td>\n",
       "      <td>1.31</td>\n",
       "      <td>NaN</td>\n",
       "      <td>0.0</td>\n",
       "      <td>10+ years</td>\n",
       "      <td>Fully Paid</td>\n",
       "      <td>RENT</td>\n",
       "      <td>0.0</td>\n",
       "    </tr>\n",
       "    <tr>\n",
       "      <th>10650</th>\n",
       "      <td>15775.0</td>\n",
       "      <td>60 months</td>\n",
       "      <td>12.99%</td>\n",
       "      <td>15775.0</td>\n",
       "      <td>C</td>\n",
       "      <td>1250000.0</td>\n",
       "      <td>21.81</td>\n",
       "      <td>NaN</td>\n",
       "      <td>0.0</td>\n",
       "      <td>2 years</td>\n",
       "      <td>Charged Off</td>\n",
       "      <td>MORTGAGE</td>\n",
       "      <td>0.0</td>\n",
       "    </tr>\n",
       "    <tr>\n",
       "      <th>21477</th>\n",
       "      <td>10000.0</td>\n",
       "      <td>36 months</td>\n",
       "      <td>6.54%</td>\n",
       "      <td>10000.0</td>\n",
       "      <td>A</td>\n",
       "      <td>1200000.0</td>\n",
       "      <td>1.46</td>\n",
       "      <td>NaN</td>\n",
       "      <td>0.0</td>\n",
       "      <td>10+ years</td>\n",
       "      <td>Fully Paid</td>\n",
       "      <td>OWN</td>\n",
       "      <td>0.0</td>\n",
       "    </tr>\n",
       "    <tr>\n",
       "      <th>23618</th>\n",
       "      <td>1500.0</td>\n",
       "      <td>36 months</td>\n",
       "      <td>6.17%</td>\n",
       "      <td>1500.0</td>\n",
       "      <td>A</td>\n",
       "      <td>1900000.0</td>\n",
       "      <td>0.57</td>\n",
       "      <td>NaN</td>\n",
       "      <td>0.0</td>\n",
       "      <td>5 years</td>\n",
       "      <td>Fully Paid</td>\n",
       "      <td>MORTGAGE</td>\n",
       "      <td>0.0</td>\n",
       "    </tr>\n",
       "    <tr>\n",
       "      <th>24233</th>\n",
       "      <td>25000.0</td>\n",
       "      <td>60 months</td>\n",
       "      <td>15.20%</td>\n",
       "      <td>25000.0</td>\n",
       "      <td>D</td>\n",
       "      <td>1200000.0</td>\n",
       "      <td>0.41</td>\n",
       "      <td>NaN</td>\n",
       "      <td>0.0</td>\n",
       "      <td>10+ years</td>\n",
       "      <td>Fully Paid</td>\n",
       "      <td>RENT</td>\n",
       "      <td>0.0</td>\n",
       "    </tr>\n",
       "    <tr>\n",
       "      <th>25831</th>\n",
       "      <td>12000.0</td>\n",
       "      <td>36 months</td>\n",
       "      <td>7.51%</td>\n",
       "      <td>12000.0</td>\n",
       "      <td>A</td>\n",
       "      <td>1200000.0</td>\n",
       "      <td>9.17</td>\n",
       "      <td>NaN</td>\n",
       "      <td>0.0</td>\n",
       "      <td>1 year</td>\n",
       "      <td>Fully Paid</td>\n",
       "      <td>MORTGAGE</td>\n",
       "      <td>0.0</td>\n",
       "    </tr>\n",
       "    <tr>\n",
       "      <th>27633</th>\n",
       "      <td>5600.0</td>\n",
       "      <td>60 months</td>\n",
       "      <td>13.61%</td>\n",
       "      <td>5600.0</td>\n",
       "      <td>C</td>\n",
       "      <td>1176000.0</td>\n",
       "      <td>1.22</td>\n",
       "      <td>NaN</td>\n",
       "      <td>1.0</td>\n",
       "      <td>10+ years</td>\n",
       "      <td>Fully Paid</td>\n",
       "      <td>MORTGAGE</td>\n",
       "      <td>0.0</td>\n",
       "    </tr>\n",
       "    <tr>\n",
       "      <th>28975</th>\n",
       "      <td>4500.0</td>\n",
       "      <td>60 months</td>\n",
       "      <td>7.88%</td>\n",
       "      <td>4500.0</td>\n",
       "      <td>A</td>\n",
       "      <td>1080000.0</td>\n",
       "      <td>0.57</td>\n",
       "      <td>NaN</td>\n",
       "      <td>0.0</td>\n",
       "      <td>8 years</td>\n",
       "      <td>Fully Paid</td>\n",
       "      <td>MORTGAGE</td>\n",
       "      <td>0.0</td>\n",
       "    </tr>\n",
       "    <tr>\n",
       "      <th>29708</th>\n",
       "      <td>25000.0</td>\n",
       "      <td>60 months</td>\n",
       "      <td>10.62%</td>\n",
       "      <td>15500.0</td>\n",
       "      <td>B</td>\n",
       "      <td>3900000.0</td>\n",
       "      <td>0.20</td>\n",
       "      <td>NaN</td>\n",
       "      <td>0.0</td>\n",
       "      <td>3 years</td>\n",
       "      <td>Fully Paid</td>\n",
       "      <td>MORTGAGE</td>\n",
       "      <td>0.0</td>\n",
       "    </tr>\n",
       "    <tr>\n",
       "      <th>30176</th>\n",
       "      <td>5000.0</td>\n",
       "      <td>36 months</td>\n",
       "      <td>12.73%</td>\n",
       "      <td>5000.0</td>\n",
       "      <td>C</td>\n",
       "      <td>6000000.0</td>\n",
       "      <td>0.01</td>\n",
       "      <td>NaN</td>\n",
       "      <td>0.0</td>\n",
       "      <td>10+ years</td>\n",
       "      <td>Fully Paid</td>\n",
       "      <td>MORTGAGE</td>\n",
       "      <td>0.0</td>\n",
       "    </tr>\n",
       "    <tr>\n",
       "      <th>33501</th>\n",
       "      <td>10000.0</td>\n",
       "      <td>36 months</td>\n",
       "      <td>7.74%</td>\n",
       "      <td>10000.0</td>\n",
       "      <td>A</td>\n",
       "      <td>1200000.0</td>\n",
       "      <td>0.80</td>\n",
       "      <td>NaN</td>\n",
       "      <td>0.0</td>\n",
       "      <td>1 year</td>\n",
       "      <td>Fully Paid</td>\n",
       "      <td>MORTGAGE</td>\n",
       "      <td>0.0</td>\n",
       "    </tr>\n",
       "    <tr>\n",
       "      <th>34051</th>\n",
       "      <td>6400.0</td>\n",
       "      <td>36 months</td>\n",
       "      <td>7.40%</td>\n",
       "      <td>6400.0</td>\n",
       "      <td>A</td>\n",
       "      <td>1440000.0</td>\n",
       "      <td>0.00</td>\n",
       "      <td>NaN</td>\n",
       "      <td>0.0</td>\n",
       "      <td>7 years</td>\n",
       "      <td>Fully Paid</td>\n",
       "      <td>MORTGAGE</td>\n",
       "      <td>0.0</td>\n",
       "    </tr>\n",
       "    <tr>\n",
       "      <th>34373</th>\n",
       "      <td>6600.0</td>\n",
       "      <td>36 months</td>\n",
       "      <td>7.74%</td>\n",
       "      <td>6600.0</td>\n",
       "      <td>A</td>\n",
       "      <td>1362000.0</td>\n",
       "      <td>0.62</td>\n",
       "      <td>NaN</td>\n",
       "      <td>0.0</td>\n",
       "      <td>9 years</td>\n",
       "      <td>Fully Paid</td>\n",
       "      <td>MORTGAGE</td>\n",
       "      <td>0.0</td>\n",
       "    </tr>\n",
       "    <tr>\n",
       "      <th>39158</th>\n",
       "      <td>8450.0</td>\n",
       "      <td>36 months</td>\n",
       "      <td>12.29%</td>\n",
       "      <td>8450.0</td>\n",
       "      <td>C</td>\n",
       "      <td>2039784.0</td>\n",
       "      <td>0.13</td>\n",
       "      <td>NaN</td>\n",
       "      <td>0.0</td>\n",
       "      <td>&lt; 1 year</td>\n",
       "      <td>Fully Paid</td>\n",
       "      <td>RENT</td>\n",
       "      <td>0.0</td>\n",
       "    </tr>\n",
       "    <tr>\n",
       "      <th>40530</th>\n",
       "      <td>25000.0</td>\n",
       "      <td>36 months</td>\n",
       "      <td>19.79%</td>\n",
       "      <td>25000.0</td>\n",
       "      <td>F</td>\n",
       "      <td>1440000.0</td>\n",
       "      <td>3.26</td>\n",
       "      <td>NaN</td>\n",
       "      <td>1.0</td>\n",
       "      <td>10+ years</td>\n",
       "      <td>Does not meet the credit policy. Status:Fully ...</td>\n",
       "      <td>MORTGAGE</td>\n",
       "      <td>0.0</td>\n",
       "    </tr>\n",
       "  </tbody>\n",
       "</table>\n",
       "</div>"
      ],
      "text/plain": [
       "       loan_amnt        term int_rate  funded_amnt grade  annual_inc    dti  \\\n",
       "7268     12025.0   36 months   14.27%      12025.0     C   1782000.0   1.31   \n",
       "10650    15775.0   60 months   12.99%      15775.0     C   1250000.0  21.81   \n",
       "21477    10000.0   36 months    6.54%      10000.0     A   1200000.0   1.46   \n",
       "23618     1500.0   36 months    6.17%       1500.0     A   1900000.0   0.57   \n",
       "24233    25000.0   60 months   15.20%      25000.0     D   1200000.0   0.41   \n",
       "25831    12000.0   36 months    7.51%      12000.0     A   1200000.0   9.17   \n",
       "27633     5600.0   60 months   13.61%       5600.0     C   1176000.0   1.22   \n",
       "28975     4500.0   60 months    7.88%       4500.0     A   1080000.0   0.57   \n",
       "29708    25000.0   60 months   10.62%      15500.0     B   3900000.0   0.20   \n",
       "30176     5000.0   36 months   12.73%       5000.0     C   6000000.0   0.01   \n",
       "33501    10000.0   36 months    7.74%      10000.0     A   1200000.0   0.80   \n",
       "34051     6400.0   36 months    7.40%       6400.0     A   1440000.0   0.00   \n",
       "34373     6600.0   36 months    7.74%       6600.0     A   1362000.0   0.62   \n",
       "39158     8450.0   36 months   12.29%       8450.0     C   2039784.0   0.13   \n",
       "40530    25000.0   36 months   19.79%      25000.0     F   1440000.0   3.26   \n",
       "\n",
       "       hardship_loan_status  delinq_2yrs emp_length  \\\n",
       "7268                    NaN          0.0  10+ years   \n",
       "10650                   NaN          0.0    2 years   \n",
       "21477                   NaN          0.0  10+ years   \n",
       "23618                   NaN          0.0    5 years   \n",
       "24233                   NaN          0.0  10+ years   \n",
       "25831                   NaN          0.0     1 year   \n",
       "27633                   NaN          1.0  10+ years   \n",
       "28975                   NaN          0.0    8 years   \n",
       "29708                   NaN          0.0    3 years   \n",
       "30176                   NaN          0.0  10+ years   \n",
       "33501                   NaN          0.0     1 year   \n",
       "34051                   NaN          0.0    7 years   \n",
       "34373                   NaN          0.0    9 years   \n",
       "39158                   NaN          0.0   < 1 year   \n",
       "40530                   NaN          1.0  10+ years   \n",
       "\n",
       "                                             loan_status home_ownership  \\\n",
       "7268                                          Fully Paid           RENT   \n",
       "10650                                        Charged Off       MORTGAGE   \n",
       "21477                                         Fully Paid            OWN   \n",
       "23618                                         Fully Paid       MORTGAGE   \n",
       "24233                                         Fully Paid           RENT   \n",
       "25831                                         Fully Paid       MORTGAGE   \n",
       "27633                                         Fully Paid       MORTGAGE   \n",
       "28975                                         Fully Paid       MORTGAGE   \n",
       "29708                                         Fully Paid       MORTGAGE   \n",
       "30176                                         Fully Paid       MORTGAGE   \n",
       "33501                                         Fully Paid       MORTGAGE   \n",
       "34051                                         Fully Paid       MORTGAGE   \n",
       "34373                                         Fully Paid       MORTGAGE   \n",
       "39158                                         Fully Paid           RENT   \n",
       "40530  Does not meet the credit policy. Status:Fully ...       MORTGAGE   \n",
       "\n",
       "       tax_liens  \n",
       "7268         0.0  \n",
       "10650        0.0  \n",
       "21477        0.0  \n",
       "23618        0.0  \n",
       "24233        0.0  \n",
       "25831        0.0  \n",
       "27633        0.0  \n",
       "28975        0.0  \n",
       "29708        0.0  \n",
       "30176        0.0  \n",
       "33501        0.0  \n",
       "34051        0.0  \n",
       "34373        0.0  \n",
       "39158        0.0  \n",
       "40530        0.0  "
      ]
     },
     "execution_count": 21,
     "metadata": {},
     "output_type": "execute_result"
    }
   ],
   "source": [
    "raw_data[raw_data.annual_inc > 1000000]"
   ]
  },
  {
   "cell_type": "markdown",
   "metadata": {},
   "source": [
    "**How does this work?**\n",
    "\n",
    "The filter creates a boolean series showing which row satisfies the filter condition and which row does not. The boolean series is then used to index the dataframe.\n",
    "\n",
    "Let's create a filter for just grade \"A\"."
   ]
  },
  {
   "cell_type": "code",
   "execution_count": 22,
   "metadata": {
    "scrolled": true
   },
   "outputs": [
    {
     "name": "stdout",
     "output_type": "stream",
     "text": [
      "<class 'pandas.core.series.Series'>\n",
      "0        False\n",
      "1        False\n",
      "2        False\n",
      "3        False\n",
      "4        False\n",
      "5         True\n",
      "6        False\n",
      "7        False\n",
      "8        False\n",
      "9        False\n",
      "10       False\n",
      "11       False\n",
      "12       False\n",
      "13       False\n",
      "14       False\n",
      "15       False\n",
      "16       False\n",
      "17        True\n",
      "18       False\n",
      "19        True\n",
      "20       False\n",
      "21       False\n",
      "22       False\n",
      "23       False\n",
      "24       False\n",
      "25       False\n",
      "26       False\n",
      "27       False\n",
      "28       False\n",
      "29       False\n",
      "         ...  \n",
      "42508    False\n",
      "42509    False\n",
      "42510    False\n",
      "42511    False\n",
      "42512     True\n",
      "42513    False\n",
      "42514    False\n",
      "42515    False\n",
      "42516    False\n",
      "42517    False\n",
      "42518    False\n",
      "42519     True\n",
      "42520     True\n",
      "42521     True\n",
      "42522     True\n",
      "42523     True\n",
      "42524    False\n",
      "42525    False\n",
      "42526    False\n",
      "42527    False\n",
      "42528    False\n",
      "42529    False\n",
      "42530    False\n",
      "42531    False\n",
      "42532    False\n",
      "42533    False\n",
      "42534     True\n",
      "42535     True\n",
      "42536    False\n",
      "42537    False\n",
      "Name: grade, Length: 42538, dtype: bool\n"
     ]
    }
   ],
   "source": [
    "grade_filter = raw_data.grade == 'A'\n",
    "print(type(grade_filter))\n",
    "print(grade_filter)"
   ]
  },
  {
   "cell_type": "code",
   "execution_count": 23,
   "metadata": {},
   "outputs": [
    {
     "data": {
      "text/html": [
       "<div>\n",
       "<style>\n",
       "    .dataframe thead tr:only-child th {\n",
       "        text-align: right;\n",
       "    }\n",
       "\n",
       "    .dataframe thead th {\n",
       "        text-align: left;\n",
       "    }\n",
       "\n",
       "    .dataframe tbody tr th {\n",
       "        vertical-align: top;\n",
       "    }\n",
       "</style>\n",
       "<table border=\"1\" class=\"dataframe\">\n",
       "  <thead>\n",
       "    <tr style=\"text-align: right;\">\n",
       "      <th></th>\n",
       "      <th>loan_amnt</th>\n",
       "      <th>term</th>\n",
       "      <th>int_rate</th>\n",
       "      <th>funded_amnt</th>\n",
       "      <th>grade</th>\n",
       "      <th>annual_inc</th>\n",
       "      <th>dti</th>\n",
       "      <th>hardship_loan_status</th>\n",
       "      <th>delinq_2yrs</th>\n",
       "      <th>emp_length</th>\n",
       "      <th>loan_status</th>\n",
       "      <th>home_ownership</th>\n",
       "      <th>tax_liens</th>\n",
       "    </tr>\n",
       "  </thead>\n",
       "  <tbody>\n",
       "    <tr>\n",
       "      <th>5</th>\n",
       "      <td>5000.0</td>\n",
       "      <td>36 months</td>\n",
       "      <td>7.90%</td>\n",
       "      <td>5000.0</td>\n",
       "      <td>A</td>\n",
       "      <td>36000.00</td>\n",
       "      <td>11.20</td>\n",
       "      <td>NaN</td>\n",
       "      <td>0.0</td>\n",
       "      <td>3 years</td>\n",
       "      <td>Fully Paid</td>\n",
       "      <td>RENT</td>\n",
       "      <td>0.0</td>\n",
       "    </tr>\n",
       "    <tr>\n",
       "      <th>17</th>\n",
       "      <td>3600.0</td>\n",
       "      <td>36 months</td>\n",
       "      <td>6.03%</td>\n",
       "      <td>3600.0</td>\n",
       "      <td>A</td>\n",
       "      <td>110000.00</td>\n",
       "      <td>10.52</td>\n",
       "      <td>NaN</td>\n",
       "      <td>0.0</td>\n",
       "      <td>10+ years</td>\n",
       "      <td>Fully Paid</td>\n",
       "      <td>MORTGAGE</td>\n",
       "      <td>0.0</td>\n",
       "    </tr>\n",
       "    <tr>\n",
       "      <th>19</th>\n",
       "      <td>9200.0</td>\n",
       "      <td>36 months</td>\n",
       "      <td>6.03%</td>\n",
       "      <td>9200.0</td>\n",
       "      <td>A</td>\n",
       "      <td>77385.19</td>\n",
       "      <td>9.86</td>\n",
       "      <td>NaN</td>\n",
       "      <td>0.0</td>\n",
       "      <td>6 years</td>\n",
       "      <td>Fully Paid</td>\n",
       "      <td>RENT</td>\n",
       "      <td>0.0</td>\n",
       "    </tr>\n",
       "    <tr>\n",
       "      <th>30</th>\n",
       "      <td>4375.0</td>\n",
       "      <td>36 months</td>\n",
       "      <td>7.51%</td>\n",
       "      <td>4375.0</td>\n",
       "      <td>A</td>\n",
       "      <td>17108.00</td>\n",
       "      <td>20.34</td>\n",
       "      <td>NaN</td>\n",
       "      <td>0.0</td>\n",
       "      <td>7 years</td>\n",
       "      <td>Fully Paid</td>\n",
       "      <td>MORTGAGE</td>\n",
       "      <td>0.0</td>\n",
       "    </tr>\n",
       "    <tr>\n",
       "      <th>31</th>\n",
       "      <td>31825.0</td>\n",
       "      <td>36 months</td>\n",
       "      <td>7.90%</td>\n",
       "      <td>31825.0</td>\n",
       "      <td>A</td>\n",
       "      <td>75000.00</td>\n",
       "      <td>14.03</td>\n",
       "      <td>NaN</td>\n",
       "      <td>0.0</td>\n",
       "      <td>5 years</td>\n",
       "      <td>Fully Paid</td>\n",
       "      <td>MORTGAGE</td>\n",
       "      <td>0.0</td>\n",
       "    </tr>\n",
       "  </tbody>\n",
       "</table>\n",
       "</div>"
      ],
      "text/plain": [
       "    loan_amnt        term int_rate  funded_amnt grade  annual_inc    dti  \\\n",
       "5      5000.0   36 months    7.90%       5000.0     A    36000.00  11.20   \n",
       "17     3600.0   36 months    6.03%       3600.0     A   110000.00  10.52   \n",
       "19     9200.0   36 months    6.03%       9200.0     A    77385.19   9.86   \n",
       "30     4375.0   36 months    7.51%       4375.0     A    17108.00  20.34   \n",
       "31    31825.0   36 months    7.90%      31825.0     A    75000.00  14.03   \n",
       "\n",
       "    hardship_loan_status  delinq_2yrs emp_length loan_status home_ownership  \\\n",
       "5                    NaN          0.0    3 years  Fully Paid           RENT   \n",
       "17                   NaN          0.0  10+ years  Fully Paid       MORTGAGE   \n",
       "19                   NaN          0.0    6 years  Fully Paid           RENT   \n",
       "30                   NaN          0.0    7 years  Fully Paid       MORTGAGE   \n",
       "31                   NaN          0.0    5 years  Fully Paid       MORTGAGE   \n",
       "\n",
       "    tax_liens  \n",
       "5         0.0  \n",
       "17        0.0  \n",
       "19        0.0  \n",
       "30        0.0  \n",
       "31        0.0  "
      ]
     },
     "execution_count": 23,
     "metadata": {},
     "output_type": "execute_result"
    }
   ],
   "source": [
    "raw_data[grade_filter].head()"
   ]
  },
  {
   "cell_type": "markdown",
   "metadata": {},
   "source": [
    "### Exercise: Try filtering rows by another column's values"
   ]
  },
  {
   "cell_type": "code",
   "execution_count": null,
   "metadata": {
    "collapsed": true
   },
   "outputs": [],
   "source": []
  },
  {
   "cell_type": "markdown",
   "metadata": {},
   "source": [
    "<center><i>**Congratulations! At this point you've mastered the most important pieces for working with data in Pandas!**<i></center>"
   ]
  },
  {
   "cell_type": "markdown",
   "metadata": {},
   "source": [
    "### Which fields are numerical and which ones are categorical?\n",
    "We can get the type info for all variables at once to get an overview in a compact format"
   ]
  },
  {
   "cell_type": "code",
   "execution_count": 24,
   "metadata": {
    "scrolled": true
   },
   "outputs": [
    {
     "name": "stdout",
     "output_type": "stream",
     "text": [
      "<class 'pandas.core.frame.DataFrame'>\n",
      "RangeIndex: 42538 entries, 0 to 42537\n",
      "Data columns (total 13 columns):\n",
      "loan_amnt               42535 non-null float64\n",
      "term                    42535 non-null object\n",
      "int_rate                42535 non-null object\n",
      "funded_amnt             42535 non-null float64\n",
      "grade                   42535 non-null object\n",
      "annual_inc              42531 non-null float64\n",
      "dti                     42535 non-null float64\n",
      "hardship_loan_status    0 non-null float64\n",
      "delinq_2yrs             42506 non-null float64\n",
      "emp_length              42535 non-null object\n",
      "loan_status             42535 non-null object\n",
      "home_ownership          42535 non-null object\n",
      "tax_liens               42430 non-null float64\n",
      "dtypes: float64(7), object(6)\n",
      "memory usage: 4.2+ MB\n"
     ]
    }
   ],
   "source": [
    "#Check field types\n",
    "raw_data.info()"
   ]
  },
  {
   "cell_type": "markdown",
   "metadata": {},
   "source": [
    "## Task: Check the Data Dictionary for descriptions of fields"
   ]
  },
  {
   "cell_type": "markdown",
   "metadata": {},
   "source": [
    "Please check the following fields:\n",
    "    - grade\n",
    "    - dti\n",
    "    - delinq_2yrs\n",
    "    - tax_liens"
   ]
  },
  {
   "cell_type": "markdown",
   "metadata": {},
   "source": [
    "## Are there multiple reports for individual loans or just one record per loan? \n",
    "\n",
    "There could be multiple reasons for having multiple records for a loan\n",
    "    - duplicate rows\n",
    "    - loan history tracked over time\n",
    "\n",
    "If our goal is not working with time series data for individual loans we can keep only the last reports per loan. This will contain the latest available information.\n",
    "\n",
    "Do you have any ideas for how to accomplish this?\n",
    "\n",
    "For the dataset we are working on there is a unique record for each loan, thus we don't have to worry about this step in our case."
   ]
  },
  {
   "cell_type": "markdown",
   "metadata": {},
   "source": [
    "## Missing Values\n",
    "Most algorithms assume all values are available and can't handle missing data. The action to take for missing values depends on both the ratio of missing to total values and the field of application / variable meaning.\n",
    "\n",
    "For fields with high missing rate: \n",
    "    - drop the field as it's probably useless with so many values missing\n",
    "    \n",
    "For fields with low missing rate we can have multiple approaches\n",
    "    - drop rows with any empty value\n",
    "    - impute missing values by\n",
    "        - mean\n",
    "        - mode\n",
    "        - extreme values in case we need to be conservative (check the use case)\n",
    "        - predict the missing values using the other fields"
   ]
  },
  {
   "cell_type": "markdown",
   "metadata": {},
   "source": [
    "### Task: Think about when and why we would use these approaches"
   ]
  },
  {
   "cell_type": "code",
   "execution_count": null,
   "metadata": {
    "collapsed": true
   },
   "outputs": [],
   "source": []
  },
  {
   "cell_type": "markdown",
   "metadata": {},
   "source": [
    "### Check missing values for this dataset for each field\n",
    "\n",
    "Let's check Null values - missing data cells for individual loans. \n",
    "Are there any variables that we would discard?"
   ]
  },
  {
   "cell_type": "code",
   "execution_count": 25,
   "metadata": {},
   "outputs": [
    {
     "data": {
      "text/plain": [
       "loan_amnt                   3\n",
       "term                        3\n",
       "int_rate                    3\n",
       "funded_amnt                 3\n",
       "grade                       3\n",
       "annual_inc                  7\n",
       "dti                         3\n",
       "hardship_loan_status    42538\n",
       "delinq_2yrs                32\n",
       "emp_length                  3\n",
       "loan_status                 3\n",
       "home_ownership              3\n",
       "tax_liens                 108\n",
       "dtype: int64"
      ]
     },
     "execution_count": 25,
     "metadata": {},
     "output_type": "execute_result"
    }
   ],
   "source": [
    "raw_data.isnull().sum(axis=0)"
   ]
  },
  {
   "cell_type": "markdown",
   "metadata": {},
   "source": [
    "### Exercise: Please remove hardship_loan_status from the dataframe\n",
    "Hint: check out the .drop() command on a Pandas dataframe\n",
    "\n",
    "Note that axis=0 means row indexes, so it is used when removing a row,<br/>\n",
    "and axis=1 means column indexes, so it is used when removing a column"
   ]
  },
  {
   "cell_type": "code",
   "execution_count": 26,
   "metadata": {},
   "outputs": [
    {
     "data": {
      "text/html": [
       "<div>\n",
       "<style>\n",
       "    .dataframe thead tr:only-child th {\n",
       "        text-align: right;\n",
       "    }\n",
       "\n",
       "    .dataframe thead th {\n",
       "        text-align: left;\n",
       "    }\n",
       "\n",
       "    .dataframe tbody tr th {\n",
       "        vertical-align: top;\n",
       "    }\n",
       "</style>\n",
       "<table border=\"1\" class=\"dataframe\">\n",
       "  <thead>\n",
       "    <tr style=\"text-align: right;\">\n",
       "      <th></th>\n",
       "      <th>loan_amnt</th>\n",
       "      <th>term</th>\n",
       "      <th>int_rate</th>\n",
       "      <th>funded_amnt</th>\n",
       "      <th>grade</th>\n",
       "      <th>annual_inc</th>\n",
       "      <th>dti</th>\n",
       "      <th>delinq_2yrs</th>\n",
       "      <th>emp_length</th>\n",
       "      <th>loan_status</th>\n",
       "      <th>home_ownership</th>\n",
       "      <th>tax_liens</th>\n",
       "    </tr>\n",
       "  </thead>\n",
       "  <tbody>\n",
       "    <tr>\n",
       "      <th>0</th>\n",
       "      <td>5000.0</td>\n",
       "      <td>36 months</td>\n",
       "      <td>10.65%</td>\n",
       "      <td>5000.0</td>\n",
       "      <td>B</td>\n",
       "      <td>24000.0</td>\n",
       "      <td>27.65</td>\n",
       "      <td>0.0</td>\n",
       "      <td>10+ years</td>\n",
       "      <td>Fully Paid</td>\n",
       "      <td>RENT</td>\n",
       "      <td>0.0</td>\n",
       "    </tr>\n",
       "    <tr>\n",
       "      <th>1</th>\n",
       "      <td>2500.0</td>\n",
       "      <td>60 months</td>\n",
       "      <td>15.27%</td>\n",
       "      <td>2500.0</td>\n",
       "      <td>C</td>\n",
       "      <td>30000.0</td>\n",
       "      <td>1.00</td>\n",
       "      <td>0.0</td>\n",
       "      <td>&lt; 1 year</td>\n",
       "      <td>Charged Off</td>\n",
       "      <td>RENT</td>\n",
       "      <td>0.0</td>\n",
       "    </tr>\n",
       "    <tr>\n",
       "      <th>2</th>\n",
       "      <td>2400.0</td>\n",
       "      <td>36 months</td>\n",
       "      <td>15.96%</td>\n",
       "      <td>2400.0</td>\n",
       "      <td>C</td>\n",
       "      <td>12252.0</td>\n",
       "      <td>8.72</td>\n",
       "      <td>0.0</td>\n",
       "      <td>10+ years</td>\n",
       "      <td>Fully Paid</td>\n",
       "      <td>RENT</td>\n",
       "      <td>0.0</td>\n",
       "    </tr>\n",
       "    <tr>\n",
       "      <th>3</th>\n",
       "      <td>10000.0</td>\n",
       "      <td>36 months</td>\n",
       "      <td>13.49%</td>\n",
       "      <td>10000.0</td>\n",
       "      <td>C</td>\n",
       "      <td>49200.0</td>\n",
       "      <td>20.00</td>\n",
       "      <td>0.0</td>\n",
       "      <td>10+ years</td>\n",
       "      <td>Fully Paid</td>\n",
       "      <td>RENT</td>\n",
       "      <td>0.0</td>\n",
       "    </tr>\n",
       "    <tr>\n",
       "      <th>4</th>\n",
       "      <td>3000.0</td>\n",
       "      <td>60 months</td>\n",
       "      <td>12.69%</td>\n",
       "      <td>3000.0</td>\n",
       "      <td>B</td>\n",
       "      <td>80000.0</td>\n",
       "      <td>17.94</td>\n",
       "      <td>0.0</td>\n",
       "      <td>1 year</td>\n",
       "      <td>Fully Paid</td>\n",
       "      <td>RENT</td>\n",
       "      <td>0.0</td>\n",
       "    </tr>\n",
       "  </tbody>\n",
       "</table>\n",
       "</div>"
      ],
      "text/plain": [
       "   loan_amnt        term int_rate  funded_amnt grade  annual_inc    dti  \\\n",
       "0     5000.0   36 months   10.65%       5000.0     B     24000.0  27.65   \n",
       "1     2500.0   60 months   15.27%       2500.0     C     30000.0   1.00   \n",
       "2     2400.0   36 months   15.96%       2400.0     C     12252.0   8.72   \n",
       "3    10000.0   36 months   13.49%      10000.0     C     49200.0  20.00   \n",
       "4     3000.0   60 months   12.69%       3000.0     B     80000.0  17.94   \n",
       "\n",
       "   delinq_2yrs emp_length  loan_status home_ownership  tax_liens  \n",
       "0          0.0  10+ years   Fully Paid           RENT        0.0  \n",
       "1          0.0   < 1 year  Charged Off           RENT        0.0  \n",
       "2          0.0  10+ years   Fully Paid           RENT        0.0  \n",
       "3          0.0  10+ years   Fully Paid           RENT        0.0  \n",
       "4          0.0     1 year   Fully Paid           RENT        0.0  "
      ]
     },
     "execution_count": 26,
     "metadata": {},
     "output_type": "execute_result"
    }
   ],
   "source": [
    "raw_data = raw_data.drop('hardship_loan_status', axis=1)\n",
    "raw_data.head()"
   ]
  },
  {
   "cell_type": "markdown",
   "metadata": {},
   "source": [
    "### Remove all rows with any missing values"
   ]
  },
  {
   "cell_type": "code",
   "execution_count": 27,
   "metadata": {
    "collapsed": true
   },
   "outputs": [],
   "source": [
    "raw_data = raw_data.dropna()"
   ]
  },
  {
   "cell_type": "code",
   "execution_count": 28,
   "metadata": {},
   "outputs": [
    {
     "data": {
      "text/plain": [
       "loan_amnt         0\n",
       "term              0\n",
       "int_rate          0\n",
       "funded_amnt       0\n",
       "grade             0\n",
       "annual_inc        0\n",
       "dti               0\n",
       "delinq_2yrs       0\n",
       "emp_length        0\n",
       "loan_status       0\n",
       "home_ownership    0\n",
       "tax_liens         0\n",
       "dtype: int64"
      ]
     },
     "execution_count": 28,
     "metadata": {},
     "output_type": "execute_result"
    }
   ],
   "source": [
    "#Check null values again\n",
    "raw_data.isnull().sum(axis=0)"
   ]
  },
  {
   "cell_type": "markdown",
   "metadata": {},
   "source": [
    "## Transforming and cleaning individual columns"
   ]
  },
  {
   "cell_type": "markdown",
   "metadata": {},
   "source": [
    "### Creating a new binary target variable for prediction\n",
    "We will predict loan defaults in the second notebook. For that we'll need binary target variable for which we can use the \"`loan_status`\" column's values."
   ]
  },
  {
   "cell_type": "markdown",
   "metadata": {},
   "source": [
    "**Check values of the loan status variable and keep only relevant ones**"
   ]
  },
  {
   "cell_type": "code",
   "execution_count": 29,
   "metadata": {},
   "outputs": [
    {
     "data": {
      "text/plain": [
       "Fully Paid                                             34078\n",
       "Charged Off                                             5669\n",
       "Does not meet the credit policy. Status:Fully Paid      1932\n",
       "Does not meet the credit policy. Status:Charged Off      751\n",
       "Name: loan_status, dtype: int64"
      ]
     },
     "execution_count": 29,
     "metadata": {},
     "output_type": "execute_result"
    }
   ],
   "source": [
    "raw_data.loan_status.value_counts()"
   ]
  },
  {
   "cell_type": "markdown",
   "metadata": {},
   "source": [
    "Let's keep only the loans with `Fully Paid` and `Charged Off` status as the other ones are special cases and are not of our interest for this analysis.\n",
    "For this we can filter down the dataframe's rows by these two values."
   ]
  },
  {
   "cell_type": "code",
   "execution_count": 30,
   "metadata": {
    "collapsed": true
   },
   "outputs": [],
   "source": [
    "raw_data = raw_data[(raw_data['loan_status'] == 'Fully Paid') | (raw_data['loan_status'] == 'Charged Off')]"
   ]
  },
  {
   "cell_type": "code",
   "execution_count": 31,
   "metadata": {},
   "outputs": [
    {
     "data": {
      "text/plain": [
       "Fully Paid     34078\n",
       "Charged Off     5669\n",
       "Name: loan_status, dtype: int64"
      ]
     },
     "execution_count": 31,
     "metadata": {},
     "output_type": "execute_result"
    }
   ],
   "source": [
    "raw_data.loan_status.value_counts()"
   ]
  },
  {
   "cell_type": "markdown",
   "metadata": {},
   "source": [
    "**Map categorial values to a newly created binary target**"
   ]
  },
  {
   "cell_type": "code",
   "execution_count": 32,
   "metadata": {},
   "outputs": [
    {
     "data": {
      "text/plain": [
       "0     Fully Paid\n",
       "1    Charged Off\n",
       "2     Fully Paid\n",
       "3     Fully Paid\n",
       "4     Fully Paid\n",
       "5     Fully Paid\n",
       "6     Fully Paid\n",
       "7     Fully Paid\n",
       "8    Charged Off\n",
       "9    Charged Off\n",
       "Name: loan_status, dtype: object"
      ]
     },
     "execution_count": 32,
     "metadata": {},
     "output_type": "execute_result"
    }
   ],
   "source": [
    "#Let's check the first 10 loans\n",
    "raw_data.loan_status[:10]"
   ]
  },
  {
   "cell_type": "markdown",
   "metadata": {},
   "source": [
    "We can create a dictionary and use it for translation."
   ]
  },
  {
   "cell_type": "code",
   "execution_count": 33,
   "metadata": {},
   "outputs": [
    {
     "data": {
      "text/plain": [
       "{'Charged Off': 1, 'Fully Paid': 0}"
      ]
     },
     "execution_count": 33,
     "metadata": {},
     "output_type": "execute_result"
    }
   ],
   "source": [
    "#Create a dictionary to use for translation\n",
    "def_map = {'Fully Paid': 0, 'Charged Off': 1}\n",
    "def_map"
   ]
  },
  {
   "cell_type": "markdown",
   "metadata": {},
   "source": [
    "We can use the `.map()` command to apply a function or a mapping dictionary on each row of the dataframe."
   ]
  },
  {
   "cell_type": "code",
   "execution_count": 34,
   "metadata": {
    "scrolled": true
   },
   "outputs": [
    {
     "data": {
      "text/plain": [
       "0    0\n",
       "1    1\n",
       "2    0\n",
       "3    0\n",
       "4    0\n",
       "5    0\n",
       "6    0\n",
       "7    0\n",
       "8    1\n",
       "9    1\n",
       "Name: loan_status, dtype: int64"
      ]
     },
     "execution_count": 34,
     "metadata": {},
     "output_type": "execute_result"
    }
   ],
   "source": [
    "#Check how mapping the values works\n",
    "raw_data.loan_status.map(def_map)[:10]"
   ]
  },
  {
   "cell_type": "code",
   "execution_count": 35,
   "metadata": {
    "collapsed": true
   },
   "outputs": [],
   "source": [
    "#Create the new column\n",
    "raw_data['defaulted'] = raw_data.loan_status.map(def_map)"
   ]
  },
  {
   "cell_type": "markdown",
   "metadata": {},
   "source": [
    "Let's remove the original `loan_status` column"
   ]
  },
  {
   "cell_type": "code",
   "execution_count": 36,
   "metadata": {
    "collapsed": true
   },
   "outputs": [],
   "source": [
    "raw_data = raw_data.drop('loan_status', axis=1)"
   ]
  },
  {
   "cell_type": "code",
   "execution_count": 37,
   "metadata": {
    "scrolled": false
   },
   "outputs": [
    {
     "data": {
      "text/html": [
       "<div>\n",
       "<style>\n",
       "    .dataframe thead tr:only-child th {\n",
       "        text-align: right;\n",
       "    }\n",
       "\n",
       "    .dataframe thead th {\n",
       "        text-align: left;\n",
       "    }\n",
       "\n",
       "    .dataframe tbody tr th {\n",
       "        vertical-align: top;\n",
       "    }\n",
       "</style>\n",
       "<table border=\"1\" class=\"dataframe\">\n",
       "  <thead>\n",
       "    <tr style=\"text-align: right;\">\n",
       "      <th></th>\n",
       "      <th>loan_amnt</th>\n",
       "      <th>term</th>\n",
       "      <th>int_rate</th>\n",
       "      <th>funded_amnt</th>\n",
       "      <th>grade</th>\n",
       "      <th>annual_inc</th>\n",
       "      <th>dti</th>\n",
       "      <th>delinq_2yrs</th>\n",
       "      <th>emp_length</th>\n",
       "      <th>home_ownership</th>\n",
       "      <th>tax_liens</th>\n",
       "      <th>defaulted</th>\n",
       "    </tr>\n",
       "  </thead>\n",
       "  <tbody>\n",
       "    <tr>\n",
       "      <th>0</th>\n",
       "      <td>5000.0</td>\n",
       "      <td>36 months</td>\n",
       "      <td>10.65%</td>\n",
       "      <td>5000.0</td>\n",
       "      <td>B</td>\n",
       "      <td>24000.0</td>\n",
       "      <td>27.65</td>\n",
       "      <td>0.0</td>\n",
       "      <td>10+ years</td>\n",
       "      <td>RENT</td>\n",
       "      <td>0.0</td>\n",
       "      <td>0</td>\n",
       "    </tr>\n",
       "    <tr>\n",
       "      <th>1</th>\n",
       "      <td>2500.0</td>\n",
       "      <td>60 months</td>\n",
       "      <td>15.27%</td>\n",
       "      <td>2500.0</td>\n",
       "      <td>C</td>\n",
       "      <td>30000.0</td>\n",
       "      <td>1.00</td>\n",
       "      <td>0.0</td>\n",
       "      <td>&lt; 1 year</td>\n",
       "      <td>RENT</td>\n",
       "      <td>0.0</td>\n",
       "      <td>1</td>\n",
       "    </tr>\n",
       "    <tr>\n",
       "      <th>2</th>\n",
       "      <td>2400.0</td>\n",
       "      <td>36 months</td>\n",
       "      <td>15.96%</td>\n",
       "      <td>2400.0</td>\n",
       "      <td>C</td>\n",
       "      <td>12252.0</td>\n",
       "      <td>8.72</td>\n",
       "      <td>0.0</td>\n",
       "      <td>10+ years</td>\n",
       "      <td>RENT</td>\n",
       "      <td>0.0</td>\n",
       "      <td>0</td>\n",
       "    </tr>\n",
       "    <tr>\n",
       "      <th>3</th>\n",
       "      <td>10000.0</td>\n",
       "      <td>36 months</td>\n",
       "      <td>13.49%</td>\n",
       "      <td>10000.0</td>\n",
       "      <td>C</td>\n",
       "      <td>49200.0</td>\n",
       "      <td>20.00</td>\n",
       "      <td>0.0</td>\n",
       "      <td>10+ years</td>\n",
       "      <td>RENT</td>\n",
       "      <td>0.0</td>\n",
       "      <td>0</td>\n",
       "    </tr>\n",
       "    <tr>\n",
       "      <th>4</th>\n",
       "      <td>3000.0</td>\n",
       "      <td>60 months</td>\n",
       "      <td>12.69%</td>\n",
       "      <td>3000.0</td>\n",
       "      <td>B</td>\n",
       "      <td>80000.0</td>\n",
       "      <td>17.94</td>\n",
       "      <td>0.0</td>\n",
       "      <td>1 year</td>\n",
       "      <td>RENT</td>\n",
       "      <td>0.0</td>\n",
       "      <td>0</td>\n",
       "    </tr>\n",
       "  </tbody>\n",
       "</table>\n",
       "</div>"
      ],
      "text/plain": [
       "   loan_amnt        term int_rate  funded_amnt grade  annual_inc    dti  \\\n",
       "0     5000.0   36 months   10.65%       5000.0     B     24000.0  27.65   \n",
       "1     2500.0   60 months   15.27%       2500.0     C     30000.0   1.00   \n",
       "2     2400.0   36 months   15.96%       2400.0     C     12252.0   8.72   \n",
       "3    10000.0   36 months   13.49%      10000.0     C     49200.0  20.00   \n",
       "4     3000.0   60 months   12.69%       3000.0     B     80000.0  17.94   \n",
       "\n",
       "   delinq_2yrs emp_length home_ownership  tax_liens  defaulted  \n",
       "0          0.0  10+ years           RENT        0.0          0  \n",
       "1          0.0   < 1 year           RENT        0.0          1  \n",
       "2          0.0  10+ years           RENT        0.0          0  \n",
       "3          0.0  10+ years           RENT        0.0          0  \n",
       "4          0.0     1 year           RENT        0.0          0  "
      ]
     },
     "execution_count": 37,
     "metadata": {},
     "output_type": "execute_result"
    }
   ],
   "source": [
    "raw_data.head()"
   ]
  },
  {
   "cell_type": "markdown",
   "metadata": {},
   "source": [
    "### Creating a numerical variable from `grade`\n",
    "Let's do the same process for `Grade`. Here we can use the ordinal nature of the grades to create a numerical column."
   ]
  },
  {
   "cell_type": "code",
   "execution_count": 38,
   "metadata": {},
   "outputs": [
    {
     "data": {
      "text/plain": [
       "array(['B', 'C', 'A', 'E', 'F', 'D', 'G'], dtype=object)"
      ]
     },
     "execution_count": 38,
     "metadata": {},
     "output_type": "execute_result"
    }
   ],
   "source": [
    "raw_data.grade.unique()"
   ]
  },
  {
   "cell_type": "code",
   "execution_count": 39,
   "metadata": {},
   "outputs": [
    {
     "data": {
      "text/plain": [
       "{'A': 1, 'B': 2, 'C': 3, 'D': 4, 'E': 5, 'F': 6, 'G': 7}"
      ]
     },
     "execution_count": 39,
     "metadata": {},
     "output_type": "execute_result"
    }
   ],
   "source": [
    "#Create a dictionary to use for translation\n",
    "grade_map = {'A': 1, 'B': 2, 'C': 3, 'D':4, 'E':5, 'F':6, 'G':7}\n",
    "grade_map"
   ]
  },
  {
   "cell_type": "code",
   "execution_count": 40,
   "metadata": {},
   "outputs": [
    {
     "data": {
      "text/plain": [
       "0    B\n",
       "1    C\n",
       "2    C\n",
       "3    C\n",
       "4    B\n",
       "5    A\n",
       "6    C\n",
       "7    E\n",
       "8    F\n",
       "9    B\n",
       "Name: grade, dtype: object"
      ]
     },
     "execution_count": 40,
     "metadata": {},
     "output_type": "execute_result"
    }
   ],
   "source": [
    "raw_data.grade[:10]"
   ]
  },
  {
   "cell_type": "code",
   "execution_count": 41,
   "metadata": {},
   "outputs": [
    {
     "data": {
      "text/plain": [
       "0    2\n",
       "1    3\n",
       "2    3\n",
       "3    3\n",
       "4    2\n",
       "5    1\n",
       "6    3\n",
       "7    5\n",
       "8    6\n",
       "9    2\n",
       "Name: grade, dtype: int64"
      ]
     },
     "execution_count": 41,
     "metadata": {},
     "output_type": "execute_result"
    }
   ],
   "source": [
    "raw_data.grade.map(grade_map)[:10]"
   ]
  },
  {
   "cell_type": "code",
   "execution_count": 42,
   "metadata": {
    "collapsed": true
   },
   "outputs": [],
   "source": [
    "#Overwrite the column\n",
    "raw_data.grade = raw_data.grade.map(grade_map)"
   ]
  },
  {
   "cell_type": "code",
   "execution_count": 43,
   "metadata": {},
   "outputs": [
    {
     "data": {
      "text/html": [
       "<div>\n",
       "<style>\n",
       "    .dataframe thead tr:only-child th {\n",
       "        text-align: right;\n",
       "    }\n",
       "\n",
       "    .dataframe thead th {\n",
       "        text-align: left;\n",
       "    }\n",
       "\n",
       "    .dataframe tbody tr th {\n",
       "        vertical-align: top;\n",
       "    }\n",
       "</style>\n",
       "<table border=\"1\" class=\"dataframe\">\n",
       "  <thead>\n",
       "    <tr style=\"text-align: right;\">\n",
       "      <th></th>\n",
       "      <th>loan_amnt</th>\n",
       "      <th>term</th>\n",
       "      <th>int_rate</th>\n",
       "      <th>funded_amnt</th>\n",
       "      <th>grade</th>\n",
       "      <th>annual_inc</th>\n",
       "      <th>dti</th>\n",
       "      <th>delinq_2yrs</th>\n",
       "      <th>emp_length</th>\n",
       "      <th>home_ownership</th>\n",
       "      <th>tax_liens</th>\n",
       "      <th>defaulted</th>\n",
       "    </tr>\n",
       "  </thead>\n",
       "  <tbody>\n",
       "    <tr>\n",
       "      <th>0</th>\n",
       "      <td>5000.0</td>\n",
       "      <td>36 months</td>\n",
       "      <td>10.65%</td>\n",
       "      <td>5000.0</td>\n",
       "      <td>2</td>\n",
       "      <td>24000.0</td>\n",
       "      <td>27.65</td>\n",
       "      <td>0.0</td>\n",
       "      <td>10+ years</td>\n",
       "      <td>RENT</td>\n",
       "      <td>0.0</td>\n",
       "      <td>0</td>\n",
       "    </tr>\n",
       "    <tr>\n",
       "      <th>1</th>\n",
       "      <td>2500.0</td>\n",
       "      <td>60 months</td>\n",
       "      <td>15.27%</td>\n",
       "      <td>2500.0</td>\n",
       "      <td>3</td>\n",
       "      <td>30000.0</td>\n",
       "      <td>1.00</td>\n",
       "      <td>0.0</td>\n",
       "      <td>&lt; 1 year</td>\n",
       "      <td>RENT</td>\n",
       "      <td>0.0</td>\n",
       "      <td>1</td>\n",
       "    </tr>\n",
       "    <tr>\n",
       "      <th>2</th>\n",
       "      <td>2400.0</td>\n",
       "      <td>36 months</td>\n",
       "      <td>15.96%</td>\n",
       "      <td>2400.0</td>\n",
       "      <td>3</td>\n",
       "      <td>12252.0</td>\n",
       "      <td>8.72</td>\n",
       "      <td>0.0</td>\n",
       "      <td>10+ years</td>\n",
       "      <td>RENT</td>\n",
       "      <td>0.0</td>\n",
       "      <td>0</td>\n",
       "    </tr>\n",
       "    <tr>\n",
       "      <th>3</th>\n",
       "      <td>10000.0</td>\n",
       "      <td>36 months</td>\n",
       "      <td>13.49%</td>\n",
       "      <td>10000.0</td>\n",
       "      <td>3</td>\n",
       "      <td>49200.0</td>\n",
       "      <td>20.00</td>\n",
       "      <td>0.0</td>\n",
       "      <td>10+ years</td>\n",
       "      <td>RENT</td>\n",
       "      <td>0.0</td>\n",
       "      <td>0</td>\n",
       "    </tr>\n",
       "    <tr>\n",
       "      <th>4</th>\n",
       "      <td>3000.0</td>\n",
       "      <td>60 months</td>\n",
       "      <td>12.69%</td>\n",
       "      <td>3000.0</td>\n",
       "      <td>2</td>\n",
       "      <td>80000.0</td>\n",
       "      <td>17.94</td>\n",
       "      <td>0.0</td>\n",
       "      <td>1 year</td>\n",
       "      <td>RENT</td>\n",
       "      <td>0.0</td>\n",
       "      <td>0</td>\n",
       "    </tr>\n",
       "  </tbody>\n",
       "</table>\n",
       "</div>"
      ],
      "text/plain": [
       "   loan_amnt        term int_rate  funded_amnt  grade  annual_inc    dti  \\\n",
       "0     5000.0   36 months   10.65%       5000.0      2     24000.0  27.65   \n",
       "1     2500.0   60 months   15.27%       2500.0      3     30000.0   1.00   \n",
       "2     2400.0   36 months   15.96%       2400.0      3     12252.0   8.72   \n",
       "3    10000.0   36 months   13.49%      10000.0      3     49200.0  20.00   \n",
       "4     3000.0   60 months   12.69%       3000.0      2     80000.0  17.94   \n",
       "\n",
       "   delinq_2yrs emp_length home_ownership  tax_liens  defaulted  \n",
       "0          0.0  10+ years           RENT        0.0          0  \n",
       "1          0.0   < 1 year           RENT        0.0          1  \n",
       "2          0.0  10+ years           RENT        0.0          0  \n",
       "3          0.0  10+ years           RENT        0.0          0  \n",
       "4          0.0     1 year           RENT        0.0          0  "
      ]
     },
     "execution_count": 43,
     "metadata": {},
     "output_type": "execute_result"
    }
   ],
   "source": [
    "raw_data.head()"
   ]
  },
  {
   "cell_type": "markdown",
   "metadata": {
    "collapsed": true
   },
   "source": [
    "### Creating a numerical variable from `emp_length`"
   ]
  },
  {
   "cell_type": "code",
   "execution_count": 44,
   "metadata": {},
   "outputs": [
    {
     "data": {
      "text/plain": [
       "array(['10+ years', '< 1 year', '1 year', '3 years', '8 years', '9 years',\n",
       "       '4 years', '5 years', '6 years', '2 years', '7 years', 'n/a'], dtype=object)"
      ]
     },
     "execution_count": 44,
     "metadata": {},
     "output_type": "execute_result"
    }
   ],
   "source": [
    "raw_data.emp_length.unique()"
   ]
  },
  {
   "cell_type": "code",
   "execution_count": 45,
   "metadata": {},
   "outputs": [
    {
     "data": {
      "text/plain": [
       "{'1 years': 1,\n",
       " '2 years': 2,\n",
       " '3 years': 3,\n",
       " '4 years': 4,\n",
       " '5 years': 5,\n",
       " '6 years': 6,\n",
       " '7 years': 7,\n",
       " '8 years': 8,\n",
       " '9 years': 9}"
      ]
     },
     "execution_count": 45,
     "metadata": {},
     "output_type": "execute_result"
    }
   ],
   "source": [
    "emp_map = {str(i) + ' years' : i for i in range(1,10)}\n",
    "emp_map"
   ]
  },
  {
   "cell_type": "code",
   "execution_count": 46,
   "metadata": {},
   "outputs": [
    {
     "data": {
      "text/plain": [
       "{'1 year': 1,\n",
       " '1 years': 1,\n",
       " '10+ years': 10,\n",
       " '2 years': 2,\n",
       " '3 years': 3,\n",
       " '4 years': 4,\n",
       " '5 years': 5,\n",
       " '6 years': 6,\n",
       " '7 years': 7,\n",
       " '8 years': 8,\n",
       " '9 years': 9,\n",
       " '< 1 year': 0,\n",
       " 'n/a': 0}"
      ]
     },
     "execution_count": 46,
     "metadata": {},
     "output_type": "execute_result"
    }
   ],
   "source": [
    "emp_map['< 1 year'] = 0\n",
    "emp_map['n/a'] = 0\n",
    "emp_map['10+ years'] = 10\n",
    "emp_map['1 year'] = 1\n",
    "emp_map"
   ]
  },
  {
   "cell_type": "code",
   "execution_count": 47,
   "metadata": {},
   "outputs": [
    {
     "data": {
      "text/plain": [
       "0    10+ years\n",
       "1     < 1 year\n",
       "2    10+ years\n",
       "3    10+ years\n",
       "4       1 year\n",
       "5      3 years\n",
       "6      8 years\n",
       "7      9 years\n",
       "8      4 years\n",
       "9     < 1 year\n",
       "Name: emp_length, dtype: object"
      ]
     },
     "execution_count": 47,
     "metadata": {},
     "output_type": "execute_result"
    }
   ],
   "source": [
    "raw_data.emp_length[:10]"
   ]
  },
  {
   "cell_type": "code",
   "execution_count": 48,
   "metadata": {},
   "outputs": [
    {
     "data": {
      "text/plain": [
       "0    10\n",
       "1     0\n",
       "2    10\n",
       "3    10\n",
       "4     1\n",
       "5     3\n",
       "6     8\n",
       "7     9\n",
       "8     4\n",
       "9     0\n",
       "Name: emp_length, dtype: int64"
      ]
     },
     "execution_count": 48,
     "metadata": {},
     "output_type": "execute_result"
    }
   ],
   "source": [
    "raw_data.emp_length.map(emp_map)[:10]"
   ]
  },
  {
   "cell_type": "code",
   "execution_count": 49,
   "metadata": {},
   "outputs": [
    {
     "data": {
      "text/plain": [
       "array([10,  0,  1,  3,  8,  9,  4,  5,  6,  2,  7], dtype=int64)"
      ]
     },
     "execution_count": 49,
     "metadata": {},
     "output_type": "execute_result"
    }
   ],
   "source": [
    "#Overwrite the column\n",
    "raw_data.emp_length = raw_data.emp_length.map(emp_map)\n",
    "raw_data.emp_length.unique()"
   ]
  },
  {
   "cell_type": "code",
   "execution_count": 50,
   "metadata": {
    "scrolled": true
   },
   "outputs": [
    {
     "data": {
      "text/html": [
       "<div>\n",
       "<style>\n",
       "    .dataframe thead tr:only-child th {\n",
       "        text-align: right;\n",
       "    }\n",
       "\n",
       "    .dataframe thead th {\n",
       "        text-align: left;\n",
       "    }\n",
       "\n",
       "    .dataframe tbody tr th {\n",
       "        vertical-align: top;\n",
       "    }\n",
       "</style>\n",
       "<table border=\"1\" class=\"dataframe\">\n",
       "  <thead>\n",
       "    <tr style=\"text-align: right;\">\n",
       "      <th></th>\n",
       "      <th>loan_amnt</th>\n",
       "      <th>term</th>\n",
       "      <th>int_rate</th>\n",
       "      <th>funded_amnt</th>\n",
       "      <th>grade</th>\n",
       "      <th>annual_inc</th>\n",
       "      <th>dti</th>\n",
       "      <th>delinq_2yrs</th>\n",
       "      <th>emp_length</th>\n",
       "      <th>home_ownership</th>\n",
       "      <th>tax_liens</th>\n",
       "      <th>defaulted</th>\n",
       "    </tr>\n",
       "  </thead>\n",
       "  <tbody>\n",
       "    <tr>\n",
       "      <th>0</th>\n",
       "      <td>5000.0</td>\n",
       "      <td>36 months</td>\n",
       "      <td>10.65%</td>\n",
       "      <td>5000.0</td>\n",
       "      <td>2</td>\n",
       "      <td>24000.0</td>\n",
       "      <td>27.65</td>\n",
       "      <td>0.0</td>\n",
       "      <td>10</td>\n",
       "      <td>RENT</td>\n",
       "      <td>0.0</td>\n",
       "      <td>0</td>\n",
       "    </tr>\n",
       "    <tr>\n",
       "      <th>1</th>\n",
       "      <td>2500.0</td>\n",
       "      <td>60 months</td>\n",
       "      <td>15.27%</td>\n",
       "      <td>2500.0</td>\n",
       "      <td>3</td>\n",
       "      <td>30000.0</td>\n",
       "      <td>1.00</td>\n",
       "      <td>0.0</td>\n",
       "      <td>0</td>\n",
       "      <td>RENT</td>\n",
       "      <td>0.0</td>\n",
       "      <td>1</td>\n",
       "    </tr>\n",
       "    <tr>\n",
       "      <th>2</th>\n",
       "      <td>2400.0</td>\n",
       "      <td>36 months</td>\n",
       "      <td>15.96%</td>\n",
       "      <td>2400.0</td>\n",
       "      <td>3</td>\n",
       "      <td>12252.0</td>\n",
       "      <td>8.72</td>\n",
       "      <td>0.0</td>\n",
       "      <td>10</td>\n",
       "      <td>RENT</td>\n",
       "      <td>0.0</td>\n",
       "      <td>0</td>\n",
       "    </tr>\n",
       "    <tr>\n",
       "      <th>3</th>\n",
       "      <td>10000.0</td>\n",
       "      <td>36 months</td>\n",
       "      <td>13.49%</td>\n",
       "      <td>10000.0</td>\n",
       "      <td>3</td>\n",
       "      <td>49200.0</td>\n",
       "      <td>20.00</td>\n",
       "      <td>0.0</td>\n",
       "      <td>10</td>\n",
       "      <td>RENT</td>\n",
       "      <td>0.0</td>\n",
       "      <td>0</td>\n",
       "    </tr>\n",
       "    <tr>\n",
       "      <th>4</th>\n",
       "      <td>3000.0</td>\n",
       "      <td>60 months</td>\n",
       "      <td>12.69%</td>\n",
       "      <td>3000.0</td>\n",
       "      <td>2</td>\n",
       "      <td>80000.0</td>\n",
       "      <td>17.94</td>\n",
       "      <td>0.0</td>\n",
       "      <td>1</td>\n",
       "      <td>RENT</td>\n",
       "      <td>0.0</td>\n",
       "      <td>0</td>\n",
       "    </tr>\n",
       "  </tbody>\n",
       "</table>\n",
       "</div>"
      ],
      "text/plain": [
       "   loan_amnt        term int_rate  funded_amnt  grade  annual_inc    dti  \\\n",
       "0     5000.0   36 months   10.65%       5000.0      2     24000.0  27.65   \n",
       "1     2500.0   60 months   15.27%       2500.0      3     30000.0   1.00   \n",
       "2     2400.0   36 months   15.96%       2400.0      3     12252.0   8.72   \n",
       "3    10000.0   36 months   13.49%      10000.0      3     49200.0  20.00   \n",
       "4     3000.0   60 months   12.69%       3000.0      2     80000.0  17.94   \n",
       "\n",
       "   delinq_2yrs  emp_length home_ownership  tax_liens  defaulted  \n",
       "0          0.0          10           RENT        0.0          0  \n",
       "1          0.0           0           RENT        0.0          1  \n",
       "2          0.0          10           RENT        0.0          0  \n",
       "3          0.0          10           RENT        0.0          0  \n",
       "4          0.0           1           RENT        0.0          0  "
      ]
     },
     "execution_count": 50,
     "metadata": {},
     "output_type": "execute_result"
    }
   ],
   "source": [
    "raw_data.head()"
   ]
  },
  {
   "cell_type": "markdown",
   "metadata": {},
   "source": [
    "### Creating a numerical variable from `term`\n",
    "It is usually good practice to create numerical values of strings representing numbers. Many algorithms can't handle categorical variables.\n",
    "Let's check the unique values of the term column and extract the number values."
   ]
  },
  {
   "cell_type": "code",
   "execution_count": 51,
   "metadata": {},
   "outputs": [
    {
     "data": {
      "text/plain": [
       "array([' 36 months', ' 60 months'], dtype=object)"
      ]
     },
     "execution_count": 51,
     "metadata": {},
     "output_type": "execute_result"
    }
   ],
   "source": [
    "raw_data.term.unique()"
   ]
  },
  {
   "cell_type": "markdown",
   "metadata": {},
   "source": [
    "As the numerical values are always contained in the 2nd and the 3rd character of the string, we can simply extract that substring with the `slide()` indexing and convert it into integer type.\n",
    "\n",
    "Fortunately there's a function in pandas called `pd.to_numeric()` that can convert numeric values stored as string to numeric types."
   ]
  },
  {
   "cell_type": "code",
   "execution_count": 52,
   "metadata": {
    "collapsed": true
   },
   "outputs": [],
   "source": [
    "raw_data.term = pd.to_numeric(raw_data.term.str.slice(1,3))"
   ]
  },
  {
   "cell_type": "markdown",
   "metadata": {},
   "source": [
    "Let's check the resulting data type"
   ]
  },
  {
   "cell_type": "code",
   "execution_count": 53,
   "metadata": {},
   "outputs": [
    {
     "data": {
      "text/plain": [
       "numpy.int64"
      ]
     },
     "execution_count": 53,
     "metadata": {},
     "output_type": "execute_result"
    }
   ],
   "source": [
    "type(raw_data.term[0])"
   ]
  },
  {
   "cell_type": "code",
   "execution_count": 54,
   "metadata": {
    "scrolled": true
   },
   "outputs": [
    {
     "data": {
      "text/html": [
       "<div>\n",
       "<style>\n",
       "    .dataframe thead tr:only-child th {\n",
       "        text-align: right;\n",
       "    }\n",
       "\n",
       "    .dataframe thead th {\n",
       "        text-align: left;\n",
       "    }\n",
       "\n",
       "    .dataframe tbody tr th {\n",
       "        vertical-align: top;\n",
       "    }\n",
       "</style>\n",
       "<table border=\"1\" class=\"dataframe\">\n",
       "  <thead>\n",
       "    <tr style=\"text-align: right;\">\n",
       "      <th></th>\n",
       "      <th>loan_amnt</th>\n",
       "      <th>term</th>\n",
       "      <th>int_rate</th>\n",
       "      <th>funded_amnt</th>\n",
       "      <th>grade</th>\n",
       "      <th>annual_inc</th>\n",
       "      <th>dti</th>\n",
       "      <th>delinq_2yrs</th>\n",
       "      <th>emp_length</th>\n",
       "      <th>home_ownership</th>\n",
       "      <th>tax_liens</th>\n",
       "      <th>defaulted</th>\n",
       "    </tr>\n",
       "  </thead>\n",
       "  <tbody>\n",
       "    <tr>\n",
       "      <th>0</th>\n",
       "      <td>5000.0</td>\n",
       "      <td>36</td>\n",
       "      <td>10.65%</td>\n",
       "      <td>5000.0</td>\n",
       "      <td>2</td>\n",
       "      <td>24000.0</td>\n",
       "      <td>27.65</td>\n",
       "      <td>0.0</td>\n",
       "      <td>10</td>\n",
       "      <td>RENT</td>\n",
       "      <td>0.0</td>\n",
       "      <td>0</td>\n",
       "    </tr>\n",
       "    <tr>\n",
       "      <th>1</th>\n",
       "      <td>2500.0</td>\n",
       "      <td>60</td>\n",
       "      <td>15.27%</td>\n",
       "      <td>2500.0</td>\n",
       "      <td>3</td>\n",
       "      <td>30000.0</td>\n",
       "      <td>1.00</td>\n",
       "      <td>0.0</td>\n",
       "      <td>0</td>\n",
       "      <td>RENT</td>\n",
       "      <td>0.0</td>\n",
       "      <td>1</td>\n",
       "    </tr>\n",
       "    <tr>\n",
       "      <th>2</th>\n",
       "      <td>2400.0</td>\n",
       "      <td>36</td>\n",
       "      <td>15.96%</td>\n",
       "      <td>2400.0</td>\n",
       "      <td>3</td>\n",
       "      <td>12252.0</td>\n",
       "      <td>8.72</td>\n",
       "      <td>0.0</td>\n",
       "      <td>10</td>\n",
       "      <td>RENT</td>\n",
       "      <td>0.0</td>\n",
       "      <td>0</td>\n",
       "    </tr>\n",
       "    <tr>\n",
       "      <th>3</th>\n",
       "      <td>10000.0</td>\n",
       "      <td>36</td>\n",
       "      <td>13.49%</td>\n",
       "      <td>10000.0</td>\n",
       "      <td>3</td>\n",
       "      <td>49200.0</td>\n",
       "      <td>20.00</td>\n",
       "      <td>0.0</td>\n",
       "      <td>10</td>\n",
       "      <td>RENT</td>\n",
       "      <td>0.0</td>\n",
       "      <td>0</td>\n",
       "    </tr>\n",
       "    <tr>\n",
       "      <th>4</th>\n",
       "      <td>3000.0</td>\n",
       "      <td>60</td>\n",
       "      <td>12.69%</td>\n",
       "      <td>3000.0</td>\n",
       "      <td>2</td>\n",
       "      <td>80000.0</td>\n",
       "      <td>17.94</td>\n",
       "      <td>0.0</td>\n",
       "      <td>1</td>\n",
       "      <td>RENT</td>\n",
       "      <td>0.0</td>\n",
       "      <td>0</td>\n",
       "    </tr>\n",
       "  </tbody>\n",
       "</table>\n",
       "</div>"
      ],
      "text/plain": [
       "   loan_amnt  term int_rate  funded_amnt  grade  annual_inc    dti  \\\n",
       "0     5000.0    36   10.65%       5000.0      2     24000.0  27.65   \n",
       "1     2500.0    60   15.27%       2500.0      3     30000.0   1.00   \n",
       "2     2400.0    36   15.96%       2400.0      3     12252.0   8.72   \n",
       "3    10000.0    36   13.49%      10000.0      3     49200.0  20.00   \n",
       "4     3000.0    60   12.69%       3000.0      2     80000.0  17.94   \n",
       "\n",
       "   delinq_2yrs  emp_length home_ownership  tax_liens  defaulted  \n",
       "0          0.0          10           RENT        0.0          0  \n",
       "1          0.0           0           RENT        0.0          1  \n",
       "2          0.0          10           RENT        0.0          0  \n",
       "3          0.0          10           RENT        0.0          0  \n",
       "4          0.0           1           RENT        0.0          0  "
      ]
     },
     "execution_count": 54,
     "metadata": {},
     "output_type": "execute_result"
    }
   ],
   "source": [
    "raw_data.head()"
   ]
  },
  {
   "cell_type": "markdown",
   "metadata": {},
   "source": [
    "### Creating a numerical variable from `int_rate`\n",
    "The column `int_rate` looks fine from just looking at the table, but let's see what type of values does it contain."
   ]
  },
  {
   "cell_type": "code",
   "execution_count": 55,
   "metadata": {},
   "outputs": [
    {
     "name": "stdout",
     "output_type": "stream",
     "text": [
      "<type 'str'>\n"
     ]
    },
    {
     "data": {
      "text/plain": [
       "' 10.65%'"
      ]
     },
     "execution_count": 55,
     "metadata": {},
     "output_type": "execute_result"
    }
   ],
   "source": [
    "print type(raw_data.int_rate[0])\n",
    "raw_data.int_rate[0]"
   ]
  },
  {
   "cell_type": "markdown",
   "metadata": {},
   "source": [
    "Spoiler: the `pd.to_numeric()` it will not work here, guess why..."
   ]
  },
  {
   "cell_type": "code",
   "execution_count": 56,
   "metadata": {
    "collapsed": true
   },
   "outputs": [],
   "source": [
    "raw_data.int_rate = pd.to_numeric(raw_data.int_rate.map(lambda s: s.replace('%', '')))"
   ]
  },
  {
   "cell_type": "code",
   "execution_count": 57,
   "metadata": {},
   "outputs": [
    {
     "data": {
      "text/plain": [
       "0    10.65\n",
       "1    15.27\n",
       "2    15.96\n",
       "Name: int_rate, dtype: float64"
      ]
     },
     "execution_count": 57,
     "metadata": {},
     "output_type": "execute_result"
    }
   ],
   "source": [
    "raw_data.int_rate[:3]"
   ]
  },
  {
   "cell_type": "code",
   "execution_count": 58,
   "metadata": {},
   "outputs": [
    {
     "data": {
      "text/html": [
       "<div>\n",
       "<style>\n",
       "    .dataframe thead tr:only-child th {\n",
       "        text-align: right;\n",
       "    }\n",
       "\n",
       "    .dataframe thead th {\n",
       "        text-align: left;\n",
       "    }\n",
       "\n",
       "    .dataframe tbody tr th {\n",
       "        vertical-align: top;\n",
       "    }\n",
       "</style>\n",
       "<table border=\"1\" class=\"dataframe\">\n",
       "  <thead>\n",
       "    <tr style=\"text-align: right;\">\n",
       "      <th></th>\n",
       "      <th>loan_amnt</th>\n",
       "      <th>term</th>\n",
       "      <th>int_rate</th>\n",
       "      <th>funded_amnt</th>\n",
       "      <th>grade</th>\n",
       "      <th>annual_inc</th>\n",
       "      <th>dti</th>\n",
       "      <th>delinq_2yrs</th>\n",
       "      <th>emp_length</th>\n",
       "      <th>home_ownership</th>\n",
       "      <th>tax_liens</th>\n",
       "      <th>defaulted</th>\n",
       "    </tr>\n",
       "  </thead>\n",
       "  <tbody>\n",
       "    <tr>\n",
       "      <th>0</th>\n",
       "      <td>5000.0</td>\n",
       "      <td>36</td>\n",
       "      <td>10.65</td>\n",
       "      <td>5000.0</td>\n",
       "      <td>2</td>\n",
       "      <td>24000.0</td>\n",
       "      <td>27.65</td>\n",
       "      <td>0.0</td>\n",
       "      <td>10</td>\n",
       "      <td>RENT</td>\n",
       "      <td>0.0</td>\n",
       "      <td>0</td>\n",
       "    </tr>\n",
       "    <tr>\n",
       "      <th>1</th>\n",
       "      <td>2500.0</td>\n",
       "      <td>60</td>\n",
       "      <td>15.27</td>\n",
       "      <td>2500.0</td>\n",
       "      <td>3</td>\n",
       "      <td>30000.0</td>\n",
       "      <td>1.00</td>\n",
       "      <td>0.0</td>\n",
       "      <td>0</td>\n",
       "      <td>RENT</td>\n",
       "      <td>0.0</td>\n",
       "      <td>1</td>\n",
       "    </tr>\n",
       "    <tr>\n",
       "      <th>2</th>\n",
       "      <td>2400.0</td>\n",
       "      <td>36</td>\n",
       "      <td>15.96</td>\n",
       "      <td>2400.0</td>\n",
       "      <td>3</td>\n",
       "      <td>12252.0</td>\n",
       "      <td>8.72</td>\n",
       "      <td>0.0</td>\n",
       "      <td>10</td>\n",
       "      <td>RENT</td>\n",
       "      <td>0.0</td>\n",
       "      <td>0</td>\n",
       "    </tr>\n",
       "    <tr>\n",
       "      <th>3</th>\n",
       "      <td>10000.0</td>\n",
       "      <td>36</td>\n",
       "      <td>13.49</td>\n",
       "      <td>10000.0</td>\n",
       "      <td>3</td>\n",
       "      <td>49200.0</td>\n",
       "      <td>20.00</td>\n",
       "      <td>0.0</td>\n",
       "      <td>10</td>\n",
       "      <td>RENT</td>\n",
       "      <td>0.0</td>\n",
       "      <td>0</td>\n",
       "    </tr>\n",
       "    <tr>\n",
       "      <th>4</th>\n",
       "      <td>3000.0</td>\n",
       "      <td>60</td>\n",
       "      <td>12.69</td>\n",
       "      <td>3000.0</td>\n",
       "      <td>2</td>\n",
       "      <td>80000.0</td>\n",
       "      <td>17.94</td>\n",
       "      <td>0.0</td>\n",
       "      <td>1</td>\n",
       "      <td>RENT</td>\n",
       "      <td>0.0</td>\n",
       "      <td>0</td>\n",
       "    </tr>\n",
       "  </tbody>\n",
       "</table>\n",
       "</div>"
      ],
      "text/plain": [
       "   loan_amnt  term  int_rate  funded_amnt  grade  annual_inc    dti  \\\n",
       "0     5000.0    36     10.65       5000.0      2     24000.0  27.65   \n",
       "1     2500.0    60     15.27       2500.0      3     30000.0   1.00   \n",
       "2     2400.0    36     15.96       2400.0      3     12252.0   8.72   \n",
       "3    10000.0    36     13.49      10000.0      3     49200.0  20.00   \n",
       "4     3000.0    60     12.69       3000.0      2     80000.0  17.94   \n",
       "\n",
       "   delinq_2yrs  emp_length home_ownership  tax_liens  defaulted  \n",
       "0          0.0          10           RENT        0.0          0  \n",
       "1          0.0           0           RENT        0.0          1  \n",
       "2          0.0          10           RENT        0.0          0  \n",
       "3          0.0          10           RENT        0.0          0  \n",
       "4          0.0           1           RENT        0.0          0  "
      ]
     },
     "execution_count": 58,
     "metadata": {},
     "output_type": "execute_result"
    }
   ],
   "source": [
    "raw_data.head()"
   ]
  },
  {
   "cell_type": "code",
   "execution_count": null,
   "metadata": {
    "collapsed": true
   },
   "outputs": [],
   "source": []
  },
  {
   "cell_type": "code",
   "execution_count": 59,
   "metadata": {},
   "outputs": [
    {
     "data": {
      "text/plain": [
       "array(['RENT', 'OWN', 'MORTGAGE', 'OTHER', 'NONE'], dtype=object)"
      ]
     },
     "execution_count": 59,
     "metadata": {},
     "output_type": "execute_result"
    }
   ],
   "source": [
    "raw_data.home_ownership.unique()"
   ]
  },
  {
   "cell_type": "markdown",
   "metadata": {},
   "source": [
    "## Visualization"
   ]
  },
  {
   "cell_type": "markdown",
   "metadata": {},
   "source": [
    "### Create histograms for distribution of numerical variables\n",
    "Check distribution of numerical variables"
   ]
  },
  {
   "cell_type": "code",
   "execution_count": 60,
   "metadata": {
    "code_folding": []
   },
   "outputs": [
    {
     "data": {
      "text/html": [
       "<div>\n",
       "<style>\n",
       "    .dataframe thead tr:only-child th {\n",
       "        text-align: right;\n",
       "    }\n",
       "\n",
       "    .dataframe thead th {\n",
       "        text-align: left;\n",
       "    }\n",
       "\n",
       "    .dataframe tbody tr th {\n",
       "        vertical-align: top;\n",
       "    }\n",
       "</style>\n",
       "<table border=\"1\" class=\"dataframe\">\n",
       "  <thead>\n",
       "    <tr style=\"text-align: right;\">\n",
       "      <th></th>\n",
       "      <th>loan_amnt</th>\n",
       "      <th>term</th>\n",
       "      <th>int_rate</th>\n",
       "      <th>funded_amnt</th>\n",
       "      <th>grade</th>\n",
       "      <th>annual_inc</th>\n",
       "      <th>dti</th>\n",
       "      <th>delinq_2yrs</th>\n",
       "      <th>emp_length</th>\n",
       "      <th>tax_liens</th>\n",
       "      <th>defaulted</th>\n",
       "    </tr>\n",
       "  </thead>\n",
       "  <tbody>\n",
       "    <tr>\n",
       "      <th>count</th>\n",
       "      <td>39747.000000</td>\n",
       "      <td>39747.000000</td>\n",
       "      <td>39747.000000</td>\n",
       "      <td>39747.000000</td>\n",
       "      <td>39747.000000</td>\n",
       "      <td>3.974700e+04</td>\n",
       "      <td>39747.000000</td>\n",
       "      <td>39747.000000</td>\n",
       "      <td>39747.000000</td>\n",
       "      <td>39747.0</td>\n",
       "      <td>39747.000000</td>\n",
       "    </tr>\n",
       "    <tr>\n",
       "      <th>mean</th>\n",
       "      <td>11236.332302</td>\n",
       "      <td>42.454827</td>\n",
       "      <td>12.030491</td>\n",
       "      <td>10963.426800</td>\n",
       "      <td>2.579993</td>\n",
       "      <td>6.895670e+04</td>\n",
       "      <td>13.323240</td>\n",
       "      <td>0.146527</td>\n",
       "      <td>4.841422</td>\n",
       "      <td>0.0</td>\n",
       "      <td>0.142627</td>\n",
       "    </tr>\n",
       "    <tr>\n",
       "      <th>std</th>\n",
       "      <td>7465.205713</td>\n",
       "      <td>10.642082</td>\n",
       "      <td>3.727823</td>\n",
       "      <td>7194.677881</td>\n",
       "      <td>1.388236</td>\n",
       "      <td>6.376120e+04</td>\n",
       "      <td>6.676606</td>\n",
       "      <td>0.491886</td>\n",
       "      <td>3.605752</td>\n",
       "      <td>0.0</td>\n",
       "      <td>0.349697</td>\n",
       "    </tr>\n",
       "    <tr>\n",
       "      <th>min</th>\n",
       "      <td>500.000000</td>\n",
       "      <td>36.000000</td>\n",
       "      <td>5.420000</td>\n",
       "      <td>500.000000</td>\n",
       "      <td>1.000000</td>\n",
       "      <td>4.000000e+03</td>\n",
       "      <td>0.000000</td>\n",
       "      <td>0.000000</td>\n",
       "      <td>0.000000</td>\n",
       "      <td>0.0</td>\n",
       "      <td>0.000000</td>\n",
       "    </tr>\n",
       "    <tr>\n",
       "      <th>25%</th>\n",
       "      <td>5500.000000</td>\n",
       "      <td>36.000000</td>\n",
       "      <td>9.250000</td>\n",
       "      <td>5400.000000</td>\n",
       "      <td>1.000000</td>\n",
       "      <td>4.050000e+04</td>\n",
       "      <td>8.190000</td>\n",
       "      <td>0.000000</td>\n",
       "      <td>2.000000</td>\n",
       "      <td>0.0</td>\n",
       "      <td>0.000000</td>\n",
       "    </tr>\n",
       "    <tr>\n",
       "      <th>50%</th>\n",
       "      <td>10000.000000</td>\n",
       "      <td>36.000000</td>\n",
       "      <td>11.860000</td>\n",
       "      <td>9700.000000</td>\n",
       "      <td>2.000000</td>\n",
       "      <td>5.900000e+04</td>\n",
       "      <td>13.410000</td>\n",
       "      <td>0.000000</td>\n",
       "      <td>4.000000</td>\n",
       "      <td>0.0</td>\n",
       "      <td>0.000000</td>\n",
       "    </tr>\n",
       "    <tr>\n",
       "      <th>75%</th>\n",
       "      <td>15000.000000</td>\n",
       "      <td>60.000000</td>\n",
       "      <td>14.590000</td>\n",
       "      <td>15000.000000</td>\n",
       "      <td>3.000000</td>\n",
       "      <td>8.226700e+04</td>\n",
       "      <td>18.600000</td>\n",
       "      <td>0.000000</td>\n",
       "      <td>9.000000</td>\n",
       "      <td>0.0</td>\n",
       "      <td>0.000000</td>\n",
       "    </tr>\n",
       "    <tr>\n",
       "      <th>max</th>\n",
       "      <td>35000.000000</td>\n",
       "      <td>60.000000</td>\n",
       "      <td>24.590000</td>\n",
       "      <td>35000.000000</td>\n",
       "      <td>7.000000</td>\n",
       "      <td>6.000000e+06</td>\n",
       "      <td>29.990000</td>\n",
       "      <td>11.000000</td>\n",
       "      <td>10.000000</td>\n",
       "      <td>0.0</td>\n",
       "      <td>1.000000</td>\n",
       "    </tr>\n",
       "  </tbody>\n",
       "</table>\n",
       "</div>"
      ],
      "text/plain": [
       "          loan_amnt          term      int_rate   funded_amnt         grade  \\\n",
       "count  39747.000000  39747.000000  39747.000000  39747.000000  39747.000000   \n",
       "mean   11236.332302     42.454827     12.030491  10963.426800      2.579993   \n",
       "std     7465.205713     10.642082      3.727823   7194.677881      1.388236   \n",
       "min      500.000000     36.000000      5.420000    500.000000      1.000000   \n",
       "25%     5500.000000     36.000000      9.250000   5400.000000      1.000000   \n",
       "50%    10000.000000     36.000000     11.860000   9700.000000      2.000000   \n",
       "75%    15000.000000     60.000000     14.590000  15000.000000      3.000000   \n",
       "max    35000.000000     60.000000     24.590000  35000.000000      7.000000   \n",
       "\n",
       "         annual_inc           dti   delinq_2yrs    emp_length  tax_liens  \\\n",
       "count  3.974700e+04  39747.000000  39747.000000  39747.000000    39747.0   \n",
       "mean   6.895670e+04     13.323240      0.146527      4.841422        0.0   \n",
       "std    6.376120e+04      6.676606      0.491886      3.605752        0.0   \n",
       "min    4.000000e+03      0.000000      0.000000      0.000000        0.0   \n",
       "25%    4.050000e+04      8.190000      0.000000      2.000000        0.0   \n",
       "50%    5.900000e+04     13.410000      0.000000      4.000000        0.0   \n",
       "75%    8.226700e+04     18.600000      0.000000      9.000000        0.0   \n",
       "max    6.000000e+06     29.990000     11.000000     10.000000        0.0   \n",
       "\n",
       "          defaulted  \n",
       "count  39747.000000  \n",
       "mean       0.142627  \n",
       "std        0.349697  \n",
       "min        0.000000  \n",
       "25%        0.000000  \n",
       "50%        0.000000  \n",
       "75%        0.000000  \n",
       "max        1.000000  "
      ]
     },
     "execution_count": 60,
     "metadata": {},
     "output_type": "execute_result"
    }
   ],
   "source": [
    "raw_data.describe()"
   ]
  },
  {
   "cell_type": "code",
   "execution_count": 61,
   "metadata": {},
   "outputs": [
    {
     "data": {
      "image/png": "[encoded data removed]",
      "text/plain": [
       "<matplotlib.figure.Figure at 0x1db28dd8>"
      ]
     },
     "metadata": {},
     "output_type": "display_data"
    }
   ],
   "source": [
    "raw_data['loan_amnt'].hist()\n",
    "plt.show()"
   ]
  },
  {
   "cell_type": "markdown",
   "metadata": {},
   "source": [
    "### Exercise: Plot a histogram for other numerical variables\n",
    "Hint: you may have to set the number of bins and even filter the values in case the distribution is very skewed."
   ]
  },
  {
   "cell_type": "code",
   "execution_count": 62,
   "metadata": {
    "code_folding": [],
    "collapsed": true
   },
   "outputs": [],
   "source": [
    "#Some Solutions"
   ]
  },
  {
   "cell_type": "code",
   "execution_count": 63,
   "metadata": {
    "scrolled": true
   },
   "outputs": [
    {
     "data": {
      "image/png": "[encoded data removed]",
      "text/plain": [
       "<matplotlib.figure.Figure at 0xb0013c8>"
      ]
     },
     "metadata": {},
     "output_type": "display_data"
    }
   ],
   "source": [
    "raw_data['annual_inc'].hist()\n",
    "plt.show()\n",
    "#Outliers!!"
   ]
  },
  {
   "cell_type": "code",
   "execution_count": 64,
   "metadata": {},
   "outputs": [
    {
     "data": {
      "image/png": "[encoded data removed]",
      "text/plain": [
       "<matplotlib.figure.Figure at 0xbb99710>"
      ]
     },
     "metadata": {},
     "output_type": "display_data"
    }
   ],
   "source": [
    "raw_data[raw_data['annual_inc'] <= 500000].annual_inc.hist(bins=50)\n",
    "plt.show()\n",
    "#Outliers!!"
   ]
  },
  {
   "cell_type": "markdown",
   "metadata": {},
   "source": [
    "### Create Scatter plots to understand data relationships"
   ]
  },
  {
   "cell_type": "code",
   "execution_count": 65,
   "metadata": {},
   "outputs": [
    {
     "data": {
      "image/png": "[encoded data removed]",
      "text/plain": [
       "<matplotlib.figure.Figure at 0x124d3ba8>"
      ]
     },
     "metadata": {},
     "output_type": "display_data"
    }
   ],
   "source": [
    "plt.scatter(raw_data['annual_inc'], raw_data['loan_amnt'])\n",
    "plt.show()"
   ]
  },
  {
   "cell_type": "markdown",
   "metadata": {},
   "source": [
    "### Exercise: Create some scatter plots from variable pairs you'd like to explore"
   ]
  },
  {
   "cell_type": "code",
   "execution_count": null,
   "metadata": {
    "collapsed": true
   },
   "outputs": [],
   "source": []
  },
  {
   "cell_type": "markdown",
   "metadata": {
    "collapsed": true
   },
   "source": [
    "### Create bar plot for distribution of categorical variables"
   ]
  },
  {
   "cell_type": "code",
   "execution_count": null,
   "metadata": {
    "collapsed": true
   },
   "outputs": [],
   "source": []
  },
  {
   "cell_type": "markdown",
   "metadata": {},
   "source": [
    "### Create a scatter matrix with seaborn (pairplot) for numerical variables"
   ]
  },
  {
   "cell_type": "code",
   "execution_count": null,
   "metadata": {
    "collapsed": true
   },
   "outputs": [],
   "source": []
  },
  {
   "cell_type": "markdown",
   "metadata": {},
   "source": [
    "### Check outliers based on previous two steps"
   ]
  },
  {
   "cell_type": "code",
   "execution_count": null,
   "metadata": {
    "collapsed": true
   },
   "outputs": [],
   "source": []
  },
  {
   "cell_type": "markdown",
   "metadata": {},
   "source": [
    "## Save the dataframe to use in the next notebook.\n",
    "Pandas objects are equipped with to_pickle methods which use Python’s Pickle module to persist data structures to disk using the pickle format.\n",
    "\n",
    "We'll load back this object in the next lecture."
   ]
  },
  {
   "cell_type": "code",
   "execution_count": 66,
   "metadata": {
    "collapsed": true
   },
   "outputs": [],
   "source": [
    "raw_data.to_pickle('Lendmark_clean.pkl')"
   ]
  },
  {
   "cell_type": "markdown",
   "metadata": {
    "collapsed": true
   },
   "source": [
    "## Recap and  Exercise: Examine the final dataset.\n",
    "Today we explored, understood and cleaned the Lendmark dataset.\n",
    "In the next lecture we will build models for predicting defaults."
   ]
  },
  {
   "cell_type": "markdown",
   "metadata": {},
   "source": [
    "How many Features / Rows do we have left?"
   ]
  },
  {
   "cell_type": "code",
   "execution_count": 67,
   "metadata": {
    "scrolled": true
   },
   "outputs": [
    {
     "name": "stdout",
     "output_type": "stream",
     "text": [
      "<class 'pandas.core.frame.DataFrame'>\n",
      "Int64Index: 39747 entries, 0 to 39753\n",
      "Data columns (total 12 columns):\n",
      "loan_amnt         39747 non-null float64\n",
      "term              39747 non-null int64\n",
      "int_rate          39747 non-null float64\n",
      "funded_amnt       39747 non-null float64\n",
      "grade             39747 non-null int64\n",
      "annual_inc        39747 non-null float64\n",
      "dti               39747 non-null float64\n",
      "delinq_2yrs       39747 non-null float64\n",
      "emp_length        39747 non-null int64\n",
      "home_ownership    39747 non-null object\n",
      "tax_liens         39747 non-null float64\n",
      "defaulted         39747 non-null int64\n",
      "dtypes: float64(7), int64(4), object(1)\n",
      "memory usage: 5.2+ MB\n"
     ]
    }
   ],
   "source": [
    "raw_data.info()"
   ]
  }
 ],
 "metadata": {
  "kernelspec": {
   "display_name": "Python 2",
   "language": "python",
   "name": "python2"
  },
  "language_info": {
   "codemirror_mode": {
    "name": "ipython",
    "version": 2
   },
   "file_extension": ".py",
   "mimetype": "text/x-python",
   "name": "python",
   "nbconvert_exporter": "python",
   "pygments_lexer": "ipython2",
   "version": "2.7.13"
  },
  "toc": {
   "nav_menu": {
    "height": "613px",
    "width": "771px"
   },
   "number_sections": true,
   "sideBar": true,
   "skip_h1_title": true,
   "title_cell": "Table of Contents",
   "title_sidebar": "Contents",
   "toc_cell": true,
   "toc_position": {
    "height": "193px",
    "left": "814px",
    "top": "287.5px",
    "width": "528px"
   },
   "toc_section_display": true,
   "toc_window_display": true
  }
 },
 "nbformat": 4,
 "nbformat_minor": 2
}
