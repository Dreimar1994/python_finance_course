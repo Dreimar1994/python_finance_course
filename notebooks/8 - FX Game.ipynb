{
 "cells": [
  {
   "cell_type": "code",
   "execution_count": 1,
   "metadata": {
    "collapsed": true
   },
   "outputs": [],
   "source": [
    "%matplotlib inline\n",
    "import numpy as np\n",
    "from matplotlib import pyplot as plt\n",
    "from matplotlib.patches import BoxStyle"
   ]
  },
  {
   "cell_type": "code",
   "execution_count": 2,
   "metadata": {
    "collapsed": true
   },
   "outputs": [],
   "source": [
    "class Field(object):\n",
    "    def __init__(self, name, default=0, help=None):\n",
    "        self.name = name\n",
    "        self.default = default\n",
    "        self.help = help or ''\n",
    "\n",
    "\n",
    "class Product(object):\n",
    "    @classmethod\n",
    "    def fields(cls):\n",
    "        return []\n",
    "    \n",
    "    def __init__(self, **kwargs):\n",
    "        fields = {f.name: f for f in self.fields()}\n",
    "        self.fields = {f.name: f.default for f in fields.values()}\n",
    "        for name, value in kwargs.items():\n",
    "            if name not in fields:\n",
    "                raise ValueError(\"Field '%s' is not recognized\" % name)\n",
    "            self.fields[name] = value\n",
    "    \n",
    "    def payoff(self, spot):\n",
    "        raise NotImplementedError\n",
    "\n",
    "        \n",
    "class Option(Product):\n",
    "    @classmethod\n",
    "    def fields(cls):\n",
    "        return [Field('strike')]\n",
    "\n",
    "\n",
    "class Call(Option):\n",
    "    def payoff(self, spot):\n",
    "        return np.maximum(0.0, spot - self.fields['strike'])\n",
    "\n",
    "\n",
    "class Put(Option):\n",
    "    def payoff(self, spot):\n",
    "        return np.maximum(0.0, self.fields['strike'] - spot)\n",
    "\n",
    "    \n",
    "class Collar(Product):\n",
    "    @classmethod\n",
    "    def fields(cls):\n",
    "        return [Field('call_strike', default=30), Field('put_strike', default=10)]\n",
    "    \n",
    "    def payoff(self, spot):\n",
    "        return Call(strike=self.fields['call_strike']).payoff(spot) \\\n",
    "            - Put(strike=self.fields['put_strike']).payoff(spot)"
   ]
  },
  {
   "cell_type": "code",
   "execution_count": 3,
   "metadata": {},
   "outputs": [
    {
     "data": {
      "application/vnd.jupyter.widget-view+json": {
       "model_id": "815d7cd252224ec39110b5c79ff18762"
      }
     },
     "metadata": {},
     "output_type": "display_data"
    }
   ],
   "source": [
    "from functools import partial\n",
    "\n",
    "import ipywidgets as widgets\n",
    "from IPython.display import clear_output, display\n",
    "\n",
    "products = [Collar, Call, Put]\n",
    "products = {p.__name__: p for p in products}\n",
    "\n",
    "plt.style.use('seaborn-whitegrid')\n",
    "\n",
    "def plot_payoff(product, size, **kwargs):\n",
    "    spots = np.arange(min(kwargs.values()) - size, max(kwargs.values()) + size)\n",
    "    xlim = [min(spots), max(spots)]\n",
    "    payoff_values = product(**kwargs).payoff(spots)\n",
    "\n",
    "    fig = plt.figure(figsize=(14, 14))\n",
    "    ax = plt.axes()\n",
    "    ax.tick_params(labelsize='x-large')\n",
    "\n",
    "    for key, value in kwargs.items():\n",
    "        ax.axvline(x=value, color='black', linestyle='--', alpha=0.5, label=key, lw=2)\n",
    "        plt.text(value, max(payoff_values), '%s = %s ' % (key, value),\n",
    "                 rotation=90, va='top', ha='right', fontsize='x-large', color='black', alpha=0.5)\n",
    "\n",
    "    ax.plot(spots, payoff_values, lw=3)\n",
    "    ax.set_aspect('equal')\n",
    "    ax.set_xlim(min(spots), max(spots))\n",
    "    plt.title('Payoff function for a %s option' % product.__name__, size='xx-large')\n",
    "\n",
    "    plt.show()\n",
    "\n",
    "def show_widgets():\n",
    "    setup = True\n",
    "    field_widget = []\n",
    "\n",
    "    def print_price(**kwargs):\n",
    "        product = product_widget.value\n",
    "        plot_payoff(product, 20, **kwargs)\n",
    "\n",
    "    def product_changed(product):\n",
    "        fields = {f.name: widgets.FloatText(description=f.name, value=f.default) for f in product.fields()}\n",
    "        if field_widget:\n",
    "            field_widget[0].close()\n",
    "        new_i = widgets.interactive(print_price, **fields)\n",
    "\n",
    "        display(new_i)\n",
    "        field_widget[:] = [new_i]\n",
    "\n",
    "    product_widget = widgets.Select(options=products)\n",
    "\n",
    "    product_i = widgets.interactive(product_changed, product=product_widget)\n",
    "\n",
    "    display(product_i)\n",
    "\n",
    "    setup = False\n",
    "\n",
    "show_widgets()"
   ]
  }
 ],
 "metadata": {
  "kernelspec": {
   "display_name": "Python 3",
   "language": "python",
   "name": "python3"
  },
  "language_info": {
   "codemirror_mode": {
    "name": "ipython",
    "version": 3
   },
   "file_extension": ".py",
   "mimetype": "text/x-python",
   "name": "python",
   "nbconvert_exporter": "python",
   "pygments_lexer": "ipython3",
   "version": "3.6.2"
  }
 },
 "nbformat": 4,
 "nbformat_minor": 2
}
